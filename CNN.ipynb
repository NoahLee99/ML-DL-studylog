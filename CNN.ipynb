{
  "nbformat": 4,
  "nbformat_minor": 0,
  "metadata": {
    "colab": {
      "provenance": [],
      "gpuType": "T4",
      "authorship_tag": "ABX9TyOLTlg3mhO6W95KrVfrC0QM",
      "include_colab_link": true
    },
    "kernelspec": {
      "name": "python3",
      "display_name": "Python 3"
    },
    "language_info": {
      "name": "python"
    },
    "accelerator": "GPU"
  },
  "cells": [
    {
      "cell_type": "markdown",
      "metadata": {
        "id": "view-in-github",
        "colab_type": "text"
      },
      "source": [
        "<a href=\"https://colab.research.google.com/github/NoahLee99/ML-DL-studylog/blob/main/CNN.ipynb\" target=\"_parent\"><img src=\"https://colab.research.google.com/assets/colab-badge.svg\" alt=\"Open In Colab\"/></a>"
      ]
    },
    {
      "cell_type": "code",
      "execution_count": 96,
      "metadata": {
        "colab": {
          "base_uri": "https://localhost:8080/",
          "height": 54
        },
        "id": "W96QNYCoN5oz",
        "outputId": "30b45d4d-10c3-4562-f8ec-ad68450d9fcb"
      },
      "outputs": [
        {
          "output_type": "execute_result",
          "data": {
            "text/plain": [
              "'\\n이번 장에서는 컴퓨터 비전(CV)에 가장 많이 활용되는 CNN을 배우고자 한다.\\n매우 유명한 데이터인 MNIST 데이터셋을 활용할 예정이며,\\n7만 개의 글자 이미지에 각각 0부터 9까지 이름표를 붙인 데이터셋이다.\\n'"
            ],
            "application/vnd.google.colaboratory.intrinsic+json": {
              "type": "string"
            }
          },
          "metadata": {},
          "execution_count": 96
        }
      ],
      "source": [
        "'''\n",
        "이번 장에서는 컴퓨터 비전(CV)에 가장 많이 활용되는 CNN을 배우고자 한다.\n",
        "매우 유명한 데이터인 MNIST 데이터셋을 활용할 예정이며,\n",
        "7만 개의 글자 이미지에 각각 0부터 9까지 이름표를 붙인 데이터셋이다.\n",
        "'''"
      ]
    },
    {
      "cell_type": "markdown",
      "source": [
        "# 이미지를 인식하는 원리"
      ],
      "metadata": {
        "id": "1o1nKPimOz3e"
      }
    },
    {
      "cell_type": "markdown",
      "source": [
        "* 맷플롯립의 imshow() 함수는 이미지 데이터를 좌표 평면에 출력해준다.\n",
        "\n",
        "* shape 속성을 통해 데이터의 크기를 알 수 있다.\n",
        "\n",
        "* reshape(x, y) 함수는 데이터 x의 형태(배열)를 y로 변환시킨다.\n",
        "\n",
        "* EX. reshape(x, (3, 4)) x --> 3행 4열의 2차원 배열로 변환\n",
        "\n",
        "* astype() 함수는 데이터 타입을 함수의 인자 속 데이터 타입으로 변환시킨다.\n",
        "\n",
        "* **데이터 정규화(normalization)**: 데이터의 폭이 클 때 적절한 값으로 분산의 정도를 바꾸는 과정\n",
        "\n",
        "* EX. 0 ~ 255 사이의 픽셀값을 255로 나누어 0 ~ 1 사이의 값으로 변환 (for 케라스 성능)\n",
        "\n",
        "* 케라스의 np_tuils.to_categorical() 함수는 원-핫 인코딩을 적용해 준다."
      ],
      "metadata": {
        "id": "RIKm74nxST7Q"
      }
    },
    {
      "cell_type": "code",
      "source": [
        "# 데이터셋 로드 후 학습 세트와 테스트 세트로 분할\n",
        "from tensorflow.keras.datasets import mnist\n",
        "\n",
        "(X_train, y_train), (X_test, y_test) = mnist.load_data()"
      ],
      "metadata": {
        "id": "8x1c6GkUO2Eo"
      },
      "execution_count": 97,
      "outputs": []
    },
    {
      "cell_type": "code",
      "source": [
        "# 훈련 및 테스트 세트 확인\n",
        "print(\"훈련 세트 이미지 수: %d개\" % (X_train.shape[0]))\n",
        "print(\"테스트 세트 이미지 수: %d개\" % (X_test.shape[0]))\n",
        "\n",
        "# shape[0] == 행(샘플 수) 출력"
      ],
      "metadata": {
        "colab": {
          "base_uri": "https://localhost:8080/"
        },
        "id": "lps08WMMO65J",
        "outputId": "44636254-90bd-4b5c-b84b-11e5f59831d6"
      },
      "execution_count": 98,
      "outputs": [
        {
          "output_type": "stream",
          "name": "stdout",
          "text": [
            "훈련 세트 이미지 수: 60000개\n",
            "테스트 세트 이미지 수: 10000개\n"
          ]
        }
      ]
    },
    {
      "cell_type": "code",
      "source": [
        "# 한 개의 이미지 확인\n",
        "import matplotlib.pyplot as plt\n",
        "\n",
        "plt.imshow(X_train[0], cmap='Greys')\n",
        "plt.show()\n",
        "\n",
        "# imshow() 함수를 통해 이미지를 출력 가능하며 매우 많이 사용됨"
      ],
      "metadata": {
        "colab": {
          "base_uri": "https://localhost:8080/",
          "height": 430
        },
        "id": "GMiVVC2RP0Lr",
        "outputId": "13ac9add-0c41-4e1a-f284-89a4d89df458"
      },
      "execution_count": 99,
      "outputs": [
        {
          "output_type": "display_data",
          "data": {
            "text/plain": [
              "<Figure size 640x480 with 1 Axes>"
            ],
            "image/png": "[encoded data removed]"
          },
          "metadata": {}
        }
      ]
    },
    {
      "cell_type": "code",
      "source": [
        "# 이미지의 픽셀값 구조 확인\n",
        "import sys\n",
        "\n",
        "for x in X_train[0]:\n",
        "  for i in x:\n",
        "    sys.stdout.write(\"%-3s\" % i)\n",
        "  sys.stdout.write(\"\\n\")\n",
        "\n",
        "# 각 픽셀은 밝기에 따라 0~255까지의 값을 가짐 --> 긴 행렬로 이루어진 하나의 집합으로 변환\n",
        "# 이미지는 이렇게 숫자의 집합(넘파이 배열)으로 바뀌어 학습 세트로 사용됨\n",
        "# 28 x 28 = 784(총 픽셀 개수)개의 속성을 이용해 0~9 클래스 열 개 중 하나를 맞히는 문제임"
      ],
      "metadata": {
        "colab": {
          "base_uri": "https://localhost:8080/"
        },
        "id": "_I8pr5lRQEjk",
        "outputId": "21d7d1f1-0372-41ec-989a-ee05277cf765"
      },
      "execution_count": 100,
      "outputs": [
        {
          "output_type": "stream",
          "name": "stdout",
          "text": [
            "0  0  0  0  0  0  0  0  0  0  0  0  0  0  0  0  0  0  0  0  0  0  0  0  0  0  0  0  \n",
            "0  0  0  0  0  0  0  0  0  0  0  0  0  0  0  0  0  0  0  0  0  0  0  0  0  0  0  0  \n",
            "0  0  0  0  0  0  0  0  0  0  0  0  0  0  0  0  0  0  0  0  0  0  0  0  0  0  0  0  \n",
            "0  0  0  0  0  0  0  0  0  0  0  0  0  0  0  0  0  0  0  0  0  0  0  0  0  0  0  0  \n",
            "0  0  0  0  0  0  0  0  0  0  0  0  0  0  0  0  0  0  0  0  0  0  0  0  0  0  0  0  \n",
            "0  0  0  0  0  0  0  0  0  0  0  0  3  18 18 18 12613617526 1662552471270  0  0  0  \n",
            "0  0  0  0  0  0  0  0  30 36 94 15417025325325325325322517225324219564 0  0  0  0  \n",
            "0  0  0  0  0  0  0  49 23825325325325325325325325325193 82 82 56 39 0  0  0  0  0  \n",
            "0  0  0  0  0  0  0  18 2192532532532532531981822472410  0  0  0  0  0  0  0  0  0  \n",
            "0  0  0  0  0  0  0  0  80 15610725325320511 0  43 1540  0  0  0  0  0  0  0  0  0  \n",
            "0  0  0  0  0  0  0  0  0  14 1  15425390 0  0  0  0  0  0  0  0  0  0  0  0  0  0  \n",
            "0  0  0  0  0  0  0  0  0  0  0  1392531902  0  0  0  0  0  0  0  0  0  0  0  0  0  \n",
            "0  0  0  0  0  0  0  0  0  0  0  11 19025370 0  0  0  0  0  0  0  0  0  0  0  0  0  \n",
            "0  0  0  0  0  0  0  0  0  0  0  0  35 2412251601081  0  0  0  0  0  0  0  0  0  0  \n",
            "0  0  0  0  0  0  0  0  0  0  0  0  0  81 24025325311925 0  0  0  0  0  0  0  0  0  \n",
            "0  0  0  0  0  0  0  0  0  0  0  0  0  0  45 18625325315027 0  0  0  0  0  0  0  0  \n",
            "0  0  0  0  0  0  0  0  0  0  0  0  0  0  0  16 93 2522531870  0  0  0  0  0  0  0  \n",
            "0  0  0  0  0  0  0  0  0  0  0  0  0  0  0  0  0  24925324964 0  0  0  0  0  0  0  \n",
            "0  0  0  0  0  0  0  0  0  0  0  0  0  0  46 1301832532532072  0  0  0  0  0  0  0  \n",
            "0  0  0  0  0  0  0  0  0  0  0  0  39 1482292532532532501820  0  0  0  0  0  0  0  \n",
            "0  0  0  0  0  0  0  0  0  0  24 11422125325325325320178 0  0  0  0  0  0  0  0  0  \n",
            "0  0  0  0  0  0  0  0  23 66 21325325325325319881 2  0  0  0  0  0  0  0  0  0  0  \n",
            "0  0  0  0  0  0  18 17121925325325325319580 9  0  0  0  0  0  0  0  0  0  0  0  0  \n",
            "0  0  0  0  55 17222625325325325324413311 0  0  0  0  0  0  0  0  0  0  0  0  0  0  \n",
            "0  0  0  0  13625325325321213513216 0  0  0  0  0  0  0  0  0  0  0  0  0  0  0  0  \n",
            "0  0  0  0  0  0  0  0  0  0  0  0  0  0  0  0  0  0  0  0  0  0  0  0  0  0  0  0  \n",
            "0  0  0  0  0  0  0  0  0  0  0  0  0  0  0  0  0  0  0  0  0  0  0  0  0  0  0  0  \n",
            "0  0  0  0  0  0  0  0  0  0  0  0  0  0  0  0  0  0  0  0  0  0  0  0  0  0  0  0  \n"
          ]
        }
      ]
    },
    {
      "cell_type": "code",
      "source": [
        "# 데이터를 1차원 배열로 변환\n",
        "X_train = X_train.reshape(X_train.shape[0], 784)\n",
        "X_train = X_train.astype('float64')\n",
        "X_train = X_train / 255\n",
        "# reshape(총 샘플 수, 1차원 속(픽셀)성의 개수)\n",
        "# 기존의 데이터는 가로 28, 세로 28의 2차원 배열이었음 --> 784개의 1차원 배열\n",
        "\n",
        "\n",
        "# 데이터 정규화\n",
        "X_test = X_test.reshape(X_test.shape[0], 784).astype('float64') / 255\n",
        "# astype() 함수는 데이터 타입을 변환시켜줌\n",
        "# 0~255 사이의 값으로 이루어진 픽셀 값을 0~1 사이의 값으로 변환 (for 케라스 성능)\n",
        "\n",
        "# 클래스 값 확인\n",
        "print(\"class : %d \" % (y_train[0]))\n",
        "\n",
        "# 원-핫 인코딩(바이너리화 과정) 적용\n",
        "from tensorflow.keras.utils import to_categorical\n",
        "\n",
        "y_train = to_categorical(y_train, 10)\n",
        "y_test = to_categorical(y_test, 10)\n",
        "# np_tuils.to_categorical() 함수는 원-핫 인코딩을 적용해줌\n",
        "# to_categorical(클래스, 클래스의 개수) 형식으로 지정\n",
        "\n",
        "# 0번째 샘플의 레이블(클래스(타깃값)) 확인\n",
        "print(y_train[0])\n",
        "# imshow() 함수를 통해 확인했을 때 숫자 이미지가 대략 5였음\n",
        "# 생성된 벡터에서 인덱스 5의 값이 1인 것은 숫자 5를 나타냄"
      ],
      "metadata": {
        "colab": {
          "base_uri": "https://localhost:8080/"
        },
        "id": "2vbmkZAgQddY",
        "outputId": "0009f050-5e67-4e67-cf70-7abd8da3c0fa"
      },
      "execution_count": 101,
      "outputs": [
        {
          "output_type": "stream",
          "name": "stdout",
          "text": [
            "class : 5 \n",
            "[0. 0. 0. 0. 0. 1. 0. 0. 0. 0.]\n"
          ]
        }
      ]
    },
    {
      "cell_type": "markdown",
      "source": [
        "# 딥러닝 기본 프레임 만들기"
      ],
      "metadata": {
        "id": "YaeNSn5wYUTY"
      }
    },
    {
      "cell_type": "code",
      "source": [
        "# 모델 생성\n",
        "from tensorflow.keras.models import Sequential\n",
        "from tensorflow.keras.layers import Dense\n",
        "\n",
        "model = Sequential()\n",
        "\n",
        "model.add(Dense(512, input_dim=784, activation='relu'))\n",
        "model.add(Dense(10, activation='softmax'))\n",
        "\n",
        "# 모델 구조 확인\n",
        "model.summary()\n",
        "\n",
        "# 모델 컴파일\n",
        "model.compile(loss='categorical_crossentropy', optimizer='adam',\n",
        "              metrics=['accuracy'])"
      ],
      "metadata": {
        "colab": {
          "base_uri": "https://localhost:8080/",
          "height": 250
        },
        "id": "PouQnpmkYVm2",
        "outputId": "63a53aa1-196b-494a-f2eb-10178ca35fc6"
      },
      "execution_count": 102,
      "outputs": [
        {
          "output_type": "stream",
          "name": "stderr",
          "text": [
            "/usr/local/lib/python3.11/dist-packages/keras/src/layers/core/dense.py:87: UserWarning: Do not pass an `input_shape`/`input_dim` argument to a layer. When using Sequential models, prefer using an `Input(shape)` object as the first layer in the model instead.\n",
            "  super().__init__(activity_regularizer=activity_regularizer, **kwargs)\n"
          ]
        },
        {
          "output_type": "display_data",
          "data": {
            "text/plain": [
              "\u001b[1mModel: \"sequential_7\"\u001b[0m\n"
            ],
            "text/html": [
              "<pre style=\"white-space:pre;overflow-x:auto;line-height:normal;font-family:Menlo,'DejaVu Sans Mono',consolas,'Courier New',monospace\"><span style=\"font-weight: bold\">Model: \"sequential_7\"</span>\n",
              "</pre>\n"
            ]
          },
          "metadata": {}
        },
        {
          "output_type": "display_data",
          "data": {
            "text/plain": [
              "┏━━━━━━━━━━━━━━━━━━━━━━━━━━━━━━━━━━━━━━┳━━━━━━━━━━━━━━━━━━━━━━━━━━━━━┳━━━━━━━━━━━━━━━━━┓\n",
              "┃\u001b[1m \u001b[0m\u001b[1mLayer (type)                        \u001b[0m\u001b[1m \u001b[0m┃\u001b[1m \u001b[0m\u001b[1mOutput Shape               \u001b[0m\u001b[1m \u001b[0m┃\u001b[1m \u001b[0m\u001b[1m        Param #\u001b[0m\u001b[1m \u001b[0m┃\n",
              "┡━━━━━━━━━━━━━━━━━━━━━━━━━━━━━━━━━━━━━━╇━━━━━━━━━━━━━━━━━━━━━━━━━━━━━╇━━━━━━━━━━━━━━━━━┩\n",
              "│ dense_13 (\u001b[38;5;33mDense\u001b[0m)                     │ (\u001b[38;5;45mNone\u001b[0m, \u001b[38;5;34m512\u001b[0m)                 │         \u001b[38;5;34m401,920\u001b[0m │\n",
              "├──────────────────────────────────────┼─────────────────────────────┼─────────────────┤\n",
              "│ dense_14 (\u001b[38;5;33mDense\u001b[0m)                     │ (\u001b[38;5;45mNone\u001b[0m, \u001b[38;5;34m10\u001b[0m)                  │           \u001b[38;5;34m5,130\u001b[0m │\n",
              "└──────────────────────────────────────┴─────────────────────────────┴─────────────────┘\n"
            ],
            "text/html": [
              "<pre style=\"white-space:pre;overflow-x:auto;line-height:normal;font-family:Menlo,'DejaVu Sans Mono',consolas,'Courier New',monospace\">┏━━━━━━━━━━━━━━━━━━━━━━━━━━━━━━━━━━━━━━┳━━━━━━━━━━━━━━━━━━━━━━━━━━━━━┳━━━━━━━━━━━━━━━━━┓\n",
              "┃<span style=\"font-weight: bold\"> Layer (type)                         </span>┃<span style=\"font-weight: bold\"> Output Shape                </span>┃<span style=\"font-weight: bold\">         Param # </span>┃\n",
              "┡━━━━━━━━━━━━━━━━━━━━━━━━━━━━━━━━━━━━━━╇━━━━━━━━━━━━━━━━━━━━━━━━━━━━━╇━━━━━━━━━━━━━━━━━┩\n",
              "│ dense_13 (<span style=\"color: #0087ff; text-decoration-color: #0087ff\">Dense</span>)                     │ (<span style=\"color: #00d7ff; text-decoration-color: #00d7ff\">None</span>, <span style=\"color: #00af00; text-decoration-color: #00af00\">512</span>)                 │         <span style=\"color: #00af00; text-decoration-color: #00af00\">401,920</span> │\n",
              "├──────────────────────────────────────┼─────────────────────────────┼─────────────────┤\n",
              "│ dense_14 (<span style=\"color: #0087ff; text-decoration-color: #0087ff\">Dense</span>)                     │ (<span style=\"color: #00d7ff; text-decoration-color: #00d7ff\">None</span>, <span style=\"color: #00af00; text-decoration-color: #00af00\">10</span>)                  │           <span style=\"color: #00af00; text-decoration-color: #00af00\">5,130</span> │\n",
              "└──────────────────────────────────────┴─────────────────────────────┴─────────────────┘\n",
              "</pre>\n"
            ]
          },
          "metadata": {}
        },
        {
          "output_type": "display_data",
          "data": {
            "text/plain": [
              "\u001b[1m Total params: \u001b[0m\u001b[38;5;34m407,050\u001b[0m (1.55 MB)\n"
            ],
            "text/html": [
              "<pre style=\"white-space:pre;overflow-x:auto;line-height:normal;font-family:Menlo,'DejaVu Sans Mono',consolas,'Courier New',monospace\"><span style=\"font-weight: bold\"> Total params: </span><span style=\"color: #00af00; text-decoration-color: #00af00\">407,050</span> (1.55 MB)\n",
              "</pre>\n"
            ]
          },
          "metadata": {}
        },
        {
          "output_type": "display_data",
          "data": {
            "text/plain": [
              "\u001b[1m Trainable params: \u001b[0m\u001b[38;5;34m407,050\u001b[0m (1.55 MB)\n"
            ],
            "text/html": [
              "<pre style=\"white-space:pre;overflow-x:auto;line-height:normal;font-family:Menlo,'DejaVu Sans Mono',consolas,'Courier New',monospace\"><span style=\"font-weight: bold\"> Trainable params: </span><span style=\"color: #00af00; text-decoration-color: #00af00\">407,050</span> (1.55 MB)\n",
              "</pre>\n"
            ]
          },
          "metadata": {}
        },
        {
          "output_type": "display_data",
          "data": {
            "text/plain": [
              "\u001b[1m Non-trainable params: \u001b[0m\u001b[38;5;34m0\u001b[0m (0.00 B)\n"
            ],
            "text/html": [
              "<pre style=\"white-space:pre;overflow-x:auto;line-height:normal;font-family:Menlo,'DejaVu Sans Mono',consolas,'Courier New',monospace\"><span style=\"font-weight: bold\"> Non-trainable params: </span><span style=\"color: #00af00; text-decoration-color: #00af00\">0</span> (0.00 B)\n",
              "</pre>\n"
            ]
          },
          "metadata": {}
        }
      ]
    },
    {
      "cell_type": "code",
      "source": [
        "# 모델 최적화 설정(조기 종료)\n",
        "from tensorflow.keras.callbacks import ModelCheckpoint, EarlyStopping\n",
        "\n",
        "modelpath = \"./MIST_MLP.keras\"\n",
        "checkpointer = ModelCheckpoint(filepath=modelpath, monitor='val_loss',\n",
        "                               verbose=1, save_best_only=True)\n",
        "early_stopping_callback = EarlyStopping(monitor='val_loss', patience=10)"
      ],
      "metadata": {
        "id": "8Ayzs8e3cRHq"
      },
      "execution_count": 103,
      "outputs": []
    },
    {
      "cell_type": "code",
      "source": [
        "# 모델 실행\n",
        "history = model.fit(X_train, y_train, validation_split=0.25,\n",
        "                    epochs=30, batch_size=200, verbose=0,\n",
        "                    callbacks=[early_stopping_callback,checkpointer])\n",
        "\n",
        "# 정확도 출력\n",
        "print(\"\\n Test Accuracy: %.4f\" % (model.evaluate(X_test, y_test)[1])) # [1]은 모델의 정확도(accuracy)"
      ],
      "metadata": {
        "colab": {
          "base_uri": "https://localhost:8080/"
        },
        "id": "Qj4q6yf5dBO9",
        "outputId": "ae45c95c-269e-4ae7-e5cd-c9a9b715a9e7"
      },
      "execution_count": 104,
      "outputs": [
        {
          "output_type": "stream",
          "name": "stdout",
          "text": [
            "\n",
            "Epoch 1: val_loss improved from inf to 0.18452, saving model to ./MIST_MLP.keras\n",
            "\n",
            "Epoch 2: val_loss improved from 0.18452 to 0.13947, saving model to ./MIST_MLP.keras\n",
            "\n",
            "Epoch 3: val_loss improved from 0.13947 to 0.11180, saving model to ./MIST_MLP.keras\n",
            "\n",
            "Epoch 4: val_loss improved from 0.11180 to 0.10152, saving model to ./MIST_MLP.keras\n",
            "\n",
            "Epoch 5: val_loss improved from 0.10152 to 0.09211, saving model to ./MIST_MLP.keras\n",
            "\n",
            "Epoch 6: val_loss improved from 0.09211 to 0.08939, saving model to ./MIST_MLP.keras\n",
            "\n",
            "Epoch 7: val_loss improved from 0.08939 to 0.08847, saving model to ./MIST_MLP.keras\n",
            "\n",
            "Epoch 8: val_loss improved from 0.08847 to 0.08452, saving model to ./MIST_MLP.keras\n",
            "\n",
            "Epoch 9: val_loss improved from 0.08452 to 0.08241, saving model to ./MIST_MLP.keras\n",
            "\n",
            "Epoch 10: val_loss did not improve from 0.08241\n",
            "\n",
            "Epoch 11: val_loss did not improve from 0.08241\n",
            "\n",
            "Epoch 12: val_loss improved from 0.08241 to 0.08152, saving model to ./MIST_MLP.keras\n",
            "\n",
            "Epoch 13: val_loss did not improve from 0.08152\n",
            "\n",
            "Epoch 14: val_loss did not improve from 0.08152\n",
            "\n",
            "Epoch 15: val_loss did not improve from 0.08152\n",
            "\n",
            "Epoch 16: val_loss did not improve from 0.08152\n",
            "\n",
            "Epoch 17: val_loss did not improve from 0.08152\n",
            "\n",
            "Epoch 18: val_loss did not improve from 0.08152\n",
            "\n",
            "Epoch 19: val_loss did not improve from 0.08152\n",
            "\n",
            "Epoch 20: val_loss did not improve from 0.08152\n",
            "\n",
            "Epoch 21: val_loss did not improve from 0.08152\n",
            "\n",
            "Epoch 22: val_loss did not improve from 0.08152\n",
            "\u001b[1m313/313\u001b[0m \u001b[32m━━━━━━━━━━━━━━━━━━━━\u001b[0m\u001b[37m\u001b[0m \u001b[1m1s\u001b[0m 2ms/step - accuracy: 0.9776 - loss: 0.0879\n",
            "\n",
            " Test Accuracy: 0.9807\n"
          ]
        }
      ]
    },
    {
      "cell_type": "code",
      "source": [
        "# 손실 그래프 시각화\n",
        "\n",
        "\n",
        "# 검증 세트와 학습 세트의 손실 지정\n",
        "y_vloss = history.history['val_loss']\n",
        "y_loss = history.history['loss']\n",
        "\n",
        "# 그래프 생성\n",
        "import numpy as np\n",
        "x_len = np.arange(len(y_loss))\n",
        "\n",
        "plt.plot(x_len, y_vloss, marker='.', c=\"red\", label='Valset_loss')\n",
        "plt.plot(x_len, y_loss, marker='.', c=\"blue\", label='Trainset_loss')\n",
        "\n",
        "plt.legend(loc='upper right')\n",
        "plt.grid()\n",
        "plt.xlabel('epoch')\n",
        "plt.ylabel('loss')\n",
        "plt.show()\n",
        "\n",
        "# 20번째 에포크에서 조기 종료되었으며 10번째 에포크가 베스트 모델임 (정확도 98%)"
      ],
      "metadata": {
        "colab": {
          "base_uri": "https://localhost:8080/",
          "height": 449
        },
        "id": "ENqgZ2m8fDr9",
        "outputId": "bde90313-807d-441a-a00f-90a352746c31"
      },
      "execution_count": 105,
      "outputs": [
        {
          "output_type": "display_data",
          "data": {
            "text/plain": [
              "<Figure size 640x480 with 1 Axes>"
            ],
            "image/png": "[encoded data removed]"
          },
          "metadata": {}
        }
      ]
    },
    {
      "cell_type": "markdown",
      "source": [
        "# 합성곱(컨볼루션) 신경망(CNN)"
      ],
      "metadata": {
        "id": "u678ZTsQie28"
      }
    },
    {
      "cell_type": "markdown",
      "source": [
        "* 합성곱 신경망은 입력 이미지에서 다시 한 번 특징을 추출하기 위해 **커널**을 도입하는 기법이다. (하나의 층으로 간주)\n",
        "\n",
        "* 쉽게 말해 이미지의 배열에 도장을 한 칸씩 찍어가며 각각의 픽셀값에 가중치를 곱하는 것이다.\n",
        "\n",
        "* 찍은 도장 한 칸당 가중치 합을 계산하고\n",
        "<br> 그 계산 값을 스탬프를 찍은 횟수마다 배정하면 새로운 도장,\n",
        "<br>즉 컨볼루션 층이 만들어진다.\n",
        "\n",
        "* 새롭게 만들어진 이 도장을 **특징 맵(feature map)**이라 부른다.\n",
        "\n",
        "* 케라스의 **Conv2D()** 함수는 컨볼루션 층을 추가해 준다.\n",
        "\n",
        "* **하이퍼파라미터**는 사용자(user)가 자의적으로 지정하는 매개변수 값이다."
      ],
      "metadata": {
        "id": "uqEx8GrJjbSC"
      }
    },
    {
      "cell_type": "code",
      "source": [
        "# 데이터셋 로드 및 전처리\n",
        "(X_train, y_train), (X_test, y_test) = mnist.load_data()\n",
        "X_train = X_train.reshape(X_train.shape[0], 28, 28, 1).astype('float32') / 255\n",
        "X_test = X_test.reshape(X_test.shape[0], 28, 28, 1).astype('float32') / 255\n",
        "y_train = to_categorical(y_train)\n",
        "y_test = to_categorical(y_test)\n",
        "\n",
        "# CNN 모델 생성 (새로운 모델이므로 model2로 명명)\n",
        "from tensorflow.keras.layers import Dropout, Flatten, Conv2D, MaxPooling2D\n",
        "\n",
        "model2 = Sequential()\n",
        "\n",
        "# 3 x 3 크기의 도장(커널) 32개를 28 x 28 크기의 흑백(컬러면 값이 3) 이미지에 찍음\n",
        "model2.add(Conv2D(32, kernel_size=(3, 3),\n",
        "                  input_shape=(28, 28, 1), activation='relu'))\n",
        "model2.add(Conv2D(64, (3, 3), activation='relu'))\n",
        "# 64개의 도장을 또 찍음 (도장의 개수는 하이퍼 파라미터임)"
      ],
      "metadata": {
        "id": "UjMr6pROkmYL"
      },
      "execution_count": 107,
      "outputs": []
    },
    {
      "cell_type": "markdown",
      "source": [
        "# 풀링, 드롭아웃, 플래튼"
      ],
      "metadata": {
        "id": "7wizuNdloDa_"
      }
    },
    {
      "cell_type": "markdown",
      "source": [
        "* **풀링**은 연산 과정의 효율을 위해 입력 특성 맵의 배열의 크기를 줄이는 것이다. (하나의 층으로 간주)\n",
        "\n",
        "* 쉽게 말해 한 번 찍은 도장으로 얻은 특성 맵의 특성 맵을 다시 생성하는 것이다.\n",
        "\n",
        "* 풀링을 적용하면 **풀링 창(윈도우)**의 크기만큼 구역을 나눈 다음,\n",
        "<br> 구역의 최대 원소 값만 추출한다.\n",
        "\n",
        "* 일반적으로 2 x 2 크기의 **맥스 풀링(max pooling)**을 진행하며,\n",
        "<br> **스트라이드(stride)**는 배열 값과 동일하게 적용한다.\n",
        "\n",
        "* 스트라이드란 쉽게 말해 도장을 찍을 때 이동하는 간격(보폭)이다.\n"
      ],
      "metadata": {
        "id": "tu2RFKqioG-b"
      }
    },
    {
      "cell_type": "markdown",
      "source": [
        "* 노드가 많아지거나 층이 많아진다고 해서 학습이 무조건 좋아지는 게 아니다.\n",
        "\n",
        "* **드롭아웃(drop out)** 기법이란 은닉층에 배치된 노드 중 일부를 임의로 꺼주는 것이다. (하나의 층으로 간주)\n",
        "\n",
        "* 이렇게 하면 학습 데이터에 지나치게 치우쳐서 학습되는 과적합을 방지할 수 있다.\n",
        "\n",
        "* **플래튼(Flatten)**은 이미지 배열을 1차원 배열로 변환시켜 주는 것이다.\n",
        "\n",
        "* (컨볼루션 층이나 맥스 풀링은 입력 이미지를 2차원 배열인 채로 다룬다.)\n",
        "\n",
        "* 플래튼은 하나의 층으로서 플래튼 층으로 칭하며,\n",
        "<br> CNN에서 추출한 고차원 특성 맵을 1차원 구조인\n",
        "<br> **완전 연결 계층**(이전 계층의 모든 뉴런과 연결)에\n",
        "<br> 입력(연결)하기 위해 진행하는 것이다."
      ],
      "metadata": {
        "id": "v1lHHFqZrScd"
      }
    },
    {
      "cell_type": "code",
      "source": [
        "# 풀링 층 추가\n",
        "model2.add(MaxPooling2D(pool_size=(2,2)))\n",
        "# 스트라이드 매개변수를 지정하지 않으면 풀링 창(윈도우)의 크기와 동일하게 적용됨\n",
        "\n",
        "# 드롭아웃 층 추가\n",
        "model2.add(Dropout(0.25))\n",
        "# 25% 노드를 끄겠다는 의미\n",
        "\n",
        "# 풀링 층 추가\n",
        "model2.add(Flatten())"
      ],
      "metadata": {
        "id": "P39SllvFztwk"
      },
      "execution_count": 108,
      "outputs": []
    },
    {
      "cell_type": "markdown",
      "source": [
        "# 컨볼루션 신경망 실행하기"
      ],
      "metadata": {
        "id": "AAYfvNwx0c6R"
      }
    },
    {
      "cell_type": "code",
      "source": [
        "# 모델 층 추가\n",
        "model2.add(Dense(128,  activation='relu'))\n",
        "model2.add(Dropout(0.5))\n",
        "model2.add(Dense(10, activation='softmax'))\n",
        "\n",
        "# 모델 컴파일(실행 옵션 설정)\n",
        "model2.compile(loss='categorical_crossentropy',\n",
        "              optimizer='adam', metrics=['accuracy'])\n",
        "\n",
        "# 모델 조기 종료 설정\n",
        "modelpath=\"./data/model/MNIST_CNN.keras\"\n",
        "checkpointer = ModelCheckpoint(filepath=modelpath, monitor='val_loss',\n",
        "                               verbose=1, save_best_only=True)\n",
        "early_stopping_callback = EarlyStopping(monitor='val_loss', patience=10)\n",
        "\n",
        "# 모델 학습 실행\n",
        "history = model2.fit(X_train, y_train, validation_split=0.25,\n",
        "                    epochs=30, batch_size=200, verbose=0,\n",
        "                    callbacks=[early_stopping_callback,checkpointer])\n",
        "\n",
        "# 테스트 정확도 출력\n",
        "print(\"\\n Test Accuracy: %.4f\" % (model2.evaluate(X_test, y_test)[1]))"
      ],
      "metadata": {
        "colab": {
          "base_uri": "https://localhost:8080/"
        },
        "id": "IIaGqXK20eW4",
        "outputId": "68c67351-02ef-4a03-e35b-9faebda5f717"
      },
      "execution_count": 111,
      "outputs": [
        {
          "output_type": "stream",
          "name": "stdout",
          "text": [
            "\n",
            "Epoch 1: val_loss improved from inf to 0.12112, saving model to ./data/model/MNIST_CNN.keras\n",
            "\n",
            "Epoch 2: val_loss improved from 0.12112 to 0.07190, saving model to ./data/model/MNIST_CNN.keras\n",
            "\n",
            "Epoch 3: val_loss did not improve from 0.07190\n",
            "\n",
            "Epoch 4: val_loss improved from 0.07190 to 0.07001, saving model to ./data/model/MNIST_CNN.keras\n",
            "\n",
            "Epoch 5: val_loss improved from 0.07001 to 0.06787, saving model to ./data/model/MNIST_CNN.keras\n",
            "\n",
            "Epoch 6: val_loss improved from 0.06787 to 0.06083, saving model to ./data/model/MNIST_CNN.keras\n",
            "\n",
            "Epoch 7: val_loss did not improve from 0.06083\n",
            "\n",
            "Epoch 8: val_loss did not improve from 0.06083\n",
            "\n",
            "Epoch 9: val_loss did not improve from 0.06083\n",
            "\n",
            "Epoch 10: val_loss did not improve from 0.06083\n",
            "\n",
            "Epoch 11: val_loss did not improve from 0.06083\n",
            "\n",
            "Epoch 12: val_loss improved from 0.06083 to 0.05882, saving model to ./data/model/MNIST_CNN.keras\n",
            "\n",
            "Epoch 13: val_loss improved from 0.05882 to 0.05701, saving model to ./data/model/MNIST_CNN.keras\n",
            "\n",
            "Epoch 14: val_loss did not improve from 0.05701\n",
            "\n",
            "Epoch 15: val_loss did not improve from 0.05701\n",
            "\n",
            "Epoch 16: val_loss did not improve from 0.05701\n",
            "\n",
            "Epoch 17: val_loss improved from 0.05701 to 0.05118, saving model to ./data/model/MNIST_CNN.keras\n",
            "\n",
            "Epoch 18: val_loss did not improve from 0.05118\n",
            "\n",
            "Epoch 19: val_loss did not improve from 0.05118\n",
            "\n",
            "Epoch 20: val_loss did not improve from 0.05118\n",
            "\n",
            "Epoch 21: val_loss did not improve from 0.05118\n",
            "\n",
            "Epoch 22: val_loss did not improve from 0.05118\n",
            "\n",
            "Epoch 23: val_loss did not improve from 0.05118\n",
            "\n",
            "Epoch 24: val_loss did not improve from 0.05118\n",
            "\n",
            "Epoch 25: val_loss did not improve from 0.05118\n",
            "\n",
            "Epoch 26: val_loss did not improve from 0.05118\n",
            "\n",
            "Epoch 27: val_loss did not improve from 0.05118\n",
            "\u001b[1m313/313\u001b[0m \u001b[32m━━━━━━━━━━━━━━━━━━━━\u001b[0m\u001b[37m\u001b[0m \u001b[1m2s\u001b[0m 3ms/step - accuracy: 0.9901 - loss: 0.0587\n",
            "\n",
            " Test Accuracy: 0.9921\n"
          ]
        }
      ]
    },
    {
      "cell_type": "code",
      "source": [
        "# 검증 및 훈련 세트 손실 그래프 시각화.\n",
        "y_vloss = history.history['val_loss']\n",
        "y_loss = history.history['loss']\n",
        "\n",
        "# 그래프 생성\n",
        "x_len = np.arange(len(y_loss))\n",
        "\n",
        "plt.plot(x_len, y_vloss, marker='.', c=\"red\", label='Valset_loss')\n",
        "plt.plot(x_len, y_loss, marker='.', c=\"blue\", label='Trainset_loss')\n",
        "\n",
        "plt.legend(loc='upper right')\n",
        "plt.grid()\n",
        "plt.xlabel('epoch')\n",
        "plt.ylabel('loss')\n",
        "plt.show()\n",
        "\n",
        "# 17번째 에포크에서 최적의 모델을 만들었고 27번째 에포크에서 학습이 중단됨\n",
        "# 테스트 정확도는 99.21%로 향상되었다!\n",
        "# CNN 모델이 얕은 구조의 손실(오차)이 딥러닝 모델보다 현저히 낮아짐"
      ],
      "metadata": {
        "colab": {
          "base_uri": "https://localhost:8080/",
          "height": 449
        },
        "id": "LYzATKAT1GXy",
        "outputId": "31ae24d4-cc42-420f-c562-0cb6fde5aafe"
      },
      "execution_count": 112,
      "outputs": [
        {
          "output_type": "display_data",
          "data": {
            "text/plain": [
              "<Figure size 640x480 with 1 Axes>"
            ],
            "image/png": "[encoded data removed]"
          },
          "metadata": {}
        }
      ]
    }
  ]
}