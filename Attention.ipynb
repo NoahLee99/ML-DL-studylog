{
  "nbformat": 4,
  "nbformat_minor": 0,
  "metadata": {
    "colab": {
      "provenance": [],
      "gpuType": "T4",
      "authorship_tag": "ABX9TyPJDn/GmO9yL0xQZpxmJJZH",
      "include_colab_link": true
    },
    "kernelspec": {
      "name": "python3",
      "display_name": "Python 3"
    },
    "language_info": {
      "name": "python"
    },
    "accelerator": "GPU"
  },
  "cells": [
    {
      "cell_type": "markdown",
      "metadata": {
        "id": "view-in-github",
        "colab_type": "text"
      },
      "source": [
        "<a href=\"https://colab.research.google.com/github/NoahLee99/ML-DL-studylog/blob/main/Attention.ipynb\" target=\"_parent\"><img src=\"https://colab.research.google.com/assets/colab-badge.svg\" alt=\"Open In Colab\"/></a>"
      ]
    },
    {
      "cell_type": "markdown",
      "source": [
        "# 어텐션을 사용한 신경망"
      ],
      "metadata": {
        "id": "dwQ33KGG440W"
      }
    },
    {
      "cell_type": "markdown",
      "source": [
        "* 기존의 RNN에는 기울기 소실이라는 큰 문제점이 존재한다.\n",
        "\n",
        "* 쉽게 말해, 문맥의 양이 너무 많아져 마지막 셀(노드)까지 기존의 의미들이 전달되지 못하는 것이다.\n",
        "\n",
        "* 맨 마지막 셀이 이 값을 디코더에 전달하는데,\n",
        "<br> 이 마지막 셀에 담긴 값에 전체 문장의 뜻이 함축되어 있으므로 이를 **문맥 벡터(context vector)**라고 한다.\n",
        "\n",
        "* 이러한 문제를 해결하기 위해 **어텐션(attention)** 방법이 등장했다.\n",
        "\n",
        "* 어텐션은 기존 인코더-디코더 모델에 어텐션 층을 추가하여 성능을 향상시키는 방법이다.\n",
        "<br> 어텐션 층은 입력 문장의 각 토큰에 대한 어텐션 스코어를 계산하여, 디코더가 출력 문장을 생성할 때 어떤 토큰에 더 집중해야 할지 알려준다.\n",
        "\n",
        "* 더 자세히 설명하면, 어텐션 층은 입력 문장의 각 토큰과 출력 문장의 각 토큰 사이의 연관성을 계산해 어텐션 스코어를 얻는다. <br> 그리고 이 스코어를 소프트맥스 함수를 통해 0과 1 사이의 값을 갖는 어텐션 가중치로 변환한다.\n",
        "\n",
        "* 디코더는 이 어텐션 가중치를 이용하여 입력 문장의 각 토큰에 대한 중요도를 고려하여 출력 문장을 생성한다.\n",
        "<br> 즉, 어텐션 가중치가 높은 토큰에 더 집중하여 출력 문장을 생성하는 것이다.\n",
        "\n",
        "* EX. \"Attention is all you need!\" --> \"당신이 필요한 전부는 어텐션 이다!\"\n",
        "<br> 여기서 출력 문장의 \"당신이\"라는 토큰은 [0 0 0 1 0](예시)와 같은 가중치를 가질 것이다. (입력 문장 토큰의 위치에 따른 중요도)\n",
        "\n",
        "* 이제 직접 어텐션 메커니즘을 사용해 IMDB 영화 리뷰를 분류해 보자."
      ],
      "metadata": {
        "id": "96it-qNX9jrV"
      }
    },
    {
      "cell_type": "code",
      "source": [
        "# 필요 라이브러리 가동\n",
        "!pip install -U keras-self-attention\n",
        "\n",
        "from tensorflow.keras.models import Sequential\n",
        "from tensorflow.keras.layers import Dense, Dropout, Activation, Embedding, LSTM, Conv1D, MaxPooling1D, Flatten\n",
        "from tensorflow.keras.datasets import imdb\n",
        "from tensorflow.keras.preprocessing import sequence\n",
        "from tensorflow.keras.callbacks import EarlyStopping\n",
        "from tensorflow.keras.utils import plot_model\n",
        "from tensorflow.keras import backend as K\n",
        "from keras_self_attention import SeqSelfAttention\n",
        "\n",
        "import numpy as np\n",
        "import matplotlib.pyplot as plt\n",
        "\n",
        "# 데이터 로드 후 훈련 세트와 테스트 세트로 분할\n",
        "(X_train, y_train), (X_test, y_test) = imdb.load_data(num_words=5000)\n",
        "\n",
        "# 리뷰당 단어 수 동일화(전처리)\n",
        "X_train = sequence.pad_sequences(X_train, maxlen=500)\n",
        "X_test = sequence.pad_sequences(X_test, maxlen=500)"
      ],
      "metadata": {
        "colab": {
          "base_uri": "https://localhost:8080/"
        },
        "id": "2Q5bx6fQFaw2",
        "outputId": "4f595f99-40cd-4690-f13d-d9ee389780b4"
      },
      "execution_count": 1,
      "outputs": [
        {
          "output_type": "stream",
          "name": "stdout",
          "text": [
            "Collecting keras-self-attention\n",
            "  Downloading keras-self-attention-0.51.0.tar.gz (11 kB)\n",
            "  Preparing metadata (setup.py) ... \u001b[?25l\u001b[?25hdone\n",
            "Requirement already satisfied: numpy in /usr/local/lib/python3.11/dist-packages (from keras-self-attention) (1.26.4)\n",
            "Building wheels for collected packages: keras-self-attention\n",
            "  Building wheel for keras-self-attention (setup.py) ... \u001b[?25l\u001b[?25hdone\n",
            "  Created wheel for keras-self-attention: filename=keras_self_attention-0.51.0-py3-none-any.whl size=18895 sha256=022b958a043289a93edda7613d0f05b9f7b8cb53e3090d7298a5037c0c1ff7dd\n",
            "  Stored in directory: /root/.cache/pip/wheels/46/f9/96/709295c836133071c12a300729fed4027757f889c01695feea\n",
            "Successfully built keras-self-attention\n",
            "Installing collected packages: keras-self-attention\n",
            "Successfully installed keras-self-attention-0.51.0\n",
            "Downloading data from https://storage.googleapis.com/tensorflow/tf-keras-datasets/imdb.npz\n",
            "\u001b[1m17464789/17464789\u001b[0m \u001b[32m━━━━━━━━━━━━━━━━━━━━\u001b[0m\u001b[37m\u001b[0m \u001b[1m2s\u001b[0m 0us/step\n"
          ]
        }
      ]
    },
    {
      "cell_type": "code",
      "source": [
        "# 모델 생성\n",
        "model = Sequential()\n",
        "model.add(Embedding(5000, 500))\n",
        "model.add(Dropout(0.5))\n",
        "model.add(LSTM(64, return_sequences=True)) # 다음 레이어가 시퀀스 데이터를 입력 받을 수 있도록 함\n",
        "model.add(SeqSelfAttention(attention_activation='sigmoid'))\n",
        "model.add(Dropout(0.5))\n",
        "model.add(Flatten())\n",
        "model.add(Dense(1))\n",
        "model.add(Activation('sigmoid'))\n",
        "\n",
        "# 모델 컴파일\n",
        "model.compile(loss='binary_crossentropy', optimizer='adam',\n",
        "              metrics=['accuracy'])\n",
        "\n",
        "# 학습 조기 종료 설정\n",
        "early_stopping_callback = EarlyStopping(monitor='val_loss', patience=3)\n",
        "\n",
        "# 모델 학습 실행\n",
        "history = model.fit(X_train, y_train, batch_size=40, epochs=100,\n",
        "                    validation_data=(X_test, y_test), callbacks=[early_stopping_callback])\n",
        "\n",
        "# 테스트 정확도 출력\n",
        "print(\"\\n Test Accuracy: %.4f\" % (model.evaluate(X_test, y_test)[1]))"
      ],
      "metadata": {
        "colab": {
          "base_uri": "https://localhost:8080/"
        },
        "id": "gSyu-hUgHA4y",
        "outputId": "ec5cbece-d6a8-43aa-8983-f8959cf53043"
      },
      "execution_count": 2,
      "outputs": [
        {
          "output_type": "stream",
          "name": "stdout",
          "text": [
            "Epoch 1/100\n",
            "\u001b[1m625/625\u001b[0m \u001b[32m━━━━━━━━━━━━━━━━━━━━\u001b[0m\u001b[37m\u001b[0m \u001b[1m124s\u001b[0m 185ms/step - accuracy: 0.7181 - loss: 0.4955 - val_accuracy: 0.8964 - val_loss: 0.2538\n",
            "Epoch 2/100\n",
            "\u001b[1m625/625\u001b[0m \u001b[32m━━━━━━━━━━━━━━━━━━━━\u001b[0m\u001b[37m\u001b[0m \u001b[1m115s\u001b[0m 185ms/step - accuracy: 0.9216 - loss: 0.1994 - val_accuracy: 0.8930 - val_loss: 0.2631\n",
            "Epoch 3/100\n",
            "\u001b[1m625/625\u001b[0m \u001b[32m━━━━━━━━━━━━━━━━━━━━\u001b[0m\u001b[37m\u001b[0m \u001b[1m143s\u001b[0m 186ms/step - accuracy: 0.9480 - loss: 0.1453 - val_accuracy: 0.8903 - val_loss: 0.2805\n",
            "Epoch 4/100\n",
            "\u001b[1m625/625\u001b[0m \u001b[32m━━━━━━━━━━━━━━━━━━━━\u001b[0m\u001b[37m\u001b[0m \u001b[1m116s\u001b[0m 186ms/step - accuracy: 0.9661 - loss: 0.0978 - val_accuracy: 0.8848 - val_loss: 0.3628\n",
            "\u001b[1m782/782\u001b[0m \u001b[32m━━━━━━━━━━━━━━━━━━━━\u001b[0m\u001b[37m\u001b[0m \u001b[1m39s\u001b[0m 49ms/step - accuracy: 0.8852 - loss: 0.3620\n",
            "\n",
            " Test Accuracy: 0.8848\n"
          ]
        }
      ]
    },
    {
      "cell_type": "code",
      "source": [
        "# 손실 그래프 시각화\n",
        "\n",
        "# 검증 세트와 학습 세트의 손실 저장\n",
        "y_vloss = history.history['val_loss']\n",
        "y_loss = history.history['loss']\n",
        "\n",
        "# 그래프 생성\n",
        "x_len = np.arange(len(y_loss))\n",
        "plt.plot(x_len, y_vloss, marker='.', c=\"red\", label='Valset_loss')\n",
        "plt.plot(x_len, y_loss, marker='.', c=\"blue\", label='Trainset_loss')\n",
        "\n",
        "# 그래프 설정\n",
        "plt.legend(loc='upper right')\n",
        "plt.grid()\n",
        "plt.xlabel('epoch')\n",
        "plt.ylabel('loss')\n",
        "plt.show()\n",
        "\n",
        "# 테스트 결과 정확도 약 89%로 이전의 LSTM 및 CNN 모델 보다 1%의 향상이 일어남!"
      ],
      "metadata": {
        "colab": {
          "base_uri": "https://localhost:8080/",
          "height": 449
        },
        "id": "ueaeARJIMbSn",
        "outputId": "bb45524c-ea84-45f2-8603-af22dfab6858"
      },
      "execution_count": 5,
      "outputs": [
        {
          "output_type": "display_data",
          "data": {
            "text/plain": [
              "<Figure size 640x480 with 1 Axes>"
            ],
            "image/png": "[encoded data removed]"
          },
          "metadata": {}
        }
      ]
    }
  ]
}