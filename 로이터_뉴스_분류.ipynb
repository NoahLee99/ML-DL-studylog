{
  "nbformat": 4,
  "nbformat_minor": 0,
  "metadata": {
    "colab": {
      "provenance": [],
      "gpuType": "T4",
      "authorship_tag": "ABX9TyNYf+f+z0XpCB/LoymfrLqG",
      "include_colab_link": true
    },
    "kernelspec": {
      "name": "python3",
      "display_name": "Python 3"
    },
    "language_info": {
      "name": "python"
    },
    "accelerator": "GPU"
  },
  "cells": [
    {
      "cell_type": "markdown",
      "metadata": {
        "id": "view-in-github",
        "colab_type": "text"
      },
      "source": [
        "<a href=\"https://colab.research.google.com/github/NoahLee99/ML-DL-studylog/blob/main/%EB%A1%9C%EC%9D%B4%ED%84%B0_%EB%89%B4%EC%8A%A4_%EB%B6%84%EB%A5%98.ipynb\" target=\"_parent\"><img src=\"https://colab.research.google.com/assets/colab-badge.svg\" alt=\"Open In Colab\"/></a>"
      ]
    },
    {
      "cell_type": "code",
      "execution_count": 27,
      "metadata": {
        "colab": {
          "base_uri": "https://localhost:8080/",
          "height": 110
        },
        "id": "UIUJGq4AZcwL",
        "outputId": "fb4d52b0-98ef-4232-f2c6-26d0ef7c0184"
      },
      "outputs": [
        {
          "output_type": "execute_result",
          "data": {
            "text/plain": [
              "'\\n실제로 인공지능이 문장을 학습한다는 것은 저번 장에서 공부한 내용과는 성질이 다소 다르다.\\n문장은 여러 개의 단어로 이루어져 있는데, \\n그 의미를 전달하려면 각 단어가 정해진 순서대로 입력되어야 하기 때문이다.\\n즉, 여러 데이터가 순서와 관계없이 입력되던 것과는 다르게,\\n이번에는 과거에 입력된 데이터와 나중에 입력된 데이터 사이의 관계를 고려해야 한다.\\n\\n이를 해결하기 위해 \"순환 신경망(Recurrent Neural Network, RNN)\" 방법이 고안되었다.\\n순환 신경망은 여러 개의 데이터가 순서대로 입력되었을 때 \\n앞서 입력 받은 데이터를 잠시 기억해 놓는 방법이다.\\n'"
            ],
            "application/vnd.google.colaboratory.intrinsic+json": {
              "type": "string"
            }
          },
          "metadata": {},
          "execution_count": 27
        }
      ],
      "source": [
        "'''\n",
        "실제로 인공지능이 문장을 학습한다는 것은 저번 장에서 공부한 내용과는 성질이 다소 다르다.\n",
        "문장은 여러 개의 단어로 이루어져 있는데,\n",
        "그 의미를 전달하려면 각 단어가 정해진 순서대로 입력되어야 하기 때문이다.\n",
        "즉, 여러 데이터가 순서와 관계없이 입력되던 것과는 다르게,\n",
        "이번에는 과거에 입력된 데이터와 나중에 입력된 데이터 사이의 관계를 고려해야 한다.\n",
        "\n",
        "이를 해결하기 위해 \"순환 신경망(Recurrent Neural Network, RNN)\" 방법이 고안되었다.\n",
        "순환 신경망은 여러 개의 데이터가 순서대로 입력되었을 때\n",
        "앞서 입력 받은 데이터를 잠시 기억해 놓는 방법이다.\n",
        "'''"
      ]
    },
    {
      "cell_type": "markdown",
      "source": [
        "# LSTM을 이용한 이용한 로이터 뉴스 카테고리 분류하기"
      ],
      "metadata": {
        "id": "V_itOn7db-IX"
      }
    },
    {
      "cell_type": "markdown",
      "source": [
        "* **LSTM**이란 RNN의 기울기 소실 문제가 발생하는 단점을 보완하고자 등장한 방법이다.\n",
        "\n",
        "* 즉, 기존의 RNN에 반복(순환)되기 직전 다음 층으로 기억된 값을 넘길지 여부를 <br> 관리하는 단계를 하나 더 추가한 것이다.\n",
        "\n",
        "* 입력된 문장 의미를 파악하는 것은 곧 모든 단어를 종합해\n",
        "<br> 하나의  카테고리로 분류하는 작업이다.\n",
        "\n",
        "* 긴 텍스트를 읽고 이 데이터가 어떤 의미를 지니는지 카테고리로 분류해 보자."
      ],
      "metadata": {
        "id": "PBOUM7E0goIm"
      }
    },
    {
      "cell_type": "code",
      "source": [
        "from tensorflow.keras.models import Sequential\n",
        "from tensorflow.keras.layers import Dense, Embedding, LSTM\n",
        "from tensorflow.keras.utils import to_categorical\n",
        "from tensorflow.keras.preprocessing import sequence\n",
        "from tensorflow.keras.callbacks import EarlyStopping\n",
        "\n",
        "import numpy as np\n",
        "import matplotlib.pyplot as plt\n",
        "\n",
        "# 로이토 뉴스 테이터셋 로드\n",
        "from tensorflow.keras.datasets import reuters\n",
        "\n",
        "# 훈련 세트와 테스트 세트로 분할\n",
        "(X_train, y_train), (X_test, y_test) = reuters.load_data(num_words=1000,\n",
        "                                                         test_split=0.2)\n",
        "# num_words=1000은 가장 빈번한 단어 1,000개만 사용한다는 의미 (빈도가 1~1000에 해당)"
      ],
      "metadata": {
        "id": "iFLwcj6BcC6h"
      },
      "execution_count": 28,
      "outputs": []
    },
    {
      "cell_type": "code",
      "source": [
        "# 데이터 확인\n",
        "category = np.max(y_train) + 1\n",
        "# 뉴스 기사 카테고리 레이블의 수 계산 (레이블 0부터 시작하므로 + 1)\n",
        "\n",
        "print(category, '카테고리')\n",
        "print(len(X_train), '학습용 뉴스 기사') # 훈련 세트 80%\n",
        "print(len(X_test), '테스트용 뉴스 기사') # 테스트 세트 20%\n",
        "print(X_train[0]) # 첫 번째 뉴스 기사의 단어 시퀀스 출력\n",
        "\n",
        "# 로이터 뉴스 데이터셋은 이미 뉴스마다 각 단어들의 등장 빈도수를 세어 인덱스 번호를 붙여놓았음"
      ],
      "metadata": {
        "colab": {
          "base_uri": "https://localhost:8080/"
        },
        "id": "lNdMYRs8ibzh",
        "outputId": "c84070eb-e896-49d7-b91a-4f1a872c86ad"
      },
      "execution_count": 29,
      "outputs": [
        {
          "output_type": "stream",
          "name": "stdout",
          "text": [
            "46 카테고리\n",
            "8982 학습용 뉴스 기사\n",
            "2246 테스트용 뉴스 기사\n",
            "[1, 2, 2, 8, 43, 10, 447, 5, 25, 207, 270, 5, 2, 111, 16, 369, 186, 90, 67, 7, 89, 5, 19, 102, 6, 19, 124, 15, 90, 67, 84, 22, 482, 26, 7, 48, 4, 49, 8, 864, 39, 209, 154, 6, 151, 6, 83, 11, 15, 22, 155, 11, 15, 7, 48, 9, 2, 2, 504, 6, 258, 6, 272, 11, 15, 22, 134, 44, 11, 15, 16, 8, 197, 2, 90, 67, 52, 29, 209, 30, 32, 132, 6, 109, 15, 17, 12]\n"
          ]
        }
      ]
    },
    {
      "cell_type": "code",
      "source": [
        "# 모든 기사를 고려해 단어의 수 맞추기(전처리)\n",
        "X_train = sequence.pad_sequences(X_train, maxlen=100)\n",
        "X_test = sequence.pad_sequences(X_test, maxlen=100)\n",
        "\n",
        "# 만약 입력된 기사의 단어 수가 100보다 크면 100개째 단어 외 나머지는 버림 (모자라면 0으로 패딩)"
      ],
      "metadata": {
        "id": "VA9SPPYui1KF"
      },
      "execution_count": 30,
      "outputs": []
    },
    {
      "cell_type": "code",
      "source": [
        "# 원-핫 인코딩 적용\n",
        "y_train = to_categorical(y_train)\n",
        "y_test = to_categorical(y_test)\n",
        "\n",
        "# (샘플 수, 클래스(카테고리) 수)의 2차원 배열"
      ],
      "metadata": {
        "id": "GFOE1Kf2ng9_"
      },
      "execution_count": 31,
      "outputs": []
    },
    {
      "cell_type": "code",
      "source": [
        "# 딥러닝 모델 생성\n",
        "model = Sequential()\n",
        "\n",
        "model.add(Embedding(1000, 100)) # (불러온 단어의 총 개수, 기사당 단어 수)\n",
        "model.add(LSTM(100, activation='tanh')) # (기사당 단어 수, 기타 옵션)\n",
        "model.add(Dense(46, activation='softmax'))\n",
        "\n",
        "# 모델 컴파일\n",
        "model.compile(loss='categorical_crossentropy', optimizer='adam',\n",
        "              metrics=['accuracy'])\n",
        "\n",
        "# 학습 조기 종료 설정\n",
        "early_stopping_callback = EarlyStopping(monitor='val_loss', patience=5)\n",
        "\n",
        "# 모델 학습 실행\n",
        "history = model.fit(X_train, y_train, batch_size=20, epochs=200,\n",
        "                    validation_data=(X_test, y_test), callbacks=[early_stopping_callback])\n",
        "\n",
        "# 테스트 정확도 출력\n",
        "print(\"\\n Test Accuracy: %.4f\" % (model.evaluate(X_test, y_test)[1]))\n",
        "\n",
        "# 15번째 에포크에서 조기 종료 되었으며, 약 73%의 정확도 출력"
      ],
      "metadata": {
        "colab": {
          "base_uri": "https://localhost:8080/"
        },
        "id": "Po5kbhcDoBos",
        "outputId": "fe72d17d-e22f-4519-c1f1-bc8d2b711a5e"
      },
      "execution_count": 39,
      "outputs": [
        {
          "output_type": "stream",
          "name": "stdout",
          "text": [
            "Epoch 1/200\n",
            "\u001b[1m450/450\u001b[0m \u001b[32m━━━━━━━━━━━━━━━━━━━━\u001b[0m\u001b[37m\u001b[0m \u001b[1m8s\u001b[0m 9ms/step - accuracy: 0.4105 - loss: 2.4286 - val_accuracy: 0.5058 - val_loss: 1.9316\n",
            "Epoch 2/200\n",
            "\u001b[1m450/450\u001b[0m \u001b[32m━━━━━━━━━━━━━━━━━━━━\u001b[0m\u001b[37m\u001b[0m \u001b[1m3s\u001b[0m 8ms/step - accuracy: 0.5205 - loss: 1.8384 - val_accuracy: 0.5855 - val_loss: 1.6915\n",
            "Epoch 3/200\n",
            "\u001b[1m450/450\u001b[0m \u001b[32m━━━━━━━━━━━━━━━━━━━━\u001b[0m\u001b[37m\u001b[0m \u001b[1m6s\u001b[0m 10ms/step - accuracy: 0.6005 - loss: 1.5810 - val_accuracy: 0.6051 - val_loss: 1.5795\n",
            "Epoch 4/200\n",
            "\u001b[1m450/450\u001b[0m \u001b[32m━━━━━━━━━━━━━━━━━━━━\u001b[0m\u001b[37m\u001b[0m \u001b[1m3s\u001b[0m 8ms/step - accuracy: 0.6447 - loss: 1.4456 - val_accuracy: 0.6202 - val_loss: 1.4815\n",
            "Epoch 5/200\n",
            "\u001b[1m450/450\u001b[0m \u001b[32m━━━━━━━━━━━━━━━━━━━━\u001b[0m\u001b[37m\u001b[0m \u001b[1m7s\u001b[0m 11ms/step - accuracy: 0.6610 - loss: 1.3251 - val_accuracy: 0.6505 - val_loss: 1.3705\n",
            "Epoch 6/200\n",
            "\u001b[1m450/450\u001b[0m \u001b[32m━━━━━━━━━━━━━━━━━━━━\u001b[0m\u001b[37m\u001b[0m \u001b[1m4s\u001b[0m 8ms/step - accuracy: 0.6917 - loss: 1.2183 - val_accuracy: 0.6785 - val_loss: 1.2586\n",
            "Epoch 7/200\n",
            "\u001b[1m450/450\u001b[0m \u001b[32m━━━━━━━━━━━━━━━━━━━━\u001b[0m\u001b[37m\u001b[0m \u001b[1m5s\u001b[0m 8ms/step - accuracy: 0.7199 - loss: 1.1075 - val_accuracy: 0.6910 - val_loss: 1.1977\n",
            "Epoch 8/200\n",
            "\u001b[1m450/450\u001b[0m \u001b[32m━━━━━━━━━━━━━━━━━━━━\u001b[0m\u001b[37m\u001b[0m \u001b[1m5s\u001b[0m 11ms/step - accuracy: 0.7470 - loss: 0.9757 - val_accuracy: 0.7124 - val_loss: 1.1486\n",
            "Epoch 9/200\n",
            "\u001b[1m450/450\u001b[0m \u001b[32m━━━━━━━━━━━━━━━━━━━━\u001b[0m\u001b[37m\u001b[0m \u001b[1m9s\u001b[0m 8ms/step - accuracy: 0.7645 - loss: 0.9214 - val_accuracy: 0.7124 - val_loss: 1.1346\n",
            "Epoch 10/200\n",
            "\u001b[1m450/450\u001b[0m \u001b[32m━━━━━━━━━━━━━━━━━━━━\u001b[0m\u001b[37m\u001b[0m \u001b[1m5s\u001b[0m 9ms/step - accuracy: 0.7867 - loss: 0.8332 - val_accuracy: 0.7137 - val_loss: 1.1239\n",
            "Epoch 11/200\n",
            "\u001b[1m450/450\u001b[0m \u001b[32m━━━━━━━━━━━━━━━━━━━━\u001b[0m\u001b[37m\u001b[0m \u001b[1m5s\u001b[0m 9ms/step - accuracy: 0.8023 - loss: 0.7660 - val_accuracy: 0.7240 - val_loss: 1.1252\n",
            "Epoch 12/200\n",
            "\u001b[1m450/450\u001b[0m \u001b[32m━━━━━━━━━━━━━━━━━━━━\u001b[0m\u001b[37m\u001b[0m \u001b[1m6s\u001b[0m 11ms/step - accuracy: 0.8298 - loss: 0.6746 - val_accuracy: 0.7222 - val_loss: 1.1302\n",
            "Epoch 13/200\n",
            "\u001b[1m450/450\u001b[0m \u001b[32m━━━━━━━━━━━━━━━━━━━━\u001b[0m\u001b[37m\u001b[0m \u001b[1m4s\u001b[0m 8ms/step - accuracy: 0.8380 - loss: 0.6315 - val_accuracy: 0.7297 - val_loss: 1.1776\n",
            "Epoch 14/200\n",
            "\u001b[1m450/450\u001b[0m \u001b[32m━━━━━━━━━━━━━━━━━━━━\u001b[0m\u001b[37m\u001b[0m \u001b[1m4s\u001b[0m 8ms/step - accuracy: 0.8647 - loss: 0.5388 - val_accuracy: 0.7364 - val_loss: 1.1635\n",
            "Epoch 15/200\n",
            "\u001b[1m450/450\u001b[0m \u001b[32m━━━━━━━━━━━━━━━━━━━━\u001b[0m\u001b[37m\u001b[0m \u001b[1m5s\u001b[0m 10ms/step - accuracy: 0.8685 - loss: 0.5065 - val_accuracy: 0.7275 - val_loss: 1.2162\n",
            "\u001b[1m71/71\u001b[0m \u001b[32m━━━━━━━━━━━━━━━━━━━━\u001b[0m\u001b[37m\u001b[0m \u001b[1m0s\u001b[0m 4ms/step - accuracy: 0.7338 - loss: 1.1840\n",
            "\n",
            " Test Accuracy: 0.7275\n"
          ]
        }
      ]
    },
    {
      "cell_type": "code",
      "source": [
        "# 손실 그래프 시각화\n",
        "\n",
        "# 검증 세트와 학습 세트의 손실 저장\n",
        "y_vloss = history.history['val_loss']\n",
        "y_loss = history.history['loss']\n",
        "\n",
        "# 그래프 생성\n",
        "x_len = np.arange(len(y_loss))\n",
        "plt.plot(x_len, y_vloss, marker='.', c=\"red\", label='Valset_loss')\n",
        "plt.plot(x_len, y_loss, marker='.', c=\"blue\", label='Trainset_loss')\n",
        "\n",
        "# 그래프 설정\n",
        "plt.legend(loc='upper right')\n",
        "plt.grid()\n",
        "plt.xlabel('epoch')\n",
        "plt.ylabel('loss')\n",
        "\n",
        "plt.show()"
      ],
      "metadata": {
        "colab": {
          "base_uri": "https://localhost:8080/",
          "height": 454
        },
        "id": "A3JpE5zQoP5S",
        "outputId": "2e8d5208-12bb-4223-ae5f-37c21d358b0a"
      },
      "execution_count": 40,
      "outputs": [
        {
          "output_type": "display_data",
          "data": {
            "text/plain": [
              "<Figure size 640x480 with 1 Axes>"
            ],
            "image/png": "[encoded data removed]"
          },
          "metadata": {}
        }
      ]
    }
  ]
}