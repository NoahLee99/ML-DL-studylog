{
  "nbformat": 4,
  "nbformat_minor": 0,
  "metadata": {
    "colab": {
      "provenance": [],
      "authorship_tag": "ABX9TyMJdojzQ1dxyrsMZ4lknxEz",
      "include_colab_link": true
    },
    "kernelspec": {
      "name": "python3",
      "display_name": "Python 3"
    },
    "language_info": {
      "name": "python"
    }
  },
  "cells": [
    {
      "cell_type": "markdown",
      "metadata": {
        "id": "view-in-github",
        "colab_type": "text"
      },
      "source": [
        "<a href=\"https://colab.research.google.com/github/NoahLee99/ML-DL-studylog/blob/main/Chapter%2004-1%20-%20%EB%A1%9C%EC%A7%80%EC%8A%A4%ED%8B%B1%20%ED%9A%8C%EA%B7%80.ipynb\" target=\"_parent\"><img src=\"https://colab.research.google.com/assets/colab-badge.svg\" alt=\"Open In Colab\"/></a>"
      ]
    },
    {
      "cell_type": "code",
      "execution_count": null,
      "metadata": {
        "colab": {
          "base_uri": "https://localhost:8080/",
          "height": 241
        },
        "id": "zQpWIjygQUed",
        "outputId": "d90487e0-99bf-4833-a41b-1c8b746108a9"
      },
      "outputs": [
        {
          "output_type": "execute_result",
          "data": {
            "text/plain": [
              "'\\n이번 장에서는 럭키백(Random Box)에서 도미가 포함될 확률을 구하는 문제를 접하게 되었다.\\n특이점은 두께와 대각선 길이라는 2가지 특성을 추가한 것이다.\\n문제 접근의 시작은 K-최근접 이웃 클래스를 사용하여 주변 이웃 요소들의 확률을 구하여 도미가 포함될 확률을 유추해 보는 것이다.\\n\\n키워드: [로지스틱 회귀, 다중 분류, 시그모이드 함수, 소프트맥스 함수]\\n\\n핵심 패키지 및 함수: [\\n  LogisticRegression: solver 매개변수에서 사용할 알고리즘 선택 가능 /\\n                      penalty 매개변수에서 L2 규제(릿지)와 L1 규제(라쏘) 중 선택 가능 (기본값은 \\'l2\\') /\\n                      C 매개변수에서 규제의 강도를 제어한다. (값이 작을수록 제어가 강해짐!) <--> alpha 매개변수\\n\\n  predict_proba(): 예측 확률을 반환해주는 메서드 /\\n                   이진 분류의 경우, 샘플마다 음성 클래스와 양성 클래스에 대한 확률을 반환한다. /\\n                   다중 분류의 경우, 샘플마다 모든 클래스에 대한 확률을 반환한다.\\n\\n\\n\\n   decision_function(): 모델이 학습한 선형 방정식의 출력을 반환한다. /\\n                        이진 분류의 경우, 양성 클래스의 확률이 반환된다. (0보다 크면 양성, 작거나 같으면 음성 클래스로 예측) /\\n                        다중 분류의 경우, 각 클래스마다 선형 방정식을 계산(z값)한다. (가장 큰 값의 클래스가 예측 클래스가 됨)\\n   ]\\n\\n우리는 2개 이상인 7개의 클래스를 분류하는 \"다중 분류\" 문제를 해결했다.\\n이 과정에서 선형 분류 알고리즘인 LogisticRegression 클래스를 새롭게 사용했다.\\n또한 확률을 예측하기 위해 출력값을 0~1 사이로 압축하는 이중 분류의 시그모이드 함수를 배웠으며,\\n여러 선형 방정식의 출력 결과를 \"정규화\"하여 합이 1이 되도록 만드는 소프트맥스 함수를 배웠다.\\n특이한 점으로 로지스틱 회귀는 선형 회귀처럼 선형 방정식을 사용하지만, 회귀 모델이 아닌 분류 모델이라는 것이다.\\n선형 방정식을 계산한 값을 그대로 출력하는 것이 아니라 0~1 사이로 압축하여, 마치 0~100% 사이의 확률로 이해할 수 있다.\\n다음 장에서는 또 다른 머신러닝 알고리즘인 \"확률적 경사 하강법\"에 대해 배울 예정이다.\\n'"
            ],
            "application/vnd.google.colaboratory.intrinsic+json": {
              "type": "string"
            }
          },
          "metadata": {},
          "execution_count": 1
        }
      ],
      "source": [
        "'''\n",
        "이번 장에서는 럭키백(Random Box)에서 도미가 포함될 확률을 구하는 문제를 접하게 되었다.\n",
        "특이점은 두께와 대각선 길이라는 2가지 특성을 추가한 것이다.\n",
        "문제 접근의 시작은 K-최근접 이웃 클래스를 사용하여 주변 이웃 요소들의 확률을 구하여 도미가 포함될 확률을 유추해 보는 것이다.\n",
        "\n",
        "키워드: [로지스틱 회귀, 다중 분류, 시그모이드 함수, 소프트맥스 함수]\n",
        "\n",
        "핵심 패키지 및 함수: [\n",
        "  LogisticRegression: solver 매개변수에서 사용할 알고리즘 선택 가능 /\n",
        "                      penalty 매개변수에서 L2 규제(릿지)와 L1 규제(라쏘) 중 선택 가능 (기본값은 'l2') /\n",
        "                      C 매개변수에서 규제의 강도를 제어한다. (값이 작을수록 제어가 강해짐!) <--> alpha 매개변수\n",
        "\n",
        "  predict_proba(): 예측 확률을 반환해주는 메서드 /\n",
        "                   이진 분류의 경우, 샘플마다 음성 클래스와 양성 클래스에 대한 확률을 반환한다. /\n",
        "                   다중 분류의 경우, 샘플마다 모든 클래스에 대한 확률을 반환한다.\n",
        "\n",
        "\n",
        "\n",
        "   decision_function(): 모델이 학습한 선형 방정식의 출력을 반환한다. /\n",
        "                        이진 분류의 경우, 양성 클래스의 확률이 반환된다. (0보다 크면 양성, 작거나 같으면 음성 클래스로 예측) /\n",
        "                        다중 분류의 경우, 각 클래스마다 선형 방정식을 계산(z값)한다. (가장 큰 값의 클래스가 예측 클래스가 됨)\n",
        "   ]\n",
        "\n",
        "우리는 2개 이상인 7개의 클래스를 분류하는 \"다중 분류\" 문제를 해결했다.\n",
        "이 과정에서 선형 분류 알고리즘인 LogisticRegression 클래스를 새롭게 사용했다.\n",
        "또한 확률을 예측하기 위해 출력값을 0~1 사이로 압축하는 이중 분류의 시그모이드 함수를 배웠으며,\n",
        "여러 선형 방정식의 출력 결과를 \"정규화\"하여 합이 1이 되도록 만드는 소프트맥스 함수를 배웠다.\n",
        "특이한 점으로 로지스틱 회귀는 선형 회귀처럼 선형 방정식을 사용하지만, 회귀 모델이 아닌 분류 모델이라는 것이다.\n",
        "선형 방정식을 계산한 값을 그대로 출력하는 것이 아니라 0~1 사이로 압축하여, 마치 0~100% 사이의 확률로 이해할 수 있다.\n",
        "다음 장에서는 또 다른 머신러닝 알고리즘인 \"확률적 경사 하강법\"에 대해 배울 예정이다.\n",
        "'''"
      ]
    },
    {
      "cell_type": "code",
      "source": [
        "import pandas as pd\n",
        "\n",
        "fish = pd.read_csv('https://bit.ly/fish_csv_data')\n",
        "fish.head() # 판다스의 head() 함수는 데이터셋의 overview를 출력해주며 기본 매개변수 값은 5임\n",
        "\n",
        "'''\n",
        "데이터프레임(dataframe)이란?\n",
        "판다스에서 제공하는 2차원 표 형식의 주요 데이터 구조이다.\n",
        "데이터프레임은 넘파이 배열과 비슷하게 열과 행으로 이루어져 있으며, 넘파이로 상호 변환이 쉽고 사이킷런과도 잘 호환된다.\n",
        "'''"
      ],
      "metadata": {
        "colab": {
          "base_uri": "https://localhost:8080/",
          "height": 54
        },
        "id": "9ysO7LyFR1mw",
        "outputId": "c428c234-5c8f-4f15-e1fa-be17371b1a96"
      },
      "execution_count": null,
      "outputs": [
        {
          "output_type": "execute_result",
          "data": {
            "text/plain": [
              "'\\n데이터프레임(dataframe)이란?\\n판다스에서 제공하는 2차원 표 형식의 주요 데이터 구조이다.\\n데이터프레임은 넘파이 배열과 비슷하게 열과 행으로 이루어져 있으며, 넘파이로 상호 변환이 쉽고 사이킷런과도 잘 호환된다.\\n'"
            ],
            "application/vnd.google.colaboratory.intrinsic+json": {
              "type": "string"
            }
          },
          "metadata": {},
          "execution_count": 2
        }
      ]
    },
    {
      "cell_type": "code",
      "source": [
        "print(pd.unique(fish['Species'])) # unique() 함수는 특정 열에서 고유한 값을 추출해주는 기능임"
      ],
      "metadata": {
        "colab": {
          "base_uri": "https://localhost:8080/"
        },
        "id": "qTqs04hFSRky",
        "outputId": "5ef2400b-491b-449b-c82a-590e07961c4d"
      },
      "execution_count": null,
      "outputs": [
        {
          "output_type": "stream",
          "name": "stdout",
          "text": [
            "['Bream' 'Roach' 'Whitefish' 'Parkki' 'Perch' 'Pike' 'Smelt']\n"
          ]
        }
      ]
    },
    {
      "cell_type": "code",
      "source": [
        "# Species 열을 타깃으로 만들고 나머지 5개 열은 입력 데이터로 사용\n",
        "fish_input = fish[['Weight','Length','Diagonal','Height','Width']].to_numpy() # 데이터프레임에서 원하는 열을 리스트로 나열 (5개 열을 선택하는 행위)\n",
        "# to_numpy() 메서드는 넘파이 배열로 바꿔주는 기능을 수행함"
      ],
      "metadata": {
        "id": "ECm18iPRS2bI"
      },
      "execution_count": null,
      "outputs": []
    },
    {
      "cell_type": "code",
      "source": [
        "# 5개의 열(특성)이 잘 저장되었는지 처음 5개 행을 출력\n",
        "print(fish_input[:5])"
      ],
      "metadata": {
        "colab": {
          "base_uri": "https://localhost:8080/"
        },
        "id": "502C4JfATUTO",
        "outputId": "71be4a0a-cfe8-4299-897b-82b24b62b118"
      },
      "execution_count": null,
      "outputs": [
        {
          "output_type": "stream",
          "name": "stdout",
          "text": [
            "[[242.      25.4     30.      11.52     4.02  ]\n",
            " [290.      26.3     31.2     12.48     4.3056]\n",
            " [340.      26.5     31.1     12.3778   4.6961]\n",
            " [363.      29.      33.5     12.73     4.4555]\n",
            " [430.      29.      34.      12.444    5.134 ]]\n"
          ]
        }
      ]
    },
    {
      "cell_type": "code",
      "source": [
        "# 동일한 방식으로 타겟 데이터 생성\n",
        "fish_target = fish['Species'].to_numpy()\n",
        "\n",
        "'''\n",
        "왜 이전처럼 두 개의 괄호를 사용하지 않는가?\n",
        "두 개의 괄호를 사용하면 fish_target이 2차원 배열이 되기 때문이다!\n",
        "'''"
      ],
      "metadata": {
        "colab": {
          "base_uri": "https://localhost:8080/",
          "height": 36
        },
        "id": "oxjyuEj8TuSC",
        "outputId": "328f42bb-4a5b-44d4-f1e6-d16042e7ffa3"
      },
      "execution_count": null,
      "outputs": [
        {
          "output_type": "execute_result",
          "data": {
            "text/plain": [
              "'\\n왜 이전처럼 두 개의 괄호를 사용하지 않는가?\\n두 개의 괄호를 사용하면 fish_target이 2차원 배열이 되기 때문이다!\\n'"
            ],
            "application/vnd.google.colaboratory.intrinsic+json": {
              "type": "string"
            }
          },
          "metadata": {},
          "execution_count": 6
        }
      ]
    },
    {
      "cell_type": "code",
      "source": [
        "# 데이터 세트 준비 (훈련 세트와 테스트 세트)\n",
        "from sklearn.model_selection import train_test_split\n",
        "\n",
        "train_input, test_input, train_target, test_target = train_test_split(\n",
        "    fish_input, fish_target, random_state=42)"
      ],
      "metadata": {
        "id": "sz9UR9KJUGkv"
      },
      "execution_count": null,
      "outputs": []
    },
    {
      "cell_type": "code",
      "source": [
        "# 훈련 세트와 테스트 세트를 표준화 전처리\n",
        "from sklearn.preprocessing import StandardScaler\n",
        "\n",
        "ss = StandardScaler()\n",
        "ss.fit(train_input)\n",
        "train_scaled = ss.transform(train_input)\n",
        "test_scaled = ss.transform(test_input)"
      ],
      "metadata": {
        "id": "it5Sva0gUfc2"
      },
      "execution_count": null,
      "outputs": []
    },
    {
      "cell_type": "code",
      "source": [
        "# 본격적으로 KNeighborsClassifier 클래스 객체를 생성하여, 훈련 세트로 모델을 훈련 후 훈련 후 점수 확인\n",
        "from sklearn.neighbors import KNeighborsClassifier\n",
        "\n",
        "kn = KNeighborsClassifier(n_neighbors=3) # 최근접 이웃 개수 k를 3으로 설정\n",
        "kn.fit(train_scaled, train_target)\n",
        "\n",
        "print(kn.score(train_scaled, train_target))\n",
        "print(kn.score(test_scaled, test_target))\n",
        "\n",
        "'''\n",
        "타깃 데이터 생성시 fish['Species']를 사용해 만들었기 때문에\n",
        "훈련 세트와 테스트 세트의 타깃 데이터에도 7개의 생선 종류가 들어가 있음\n",
        "이렇게 타깃 데이터에 2개 이상의 클래스가 포함된 문제를 '다중 분류(multi-class calssification')이라 부른다.\n",
        "2장에서 '이진 분류'를 사용했을 때는 1(양성 클래스)과 0(음성 클래스)으로 지정하여 타깃 데이터를 만들었음\n",
        "다중 분류에서도 그렇게 할 수 있지만, 사이킷런에서는 편리하게 문자열로 된 타깃값을 그대로 사용 가능하다.\n",
        "주의사항) 타깃값을 그대로 모델에 전달하면 순서가 알파벳 순으로 매겨진다. --> pd.unique(fish['Species'])의 순서로 조정 필요\n",
        "'''"
      ],
      "metadata": {
        "colab": {
          "base_uri": "https://localhost:8080/",
          "height": 148
        },
        "id": "t4lPaCdIVJIa",
        "outputId": "26831a61-ccf0-4dc1-fc57-948f3fba7ab8"
      },
      "execution_count": null,
      "outputs": [
        {
          "output_type": "stream",
          "name": "stdout",
          "text": [
            "0.8907563025210085\n",
            "0.85\n"
          ]
        },
        {
          "output_type": "execute_result",
          "data": {
            "text/plain": [
              "\"\\n타깃 데이터 생성시 fish['Species']를 사용해 만들었기 때문에\\n훈련 세트와 테스트 세트의 타깃 데이터에도 7개의 생선 종류가 들어가 있음\\n이렇게 타깃 데이터에 2개 이상의 클래스가 포함된 문제를 '다중 분류(multi-class calssification')이라 부른다.\\n2장에서 '이진 분류'를 사용했을 때는 1(양성 클래스)과 0(음성 클래스)으로 지정하여 타깃 데이터를 만들었음\\n다중 분류에서도 그렇게 할 수 있지만, 사이킷런에서는 편리하게 문자열로 된 타깃값을 그대로 사용 가능하다.\\n주의사항) 타깃값을 그대로 모델에 전달하면 순서가 알파벳 순으로 매겨진다. --> pd.unique(fish['Species'])의 순서로 조정 필요\\n\""
            ],
            "application/vnd.google.colaboratory.intrinsic+json": {
              "type": "string"
            }
          },
          "metadata": {},
          "execution_count": 9
        }
      ]
    },
    {
      "cell_type": "code",
      "source": [
        "# 사이킷런 모델에 정련된 타깃값 확인\n",
        "print(kn.classes_) # 정렬된 타깃값은 classes_속성에 저장됨"
      ],
      "metadata": {
        "colab": {
          "base_uri": "https://localhost:8080/"
        },
        "id": "MVN67wSTWFqp",
        "outputId": "8a7030f1-255b-4a38-d3de-da13fd2fb0cf"
      },
      "execution_count": null,
      "outputs": [
        {
          "output_type": "stream",
          "name": "stdout",
          "text": [
            "['Bream' 'Parkki' 'Perch' 'Pike' 'Roach' 'Smelt' 'Whitefish']\n"
          ]
        }
      ]
    },
    {
      "cell_type": "code",
      "source": [
        "# 테스트 세트의 처음 5개 샘플의 타깃값 예측\n",
        "print(kn.predict(test_scaled[:5]))\n",
        "\n",
        "'''\n",
        "이 5개 샘플에 대한 예측은 어떤 확률로 만들어졌을까?\n",
        "사이킷런의 분류 모델은 predic_proba() 메서드로 클래스별 확률값을 반환한다!\n",
        "테스트 세트에 있는 처음 5개의 샘플에 대한 확률을 출력해 확인해 보자.\n",
        "넘파이의 round() 함수는 기본적으로 소수점 첫째 자리에서 반올림을 하는데,\n",
        "decimals 매개변수로 유지할 소수점 아래 자릿수를 지정할 수 있다.\n",
        "'''"
      ],
      "metadata": {
        "colab": {
          "base_uri": "https://localhost:8080/",
          "height": 92
        },
        "id": "jhaTqoX94l5A",
        "outputId": "c3f7ca67-d7c9-41e7-edfb-29065d0a8aaa"
      },
      "execution_count": null,
      "outputs": [
        {
          "output_type": "stream",
          "name": "stdout",
          "text": [
            "['Perch' 'Smelt' 'Pike' 'Perch' 'Perch']\n"
          ]
        },
        {
          "output_type": "execute_result",
          "data": {
            "text/plain": [
              "'\\n이 5개 샘플에 대한 예측은 어떤 확률로 만들어졌을까?\\n사이킷런의 분류 모델은 predic_proba() 메서드로 클래스별 확률값을 반환한다!\\n테스트 세트에 있는 처음 5개의 샘플에 대한 확률을 출력해 확인해 보자.\\n넘파이의 round() 함수는 기본적으로 소수점 첫째 자리에서 반올림을 하는데,\\ndecimals 매개변수로 유지할 소수점 아래 자릿수를 지정할 수 있다.\\n'"
            ],
            "application/vnd.google.colaboratory.intrinsic+json": {
              "type": "string"
            }
          },
          "metadata": {},
          "execution_count": 11
        }
      ]
    },
    {
      "cell_type": "code",
      "source": [
        "# 테스트 세트의 5개 샘플에 대한 확률 계산\n",
        "import numpy as np\n",
        "proba = kn.predict_proba(test_scaled[:5])\n",
        "print(np.round(proba, decimals=4)) # 소수점 네 번째 자리까지 표기하겠다는 의미(다섯 번째 자리에서 반올림)\n",
        "\n",
        "'''\n",
        "predict_proba() 메서드의 출력 순서는 앞서 보았던 classes_ 속성과 같음\n",
        "첫 번째 열이 \"Bream\"에 대한 확률, 두 번째 열이 \"Parkki\"에 대한 확률임\n",
        "행은 몇 번째 샘플인지를 의미함\n",
        "'''"
      ],
      "metadata": {
        "colab": {
          "base_uri": "https://localhost:8080/",
          "height": 148
        },
        "id": "alYWJbP85d9h",
        "outputId": "f99b0393-bc54-46af-83e0-193eb7a86d11"
      },
      "execution_count": null,
      "outputs": [
        {
          "output_type": "stream",
          "name": "stdout",
          "text": [
            "[[0.     0.     1.     0.     0.     0.     0.    ]\n",
            " [0.     0.     0.     0.     0.     1.     0.    ]\n",
            " [0.     0.     0.     1.     0.     0.     0.    ]\n",
            " [0.     0.     0.6667 0.     0.3333 0.     0.    ]\n",
            " [0.     0.     0.6667 0.     0.3333 0.     0.    ]]\n"
          ]
        },
        {
          "output_type": "execute_result",
          "data": {
            "text/plain": [
              "'\\npredict_proba() 메서드의 출력 순서는 앞서 보았던 classes_ 속성과 같음\\n첫 번째 열이 \"Bream\"에 대한 확률, 두 번째 열이 \"Parkki\"에 대한 확률임\\n행은 몇 번째 샘플인지를 의미함\\n'"
            ],
            "application/vnd.google.colaboratory.intrinsic+json": {
              "type": "string"
            }
          },
          "metadata": {},
          "execution_count": 12
        }
      ]
    },
    {
      "cell_type": "code",
      "source": [
        "# 모델이 계산한 확률이 가장 가까운 이웃의 비율이 맞는지 확인 (네 번째 샘플)\n",
        "distances, indexes = kn.kneighbors(test_scaled[3:4]) # 4번 째 샘플 선택(end 인덱스는 포함되지 않는다!)\n",
        "print(train_target[indexes])\n",
        "\n",
        "'''\n",
        "kneighbors() 메서드의 입력은 2차원 배열이어야 한다.\n",
        "이를 위해 넘파이 배열의 슬라이싱 연산자를 사용함\n",
        "슬라이싱 연산자는 하나의 샘플만 선택해도 항상 2차원 배열이 만들어진다!\n",
        "'''"
      ],
      "metadata": {
        "colab": {
          "base_uri": "https://localhost:8080/",
          "height": 73
        },
        "id": "18nkEzwH6tMC",
        "outputId": "662820ea-3863-435a-95cf-4ab52fbf3355"
      },
      "execution_count": null,
      "outputs": [
        {
          "output_type": "stream",
          "name": "stdout",
          "text": [
            "[['Roach' 'Perch' 'Perch']]\n"
          ]
        },
        {
          "output_type": "execute_result",
          "data": {
            "text/plain": [
              "'\\nkneighbors() 메서드의 입력은 2차원 배열이어야 한다.\\n이를 위해 넘파이 배열의 슬라이싱 연산자를 사용함\\n슬라이싱 연산자는 하나의 샘플만 선택해도 항상 2차원 배열이 만들어진다!\\n'"
            ],
            "application/vnd.google.colaboratory.intrinsic+json": {
              "type": "string"
            }
          },
          "metadata": {},
          "execution_count": 13
        }
      ]
    },
    {
      "cell_type": "code",
      "source": [
        "'''\n",
        "네 번째 샘플의 최근접 이웃의 클래스 확인 결과 1/3(0.3333), 2/3(0.6667)로서\n",
        "앞서 출력한 네 번째 샘플의 클래스 확률과 같음을 확인 완료\n",
        "앞으로 번거로운 확률 계산은 predict_proba() 메서드를 호출하자.(probablity)\n",
        "\n",
        "그런데 3개의 최근접 이웃을 사용하기 때문에 가능한 확률은 0/3, 1/3, 2/3, 3/3이 전부일 것이다.\n",
        "럭키백의 확률을 이렇게만 표시한다면, 확률이라 말하기 좀 어색할 것임.(P)\n",
        "더 좋은 방법이 없을까?\n",
        "'''"
      ],
      "metadata": {
        "colab": {
          "base_uri": "https://localhost:8080/",
          "height": 92
        },
        "id": "_9mWc7Fc8EzF",
        "outputId": "80c74bd1-4577-40e3-9627-a9c407071fa9"
      },
      "execution_count": null,
      "outputs": [
        {
          "output_type": "execute_result",
          "data": {
            "text/plain": [
              "'\\n네 번째 샘플의 최근접 이웃의 클래스 확인 결과 1/3(0.3333), 2/3(0.6667)로서\\n앞서 출력한 네 번째 샘플의 클래스 확률과 같음을 확인 완료\\n앞으로 번거로운 확률 계산은 predict_proba() 메서드를 호출하자.(probablity)\\n\\n그런데 3개의 최근접 이웃을 사용하기 때문에 가능한 확률은 0/3, 1/3, 2/3, 3/3이 전부일 것이다.\\n럭키백의 확률을 이렇게만 표시한다면, 확률이라 말하기 좀 어색할 것임.(P)\\n더 좋은 방법이 없을까?\\n'"
            ],
            "application/vnd.google.colaboratory.intrinsic+json": {
              "type": "string"
            }
          },
          "metadata": {},
          "execution_count": 14
        }
      ]
    },
    {
      "cell_type": "code",
      "source": [
        "'''\n",
        "로지스틱 회귀(logistic regression)는 이름이 회귀이지만 \"분류\" 모델이다!\n",
        "이 알고리즘은 선형 회귀와 동일하게 선형 방정식을 학습한다.\n",
        "ex) z = a*(\"Weight\") + b*(\"Length\") + c*(\"Diagonal\") + d*(\"Height\") + e*(\"Width\") + f\n",
        "여기에서 a, b, c, d, e는 가중치(계수)이다.\n",
        "특성은 늘어났지만 3장에서 다룬 다중 회귀를 위한 선형 방정식과 같다.\n",
        "z는 어떤 값도 가능하지만, 확률이 되려면 0~1(or 0~100%) 사이 값이 되어야 한다.\n",
        "z가 아주 큰 음수일 때 0이 되고, z가 아주 큰 양수일 때 1이 되도록 바꾸는 방법이 좋아보이는데 없을까?\n",
        "시그모이드 함수(sigmoid function)(or 로지스틱 함수(logistic function))를 사용하면 가능하다!\n",
        "'''"
      ],
      "metadata": {
        "colab": {
          "base_uri": "https://localhost:8080/",
          "height": 110
        },
        "id": "VCgjwHy99Kau",
        "outputId": "3cbbcff8-ee9e-432f-b9aa-b3b24f4dca53"
      },
      "execution_count": null,
      "outputs": [
        {
          "output_type": "execute_result",
          "data": {
            "text/plain": [
              "'\\n로지스틱 회귀(logistic regression)는 이름이 회귀이지만 \"분류\" 모델이다!\\n이 알고리즘은 선형 회귀와 동일하게 선형 방정식을 학습한다.\\nex) z = a*(\"Weight\") + b*(\"Length\") + c*(\"Diagonal\") + d*(\"Height\") + e*(\"Width\") + f\\n여기에서 a, b, c, d, e는 가중치(계수)이다.\\n특성은 늘어났지만 3장에서 다룬 다중 회귀를 위한 선형 방정식과 같다.\\nz는 어떤 값도 가능하지만, 확률이 되려면 0~1(or 0~100%) 사이 값이 되어야 한다.\\nz가 아주 큰 음수일 때 0이 되고, z가 아주 큰 양수일 때 1이 되도록 바꾸는 방법이 좋아보이는데 없을까?\\n시그모이드 함수(sigmoid function)(or 로지스틱 함수(logistic function))를 사용하면 가능하다!\\n'"
            ],
            "application/vnd.google.colaboratory.intrinsic+json": {
              "type": "string"
            }
          },
          "metadata": {},
          "execution_count": 15
        }
      ]
    },
    {
      "cell_type": "code",
      "source": [
        "import numpy as np\n",
        "import matplotlib.pyplot as plt\n",
        "\n",
        "# x 값 범위 설정\n",
        "x = np.linspace(-10, 10, 100)\n",
        "\n",
        "# 시그모이드 함수 계산\n",
        "y = 1 / (1 + np.exp(-x))\n",
        "\n",
        "# 그래프 그리기\n",
        "plt.plot(x, y)\n",
        "plt.title('Sigmoid Function')\n",
        "plt.xlabel('x')\n",
        "plt.ylabel('σ(x)')\n",
        "plt.grid(True)\n",
        "plt.show()\n",
        "\n",
        "'''\n",
        "그래프를 통해 확인할 수 있듯이,\n",
        "시그모이드 함수는 출력값을 0과 1 사이로 \"제한\"하여 확률로서 해석하도록 돕는다. (자연상수 e의 사용)\n",
        "자연상수 e는 지수 함수(exponential function)를 나타내며, 약 2.71828 값이다.\n",
        "입력 값 z가 매우 작을 경우(음의 무한대에 가까울 경우), 출력 값은 0에 가까워 진다.\n",
        "입력 값 z가 매우 클 경우(양의 무한대에 가까울 경우), 출력 값은 1에 가까워진다.\n",
        "입력 값 z가 0일 경우, 출력 값은 0.5가 된다. (0승은 무조건 1이니까)\n",
        "이 출력값 0.5를 기준으로 양성과 음성이 분류된다.\n",
        "\n",
        "주의) z값이 양성과 음성을 결정하는 것이 아니라, 시그모이드 함수를 계산한 출력 값이 결정하는 것이다.\n",
        "이진 분류 및 다중 분류 문제에서 확률을 예측하는 데 사용되며,\n",
        "인공신경망의 활성화 함수로 사용되어 비선형성을 도입하고 입력 값을 특정 범위로 제한하는 역할을 함\n",
        "'''"
      ],
      "metadata": {
        "colab": {
          "base_uri": "https://localhost:8080/",
          "height": 584
        },
        "id": "zf0YAgGN-VBV",
        "outputId": "d27d17c0-e0c1-4a37-80c2-cf6e9862e302"
      },
      "execution_count": null,
      "outputs": [
        {
          "output_type": "display_data",
          "data": {
            "text/plain": [
              "<Figure size 640x480 with 1 Axes>"
            ],
            "image/png": "[encoded data removed]"
          },
          "metadata": {}
        },
        {
          "output_type": "execute_result",
          "data": {
            "text/plain": [
              "'\\n그래프를 통해 확인할 수 있듯이,\\n시그모이드 함수는 출력값을 0과 1 사이로 \"제한\"하여 확률로서 해석하도록 돕는다. (자연상수 e의 사용)\\n자연상수 e는 지수 함수(exponential function)를 나타내며, 약 2.71828 값이다.\\n입력 값 z가 매우 작을 경우(음의 무한대에 가까울 경우), 출력 값은 0에 가까워 진다.\\n입력 값 z가 매우 클 경우(양의 무한대에 가까울 경우), 출력 값은 1에 가까워진다.\\n입력 값 z가 0일 경우, 출력 값은 0.5가 된다. (0승은 무조건 1이니까)\\n이 출력값 0.5를 기준으로 양성과 음성이 분류된다.\\n\\n주의) z값이 양성과 음성을 결정하는 것이 아니라, 시그모이드 함수를 계산한 출력 값이 결정하는 것이다.\\n이진 분류 및 다중 분류 문제에서 확률을 예측하는 데 사용되며,\\n인공신경망의 활성화 함수로 사용되어 비선형성을 도입하고 입력 값을 특정 범위로 제한하는 역할을 함\\n'"
            ],
            "application/vnd.google.colaboratory.intrinsic+json": {
              "type": "string"
            }
          },
          "metadata": {},
          "execution_count": 16
        }
      ]
    },
    {
      "cell_type": "code",
      "source": [
        "# 넘파이를 사용한 그래프 그리기\n",
        "z = np.arange(-5, 5, 0.1)\n",
        "phi = 1 / (1 + np.exp(-z))\n",
        "plt.plot(z, phi)\n",
        "plt.xlabel('z')\n",
        "plt.ylabel('phi')\n",
        "plt.show()\n",
        "\n",
        "'''\n",
        "사이킷런에 이미 로지스틱 회귀 모델인 LogisticRegression 클래스가 있음\n",
        "사이킷런은 시그모이드 함수의 출력 값이 0.5보다 크면 양성 클래스, 0.5보다 작으면 음성 클래스로 판단하는 것을\n",
        "이진 분류 수행을 통해 확인해 볼 예정\n",
        "'''"
      ],
      "metadata": {
        "colab": {
          "base_uri": "https://localhost:8080/",
          "height": 486
        },
        "id": "nZieAmpfGa2W",
        "outputId": "476c6643-83ec-4275-8dd2-cbb07022f464"
      },
      "execution_count": null,
      "outputs": [
        {
          "output_type": "display_data",
          "data": {
            "text/plain": [
              "<Figure size 640x480 with 1 Axes>"
            ],
            "image/png": "[encoded data removed]"
          },
          "metadata": {}
        },
        {
          "output_type": "execute_result",
          "data": {
            "text/plain": [
              "'\\n사이킷런에 이미 로지스틱 회귀 모델인 LogisticRegression 클래스가 있음\\n사이킷런은 시그모이드 함수의 출력 값이 0.5보다 크면 양성 클래스, 0.5보다 작으면 음성 클래스로 판단하는 것을\\n이진 분류 수행을 통해 확인해 볼 예정\\n'"
            ],
            "application/vnd.google.colaboratory.intrinsic+json": {
              "type": "string"
            }
          },
          "metadata": {},
          "execution_count": 17
        }
      ]
    },
    {
      "cell_type": "code",
      "source": [
        "# 도미와 빙어 2개를 사용하여 이진 분류 수행\n",
        "char_arr = np.array(['A', 'B', 'C', 'D', 'E'])\n",
        "print(char_arr[[True, False, True, False, False]])\n",
        "\n",
        "'''\n",
        "넘파이 배열은 True, False 값을 전달하여 행을 선택할 수 있다.\n",
        "이를 \"불리언 인덱싱(boolean indexing)이라고 한다.\n",
        "위의 코드에서 첫 번째와 세 번째 원소만 True에 전달됨\n",
        "'''"
      ],
      "metadata": {
        "colab": {
          "base_uri": "https://localhost:8080/",
          "height": 73
        },
        "id": "jbggmV4wGyG3",
        "outputId": "380f710e-d050-4ba0-d303-36bfcff23860"
      },
      "execution_count": null,
      "outputs": [
        {
          "output_type": "stream",
          "name": "stdout",
          "text": [
            "['A' 'C']\n"
          ]
        },
        {
          "output_type": "execute_result",
          "data": {
            "text/plain": [
              "'\\n넘파이 배열은 True, False 값을 전달하여 행을 선택할 수 있다.\\n이를 \"불리언 인덱싱(boolean indexing)이라고 한다.\\n위의 코드에서 첫 번째와 세 번째 원소만 True에 전달됨\\n'"
            ],
            "application/vnd.google.colaboratory.intrinsic+json": {
              "type": "string"
            }
          },
          "metadata": {},
          "execution_count": 18
        }
      ]
    },
    {
      "cell_type": "code",
      "source": [
        "# 훈련 세트에서 도미(Bream)와 빙어(Smelt)의 행만 골라내기\n",
        "bream_smelt_indexes = (train_target == 'Bream') | (train_target == 'Smelt') # 불리언 인덱싱 배열을 반환\n",
        "train_bream_smelt = train_scaled[bream_smelt_indexes] # 위의 배열로 불리언 인덱싱 적용\n",
        "target_bream_smelt = train_target[bream_smelt_indexes] # 위의 배열로 불리언 인덱싱 적용\n",
        "\n",
        "'''\n",
        "비교 연산자를 사용하면 도미와 빙어의 행을 모두 True로 만들 수 있다.\n",
        "예를 들어 도미인 행을 골라내려면, train_target == \"Bream\"과 같이 쓴다.\n",
        "이 비교식은 trian_target 배열에서 \"Bream\"인 것은 True이고 그 외는 모두 False인 배열을 반환한다.\n",
        "(== 연산자는 True 또는 False만 출력하기 때문)\n",
        "도미와 빙어에 대한 비교 결과를 비트 OR 연산자(|)를 사용해 합치면 도미와 빙어 행만 골라낼 수 있다.\n",
        "왜 AND가 아닌 OR 연산자를 사용할까?\n",
        "AND 연산자는 \"동시에\"를 의미하기 때문이다!\n",
        "'''"
      ],
      "metadata": {
        "colab": {
          "base_uri": "https://localhost:8080/",
          "height": 92
        },
        "id": "p93Hat0yIDpd",
        "outputId": "d105380b-206f-4d53-cce9-c65016c0a9a3"
      },
      "execution_count": null,
      "outputs": [
        {
          "output_type": "execute_result",
          "data": {
            "text/plain": [
              "'\\n비교 연산자를 사용하면 도미와 빙어의 행을 모두 True로 만들 수 있다.\\n예를 들어 도미인 행을 골라내려면, train_target == \"Bream\"과 같이 쓴다.\\n이 비교식은 trian_target 배열에서 \"Bream\"인 것은 True이고 그 외는 모두 False인 배열을 반환한다.\\n(== 연산자는 True 또는 False만 출력하기 때문)\\n도미와 빙어에 대한 비교 결과를 비트 OR 연산자(|)를 사용해 합치면 도미와 빙어 행만 골라낼 수 있다.\\n왜 AND가 아닌 OR 연산자를 사용할까?\\nAND 연산자는 \"동시에\"를 의미하기 때문이다!\\n'"
            ],
            "application/vnd.google.colaboratory.intrinsic+json": {
              "type": "string"
            }
          },
          "metadata": {},
          "execution_count": 19
        }
      ]
    },
    {
      "cell_type": "code",
      "source": [
        "# 위의 데이터를 사용해 로지스틱 회귀 모델 훈련\n",
        "from sklearn.linear_model import LogisticRegression # 로지스틱 클래스는 sklearn.linear_model 패키지 아래 있음\n",
        "lr = LogisticRegression()\n",
        "lr.fit(train_bream_smelt, target_bream_smelt)"
      ],
      "metadata": {
        "colab": {
          "base_uri": "https://localhost:8080/",
          "height": 80
        },
        "id": "W2bUUyaBLh8I",
        "outputId": "9176075b-311b-4607-c6f5-cad758fcfd20"
      },
      "execution_count": null,
      "outputs": [
        {
          "output_type": "execute_result",
          "data": {
            "text/plain": [
              "LogisticRegression()"
            ],
            "text/html": [
              "<style>#sk-container-id-1 {\n",
              "  /* Definition of color scheme common for light and dark mode */\n",
              "  --sklearn-color-text: #000;\n",
              "  --sklearn-color-text-muted: #666;\n",
              "  --sklearn-color-line: gray;\n",
              "  /* Definition of color scheme for unfitted estimators */\n",
              "  --sklearn-color-unfitted-level-0: #fff5e6;\n",
              "  --sklearn-color-unfitted-level-1: #f6e4d2;\n",
              "  --sklearn-color-unfitted-level-2: #ffe0b3;\n",
              "  --sklearn-color-unfitted-level-3: chocolate;\n",
              "  /* Definition of color scheme for fitted estimators */\n",
              "  --sklearn-color-fitted-level-0: #f0f8ff;\n",
              "  --sklearn-color-fitted-level-1: #d4ebff;\n",
              "  --sklearn-color-fitted-level-2: #b3dbfd;\n",
              "  --sklearn-color-fitted-level-3: cornflowerblue;\n",
              "\n",
              "  /* Specific color for light theme */\n",
              "  --sklearn-color-text-on-default-background: var(--sg-text-color, var(--theme-code-foreground, var(--jp-content-font-color1, black)));\n",
              "  --sklearn-color-background: var(--sg-background-color, var(--theme-background, var(--jp-layout-color0, white)));\n",
              "  --sklearn-color-border-box: var(--sg-text-color, var(--theme-code-foreground, var(--jp-content-font-color1, black)));\n",
              "  --sklearn-color-icon: #696969;\n",
              "\n",
              "  @media (prefers-color-scheme: dark) {\n",
              "    /* Redefinition of color scheme for dark theme */\n",
              "    --sklearn-color-text-on-default-background: var(--sg-text-color, var(--theme-code-foreground, var(--jp-content-font-color1, white)));\n",
              "    --sklearn-color-background: var(--sg-background-color, var(--theme-background, var(--jp-layout-color0, #111)));\n",
              "    --sklearn-color-border-box: var(--sg-text-color, var(--theme-code-foreground, var(--jp-content-font-color1, white)));\n",
              "    --sklearn-color-icon: #878787;\n",
              "  }\n",
              "}\n",
              "\n",
              "#sk-container-id-1 {\n",
              "  color: var(--sklearn-color-text);\n",
              "}\n",
              "\n",
              "#sk-container-id-1 pre {\n",
              "  padding: 0;\n",
              "}\n",
              "\n",
              "#sk-container-id-1 input.sk-hidden--visually {\n",
              "  border: 0;\n",
              "  clip: rect(1px 1px 1px 1px);\n",
              "  clip: rect(1px, 1px, 1px, 1px);\n",
              "  height: 1px;\n",
              "  margin: -1px;\n",
              "  overflow: hidden;\n",
              "  padding: 0;\n",
              "  position: absolute;\n",
              "  width: 1px;\n",
              "}\n",
              "\n",
              "#sk-container-id-1 div.sk-dashed-wrapped {\n",
              "  border: 1px dashed var(--sklearn-color-line);\n",
              "  margin: 0 0.4em 0.5em 0.4em;\n",
              "  box-sizing: border-box;\n",
              "  padding-bottom: 0.4em;\n",
              "  background-color: var(--sklearn-color-background);\n",
              "}\n",
              "\n",
              "#sk-container-id-1 div.sk-container {\n",
              "  /* jupyter's `normalize.less` sets `[hidden] { display: none; }`\n",
              "     but bootstrap.min.css set `[hidden] { display: none !important; }`\n",
              "     so we also need the `!important` here to be able to override the\n",
              "     default hidden behavior on the sphinx rendered scikit-learn.org.\n",
              "     See: https://github.com/scikit-learn/scikit-learn/issues/21755 */\n",
              "  display: inline-block !important;\n",
              "  position: relative;\n",
              "}\n",
              "\n",
              "#sk-container-id-1 div.sk-text-repr-fallback {\n",
              "  display: none;\n",
              "}\n",
              "\n",
              "div.sk-parallel-item,\n",
              "div.sk-serial,\n",
              "div.sk-item {\n",
              "  /* draw centered vertical line to link estimators */\n",
              "  background-image: linear-gradient(var(--sklearn-color-text-on-default-background), var(--sklearn-color-text-on-default-background));\n",
              "  background-size: 2px 100%;\n",
              "  background-repeat: no-repeat;\n",
              "  background-position: center center;\n",
              "}\n",
              "\n",
              "/* Parallel-specific style estimator block */\n",
              "\n",
              "#sk-container-id-1 div.sk-parallel-item::after {\n",
              "  content: \"\";\n",
              "  width: 100%;\n",
              "  border-bottom: 2px solid var(--sklearn-color-text-on-default-background);\n",
              "  flex-grow: 1;\n",
              "}\n",
              "\n",
              "#sk-container-id-1 div.sk-parallel {\n",
              "  display: flex;\n",
              "  align-items: stretch;\n",
              "  justify-content: center;\n",
              "  background-color: var(--sklearn-color-background);\n",
              "  position: relative;\n",
              "}\n",
              "\n",
              "#sk-container-id-1 div.sk-parallel-item {\n",
              "  display: flex;\n",
              "  flex-direction: column;\n",
              "}\n",
              "\n",
              "#sk-container-id-1 div.sk-parallel-item:first-child::after {\n",
              "  align-self: flex-end;\n",
              "  width: 50%;\n",
              "}\n",
              "\n",
              "#sk-container-id-1 div.sk-parallel-item:last-child::after {\n",
              "  align-self: flex-start;\n",
              "  width: 50%;\n",
              "}\n",
              "\n",
              "#sk-container-id-1 div.sk-parallel-item:only-child::after {\n",
              "  width: 0;\n",
              "}\n",
              "\n",
              "/* Serial-specific style estimator block */\n",
              "\n",
              "#sk-container-id-1 div.sk-serial {\n",
              "  display: flex;\n",
              "  flex-direction: column;\n",
              "  align-items: center;\n",
              "  background-color: var(--sklearn-color-background);\n",
              "  padding-right: 1em;\n",
              "  padding-left: 1em;\n",
              "}\n",
              "\n",
              "\n",
              "/* Toggleable style: style used for estimator/Pipeline/ColumnTransformer box that is\n",
              "clickable and can be expanded/collapsed.\n",
              "- Pipeline and ColumnTransformer use this feature and define the default style\n",
              "- Estimators will overwrite some part of the style using the `sk-estimator` class\n",
              "*/\n",
              "\n",
              "/* Pipeline and ColumnTransformer style (default) */\n",
              "\n",
              "#sk-container-id-1 div.sk-toggleable {\n",
              "  /* Default theme specific background. It is overwritten whether we have a\n",
              "  specific estimator or a Pipeline/ColumnTransformer */\n",
              "  background-color: var(--sklearn-color-background);\n",
              "}\n",
              "\n",
              "/* Toggleable label */\n",
              "#sk-container-id-1 label.sk-toggleable__label {\n",
              "  cursor: pointer;\n",
              "  display: flex;\n",
              "  width: 100%;\n",
              "  margin-bottom: 0;\n",
              "  padding: 0.5em;\n",
              "  box-sizing: border-box;\n",
              "  text-align: center;\n",
              "  align-items: start;\n",
              "  justify-content: space-between;\n",
              "  gap: 0.5em;\n",
              "}\n",
              "\n",
              "#sk-container-id-1 label.sk-toggleable__label .caption {\n",
              "  font-size: 0.6rem;\n",
              "  font-weight: lighter;\n",
              "  color: var(--sklearn-color-text-muted);\n",
              "}\n",
              "\n",
              "#sk-container-id-1 label.sk-toggleable__label-arrow:before {\n",
              "  /* Arrow on the left of the label */\n",
              "  content: \"▸\";\n",
              "  float: left;\n",
              "  margin-right: 0.25em;\n",
              "  color: var(--sklearn-color-icon);\n",
              "}\n",
              "\n",
              "#sk-container-id-1 label.sk-toggleable__label-arrow:hover:before {\n",
              "  color: var(--sklearn-color-text);\n",
              "}\n",
              "\n",
              "/* Toggleable content - dropdown */\n",
              "\n",
              "#sk-container-id-1 div.sk-toggleable__content {\n",
              "  max-height: 0;\n",
              "  max-width: 0;\n",
              "  overflow: hidden;\n",
              "  text-align: left;\n",
              "  /* unfitted */\n",
              "  background-color: var(--sklearn-color-unfitted-level-0);\n",
              "}\n",
              "\n",
              "#sk-container-id-1 div.sk-toggleable__content.fitted {\n",
              "  /* fitted */\n",
              "  background-color: var(--sklearn-color-fitted-level-0);\n",
              "}\n",
              "\n",
              "#sk-container-id-1 div.sk-toggleable__content pre {\n",
              "  margin: 0.2em;\n",
              "  border-radius: 0.25em;\n",
              "  color: var(--sklearn-color-text);\n",
              "  /* unfitted */\n",
              "  background-color: var(--sklearn-color-unfitted-level-0);\n",
              "}\n",
              "\n",
              "#sk-container-id-1 div.sk-toggleable__content.fitted pre {\n",
              "  /* unfitted */\n",
              "  background-color: var(--sklearn-color-fitted-level-0);\n",
              "}\n",
              "\n",
              "#sk-container-id-1 input.sk-toggleable__control:checked~div.sk-toggleable__content {\n",
              "  /* Expand drop-down */\n",
              "  max-height: 200px;\n",
              "  max-width: 100%;\n",
              "  overflow: auto;\n",
              "}\n",
              "\n",
              "#sk-container-id-1 input.sk-toggleable__control:checked~label.sk-toggleable__label-arrow:before {\n",
              "  content: \"▾\";\n",
              "}\n",
              "\n",
              "/* Pipeline/ColumnTransformer-specific style */\n",
              "\n",
              "#sk-container-id-1 div.sk-label input.sk-toggleable__control:checked~label.sk-toggleable__label {\n",
              "  color: var(--sklearn-color-text);\n",
              "  background-color: var(--sklearn-color-unfitted-level-2);\n",
              "}\n",
              "\n",
              "#sk-container-id-1 div.sk-label.fitted input.sk-toggleable__control:checked~label.sk-toggleable__label {\n",
              "  background-color: var(--sklearn-color-fitted-level-2);\n",
              "}\n",
              "\n",
              "/* Estimator-specific style */\n",
              "\n",
              "/* Colorize estimator box */\n",
              "#sk-container-id-1 div.sk-estimator input.sk-toggleable__control:checked~label.sk-toggleable__label {\n",
              "  /* unfitted */\n",
              "  background-color: var(--sklearn-color-unfitted-level-2);\n",
              "}\n",
              "\n",
              "#sk-container-id-1 div.sk-estimator.fitted input.sk-toggleable__control:checked~label.sk-toggleable__label {\n",
              "  /* fitted */\n",
              "  background-color: var(--sklearn-color-fitted-level-2);\n",
              "}\n",
              "\n",
              "#sk-container-id-1 div.sk-label label.sk-toggleable__label,\n",
              "#sk-container-id-1 div.sk-label label {\n",
              "  /* The background is the default theme color */\n",
              "  color: var(--sklearn-color-text-on-default-background);\n",
              "}\n",
              "\n",
              "/* On hover, darken the color of the background */\n",
              "#sk-container-id-1 div.sk-label:hover label.sk-toggleable__label {\n",
              "  color: var(--sklearn-color-text);\n",
              "  background-color: var(--sklearn-color-unfitted-level-2);\n",
              "}\n",
              "\n",
              "/* Label box, darken color on hover, fitted */\n",
              "#sk-container-id-1 div.sk-label.fitted:hover label.sk-toggleable__label.fitted {\n",
              "  color: var(--sklearn-color-text);\n",
              "  background-color: var(--sklearn-color-fitted-level-2);\n",
              "}\n",
              "\n",
              "/* Estimator label */\n",
              "\n",
              "#sk-container-id-1 div.sk-label label {\n",
              "  font-family: monospace;\n",
              "  font-weight: bold;\n",
              "  display: inline-block;\n",
              "  line-height: 1.2em;\n",
              "}\n",
              "\n",
              "#sk-container-id-1 div.sk-label-container {\n",
              "  text-align: center;\n",
              "}\n",
              "\n",
              "/* Estimator-specific */\n",
              "#sk-container-id-1 div.sk-estimator {\n",
              "  font-family: monospace;\n",
              "  border: 1px dotted var(--sklearn-color-border-box);\n",
              "  border-radius: 0.25em;\n",
              "  box-sizing: border-box;\n",
              "  margin-bottom: 0.5em;\n",
              "  /* unfitted */\n",
              "  background-color: var(--sklearn-color-unfitted-level-0);\n",
              "}\n",
              "\n",
              "#sk-container-id-1 div.sk-estimator.fitted {\n",
              "  /* fitted */\n",
              "  background-color: var(--sklearn-color-fitted-level-0);\n",
              "}\n",
              "\n",
              "/* on hover */\n",
              "#sk-container-id-1 div.sk-estimator:hover {\n",
              "  /* unfitted */\n",
              "  background-color: var(--sklearn-color-unfitted-level-2);\n",
              "}\n",
              "\n",
              "#sk-container-id-1 div.sk-estimator.fitted:hover {\n",
              "  /* fitted */\n",
              "  background-color: var(--sklearn-color-fitted-level-2);\n",
              "}\n",
              "\n",
              "/* Specification for estimator info (e.g. \"i\" and \"?\") */\n",
              "\n",
              "/* Common style for \"i\" and \"?\" */\n",
              "\n",
              ".sk-estimator-doc-link,\n",
              "a:link.sk-estimator-doc-link,\n",
              "a:visited.sk-estimator-doc-link {\n",
              "  float: right;\n",
              "  font-size: smaller;\n",
              "  line-height: 1em;\n",
              "  font-family: monospace;\n",
              "  background-color: var(--sklearn-color-background);\n",
              "  border-radius: 1em;\n",
              "  height: 1em;\n",
              "  width: 1em;\n",
              "  text-decoration: none !important;\n",
              "  margin-left: 0.5em;\n",
              "  text-align: center;\n",
              "  /* unfitted */\n",
              "  border: var(--sklearn-color-unfitted-level-1) 1pt solid;\n",
              "  color: var(--sklearn-color-unfitted-level-1);\n",
              "}\n",
              "\n",
              ".sk-estimator-doc-link.fitted,\n",
              "a:link.sk-estimator-doc-link.fitted,\n",
              "a:visited.sk-estimator-doc-link.fitted {\n",
              "  /* fitted */\n",
              "  border: var(--sklearn-color-fitted-level-1) 1pt solid;\n",
              "  color: var(--sklearn-color-fitted-level-1);\n",
              "}\n",
              "\n",
              "/* On hover */\n",
              "div.sk-estimator:hover .sk-estimator-doc-link:hover,\n",
              ".sk-estimator-doc-link:hover,\n",
              "div.sk-label-container:hover .sk-estimator-doc-link:hover,\n",
              ".sk-estimator-doc-link:hover {\n",
              "  /* unfitted */\n",
              "  background-color: var(--sklearn-color-unfitted-level-3);\n",
              "  color: var(--sklearn-color-background);\n",
              "  text-decoration: none;\n",
              "}\n",
              "\n",
              "div.sk-estimator.fitted:hover .sk-estimator-doc-link.fitted:hover,\n",
              ".sk-estimator-doc-link.fitted:hover,\n",
              "div.sk-label-container:hover .sk-estimator-doc-link.fitted:hover,\n",
              ".sk-estimator-doc-link.fitted:hover {\n",
              "  /* fitted */\n",
              "  background-color: var(--sklearn-color-fitted-level-3);\n",
              "  color: var(--sklearn-color-background);\n",
              "  text-decoration: none;\n",
              "}\n",
              "\n",
              "/* Span, style for the box shown on hovering the info icon */\n",
              ".sk-estimator-doc-link span {\n",
              "  display: none;\n",
              "  z-index: 9999;\n",
              "  position: relative;\n",
              "  font-weight: normal;\n",
              "  right: .2ex;\n",
              "  padding: .5ex;\n",
              "  margin: .5ex;\n",
              "  width: min-content;\n",
              "  min-width: 20ex;\n",
              "  max-width: 50ex;\n",
              "  color: var(--sklearn-color-text);\n",
              "  box-shadow: 2pt 2pt 4pt #999;\n",
              "  /* unfitted */\n",
              "  background: var(--sklearn-color-unfitted-level-0);\n",
              "  border: .5pt solid var(--sklearn-color-unfitted-level-3);\n",
              "}\n",
              "\n",
              ".sk-estimator-doc-link.fitted span {\n",
              "  /* fitted */\n",
              "  background: var(--sklearn-color-fitted-level-0);\n",
              "  border: var(--sklearn-color-fitted-level-3);\n",
              "}\n",
              "\n",
              ".sk-estimator-doc-link:hover span {\n",
              "  display: block;\n",
              "}\n",
              "\n",
              "/* \"?\"-specific style due to the `<a>` HTML tag */\n",
              "\n",
              "#sk-container-id-1 a.estimator_doc_link {\n",
              "  float: right;\n",
              "  font-size: 1rem;\n",
              "  line-height: 1em;\n",
              "  font-family: monospace;\n",
              "  background-color: var(--sklearn-color-background);\n",
              "  border-radius: 1rem;\n",
              "  height: 1rem;\n",
              "  width: 1rem;\n",
              "  text-decoration: none;\n",
              "  /* unfitted */\n",
              "  color: var(--sklearn-color-unfitted-level-1);\n",
              "  border: var(--sklearn-color-unfitted-level-1) 1pt solid;\n",
              "}\n",
              "\n",
              "#sk-container-id-1 a.estimator_doc_link.fitted {\n",
              "  /* fitted */\n",
              "  border: var(--sklearn-color-fitted-level-1) 1pt solid;\n",
              "  color: var(--sklearn-color-fitted-level-1);\n",
              "}\n",
              "\n",
              "/* On hover */\n",
              "#sk-container-id-1 a.estimator_doc_link:hover {\n",
              "  /* unfitted */\n",
              "  background-color: var(--sklearn-color-unfitted-level-3);\n",
              "  color: var(--sklearn-color-background);\n",
              "  text-decoration: none;\n",
              "}\n",
              "\n",
              "#sk-container-id-1 a.estimator_doc_link.fitted:hover {\n",
              "  /* fitted */\n",
              "  background-color: var(--sklearn-color-fitted-level-3);\n",
              "}\n",
              "</style><div id=\"sk-container-id-1\" class=\"sk-top-container\"><div class=\"sk-text-repr-fallback\"><pre>LogisticRegression()</pre><b>In a Jupyter environment, please rerun this cell to show the HTML representation or trust the notebook. <br />On GitHub, the HTML representation is unable to render, please try loading this page with nbviewer.org.</b></div><div class=\"sk-container\" hidden><div class=\"sk-item\"><div class=\"sk-estimator fitted sk-toggleable\"><input class=\"sk-toggleable__control sk-hidden--visually\" id=\"sk-estimator-id-1\" type=\"checkbox\" checked><label for=\"sk-estimator-id-1\" class=\"sk-toggleable__label fitted sk-toggleable__label-arrow\"><div><div>LogisticRegression</div></div><div><a class=\"sk-estimator-doc-link fitted\" rel=\"noreferrer\" target=\"_blank\" href=\"https://scikit-learn.org/1.6/modules/generated/sklearn.linear_model.LogisticRegression.html\">?<span>Documentation for LogisticRegression</span></a><span class=\"sk-estimator-doc-link fitted\">i<span>Fitted</span></span></div></label><div class=\"sk-toggleable__content fitted\"><pre>LogisticRegression()</pre></div> </div></div></div></div>"
            ]
          },
          "metadata": {},
          "execution_count": 20
        }
      ]
    },
    {
      "cell_type": "code",
      "source": [
        "# 훈련한 모델을 사용해 train_bream_smelt에 있는 처음 5개 샘플 예측\n",
        "print(lr.predict(train_bream_smelt[:5]))"
      ],
      "metadata": {
        "colab": {
          "base_uri": "https://localhost:8080/"
        },
        "id": "4-9zyGjbL0RM",
        "outputId": "b841d4ac-8b4d-4b9a-e3ee-9ab01bdc0907"
      },
      "execution_count": null,
      "outputs": [
        {
          "output_type": "stream",
          "name": "stdout",
          "text": [
            "['Bream' 'Smelt' 'Bream' 'Bream' 'Bream']\n"
          ]
        }
      ]
    },
    {
      "cell_type": "code",
      "source": [
        "# train_bream_smelt에서 처음 5개 샘플의 예측 확률 확인\n",
        "print(lr.predict_proba(train_bream_smelt[:5])) # 최근접 이웃 클래스와 마찬가지로 predict_proba() 메서드 사용 가능\n",
        "\n",
        "# 첫 번째 열이 음성 클래스(0)에 대한 확률, 두 번째 열이 양성 클래스(1)에 대한 확률"
      ],
      "metadata": {
        "colab": {
          "base_uri": "https://localhost:8080/"
        },
        "id": "Lb_0L5qnMFaP",
        "outputId": "6cff7825-2308-4787-b4eb-6c7fd362a68f"
      },
      "execution_count": null,
      "outputs": [
        {
          "output_type": "stream",
          "name": "stdout",
          "text": [
            "[[0.99760007 0.00239993]\n",
            " [0.02737325 0.97262675]\n",
            " [0.99486386 0.00513614]\n",
            " [0.98585047 0.01414953]\n",
            " [0.99767419 0.00232581]]\n"
          ]
        }
      ]
    },
    {
      "cell_type": "code",
      "source": [
        "# 도미와 빙어 중 어떤 것이 양성 클래스인지 정렬된 타깃값으로 확인\n",
        "print(lr.classes_) # 사이킷런은 타깃값을 알파벳순으로 정렬하여 사용함\n",
        "\n",
        "'''\n",
        "타깃값 확인 결과, 빙어(Smelt)가 양성 클래스이다.\n",
        "배열 값을 보면 두 번째 샘플만 양성 클래스인 빙어의 확률이 높음\n",
        "따라서 나머지는 모두 도미(Bream)로 예측할 것임\n",
        "만약 도미(Bream)를 양성 클래스로 사용하려면 어떻게 해야 할까?\n",
        "2장에서 했던 것처럼 Bream인 타깃값을 1로 만들고 나머지 타깃값은 0으로 만들어 사용\n",
        "'''"
      ],
      "metadata": {
        "colab": {
          "base_uri": "https://localhost:8080/",
          "height": 92
        },
        "id": "oCGqoBA2MR43",
        "outputId": "becec3cd-014a-403b-fb99-e966d19cd398"
      },
      "execution_count": null,
      "outputs": [
        {
          "output_type": "stream",
          "name": "stdout",
          "text": [
            "['Bream' 'Smelt']\n"
          ]
        },
        {
          "output_type": "execute_result",
          "data": {
            "text/plain": [
              "'\\n타깃값 확인 결과, 빙어(Smelt)가 양성 클래스이다.\\n배열 값을 보면 두 번째 샘플만 양성 클래스인 빙어의 확률이 높음\\n따라서 나머지는 모두 도미(Bream)로 예측할 것임\\n만약 도미(Bream)를 양성 클래스로 사용하려면 어떻게 해야 할까?\\n2장에서 했던 것처럼 Bream인 타깃값을 1로 만들고 나머지 타깃값은 0으로 만들어 사용\\n'"
            ],
            "application/vnd.google.colaboratory.intrinsic+json": {
              "type": "string"
            }
          },
          "metadata": {},
          "execution_count": 23
        }
      ]
    },
    {
      "cell_type": "code",
      "source": [
        "# 선형 회귀에서처럼 로지스틱 회귀가 학습한 계수를 확인\n",
        "print(lr.coef_, lr.intercept_)\n",
        "\n",
        "'''\n",
        "로지스틱 회귀 모델이 학습한 방정식\n",
        "z = -0.404*(\"Weight\") - 0.576*(\"Length\") - 0.663*('Diagonal\") - 1.013*(\"Height\") - 0.732*(\"Width\") - 2.161\n",
        "coef_ 속성은 계수(가중치), intercept_ 속성은 절편을 나타냄\n",
        "'''"
      ],
      "metadata": {
        "colab": {
          "base_uri": "https://localhost:8080/",
          "height": 73
        },
        "id": "hkqaYxtuN7wL",
        "outputId": "8176dcaa-a4f8-4e8d-8d35-c015492f9789"
      },
      "execution_count": null,
      "outputs": [
        {
          "output_type": "stream",
          "name": "stdout",
          "text": [
            "[[-0.40451732 -0.57582787 -0.66248158 -1.01329614 -0.73123131]] [-2.16172774]\n"
          ]
        },
        {
          "output_type": "execute_result",
          "data": {
            "text/plain": [
              "'\\n로지스틱 회귀 모델이 학습한 방정식\\nz = -0.404*(\"Weight\") - 0.576*(\"Length\") - 0.663*(\\'Diagonal\") - 1.013*(\"Height\") - 0.732*(\"Width\") - 2.161\\ncoef_ 속성은 계수(가중치), intercept_ 속성은 절편을 나타냄\\n'"
            ],
            "application/vnd.google.colaboratory.intrinsic+json": {
              "type": "string"
            }
          },
          "metadata": {},
          "execution_count": 24
        }
      ]
    },
    {
      "cell_type": "code",
      "source": [
        "# 로지스틱 회귀 모델로 z 값 계산\n",
        "decisions = lr.decision_function(train_bream_smelt[:5])\n",
        "print(decisions)\n",
        "\n",
        "'''\n",
        "decision_function() 메서드로 z 값을 출력할 수 있음\n",
        "이 z 값들을 시그모이드 함수에 통과시키면 확률을 얻을 수 있다.\n",
        "파이썬의 사이파이(scipy) 라이브러리에 시그모이드 함수가 있음\n",
        "바로 expit()이다.\n",
        "np.exp() 함수를 사용해 분수를 계산하는 것보다 훨씬 편리하고 안전하다.\n",
        "'''"
      ],
      "metadata": {
        "colab": {
          "base_uri": "https://localhost:8080/",
          "height": 92
        },
        "id": "CGRyT1TdNCR1",
        "outputId": "18f9ff24-01db-41d8-f1cc-851904641428"
      },
      "execution_count": null,
      "outputs": [
        {
          "output_type": "stream",
          "name": "stdout",
          "text": [
            "[-6.02991358  3.57043428 -5.26630496 -4.24382314 -6.06135688]\n"
          ]
        },
        {
          "output_type": "execute_result",
          "data": {
            "text/plain": [
              "'\\ndecision_function() 메서드로 z 값을 출력할 수 있음\\n이 z 값들을 시그모이드 함수에 통과시키면 확률을 얻을 수 있다.\\n파이썬의 사이파이(scipy) 라이브러리에 시그모이드 함수가 있음\\n바로 expit()이다.\\nnp.exp() 함수를 사용해 분수를 계산하는 것보다 훨씬 편리하고 안전하다.\\n'"
            ],
            "application/vnd.google.colaboratory.intrinsic+json": {
              "type": "string"
            }
          },
          "metadata": {},
          "execution_count": 25
        }
      ]
    },
    {
      "cell_type": "code",
      "source": [
        "# decisions 배열의 값을 확률로 변환\n",
        "from scipy.special import expit\n",
        "print(expit(decisions))"
      ],
      "metadata": {
        "colab": {
          "base_uri": "https://localhost:8080/"
        },
        "id": "kcMFYVmcP3IP",
        "outputId": "6704e243-da27-466e-d38c-855b27f2ccae"
      },
      "execution_count": null,
      "outputs": [
        {
          "output_type": "stream",
          "name": "stdout",
          "text": [
            "[0.00239993 0.97262675 0.00513614 0.01414953 0.00232581]\n"
          ]
        }
      ]
    },
    {
      "cell_type": "code",
      "source": [
        "'''\n",
        "출력된 값을 보면 predict_proba() 메서드 출력의 두 번째 열의 값과 동일하다!\n",
        "정리하자면,\n",
        "decision_function() 메서드는 양성 클래스에 대한 z 값을 반환한다.\n",
        "predict_proba() 메서드는 음성 클래스와 양성 클래스에 대한 확률을 출력한다.\n",
        "coef_ 속성과 intercept_ 속성에는 로지스틱 모델이 학습한 선형 방정식의 계수가 들어 있다.\n",
        "지금까지의 이진 분류 수행 경험을 바탕으로 7개의 생선을 분류하는 다중 분류 문제로 넘어가 보자.\n",
        "'''"
      ],
      "metadata": {
        "colab": {
          "base_uri": "https://localhost:8080/",
          "height": 92
        },
        "id": "D0gQhR7FQiQ4",
        "outputId": "0c25d6cd-64f8-42dc-915a-967a51c410d3"
      },
      "execution_count": null,
      "outputs": [
        {
          "output_type": "execute_result",
          "data": {
            "text/plain": [
              "'\\n출력된 값을 보면 predict_proba() 메서드 출력의 두 번째 열의 값과 동일하다!\\n정리하자면,\\ndecision_function() 메서드는 양성 클래스에 대한 z 값을 반환한다.\\npredict_proba() 메서드는 음성 클래스와 양성 클래스에 대한 확률을 출력한다.\\ncoef_ 속성과 intercept_ 속성에는 로지스틱 모델이 학습한 선형 방정식의 계수가 들어 있다.\\n지금가지의 이진 분류 수행 경험을 바탕으로 7개의 생선을 분류하는 다중 분류 문제로 넘어가 보자.\\n'"
            ],
            "application/vnd.google.colaboratory.intrinsic+json": {
              "type": "string"
            }
          },
          "metadata": {},
          "execution_count": 27
        }
      ]
    },
    {
      "cell_type": "code",
      "source": [
        "# 7개의 생선을 분류해 보면서 이진 분류와이 차이점 확인\n",
        "lr = LogisticRegression(C=20, max_iter=1000)\n",
        "lr.fit(train_scaled, train_target)\n",
        "print(lr.score(train_scaled, train_target))\n",
        "print(lr.score(test_scaled, test_target))\n",
        "\n",
        "'''\n",
        "LogisticRegression 클래스는 기본적으로 반복적인 알고리즘을 사용한다.\n",
        "max_iter 매개변수의 반복 횟수 기본값은 100이다\n",
        "충분한 훈련을 위해 반복 횟수를 1000으로 설정함\n",
        "또한 LogisticRegression은 기본적으로 릿지 회귀와 같이 계수의 제곱을 \"규제\"한다.\n",
        "이런 규제를 \"L2 규제\"라고 부른다.\n",
        "릿지 회귀에서는 alpha 매개변수로 \"규제의 양\"을 조절했고, alpha가 커짐에 따라 규제도 커졌다.\n",
        "LogisticRegression에서 규제를 제어하는 매개변수는 C(기본값 1)이다.\n",
        "하지만 alpha와는 반대로 \"작을수록 규제가 커진다.\"\n",
        "여기에서는 규제를 조금 \"완화\"하기 위해 매개변수 C의 값을 20으로 늘림\n",
        "점수 확인 결과, 과대적합이나 과소적합으로 치우친 것 같지 않아 보인다.\n",
        "'''"
      ],
      "metadata": {
        "colab": {
          "base_uri": "https://localhost:8080/",
          "height": 148
        },
        "id": "61bDy_7XRRui",
        "outputId": "f665bb80-ff2c-4a5d-eeec-2b3ad7c4c355"
      },
      "execution_count": null,
      "outputs": [
        {
          "output_type": "stream",
          "name": "stdout",
          "text": [
            "0.9327731092436975\n",
            "0.925\n"
          ]
        },
        {
          "output_type": "execute_result",
          "data": {
            "text/plain": [
              "'\\nLogisticRegression 클래스는 기본적으로 반복적인 알고리즘을 사용한다.\\nmax_iter 매개변수의 반복 횟수 기본값은 100이다\\n충분한 훈련을 위해 반복 횟수를 1000으로 설정함\\n또한 LogisticRegression은 기본적으로 릿지 회귀와 같이 계수의 제곱을 \"규제\"한다.\\n이런 규제를 \"L2 규제\"라고 부른다.\\n릿지 회귀에서는 alpha 매개변수로 \"규제의 양\"을 조절했고, alpha가 커짐에 따라 규제도 커졌다.\\nLogisticRegression에서 규제를 제어하는 매개변수는 C(기본값 1)이다.\\n하지만 alpha와는 반대로 \"작을수록 규제가 커진다.\"\\n여기에서는 규제를 조금 \"완화\"하기 위해 매개변수 C의 값을 20으로 늘림\\n점수 확인 결과, 과대적합이나 과소적합으로 치우친 것 같지 않아 보인다.\\n'"
            ],
            "application/vnd.google.colaboratory.intrinsic+json": {
              "type": "string"
            }
          },
          "metadata": {},
          "execution_count": 28
        }
      ]
    },
    {
      "cell_type": "code",
      "source": [
        "# 테스트 세트의 처음 5개 샘플에 대한 예측 확인\n",
        "print(lr.predict(test_scaled[:5]))"
      ],
      "metadata": {
        "colab": {
          "base_uri": "https://localhost:8080/"
        },
        "id": "dh6yMS6qRyrF",
        "outputId": "c975abf1-5f49-441b-92ba-af034a07efbe"
      },
      "execution_count": null,
      "outputs": [
        {
          "output_type": "stream",
          "name": "stdout",
          "text": [
            "['Perch' 'Smelt' 'Pike' 'Roach' 'Perch']\n"
          ]
        }
      ]
    },
    {
      "cell_type": "code",
      "source": [
        "# 테스트 샘플의 처음 5개 샘플에 대한 예측 확률 출력\n",
        "proba = lr.predict_proba(test_scaled[:5])\n",
        "print(np.round(proba, decimals=3)) # 소수점 네 번째 자리에서 반올림\n",
        "\n",
        "'''\n",
        "5개 샘플(특성)에 대한 예측이므로 5개의 행이 출력되었으며,\n",
        "총 7개 생선에 대한 확률 계산이므로 7개의 열이 출력되었음 (데이터프레임에서 넘파이 배열로 변환되었기 때문)\n",
        "이진 분류일 경우 2개의 열만 있었다!\n",
        "\n",
        "첫 번째 샘플을 보면 세 번째 열의 확률이 가장 높음(84.1%)\n",
        "'''"
      ],
      "metadata": {
        "colab": {
          "base_uri": "https://localhost:8080/",
          "height": 167
        },
        "id": "tbuLLEW_S8Bs",
        "outputId": "0b903f07-710c-419d-d57c-21058d58a8fb"
      },
      "execution_count": null,
      "outputs": [
        {
          "output_type": "stream",
          "name": "stdout",
          "text": [
            "[[0.    0.014 0.842 0.    0.135 0.007 0.003]\n",
            " [0.    0.003 0.044 0.    0.007 0.946 0.   ]\n",
            " [0.    0.    0.034 0.934 0.015 0.016 0.   ]\n",
            " [0.011 0.034 0.305 0.006 0.567 0.    0.076]\n",
            " [0.    0.    0.904 0.002 0.089 0.002 0.001]]\n"
          ]
        },
        {
          "output_type": "execute_result",
          "data": {
            "text/plain": [
              "'\\n5개 샘플(특성)에 대한 예측이므로 5개의 행이 출력되었으며,\\n총 7개 생선에 대한 확률 계산이므로 7개의 열이 출력되었음 (데이터프레임에서 넘파이 배열로 변환되었기 때문)\\n이진 분류일 경우 2개의 열만 있었다!\\n\\n첫 번째 샘플을 보면 세 번째 열의 확률이 가장 높음(84.1%)\\n'"
            ],
            "application/vnd.google.colaboratory.intrinsic+json": {
              "type": "string"
            }
          },
          "metadata": {},
          "execution_count": 30
        }
      ]
    },
    {
      "cell_type": "code",
      "source": [
        "# 세 번째 열 확률의 클래스 확인\n",
        "print(lr.classes_)\n",
        "\n",
        "'''\n",
        "첫 번째 샘플은 농어(Perch)를 가장 높은 확률로 예측,\n",
        "두 번째 샘플은 여섯 번째 열인 빙어(Smelt)를 가장 높은 확률(94.6%)로 예측함\n",
        "이진 분류는 샘플마다 2개의 확률을 출력하고,\n",
        "다중 분류는 샘플마다 클래스 개수만큼 확률을 출력함!\n",
        "그럼 다중 분류일 경우 선형 방정식은 어떤 모습일까?\n",
        "'''"
      ],
      "metadata": {
        "colab": {
          "base_uri": "https://localhost:8080/",
          "height": 92
        },
        "id": "pADfKBdZTKhe",
        "outputId": "4c07439e-a4e9-440b-b761-a0ebb518aa7d"
      },
      "execution_count": null,
      "outputs": [
        {
          "output_type": "stream",
          "name": "stdout",
          "text": [
            "['Bream' 'Parkki' 'Perch' 'Pike' 'Roach' 'Smelt' 'Whitefish']\n"
          ]
        },
        {
          "output_type": "execute_result",
          "data": {
            "text/plain": [
              "'\\n첫 번째 샘플은 농어(Perch)를 가장 높은 확률로 예측,\\n두 번째 샘플은 여섯 번째 열인 빙어(Smelt)를 가장 높은 확률(94.6%)로 예측함\\n이진 분류는 샘플마다 2개의 확률을 출력하고,\\n다중 분류는 샘플마다 클래스 개수만큼 확률을 출력함!\\n그럼 다중 분류일 경우 선형 방정식은 어떤 모습일까?\\n'"
            ],
            "application/vnd.google.colaboratory.intrinsic+json": {
              "type": "string"
            }
          },
          "metadata": {},
          "execution_count": 31
        }
      ]
    },
    {
      "cell_type": "code",
      "source": [
        "# 계수와 절편 크기 확인\n",
        "print(lr.coef_.shape, lr.intercept_.shape)\n",
        "\n",
        "'''\n",
        "(7, 5)는 7개의 행과 5개의 열을 가진 2차원 배열을 의미함\n",
        "(7, )는 7개의 요소를 가진 1차원 배열을 의미함\n",
        "즉 이것은 이진 분류에서 보았던 z를 7개나 계산한다는 의미이다!\n",
        "다중 분류는 클래스마다 z값을 하나씩 계산한다.\n",
        "이중 당연히 가장 높은 z값을 출력하는 클래스가 예측 클래스가 된다.\n",
        "그렇다면 확률은 어떻게 계산할까?\n",
        "이진 분류에서는 시그모이드 함수를 사용해 z를 0과 1 사이의 값으로 변환했다.\n",
        "다중 분류는 이와 달리 \"소프트맥스(softmax) 함수\"를 사용하여 7개의 z값을 확률로 변환한다.\n",
        "소프트맥스 함수는 여러 개의 선형 방정식의 출력값을 0~1 사이로 압축하고 전체 합이 1이 되도록 만든다.\n",
        "이를 위해 지수 함수를 사용하기 때문에 \"정규화된 지수 함수\"라고 부른다.\n",
        "계산 방정식: e_sum = e^z1 + e^z2 + e^z3 + e^z4 + e^z5 + e^z6 + e^z7\n",
        "그 다음 e^zn들을 각각 e_sum으로 나눈다.\n",
        "s1 = e^z1 / e_sum, ... ` s7 = e^z7 / e_sum\n",
        "\n",
        "시그모이드 함수와 소프트맥스 함수를 왜 강조할까?\n",
        "나중에 등장할 신경망을 배울 때 훨씬 수월한 이해를 돕기 때문이다.\n",
        "'''"
      ],
      "metadata": {
        "colab": {
          "base_uri": "https://localhost:8080/",
          "height": 185
        },
        "id": "XqJi_9NcZUeN",
        "outputId": "c708325e-65c5-44ee-e437-6378897ea427"
      },
      "execution_count": null,
      "outputs": [
        {
          "output_type": "stream",
          "name": "stdout",
          "text": [
            "(7, 5) (7,)\n"
          ]
        },
        {
          "output_type": "execute_result",
          "data": {
            "text/plain": [
              "'\\n(7, 5)는 7개의 행과 5개의 열을 가진 2차원 배열을 의미함\\n(7, )는 7개의 요소를 가진 1차원 배열을 의미함\\n즉 이것은 이진 분류에서 보았던 z를 7개나 계산한다는 의미이다!\\n다중 분류는 클래스마다 z값을 하나씩 계산한다.\\n이중 당연히 가장 높은 z값을 출력하는 클래스가 예측 클래스가 된다.\\n그렇다면 확률은 어떻게 계산할까?\\n이진 분류에서는 시그모이드 함수를 사용해 z를 0과 1 사이의 값으로 변환했다.\\n다중 분류는 이와 달리 \"소프트맥스(softmax) 함수\"를 사용하여 7개의 z값을 확률로 변환한다.\\n소프트맥스 함수는 여러 개의 선형 방정식의 출력값을 0~1 사이로 압축하고 전체 합이 1이 되도록 만든다.\\n이를 위해 지수 함수를 사용하기 때문에 \"정규화된 지수 함수\"라고 부른다.\\n계산 방정식: e_sum = e^z1 + e^z2 + e^z3 + e^z4 + e^z5 + e^z6 + e^z7\\n그 다음 e^zn들을 각각 e_sum으로 나눈다.\\ns1 = e^z1 / e_sum, ... ` s7 = e^z7 / e_sum\\n\\n시그모이드 함수와 소프트맥스 함수를 왜 강조할까?\\n나중에 등장할 신경망을 배울 때 훨씬 수월한 이해를 돕기 때문이다.\\n'"
            ],
            "application/vnd.google.colaboratory.intrinsic+json": {
              "type": "string"
            }
          },
          "metadata": {},
          "execution_count": 32
        }
      ]
    },
    {
      "cell_type": "code",
      "source": [
        "'''\n",
        "이진 분류에서처럼 decision_function() 메서드로 z1~z7까지의 값을 구한 다음\n",
        "소프트맥스 함수를 사용해 확률로 바꿀 예정이다.\n",
        "'''\n",
        "\n",
        "# 먼저 테스트 세트의 처음 5개 샘플에 대한 z1~z7의 값 계산\n",
        "decision = lr.decision_function(test_scaled[:5])\n",
        "print(np.round(decision, decimals=2))"
      ],
      "metadata": {
        "colab": {
          "base_uri": "https://localhost:8080/"
        },
        "id": "DO5acvO0aJsi",
        "outputId": "37b89e61-f08d-419e-c588-a7985ee04cdf"
      },
      "execution_count": null,
      "outputs": [
        {
          "output_type": "stream",
          "name": "stdout",
          "text": [
            "[[ -6.51   1.04   5.17  -2.76   3.34   0.35  -0.63]\n",
            " [-10.88   1.94   4.78  -2.42   2.99   7.84  -4.25]\n",
            " [ -4.34  -6.24   3.17   6.48   2.36   2.43  -3.87]\n",
            " [ -0.69   0.45   2.64  -1.21   3.26  -5.7    1.26]\n",
            " [ -6.4   -1.99   5.82  -0.13   3.5   -0.09  -0.7 ]]\n"
          ]
        }
      ]
    },
    {
      "cell_type": "code",
      "source": [
        "# decision 배열을 소프트맥스 함수에 전달\n",
        "from scipy.special import softmax\n",
        "proba = softmax(decision, axis=1) # axis 매개변수는 소프트맥스를 계산할 축을 지정하여 각 행(샘플)에 대해 소프트맥스 계산\n",
        "print(np.round(proba, decimals=3))\n",
        "\n",
        "# 높은 확률은 예측에 대한 강도 즉 신뢰성이 높다는 것을 의미한다!"
      ],
      "metadata": {
        "colab": {
          "base_uri": "https://localhost:8080/"
        },
        "id": "yXZ84B3_nfW8",
        "outputId": "3bf50726-2308-4dfa-ab3e-7e04336132e7"
      },
      "execution_count": null,
      "outputs": [
        {
          "output_type": "stream",
          "name": "stdout",
          "text": [
            "[[0.    0.014 0.842 0.    0.135 0.007 0.003]\n",
            " [0.    0.003 0.044 0.    0.007 0.946 0.   ]\n",
            " [0.    0.    0.034 0.934 0.015 0.016 0.   ]\n",
            " [0.011 0.034 0.305 0.006 0.567 0.    0.076]\n",
            " [0.    0.    0.904 0.002 0.089 0.002 0.001]]\n"
          ]
        }
      ]
    }
  ]
}