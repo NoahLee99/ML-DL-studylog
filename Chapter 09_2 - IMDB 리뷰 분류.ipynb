{
  "nbformat": 4,
  "nbformat_minor": 0,
  "metadata": {
    "colab": {
      "provenance": [],
      "gpuType": "V28",
      "authorship_tag": "ABX9TyMH7KXqWi8GrGhv06MEP5lu",
      "include_colab_link": true
    },
    "kernelspec": {
      "name": "python3",
      "display_name": "Python 3"
    },
    "language_info": {
      "name": "python"
    },
    "accelerator": "TPU"
  },
  "cells": [
    {
      "cell_type": "markdown",
      "metadata": {
        "id": "view-in-github",
        "colab_type": "text"
      },
      "source": [
        "<a href=\"https://colab.research.google.com/github/NoahLee99/ML-DL-studylog/blob/main/Chapter%2009_2%20-%20IMDB%20%EB%A6%AC%EB%B7%B0%20%EB%B6%84%EB%A5%98.ipynb\" target=\"_parent\"><img src=\"https://colab.research.google.com/assets/colab-badge.svg\" alt=\"Open In Colab\"/></a>"
      ]
    },
    {
      "cell_type": "markdown",
      "source": [
        "# **순환 신경망으로 IMDB 리뷰 분류하기**"
      ],
      "metadata": {
        "id": "lupfo6rb83iO"
      }
    },
    {
      "cell_type": "markdown",
      "source": [
        "**키워드**"
      ],
      "metadata": {
        "id": "9_tmuBX285Nz"
      }
    },
    {
      "cell_type": "markdown",
      "source": [
        "* 말뭉치: 자연어 처리에서 사용하는 텍스트 데이터의 모음,\n",
        "<br> 즉 훈련 데이터셋을 일컫는다.\n",
        "\n",
        "* 토큰: 텍스트에서 공백으로 구분되는 문자열을 말한다.\n",
        "<br> 종종 소문자로 변환하고 구두점은 삭제한다.\n",
        "\n",
        "* 원-핫 인코딩: 어떤 클래스에 해당하는 원소만 1이고 나머지는 모두 0인 벡터이다.\n",
        "<br> 정수로 변환된 토큰을 원-핫 인코딩으로 변환하려면 어휘 사전 크기의 벡터가 만들어진다.\n",
        "\n",
        "* 단어 임베딩: 정수로 변환된 토큰을 비교적 작은 크기의 실수 밀집 벡터로 변환한다.\n",
        "<br> 이런 밀집 벡터는 단어 사이의 관계를 표현할 수 있기 때문에 자연어 처리에서 좋은 성능을 발휘한다."
      ],
      "metadata": {
        "id": "0oZRm9Da0DYY"
      }
    },
    {
      "cell_type": "markdown",
      "source": [
        "**핵심 패키지 및 함수**"
      ],
      "metadata": {
        "id": "pyQdCVR085cs"
      }
    },
    {
      "cell_type": "markdown",
      "source": [
        "* pad_sequences(): 시퀀스 길이를 맞추기 위해 패딩을 추가한다.\n",
        "<br> 이 함수는 (샘플 개수, 타임스텝 개수) 크기의 2차원 배열을 기대한다.\n",
        "<br> maxlen 매개변수로 원하는 시퀀스 길이를 지정할 수 있다.\n",
        "<br> 이 값보다 긴 시퀀스는 잘리고 짧은 시퀀스는 패딩 된다.\n",
        "<br> 이 매개변수를 지정하지 않으면 가장 긴 시퀀스의 길이가 된다.\n",
        "<br> padding 매개변수는 패딩을 추가할 위치를 지정한다.\n",
        "<br> 기본값인 'pre'는 시퀀스 앞에 패딩을 추가하고 'post'는 시퀀스 뒤에 패딩을 추가한다.\n",
        "<br> truncating 매개변수는 긴 시퀀스에서 잘라버릴 위치를 지정한다.\n",
        "<br> 기본값인 'pre'는 시퀀스 앞부분을 잘라내고 'post'는 시퀀스 뒷부분을 잘라낸다.\n",
        "\n",
        "* to_categorical(): 정수 시퀀스를 원-핫 인코딩으로 변환한다.\n",
        "<br> 토큰을 원-핫 인코딩하거나 타깃값을 원-핫 인코딩할 때 사용한다.\n",
        "<br> num_classes 매개변수에서 클래스 개수를 지정할 수 있다.\n",
        "<br> 지정하지 않으면 데이터에서 자동으로 찾는다.\n",
        "\n",
        "* SimpleRNN: 케라스의 기본 순환층 클래스이다.\n",
        "<br> 첫 번째 매개변수에 뉴런의 개수를 지정한다.\n",
        "<br> activation 매개변수에서 활성화 함수를 지정한다.\n",
        "<br> 기본값은 하이퍼볼릭 탄젠트인 'tanh'이다.\n",
        "<br> dropout 매개변수에서 입력에 대한 드롭아웃 비율을 지정 가능하다.\n",
        "<br> return_sequences 매개변수에서 모든 타임스텝의 은닉 상태를 출력할지 결정한다. 기본 값은 False이다.\n",
        "\n",
        "* Embedding: 단어 임베딩을 위한 클래스이다.\n",
        "<br> 첫 번째 매개변수에서 어휘 사전의 크기를 지정한다.\n",
        "<br> 두 번째 매개변수에서 Embedding 층이 출력할 밀집 벡터의 크기를 지정한다.\n",
        "<br> input_length 매개변수에서 입력 시퀀스의 길이를 지정한다.\n",
        "<br> 이 매개변수는 Embedding 층 바로 뒤에 Flatten이나 Dense 클래스가 올 때 꼭 필요하다."
      ],
      "metadata": {
        "id": "6BJwzchZ0jQm"
      }
    },
    {
      "cell_type": "code",
      "execution_count": null,
      "metadata": {
        "colab": {
          "base_uri": "https://localhost:8080/",
          "height": 92
        },
        "id": "13A7b4PK5emO",
        "outputId": "85be8016-a521-444c-d84f-e3b691a11550"
      },
      "outputs": [
        {
          "output_type": "execute_result",
          "data": {
            "text/plain": [
              "'\\n이전 장에서 순환 신경망의 원리를 살펴보았다.\\n이번 장에서는 대표적인 순환 신경망 문제인 IMDB 리뷰 데이터셋을 사용해 가장 간단한 순환 신경망 모델을 훈련해 보겠다.\\n\\n이 데이터셋을 두 가지 방법으로 변형하여 순환 신경망에 주입해 볼 것이다.\\n하나는 원-핫 인코딩이고 또 다른 하나는 단어 임베딩이다.\\n이 두 가지 방법의 차이점에 대해 설명하고 순환 신경망을 만들 때 도려해야 할 점을 알아보겠다.\\n\\n그럼 먼저 이번 장에서 사용할 IMDB 리뷰 데이터셋을 적재하겠다.\\n'"
            ],
            "application/vnd.google.colaboratory.intrinsic+json": {
              "type": "string"
            }
          },
          "metadata": {},
          "execution_count": 2
        }
      ],
      "source": [
        "'''\n",
        "이전 장에서 순환 신경망의 원리를 살펴보았다.\n",
        "이번 장에서는 대표적인 순환 신경망 문제인 IMDB 리뷰 데이터셋을 사용해 가장 간단한 순환 신경망 모델을 훈련해 보겠다.\n",
        "\n",
        "이 데이터셋을 두 가지 방법으로 변형하여 순환 신경망에 주입해 볼 것이다.\n",
        "하나는 원-핫 인코딩이고 또 다른 하나는 단어 임베딩이다.\n",
        "이 두 가지 방법의 차이점에 대해 설명하고 순환 신경망을 만들 때 도려해야 할 점을 알아보겠다.\n",
        "\n",
        "그럼 먼저 이번 장에서 사용할 IMDB 리뷰 데이터셋을 적재하겠다.\n",
        "'''"
      ]
    },
    {
      "cell_type": "markdown",
      "source": [
        "# **IMDB 리뷰 데이터셋**"
      ],
      "metadata": {
        "id": "RERFpDv49Xfd"
      }
    },
    {
      "cell_type": "code",
      "source": [
        "'''\n",
        "IMDB 리뷰 데이터셋은 유명한 인터넷 영화 데이터베이스인 imdb.com에서\n",
        "수집한 리뷰를 감상평에 따라 긍정과 부정으로 분류해 놓은 데이터셋이다.\n",
        "총 50,000개의 샘플로 이루어져 있고 훈련 데이터와 테스트 데이터에 각각 25,000개씩 나누어져 있다.\n",
        "\n",
        "* 자연어 처리와 말뭉치란 무엇인가?\n",
        "  - \"자연어 처리(Natural Language Processing, NLP)\"는 컴퓨터를 사용해 인간의 언어를 처리하는 분야이다.\n",
        "    대표적인 세부 분야로는 음성 인식, 기계 번역, 감성 분석 등이 있다.\n",
        "    IMDB 리뷰를 감상평에 따라 분류하는 작업은 감성 분석에 해당한다.\n",
        "    자연어 처리 분야에서는 훈련 데이터를 종종 \"말뭉치(corpus)\"라고 부른다.\n",
        "    예를 들어 IMDB 리뷰 데이터셋이 하나의 말뭉치이다.\n",
        "\n",
        "* 한글 문장은 어떻게 토큰을 분리하는가?\n",
        "  - 한글은 조사가 발달되어 있기 때문에 공백으로 나누는 것만으로는 부족하다.\n",
        "    일반적으로 한글은 형태소 분석을 통해 토큰을 만든다.\n",
        "    안타깝지만 한글의 형태소 분석은 이 책의 범위를 넘어선다.\n",
        "\n",
        "토큰에 할당되는 정수 중에서 몇 개는 특정한 용도로 예약되어 있는 경우가 많다.\n",
        "예를 들어 0은 패딩, 1은 문장의 시작, 2는 어휘 사전에 없는 토큰을 나타낸다.\n",
        "\n",
        "* 어휘 사전은 무엇인가?\n",
        "  - 훈련 세트에서 고유한 단어를 뽑아 만든 목록을 어휘 사전이라고 말한다.\n",
        "    예를 들어 테스트 세트 안에 어휘 사전에 없는 단어가 있다면 2로 변환하여 신경망 모델에 주입한다.\n",
        "\n",
        "실제 IMDB 리뷰 데이터셋은 영어로 된 문장이지만 편리하게도 텐서플로에는 이미 정수로 바꾼 데이터가 포함되어 있따.\n",
        "tensorflow.keras.datasets 패키지 아래 imdb 모듈을 임포트하여 이 데이터를 적재해 보겠다.\n",
        "여기에서는 전체 데이터셋에서 가장 자주 등장하는 단어 500개만 사용하겠다.\n",
        "이렇게 하기 위해 load_data() 함수의 num_words 매개변수를 500으로 지정한다.\n",
        "'''"
      ],
      "metadata": {
        "colab": {
          "base_uri": "https://localhost:8080/",
          "height": 241
        },
        "id": "CZ8YbIue9bY5",
        "outputId": "80ae3089-1d4a-4752-918a-24785fe6d5ce"
      },
      "execution_count": null,
      "outputs": [
        {
          "output_type": "execute_result",
          "data": {
            "text/plain": [
              "'\\nIMDB 리뷰 데이터셋은 유명한 인터넷 영화 데이터베이스인 imdb.com에서 \\n수집한 리뷰를 감상평에 따라 긍정과 부정으로 분류해 놓은 데이터셋이다.\\n총 50,000개의 샘플로 이루어져 있고 훈련 데이터와 테스트 데이터에 각각 25,000개씩 나누어져 있다.\\n\\n* 자연어 처리와 말뭉치란 무엇인가?\\n  - \"자연어 처리(Natural Language Processing, NLP)\"는 컴퓨터를 사용해 인간의 언어를 처리하는 분야이다.\\n    대표적인 세부 분야로는 음성 인식, 기계 번역, 감성 분석 등이 있다.\\n    IMDB 리뷰를 감상평에 따라 분류하는 작업은 감성 분석에 해당한다.\\n    자연어 처리 분야에서는 훈련 데이터를 종종 \"말뭉치(corpus)\"라고 부른다.\\n    예를 들어 IMDB 리뷰 데이터셋이 하나의 말뭉치이다.\\n\\n사실 텍스트 자체를 신경망에 전달하지는 않는다.\\n컴퓨터에서 처리하는 모든 것은 어떤 숫자 데이터이다. (Digit-all)\\n앞서 합성곱 신경망에서 이미지를 다룰 때는 특별한 변환을 하지 않았다.\\n이미지가 정수 픽셀값으로 이루어져 있기 때문이다.\\n텍스트 데이터의 경우 단어를 숫자 데이터로 바꾸는 일반적인 방법은 데이터에 등장하는 단어마다 고유한 정수를 부여하는 것이다.\\n예를 들면 다음과 같다.\\n\\nHe follows the cat. He loves the cat. --> [10, 11, 12, 13, 10, 14, 12, 13]\\n\\n두 문장에 등장하는 각 단어를 하나의 정수에 매핑했고, 동일한 단어는 동일한 정수에 매핑된다.\\n단어에 매핑되는 정수는 단어의 의미나 크기와 관련이 없다.\\n예를 들어 \"He\"를 10으로 매핑하고 \"cat\"을 13에 매핑하더라도 \"cat\"이 \"He\"보다 좋거나 크다는 뜻은 아니다.\\n이 정숫값 사이에는 어떠한 관계도 없다.\\n일반적으로 영어 문장은 모두 소문자로 바꾸고 구두점을 삭제한 다음 공백을 기준으로 분리한다.\\n이렇게 분리된 단어를 \"토큰(token)\"이라고 부른다.\\n하나의 샘플은 여러 개의 토큰으로 이루어져 있고 1개의 토큰이 하나의 타임스텝에 해당한다.\\n\\n* 한글 문장은 어떻게 토큰을 분리하는가?\\n  - 한글은 조사가 발달되어 있기 때문에 공백으로 나누는 것만으로는 부족하다.\\n    일반적으로 한글은 형태소 분석을 통해 토큰을 만든다.\\n    안타깝지만 한글의 형태소 분석은 이 책의 범위를 넘어선다.\\n\\n토큰에 할당되는 정수 중에서 몇 개는 특정한 용도로 예약되어 있는 경우가 많다.\\n예를 들어 0은 패딩, 1은 문장의 시작, 2는 어휘 사전에 없는 토큰을 나타낸다.\\n\\n* 어휘 사전은 무엇인가?\\n  - 훈련 세트에서 고유한 단어를 뽑아 만든 목록을 어휘 사전이라고 말한다.\\n    예를 들어 테스트 세트 안에 어휘 사전에 없는 단어가 있다면 2로 변환하여 신경망 모델에 주입한다.\\n\\n실제 IMDB 리뷰 데이터셋은 영어로 된 문장이지만 편리하게도 텐서플로에는 이미 정수로 바꾼 데이터가 포함되어 있따.\\ntensorflow.keras.datasets 패키지 아래 imdb 모듈을 임포트하여 이 데이터를 적재해 보겠다.\\n여기에서는 전체 데이터셋에서 가장 자주 등장하는 단어 500개만 사용하겠다.\\n이렇게 하기 위해 load_data() 함수의 num_words 매개변수를 500으로 지정한다.\\n'"
            ],
            "application/vnd.google.colaboratory.intrinsic+json": {
              "type": "string"
            }
          },
          "metadata": {},
          "execution_count": 3
        }
      ]
    },
    {
      "cell_type": "code",
      "source": [
        "!pip install --upgrade tensorflow  # Upgrade TensorFlow to the latest stable version\n",
        "!pip install --upgrade tensorflow-gpu  # Upgrade TensorFlow GPU version (if using GPU)"
      ],
      "metadata": {
        "colab": {
          "base_uri": "https://localhost:8080/"
        },
        "id": "z1YKSV5Xds4L",
        "outputId": "62c2c1e1-eb3e-4bcf-b387-a030deeb4ae6"
      },
      "execution_count": null,
      "outputs": [
        {
          "output_type": "stream",
          "name": "stdout",
          "text": [
            "Requirement already satisfied: tensorflow in /usr/local/lib/python3.11/dist-packages (2.18.0)\n",
            "Requirement already satisfied: absl-py>=1.0.0 in /usr/local/lib/python3.11/dist-packages (from tensorflow) (1.4.0)\n",
            "Requirement already satisfied: astunparse>=1.6.0 in /usr/local/lib/python3.11/dist-packages (from tensorflow) (1.6.3)\n",
            "Requirement already satisfied: flatbuffers>=24.3.25 in /usr/local/lib/python3.11/dist-packages (from tensorflow) (24.12.23)\n",
            "Requirement already satisfied: gast!=0.5.0,!=0.5.1,!=0.5.2,>=0.2.1 in /usr/local/lib/python3.11/dist-packages (from tensorflow) (0.6.0)\n",
            "Requirement already satisfied: google-pasta>=0.1.1 in /usr/local/lib/python3.11/dist-packages (from tensorflow) (0.2.0)\n",
            "Requirement already satisfied: libclang>=13.0.0 in /usr/local/lib/python3.11/dist-packages (from tensorflow) (18.1.1)\n",
            "Requirement already satisfied: opt-einsum>=2.3.2 in /usr/local/lib/python3.11/dist-packages (from tensorflow) (3.4.0)\n",
            "Requirement already satisfied: packaging in /usr/local/lib/python3.11/dist-packages (from tensorflow) (24.2)\n",
            "Requirement already satisfied: protobuf!=4.21.0,!=4.21.1,!=4.21.2,!=4.21.3,!=4.21.4,!=4.21.5,<6.0.0dev,>=3.20.3 in /usr/local/lib/python3.11/dist-packages (from tensorflow) (4.25.5)\n",
            "Requirement already satisfied: requests<3,>=2.21.0 in /usr/local/lib/python3.11/dist-packages (from tensorflow) (2.32.3)\n",
            "Requirement already satisfied: setuptools in /usr/local/lib/python3.11/dist-packages (from tensorflow) (75.1.0)\n",
            "Requirement already satisfied: six>=1.12.0 in /usr/local/lib/python3.11/dist-packages (from tensorflow) (1.17.0)\n",
            "Requirement already satisfied: termcolor>=1.1.0 in /usr/local/lib/python3.11/dist-packages (from tensorflow) (2.5.0)\n",
            "Requirement already satisfied: typing-extensions>=3.6.6 in /usr/local/lib/python3.11/dist-packages (from tensorflow) (4.12.2)\n",
            "Requirement already satisfied: wrapt>=1.11.0 in /usr/local/lib/python3.11/dist-packages (from tensorflow) (1.17.0)\n",
            "Requirement already satisfied: grpcio<2.0,>=1.24.3 in /usr/local/lib/python3.11/dist-packages (from tensorflow) (1.69.0)\n",
            "Requirement already satisfied: tensorboard<2.19,>=2.18 in /usr/local/lib/python3.11/dist-packages (from tensorflow) (2.18.0)\n",
            "Requirement already satisfied: keras>=3.5.0 in /usr/local/lib/python3.11/dist-packages (from tensorflow) (3.5.0)\n",
            "Requirement already satisfied: numpy<2.1.0,>=1.26.0 in /usr/local/lib/python3.11/dist-packages (from tensorflow) (1.26.4)\n",
            "Requirement already satisfied: h5py>=3.11.0 in /usr/local/lib/python3.11/dist-packages (from tensorflow) (3.12.1)\n",
            "Requirement already satisfied: ml-dtypes<0.5.0,>=0.4.0 in /usr/local/lib/python3.11/dist-packages (from tensorflow) (0.4.1)\n",
            "Requirement already satisfied: tensorflow-io-gcs-filesystem>=0.23.1 in /usr/local/lib/python3.11/dist-packages (from tensorflow) (0.37.1)\n",
            "Requirement already satisfied: wheel<1.0,>=0.23.0 in /usr/local/lib/python3.11/dist-packages (from astunparse>=1.6.0->tensorflow) (0.45.1)\n",
            "Requirement already satisfied: rich in /usr/local/lib/python3.11/dist-packages (from keras>=3.5.0->tensorflow) (13.9.4)\n",
            "Requirement already satisfied: namex in /usr/local/lib/python3.11/dist-packages (from keras>=3.5.0->tensorflow) (0.0.8)\n",
            "Requirement already satisfied: optree in /usr/local/lib/python3.11/dist-packages (from keras>=3.5.0->tensorflow) (0.13.1)\n",
            "Requirement already satisfied: charset-normalizer<4,>=2 in /usr/local/lib/python3.11/dist-packages (from requests<3,>=2.21.0->tensorflow) (3.4.1)\n",
            "Requirement already satisfied: idna<4,>=2.5 in /usr/local/lib/python3.11/dist-packages (from requests<3,>=2.21.0->tensorflow) (3.10)\n",
            "Requirement already satisfied: urllib3<3,>=1.21.1 in /usr/local/lib/python3.11/dist-packages (from requests<3,>=2.21.0->tensorflow) (2.3.0)\n",
            "Requirement already satisfied: certifi>=2017.4.17 in /usr/local/lib/python3.11/dist-packages (from requests<3,>=2.21.0->tensorflow) (2024.12.14)\n",
            "Requirement already satisfied: markdown>=2.6.8 in /usr/local/lib/python3.11/dist-packages (from tensorboard<2.19,>=2.18->tensorflow) (3.7)\n",
            "Requirement already satisfied: tensorboard-data-server<0.8.0,>=0.7.0 in /usr/local/lib/python3.11/dist-packages (from tensorboard<2.19,>=2.18->tensorflow) (0.7.2)\n",
            "Requirement already satisfied: werkzeug>=1.0.1 in /usr/local/lib/python3.11/dist-packages (from tensorboard<2.19,>=2.18->tensorflow) (3.1.3)\n",
            "Requirement already satisfied: MarkupSafe>=2.1.1 in /usr/local/lib/python3.11/dist-packages (from werkzeug>=1.0.1->tensorboard<2.19,>=2.18->tensorflow) (3.0.2)\n",
            "Requirement already satisfied: markdown-it-py>=2.2.0 in /usr/local/lib/python3.11/dist-packages (from rich->keras>=3.5.0->tensorflow) (3.0.0)\n",
            "Requirement already satisfied: pygments<3.0.0,>=2.13.0 in /usr/local/lib/python3.11/dist-packages (from rich->keras>=3.5.0->tensorflow) (2.19.1)\n",
            "Requirement already satisfied: mdurl~=0.1 in /usr/local/lib/python3.11/dist-packages (from markdown-it-py>=2.2.0->rich->keras>=3.5.0->tensorflow) (0.1.2)\n",
            "Collecting tensorflow-gpu\n",
            "  Using cached tensorflow-gpu-2.12.0.tar.gz (2.6 kB)\n",
            "  \u001b[1;31merror\u001b[0m: \u001b[1msubprocess-exited-with-error\u001b[0m\n",
            "  \n",
            "  \u001b[31m×\u001b[0m \u001b[32mpython setup.py egg_info\u001b[0m did not run successfully.\n",
            "  \u001b[31m│\u001b[0m exit code: \u001b[1;36m1\u001b[0m\n",
            "  \u001b[31m╰─>\u001b[0m See above for output.\n",
            "  \n",
            "  \u001b[1;35mnote\u001b[0m: This error originates from a subprocess, and is likely not a problem with pip.\n",
            "  Preparing metadata (setup.py) ... \u001b[?25l\u001b[?25herror\n",
            "\u001b[1;31merror\u001b[0m: \u001b[1mmetadata-generation-failed\u001b[0m\n",
            "\n",
            "\u001b[31m×\u001b[0m Encountered error while generating package metadata.\n",
            "\u001b[31m╰─>\u001b[0m See above for output.\n",
            "\n",
            "\u001b[1;35mnote\u001b[0m: This is an issue with the package mentioned above, not pip.\n",
            "\u001b[1;36mhint\u001b[0m: See above for details.\n"
          ]
        }
      ]
    },
    {
      "cell_type": "code",
      "source": [
        "# IMDB 데이터셋 적재\n",
        "import tensorflow as tf\n",
        "tf.keras.utils.set_random_seed(42)\n",
        "\n",
        "from tensorflow.keras.datasets import imdb\n",
        "\n",
        "(train_input, train_target), (test_input, test_target) = imdb.load_data(\n",
        "    num_words=500)"
      ],
      "metadata": {
        "id": "lqMNXmiLAkvO"
      },
      "execution_count": null,
      "outputs": []
    },
    {
      "cell_type": "code",
      "source": [
        "# 훈련 세트와 테스트 세트의 크기 확인\n",
        "print(train_input.shape, test_input.shape)\n",
        "\n",
        "# 1차원 배열임을 알 수 있음 (25000,)"
      ],
      "metadata": {
        "colab": {
          "base_uri": "https://localhost:8080/"
        },
        "id": "V5_rJIWsBC-F",
        "outputId": "47301e53-acb7-4a0e-b96e-92f6e87d80fd"
      },
      "execution_count": null,
      "outputs": [
        {
          "output_type": "stream",
          "name": "stdout",
          "text": [
            "(25000,) (25000,)\n"
          ]
        }
      ]
    },
    {
      "cell_type": "code",
      "source": [
        "'''\n",
        "앞서 말했듯이 이 데이터셋은 훈련 세트와 테스트 세트가 각각 25,000개의 샘플로 이루어져 있다.\n",
        "그런데 배열이 1차원인 게 이상해 보이지 않는가?\n",
        "IMDB 리뷰 텍스트는 길이가 제각각이다.\n",
        "따라서 고정 크기의 2차원 배열에 담기 보다는\n",
        "리뷰마다 별도의 파이썬 리스트에 담아야 메모리를 효율적으로 사용 가능하다.\n",
        "ex) train_input : [리뷰1, 리뷰2, 리뷰3, ...]\n",
        "\n",
        "즉 위의 예시처럼 이 데이터는 개별 리뷰를 담은 파이썬 리스트 객체로 이루어진 넘파이 배열이다.\n",
        "그렇다. 넘파이 배열은 정수나 실수 외에도 파이썬 객체를 담을 수도 있다.\n",
        "그럼 다음과 같이 첫 번째 리뷰의 길이를 출력해 보자.\n",
        "'''"
      ],
      "metadata": {
        "colab": {
          "base_uri": "https://localhost:8080/",
          "height": 110
        },
        "id": "FNAtLqxzBaDq",
        "outputId": "40049f03-1f3b-4d6a-f065-d5c255ecabce"
      },
      "execution_count": null,
      "outputs": [
        {
          "output_type": "execute_result",
          "data": {
            "text/plain": [
              "'\\n앞서 말했듯이 이 데이터셋은 훈련 세트와 테스트 세트가 각각 25,000개의 샘플로 이루어져 있다.\\n그런데 배열이 1차원인 게 이상해 보이지 않는가?\\nIMDB 리뷰 텍스트는 길이가 제각각이다.\\n따라서 고정 크기의 2차원 배열에 담기 보다는 \\n리뷰마다 별도의 파이썬 리스트에 담아야 메모리를 효율적으로 사용 가능하다.\\nex) train_input : [리뷰1, 리뷰2, 리뷰3, ...]\\n\\n즉 위의 예시처럼 이 데이터는 개별 리뷰를 담은 파이썬 리스트 객체로 이루어진 넘파이 배열이다.\\n그렇다. 넘파이 배열은 정수나 실수 외에도 파이썬 객체를 담을 수도 있다.\\n그럼 다음과 같이 첫 번째 리뷰의 길이를 출력해 보자.\\n'"
            ],
            "application/vnd.google.colaboratory.intrinsic+json": {
              "type": "string"
            }
          },
          "metadata": {},
          "execution_count": 7
        }
      ]
    },
    {
      "cell_type": "code",
      "source": [
        "# 첫 번째 리뷰 길이 출력\n",
        "print(len(train_input[0]))"
      ],
      "metadata": {
        "colab": {
          "base_uri": "https://localhost:8080/"
        },
        "id": "jLIwMQFECGEN",
        "outputId": "e869fe24-4d7e-4780-8f6f-32fb93df137c"
      },
      "execution_count": null,
      "outputs": [
        {
          "output_type": "stream",
          "name": "stdout",
          "text": [
            "218\n"
          ]
        }
      ]
    },
    {
      "cell_type": "code",
      "source": [
        "# 두 번째 리뷰 길이 출력\n",
        "print(len(train_input[1]))\n",
        "\n",
        "# 리뷰마다 각각 길이가 다름을 알 수 있음"
      ],
      "metadata": {
        "colab": {
          "base_uri": "https://localhost:8080/"
        },
        "id": "KbHN8-HYCJTS",
        "outputId": "2aaa8d26-8f92-42b5-8ab7-4664bc8f5a86"
      },
      "execution_count": null,
      "outputs": [
        {
          "output_type": "stream",
          "name": "stdout",
          "text": [
            "189\n"
          ]
        }
      ]
    },
    {
      "cell_type": "code",
      "source": [
        "# 첫 번째 리뷰에 담긴 내용 출력\n",
        "print(train_input[0])"
      ],
      "metadata": {
        "colab": {
          "base_uri": "https://localhost:8080/"
        },
        "id": "rr_3BdFOCO3N",
        "outputId": "d2f9a230-d0fc-4bee-e651-8916e06147b2"
      },
      "execution_count": null,
      "outputs": [
        {
          "output_type": "stream",
          "name": "stdout",
          "text": [
            "[1, 14, 22, 16, 43, 2, 2, 2, 2, 65, 458, 2, 66, 2, 4, 173, 36, 256, 5, 25, 100, 43, 2, 112, 50, 2, 2, 9, 35, 480, 284, 5, 150, 4, 172, 112, 167, 2, 336, 385, 39, 4, 172, 2, 2, 17, 2, 38, 13, 447, 4, 192, 50, 16, 6, 147, 2, 19, 14, 22, 4, 2, 2, 469, 4, 22, 71, 87, 12, 16, 43, 2, 38, 76, 15, 13, 2, 4, 22, 17, 2, 17, 12, 16, 2, 18, 2, 5, 62, 386, 12, 8, 316, 8, 106, 5, 4, 2, 2, 16, 480, 66, 2, 33, 4, 130, 12, 16, 38, 2, 5, 25, 124, 51, 36, 135, 48, 25, 2, 33, 6, 22, 12, 215, 28, 77, 52, 5, 14, 407, 16, 82, 2, 8, 4, 107, 117, 2, 15, 256, 4, 2, 7, 2, 5, 2, 36, 71, 43, 2, 476, 26, 400, 317, 46, 7, 4, 2, 2, 13, 104, 88, 4, 381, 15, 297, 98, 32, 2, 56, 26, 141, 6, 194, 2, 18, 4, 226, 22, 21, 134, 476, 26, 480, 5, 144, 30, 2, 18, 51, 36, 28, 224, 92, 25, 104, 4, 226, 65, 16, 38, 2, 88, 12, 16, 283, 5, 16, 2, 113, 103, 32, 15, 16, 2, 19, 178, 32]\n"
          ]
        }
      ]
    },
    {
      "cell_type": "code",
      "source": [
        "'''\n",
        "앞서 설명했듯 텐서플로에 있는 IMDB 리뷰 데이터는 이미 정수로 변환되어 있다.\n",
        "앞서 num_words=500으로 지정했기 때문에 어휘 사전에는 500개의 단어만 들어 있다.\n",
        "따라서 어휘 사전에 없는 단어는 모두 2로 표시되어 나타난다.\n",
        "\n",
        "* 어떤 기준으로 500개의 단어를 고른 것인가?\n",
        "  - imdb.load_data() 함수는 전체 어휘 사전에 있는 단어를 등장 횟수 순서대로\n",
        "    나열한 다음 가장 많이 등장한 500개의 단어를 선택한다.\n",
        "'''"
      ],
      "metadata": {
        "colab": {
          "base_uri": "https://localhost:8080/",
          "height": 92
        },
        "id": "egYopzaECaZ7",
        "outputId": "2dfe84d0-fd08-45b0-f3f2-7670fcc3db4f"
      },
      "execution_count": null,
      "outputs": [
        {
          "output_type": "execute_result",
          "data": {
            "text/plain": [
              "'\\n앞서 설명했듯 텐서플로에 있는 IMDB 리뷰 데이터는 이미 정수로 변환되어 있다.\\n앞서 num_words=500으로 지정했기 때문에 어휘 사전에는 500개의 단어만 들어 있다.\\n따라서 어휘 사전에 없는 단어는 모두 2로 표시되어 나타난다.\\n\\n* 어떤 기준으로 500개의 단어를 고른 것인가?\\n  - imdb.load_data() 함수는 전체 어휘 사전에 있는 단어를 등장 횟수 순서대로\\n    나열한 다음 가장 많이 등장한 500개의 단어를 선택한다.\\n'"
            ],
            "application/vnd.google.colaboratory.intrinsic+json": {
              "type": "string"
            }
          },
          "metadata": {},
          "execution_count": 11
        }
      ]
    },
    {
      "cell_type": "code",
      "source": [
        "# 타깃 데이터 출력\n",
        "print(train_target[:20])"
      ],
      "metadata": {
        "colab": {
          "base_uri": "https://localhost:8080/"
        },
        "id": "ORXhmJBEC5YL",
        "outputId": "1a670db7-6469-4bf7-a092-a4723b288208"
      },
      "execution_count": null,
      "outputs": [
        {
          "output_type": "stream",
          "name": "stdout",
          "text": [
            "[1 0 0 1 0 0 1 0 1 0 1 0 0 0 0 0 1 1 0 1]\n"
          ]
        }
      ]
    },
    {
      "cell_type": "code",
      "source": [
        "'''\n",
        "내가 해결해야 할 문제는 리뷰가 긍정적인지 부정적인지 판단(분류)하는 것이다.\n",
        "그렇다면 이진 분류 문제로 볼 수 있으므로 타깃값이 0(부정)과 1(긍정)로 나눠진다.\n",
        "\n",
        "이제 데이터를 더 살펴보기 전에 훈련 세트에서 검증 세트를 떼어 놓도록 하자.\n",
        "원래 훈련 세트의 크기가 25,000개였으므로 20%를 검증 세트로 떼어 놓으면\n",
        "훈련 세트의 크기는 20,000개로 줄어들 것이다.\n",
        "'''"
      ],
      "metadata": {
        "colab": {
          "base_uri": "https://localhost:8080/",
          "height": 73
        },
        "id": "TtFP16goC8l1",
        "outputId": "7c24bcee-b3ca-40b4-85b5-02f019b85989"
      },
      "execution_count": null,
      "outputs": [
        {
          "output_type": "execute_result",
          "data": {
            "text/plain": [
              "'\\n내가 해결해야 할 문제는 리뷰가 긍정적인지 부정적인지 판단(분류)하는 것이다.\\n그렇다면 이진 분류 문제로 볼 수 있으므로 타깃값이 0(부정)과 1(긍정)로 나눠진다.\\n\\n이제 데이터를 더 살펴보기 전에 훈련 세트에서 검증 세트를 떼어 놓도록 하자.\\n원래 훈련 세트의 크기가 25,000개였으므로 20%를 검증 세트로 떼어 놓으면\\n훈련 세트의 크기는 20,000개로 줄어들 것이다.\\n'"
            ],
            "application/vnd.google.colaboratory.intrinsic+json": {
              "type": "string"
            }
          },
          "metadata": {},
          "execution_count": 13
        }
      ]
    },
    {
      "cell_type": "code",
      "source": [
        "# 훈련 세트에서 검증 세트 분할\n",
        "from sklearn.model_selection import train_test_split\n",
        "\n",
        "train_input, val_input, train_target, val_target = train_test_split(\n",
        "    train_input, train_target, test_size=0.2, random_state=42)"
      ],
      "metadata": {
        "id": "hSW2_PHgDVKJ"
      },
      "execution_count": null,
      "outputs": []
    },
    {
      "cell_type": "code",
      "source": [
        "'''\n",
        "이제 훈련 세트에 대해 몇 가지 조사를 할 것이다.\n",
        "먼저 각 리뷰의 길이를 계산해 넘파이 배열에 담겠다.\n",
        "이렇게 하는 이유는 평균적인 리뷰의 길이와 가장 짧은 리뷰의 길이\n",
        "그리고 가장 긴 리뷰의 길이를 확인하고 싶기 때문이다.\n",
        "이를 위해 넘파이 리스트 내포를 사용해 train_input의 원소를 순회하며 길이를 재도록 하겠다.\n",
        "'''"
      ],
      "metadata": {
        "colab": {
          "base_uri": "https://localhost:8080/",
          "height": 73
        },
        "id": "sqGK8Sv4DnO8",
        "outputId": "57255c32-1e4c-42eb-a76b-c88af2480ee9"
      },
      "execution_count": null,
      "outputs": [
        {
          "output_type": "execute_result",
          "data": {
            "text/plain": [
              "'\\n이제 훈련 세트에 대해 몇 가지 조사를 할 것이다.\\n먼저 각 리뷰의 길이를 계산해 넘파이 배열에 담겠다.\\n이렇게 하는 이유는 평균적인 리뷰의 길이와 가장 짧은 리뷰의 길이\\n그리고 가장 긴 리뷰의 길이를 확인하고 싶기 때문이다.\\n이를 위해 넘파이 리스트 내포를 사용해 train_input의 원소를 순회하며 길이를 재도록 하겠다.\\n'"
            ],
            "application/vnd.google.colaboratory.intrinsic+json": {
              "type": "string"
            }
          },
          "metadata": {},
          "execution_count": 15
        }
      ]
    },
    {
      "cell_type": "code",
      "source": [
        "# 길이 측정을 위한 넘파이 리스트 내포 사용\n",
        "import numpy as np\n",
        "\n",
        "lengths = np.array([len(x) for x in train_input]) # 표현식에 함수를 사용 가능하며 for문의 요소에 인자 사용 가능"
      ],
      "metadata": {
        "id": "EBzKJBZND3Ym"
      },
      "execution_count": null,
      "outputs": []
    },
    {
      "cell_type": "code",
      "source": [
        "# 리뷰 길이의 평균 및 중간값 계산\n",
        "print(np.mean(lengths), np.median(lengths))\n",
        "\n",
        "# 리뷰 길이는 사용된 토큰의 개수를 의미함"
      ],
      "metadata": {
        "colab": {
          "base_uri": "https://localhost:8080/"
        },
        "id": "uoVPa-E9EOF1",
        "outputId": "5ff2bc32-e937-4d96-fb47-105f6845d25a"
      },
      "execution_count": null,
      "outputs": [
        {
          "output_type": "stream",
          "name": "stdout",
          "text": [
            "239.00925 178.0\n"
          ]
        }
      ]
    },
    {
      "cell_type": "code",
      "source": [
        "# lengths 배열 히스토그램으로 시각화\n",
        "import matplotlib.pyplot as plt\n",
        "\n",
        "plt.hist(lengths)\n",
        "plt.xlabel('length')\n",
        "plt.ylabel('frequency')\n",
        "plt.show()"
      ],
      "metadata": {
        "colab": {
          "base_uri": "https://localhost:8080/",
          "height": 449
        },
        "id": "upA-I_vpFQvk",
        "outputId": "c2870e8b-0e17-48d3-b181-86f699c6f667"
      },
      "execution_count": null,
      "outputs": [
        {
          "output_type": "display_data",
          "data": {
            "text/plain": [
              "<Figure size 640x480 with 1 Axes>"
            ],
            "image/png": "[encoded data removed]"
          },
          "metadata": {}
        }
      ]
    },
    {
      "cell_type": "code",
      "source": [
        "'''\n",
        "시각화 결과, 이 리뷰 데이터는 한쪽으로 치우친 분포를 보이고 있다.\n",
        "대부분의 리뷰 길이는 300 미만이지만, 아주 긴 리뷰도 일부 존재한다는 것을 의미한다.\n",
        "어떤 리뷰는 1,000개의 단어가 넘기도 한다!\n",
        "\n",
        "리뷰는 대부분 짧아서 이 예제에서는 중간갑보다 훨씬 짧은 100개의 단어만 사용하겠다.\n",
        "하지만 여전히 100개의 단어보다 작은 리뷰가 있다.\n",
        "이런 리뷰들의 길이는 100에 맞추기 위해 패딩이 필요하다.\n",
        "보통 패딩을 나타내는 토큰으로는 0을 사용한다.\n",
        "\n",
        "물론 수동으로 훈련 세트에 있는 20,000개의 리뷰를 순회하면서 길이가 100이 되도록 잘라내거나 0으로 패딩 가능하다.\n",
        "하지만 케라스는 시퀀스 데이터의 길이를 맞추는 pad_seqeunces() 함수를 제공한다.\n",
        "이 함수를 사용해 train_input의 길이를 100으로 맞춰 보겠다.\n",
        "'''"
      ],
      "metadata": {
        "colab": {
          "base_uri": "https://localhost:8080/",
          "height": 129
        },
        "id": "A7iEZ0xGGKTp",
        "outputId": "35f7fd2a-96d0-46cc-c733-de11562c21c1"
      },
      "execution_count": null,
      "outputs": [
        {
          "output_type": "execute_result",
          "data": {
            "text/plain": [
              "'\\n시각화 결과, 이 리뷰 데이터는 한쪽으로 치우친 분포를 보이고 있다.\\n대부분의 리뷰 길이는 300 미만이지만, 아주 긴 리뷰도 일부 존재한다는 것을 의미한다.\\n어떤 리뷰는 1,000개의 단어가 넘기도 한다!\\n\\n리뷰는 대부분 짧아서 이 예제에서는 중간갑보다 훨씬 짧은 100개의 단어만 사용하겠다.\\n하지만 여전히 100개의 단어보다 작은 리뷰가 있다.\\n이런 리뷰들의 길이는 100에 맞추기 위해 패딩이 필요하다.\\n보통 패딩을 나타내는 토큰으로는 0을 사용한다.\\n\\n물론 수동으로 훈련 세트에 있는 20,000개의 리뷰를 순회하면서 길이가 100이 되도록 잘라내거나 0으로 패딩 가능하다.\\n하지만 케라스는 시퀀스 데이터의 길이를 맞추는 pad_seqeunces() 함수를 제공한다.\\n이 함수를 사용해 train_input의 길이를 100으로 맞춰 보겠다.\\n'"
            ],
            "application/vnd.google.colaboratory.intrinsic+json": {
              "type": "string"
            }
          },
          "metadata": {},
          "execution_count": 19
        }
      ]
    },
    {
      "cell_type": "code",
      "source": [
        "# trian_input의 길이를 100으로 조정\n",
        "from tensorflow.keras.preprocessing.sequence import pad_sequences\n",
        "\n",
        "train_seq = pad_sequences(train_input, maxlen=100)\n",
        "\n",
        "# maxlen에 원하는 길이를 지정하면 이보다 긴 경우는 잘라내고 짤읍 경우는 0으로 패딩함"
      ],
      "metadata": {
        "id": "3EG9jirHHaG-"
      },
      "execution_count": null,
      "outputs": []
    },
    {
      "cell_type": "code",
      "source": [
        "# 조정 결과물의 크기 확인\n",
        "print(train_seq.shape)\n",
        "\n",
        "# (20000,) --> (20000, 100) 2차원 배열이 되었음 (샘플 개수, 토큰(타임세틉) 개수)"
      ],
      "metadata": {
        "colab": {
          "base_uri": "https://localhost:8080/"
        },
        "id": "QzvcvgZdHukg",
        "outputId": "79cbc361-091e-4d40-d389-8bc00e670578"
      },
      "execution_count": null,
      "outputs": [
        {
          "output_type": "stream",
          "name": "stdout",
          "text": [
            "(20000, 100)\n"
          ]
        }
      ]
    },
    {
      "cell_type": "code",
      "source": [
        "# 첫 번째 샘플 출력\n",
        "print(train_seq[0])\n",
        "\n",
        "# 샘플의 앞뒤에 패딩값 0이 없는 것으로 보아 100보다 길었을 것 같음 --> 앞 or 뒤 어느 부분이 잘렸을까?"
      ],
      "metadata": {
        "colab": {
          "base_uri": "https://localhost:8080/"
        },
        "id": "9YwCj_EjIIEA",
        "outputId": "a3f86c5f-8669-407e-afd5-6dbdae667559"
      },
      "execution_count": null,
      "outputs": [
        {
          "output_type": "stream",
          "name": "stdout",
          "text": [
            "[ 10   4  20   9   2 364 352   5  45   6   2   2  33 269   8   2 142   2\n",
            "   5   2  17  73  17 204   5   2  19  55   2   2  92  66 104  14  20  93\n",
            "  76   2 151  33   4  58  12 188   2 151  12 215  69 224 142  73 237   6\n",
            "   2   7   2   2 188   2 103  14  31  10  10 451   7   2   5   2  80  91\n",
            "   2  30   2  34  14  20 151  50  26 131  49   2  84  46  50  37  80  79\n",
            "   6   2  46   7  14  20  10  10 470 158]\n"
          ]
        }
      ]
    },
    {
      "cell_type": "code",
      "source": [
        "# 원본 샘플의 끝 부분 확인(train_input)\n",
        "print(train_input[0][-10:])\n",
        "\n",
        "# 리스트 인덱스에 슬라이싱 연산자를 적용하여, 특정 요소의 특정 값들을 확인 가능함"
      ],
      "metadata": {
        "colab": {
          "base_uri": "https://localhost:8080/"
        },
        "id": "xsV4prM9Idbg",
        "outputId": "4bd30022-8e6c-4836-964e-e88a3ca11f67"
      },
      "execution_count": null,
      "outputs": [
        {
          "output_type": "stream",
          "name": "stdout",
          "text": [
            "[6, 2, 46, 7, 14, 20, 10, 10, 470, 158]\n"
          ]
        }
      ]
    },
    {
      "cell_type": "code",
      "source": [
        "'''\n",
        "음수 인덱스와 슬라이싱을 사용해 trian_input[0]에 있는 마지막 10개의 토큰을 출력했다.\n",
        "train_seq[0]의 출력값과 비교하면 정확히 일치한다.\n",
        "그렇다면 샘플의 앞부분이 잘렸다는 것을 짐작할 수 있을 것이다.\n",
        "\n",
        "pad_sequences() 함수는 기본적으로 maxlen보다 긴 시퀀스의 앞부분을 자른다.\n",
        "이렇게 하는 이유는 일반적으로 시퀀스의 뒷부분의 정보가 더 유용하리라 기대하기 때문이다.\n",
        "영화 리뷰 데이터를 생각해 보면 리뷰 끝에 뭔가 결정적인 소감을 말할 가능성이 높다고 볼 수 있다.\n",
        "만약 시퀀스의 뒷부분을 잘라내고 싶다면 pad_sequences() 함수의\n",
        "truncating(가지를 치다) 매개변수의 값을 기본값 'pre'가 아닌 'post(=back)'로 바꾸면 된다.\n",
        "\n",
        "이번에는 train_seq에 있는 여섯 번째 샘플을 출력해 보겠다.\n",
        "'''"
      ],
      "metadata": {
        "colab": {
          "base_uri": "https://localhost:8080/",
          "height": 129
        },
        "id": "HKn2_Vd8I4bH",
        "outputId": "6ada5ca0-b2fb-418e-e177-a1f8d0c07c57"
      },
      "execution_count": null,
      "outputs": [
        {
          "output_type": "execute_result",
          "data": {
            "text/plain": [
              "\"\\n음수 인덱스와 슬라이싱을 사용해 trian_input[0]에 있는 마지막 10개의 토큰을 출력했다.\\ntrain_seq[0]의 출력값과 비교하면 정확히 일치한다.\\n그렇다면 샘플의 앞부분이 잘렸다는 것을 짐작할 수 있을 것이다.\\n\\npad_sequences() 함수는 기본적으로 maxlen보다 긴 시퀀스의 앞부분을 자른다.\\n이렇게 하는 이유는 일반적으로 시퀀스의 뒷부분의 정보가 더 유용하리라 기대하기 때문이다.\\n영화 리뷰 데이터를 생각해 보면 리뷰 끝에 뭔가 결정적인 소감을 말할 가능성이 높다고 볼 수 있다.\\n만약 시퀀스의 뒷부분을 잘라내고 싶다면 pad_sequences() 함수의 \\ntruncating(가지를 치다) 매개변수의 값을 기본값 'pre'가 아닌 'post(=back)'로 바꾸면 된다.\\n\\n이번에는 train_seq에 있는 여섯 번째 샘플을 출력해 보겠다.\\n\""
            ],
            "application/vnd.google.colaboratory.intrinsic+json": {
              "type": "string"
            }
          },
          "metadata": {},
          "execution_count": 24
        }
      ]
    },
    {
      "cell_type": "code",
      "source": [
        "# 여섯 번째 샘플 출력\n",
        "print(train_seq[5])"
      ],
      "metadata": {
        "colab": {
          "base_uri": "https://localhost:8080/"
        },
        "id": "JUg5gO5VKK03",
        "outputId": "ee3cb940-e955-4009-cc72-6c8dbfe5f9cd"
      },
      "execution_count": null,
      "outputs": [
        {
          "output_type": "stream",
          "name": "stdout",
          "text": [
            "[  0   0   0   0   1   2 195  19  49   2   2 190   4   2 352   2 183  10\n",
            "  10  13  82  79   4   2  36  71 269   8   2  25  19  49   7   4   2   2\n",
            "   2   2   2  10  10  48  25  40   2  11   2   2  40   2   2   5   4   2\n",
            "   2  95  14 238  56 129   2  10  10  21   2  94 364 352   2   2  11 190\n",
            "  24 484   2   7  94 205 405  10  10  87   2  34  49   2   7   2   2   2\n",
            "   2   2 290   2  46  48  64  18   4   2]\n"
          ]
        }
      ]
    },
    {
      "cell_type": "code",
      "source": [
        "'''\n",
        "앞부분에 0이 있는 것으로 보아 이 샘플의 길이는 100이 안 될 것이다.\n",
        "역시 같은 이유로 패딩 토큰을 시퀀스의 뒷부분이 아니라 앞부분에 추가된다.\n",
        "시퀀스의 마지막에 있는 단어가 셀의 은닉 상태에 가장 큰 영향을 미치게 되므로\n",
        "마지막에 패딩을 추가하는 것은 일반적으로 선호하지 않는다.\n",
        "하지만 원한다면 pad_sequences() 함수의 padding 매개변수 기본값인 'pre'를 'post'로 바꾸면 된다.\n",
        "\n",
        "그럼 이런 방식대로 검증 세트의 길읻 100으로 맞추어 보자.\n",
        "'''"
      ],
      "metadata": {
        "colab": {
          "base_uri": "https://localhost:8080/",
          "height": 92
        },
        "id": "v6AC5OZLKPAZ",
        "outputId": "5fbb03a4-80fe-47aa-f9c6-ddb8b3aa13a5"
      },
      "execution_count": null,
      "outputs": [
        {
          "output_type": "execute_result",
          "data": {
            "text/plain": [
              "\"\\n앞부분에 0이 있는 것으로 보아 이 샘플의 길이는 100이 안 될 것이다.\\n역시 같은 이유로 패딩 토큰을 시퀀스의 뒷부분이 아니라 앞부분에 추가된다.\\n시퀀스의 마지막에 있는 단어가 셀의 은닉 상태에 가장 큰 영향을 미치게 되므로\\n마지막에 패딩을 추가하는 것은 일반적으로 선호하지 않는다.\\n하지만 원한다면 pad_sequences() 함수의 padding 매개변수 기본값인 'pre'를 'post'로 바꾸면 된다.\\n\\n그럼 이런 방식대로 검증 세트의 길읻 100으로 맞추어 보자.\\n\""
            ],
            "application/vnd.google.colaboratory.intrinsic+json": {
              "type": "string"
            }
          },
          "metadata": {},
          "execution_count": 26
        }
      ]
    },
    {
      "cell_type": "code",
      "source": [
        "# 검증 세트의 길이도 100으로 조정\n",
        "val_seq = pad_sequences(val_input,maxlen=100)"
      ],
      "metadata": {
        "id": "S3F1hmWOK1-w"
      },
      "execution_count": null,
      "outputs": []
    },
    {
      "cell_type": "markdown",
      "source": [
        "# **순환 신경망 만들기**"
      ],
      "metadata": {
        "id": "SdtaBAZ6LAkn"
      }
    },
    {
      "cell_type": "code",
      "source": [
        "'''\n",
        "케라스는 여러 종류의 순환층 클래스를 제공한다.\n",
        "그중에 가장 간단한 것은 SimpleRNN 클래스이다.\n",
        "이 클래스는 07-1장에서 설명한 것과 거의 비슷한 기능을 수행한다.\n",
        "IMDB 리뷰 분류 문제는 이진 분류이므로 마지막 출력층은 1개의 뉴런을 가지고\n",
        "시그모이드 활성화 함수를 사용해야 한다.\n",
        "먼저 케라스의 Sequential 클래스로 만든 신경망 코드를 살펴보자.\n",
        "\n",
        "* Sequential 클래스가 순환 신경망을 만드는 용도인가?\n",
        "  - 아니다. 이름 때문에 혼동하지 말자.\n",
        "    이전 장에서 보았듯이 Sequential 클래스는 순환 신경망뿐만 아니라\n",
        "    합성곱 신경망이나 일반적인 인공 신경망 모델을 모두 만들 수 있다.\n",
        "    다만 층을 순서대로 쌓기 때문에 Sequential 클래스로 이름을 붙였다.\n",
        "    순차 데이터(sequential data)와는 관련 없으니 혼동하지 말자.\n",
        "'''"
      ],
      "metadata": {
        "colab": {
          "base_uri": "https://localhost:8080/",
          "height": 129
        },
        "id": "9hq2AF3vK-Wo",
        "outputId": "01c8f1f4-1193-49a5-c738-38b8a760c213"
      },
      "execution_count": null,
      "outputs": [
        {
          "output_type": "execute_result",
          "data": {
            "text/plain": [
              "'\\n케라스는 여러 종류의 순환층 클래스를 제공한다.\\n그중에 가장 간단한 것은 SimpleRNN 클래스이다.\\n이 클래스는 07-1장에서 설명한 것과 거의 비슷한 기능을 수행한다.\\nIMDB 리뷰 분류 문제는 이진 분류이므로 마지막 출력층은 1개의 뉴런을 가지고\\n시그모이드 활성화 함수를 사용해야 한다.\\n먼저 케라스의 Sequential 클래스로 만든 신경망 코드를 살펴보자.\\n\\n* Sequential 클래스가 순환 신경망을 만드는 용도인가?\\n  - 아니다. 이름 때문에 혼동하지 말자.\\n    이전 장에서 보았듯이 Sequential 클래스는 순환 신경망뿐만 아니라\\n    합성곱 신경망이나 일반적인 인공 신경망 모델을 모두 만들 수 있다.\\n    다만 층을 순서대로 쌓기 때문에 Sequential 클래스로 이름을 붙였다.\\n    순차 데이터(sequential data)와는 관련 없으니 혼동하지 말자.\\n'"
            ],
            "application/vnd.google.colaboratory.intrinsic+json": {
              "type": "string"
            }
          },
          "metadata": {},
          "execution_count": 28
        }
      ]
    },
    {
      "cell_type": "code",
      "source": [
        "# 순환 신경망 모델 생성\n",
        "from tensorflow import keras\n",
        "\n",
        "model = keras.Sequential()\n",
        "\n",
        "model.add(keras.layers.SimpleRNN(8, input_shape=(100, 500))) # 뉴런의 개수 = 8\n",
        "model.add(keras.layers.Dense(1, activation='sigmoid'))\n",
        "\n",
        "# input_shape=(1,, 500) = 이전에 샘플의 길이를 100으로 지정함"
      ],
      "metadata": {
        "colab": {
          "base_uri": "https://localhost:8080/"
        },
        "id": "LMojm-qFMzx5",
        "outputId": "b5bbd233-413a-4ee0-9c09-e3b90f9190b3"
      },
      "execution_count": null,
      "outputs": [
        {
          "output_type": "stream",
          "name": "stderr",
          "text": [
            "/usr/local/lib/python3.11/dist-packages/keras/src/layers/rnn/rnn.py:204: UserWarning: Do not pass an `input_shape`/`input_dim` argument to a layer. When using Sequential models, prefer using an `Input(shape)` object as the first layer in the model instead.\n",
            "  super().__init__(**kwargs)\n"
          ]
        }
      ]
    },
    {
      "cell_type": "code",
      "source": [
        "# 원-핫 인코딩 배열 생성\n",
        "train_oh = keras.utils.to_categorical(train_seq)"
      ],
      "metadata": {
        "id": "k3KikO2bRcLo"
      },
      "execution_count": null,
      "outputs": []
    },
    {
      "cell_type": "code",
      "source": [
        "# 배열의 크기 출력\n",
        "print(train_oh.shape)"
      ],
      "metadata": {
        "colab": {
          "base_uri": "https://localhost:8080/"
        },
        "id": "D_zPyyoARlSy",
        "outputId": "9f0ebfed-b3d4-4a80-cab4-af2b3f7968c1"
      },
      "execution_count": null,
      "outputs": [
        {
          "output_type": "stream",
          "name": "stdout",
          "text": [
            "(20000, 100, 500)\n"
          ]
        }
      ]
    },
    {
      "cell_type": "code",
      "source": [
        "'''\n",
        "정수 하나마다 모두 500차원의 배열로 변경되었기 때무에 (20000, 100) 크기의 train_seq가\n",
        "(20000, 100, 500) 크기의 train_oh로 바뀌었다.\n",
        "이렇게 샘플 데이터의 크기가 1차원 정수 배열 (100, )에서 2차원 배열(100, 500)로 바꿔야 하므로\n",
        "SimpleRNN 클래스의 input_shape 매개변수의 값을 (100, 500)으로 지정한 것이다.\n",
        "(샘플 개수, 문장 최대 길이, 어휘 사전의 단어 개수)\n",
        "\n",
        "train_oh의 첫 번째 샘플의 첫 번째 토큰 10이 잘 인코딩되었는지 출력해 보자.\n",
        "'''"
      ],
      "metadata": {
        "colab": {
          "base_uri": "https://localhost:8080/",
          "height": 92
        },
        "id": "6tG8PajWRwA-",
        "outputId": "87db5728-a0b3-46a1-d508-fc8489ed201a"
      },
      "execution_count": null,
      "outputs": [
        {
          "output_type": "execute_result",
          "data": {
            "text/plain": [
              "'\\n정수 하나마다 모두 500차원의 배열로 변경되었기 때무에 (20000, 100) 크기의 train_seq가\\n(20000, 100, 500) 크기의 train_oh로 바뀌었다.\\n이렇게 샘플 데이터의 크기가 1차원 정수 배열 (100, )에서 2차원 배열(100, 500)로 바꿔야 하므로\\nSimpleRNN 클래스의 input_shape 매개변수의 값을 (100, 500)으로 지정한 것이다.\\n(샘플 개수, 문장 최대 길이, 어휘 사전의 단어 개수)\\n\\ntrain_oh의 첫 번째 샘플의 첫 번째 토큰 10이 잘 인코딩되었는지 출력해 보자.\\n'"
            ],
            "application/vnd.google.colaboratory.intrinsic+json": {
              "type": "string"
            }
          },
          "metadata": {},
          "execution_count": 33
        }
      ]
    },
    {
      "cell_type": "code",
      "source": [
        "# 첫 번째 샘플의 첫 번째 토큰 10 출력\n",
        "print(train_oh[0][0][:12])\n",
        "\n",
        "# train_oh[0] = 첫 번째 샘플 선택\n",
        "# train_oh[0][0] = 첫 번째 샘플의 첫 번째 토큰 선택\n",
        "# train_oh[0][0][:12] = 원-핫 인코딩 백터의 처음 12개 요소들 선택\""
      ],
      "metadata": {
        "colab": {
          "base_uri": "https://localhost:8080/"
        },
        "id": "DJi2C-98TVy2",
        "outputId": "cef71411-1dd0-473c-9302-e929a9e1eb39"
      },
      "execution_count": null,
      "outputs": [
        {
          "output_type": "stream",
          "name": "stdout",
          "text": [
            "[0. 0. 0. 0. 0. 0. 0. 0. 0. 0. 1. 0.]\n"
          ]
        }
      ]
    },
    {
      "cell_type": "code",
      "source": [
        "# 모든 원소의 값이 1이 되는지 확인\n",
        "print(np.sum(train_oh[0][0]))\n",
        "\n",
        "# 원-핫 인코딩이 잘 적용되었나 확인하는 것임"
      ],
      "metadata": {
        "colab": {
          "base_uri": "https://localhost:8080/"
        },
        "id": "IQR5d_BKXmi0",
        "outputId": "e1110753-ead2-42ea-e8cc-6300cb76f4c9"
      },
      "execution_count": null,
      "outputs": [
        {
          "output_type": "stream",
          "name": "stdout",
          "text": [
            "1.0\n"
          ]
        }
      ]
    },
    {
      "cell_type": "code",
      "source": [
        "'''\n",
        "토큰 10이 잘 인코딩 되었다.\n",
        "열한 번째 원소만 1이고 나머지는 모두 0이어서 원-핫 인코딩된 배열의 값을 모두 더한 결과가 1이 되었다.\n",
        "같은 방식으로 val_seq도 원-핫 인코딩으로 바꾸어 놓겠다.\n",
        "'''"
      ],
      "metadata": {
        "colab": {
          "base_uri": "https://localhost:8080/",
          "height": 54
        },
        "id": "-YcnGHCwT2Me",
        "outputId": "e438b04f-f697-4422-9c5e-a269455d3355"
      },
      "execution_count": null,
      "outputs": [
        {
          "output_type": "execute_result",
          "data": {
            "text/plain": [
              "'\\n토큰 10이 잘 인코딩 되었다.\\n열한 번째 원소만 1이고 나머지는 모두 0이어서 원-핫 인코딩된 배열의 값을 모두 더한 결과가 1이 되었다.\\n같은 방식으로 val_seq도 원-핫 인코딩으로 바꾸어 놓겠다.\\n'"
            ],
            "application/vnd.google.colaboratory.intrinsic+json": {
              "type": "string"
            }
          },
          "metadata": {},
          "execution_count": 36
        }
      ]
    },
    {
      "cell_type": "code",
      "source": [
        "val_oh = keras.utils.to_categorical(val_seq)"
      ],
      "metadata": {
        "id": "T1SMeaiqYaPm"
      },
      "execution_count": null,
      "outputs": []
    },
    {
      "cell_type": "code",
      "source": [
        "# 생선한 모델의 구조 출력\n",
        "model.summary()"
      ],
      "metadata": {
        "colab": {
          "base_uri": "https://localhost:8080/",
          "height": 193
        },
        "id": "NCXYlurgYcpv",
        "outputId": "a40e3538-336b-4acd-8805-b5bcdb39bd57"
      },
      "execution_count": null,
      "outputs": [
        {
          "output_type": "display_data",
          "data": {
            "text/plain": [
              "\u001b[1mModel: \"sequential\"\u001b[0m\n"
            ],
            "text/html": [
              "<pre style=\"white-space:pre;overflow-x:auto;line-height:normal;font-family:Menlo,'DejaVu Sans Mono',consolas,'Courier New',monospace\"><span style=\"font-weight: bold\">Model: \"sequential\"</span>\n",
              "</pre>\n"
            ]
          },
          "metadata": {}
        },
        {
          "output_type": "display_data",
          "data": {
            "text/plain": [
              "┏━━━━━━━━━━━━━━━━━━━━━━━━━━━━━━━━━━━━━━┳━━━━━━━━━━━━━━━━━━━━━━━━━━━━━┳━━━━━━━━━━━━━━━━━┓\n",
              "┃\u001b[1m \u001b[0m\u001b[1mLayer (type)                        \u001b[0m\u001b[1m \u001b[0m┃\u001b[1m \u001b[0m\u001b[1mOutput Shape               \u001b[0m\u001b[1m \u001b[0m┃\u001b[1m \u001b[0m\u001b[1m        Param #\u001b[0m\u001b[1m \u001b[0m┃\n",
              "┡━━━━━━━━━━━━━━━━━━━━━━━━━━━━━━━━━━━━━━╇━━━━━━━━━━━━━━━━━━━━━━━━━━━━━╇━━━━━━━━━━━━━━━━━┩\n",
              "│ simple_rnn (\u001b[38;5;33mSimpleRNN\u001b[0m)               │ (\u001b[38;5;45mNone\u001b[0m, \u001b[38;5;34m8\u001b[0m)                   │           \u001b[38;5;34m4,072\u001b[0m │\n",
              "├──────────────────────────────────────┼─────────────────────────────┼─────────────────┤\n",
              "│ dense (\u001b[38;5;33mDense\u001b[0m)                        │ (\u001b[38;5;45mNone\u001b[0m, \u001b[38;5;34m1\u001b[0m)                   │               \u001b[38;5;34m9\u001b[0m │\n",
              "└──────────────────────────────────────┴─────────────────────────────┴─────────────────┘\n"
            ],
            "text/html": [
              "<pre style=\"white-space:pre;overflow-x:auto;line-height:normal;font-family:Menlo,'DejaVu Sans Mono',consolas,'Courier New',monospace\">┏━━━━━━━━━━━━━━━━━━━━━━━━━━━━━━━━━━━━━━┳━━━━━━━━━━━━━━━━━━━━━━━━━━━━━┳━━━━━━━━━━━━━━━━━┓\n",
              "┃<span style=\"font-weight: bold\"> Layer (type)                         </span>┃<span style=\"font-weight: bold\"> Output Shape                </span>┃<span style=\"font-weight: bold\">         Param # </span>┃\n",
              "┡━━━━━━━━━━━━━━━━━━━━━━━━━━━━━━━━━━━━━━╇━━━━━━━━━━━━━━━━━━━━━━━━━━━━━╇━━━━━━━━━━━━━━━━━┩\n",
              "│ simple_rnn (<span style=\"color: #0087ff; text-decoration-color: #0087ff\">SimpleRNN</span>)               │ (<span style=\"color: #00d7ff; text-decoration-color: #00d7ff\">None</span>, <span style=\"color: #00af00; text-decoration-color: #00af00\">8</span>)                   │           <span style=\"color: #00af00; text-decoration-color: #00af00\">4,072</span> │\n",
              "├──────────────────────────────────────┼─────────────────────────────┼─────────────────┤\n",
              "│ dense (<span style=\"color: #0087ff; text-decoration-color: #0087ff\">Dense</span>)                        │ (<span style=\"color: #00d7ff; text-decoration-color: #00d7ff\">None</span>, <span style=\"color: #00af00; text-decoration-color: #00af00\">1</span>)                   │               <span style=\"color: #00af00; text-decoration-color: #00af00\">9</span> │\n",
              "└──────────────────────────────────────┴─────────────────────────────┴─────────────────┘\n",
              "</pre>\n"
            ]
          },
          "metadata": {}
        },
        {
          "output_type": "display_data",
          "data": {
            "text/plain": [
              "\u001b[1m Total params: \u001b[0m\u001b[38;5;34m4,081\u001b[0m (15.94 KB)\n"
            ],
            "text/html": [
              "<pre style=\"white-space:pre;overflow-x:auto;line-height:normal;font-family:Menlo,'DejaVu Sans Mono',consolas,'Courier New',monospace\"><span style=\"font-weight: bold\"> Total params: </span><span style=\"color: #00af00; text-decoration-color: #00af00\">4,081</span> (15.94 KB)\n",
              "</pre>\n"
            ]
          },
          "metadata": {}
        },
        {
          "output_type": "display_data",
          "data": {
            "text/plain": [
              "\u001b[1m Trainable params: \u001b[0m\u001b[38;5;34m4,081\u001b[0m (15.94 KB)\n"
            ],
            "text/html": [
              "<pre style=\"white-space:pre;overflow-x:auto;line-height:normal;font-family:Menlo,'DejaVu Sans Mono',consolas,'Courier New',monospace\"><span style=\"font-weight: bold\"> Trainable params: </span><span style=\"color: #00af00; text-decoration-color: #00af00\">4,081</span> (15.94 KB)\n",
              "</pre>\n"
            ]
          },
          "metadata": {}
        },
        {
          "output_type": "display_data",
          "data": {
            "text/plain": [
              "\u001b[1m Non-trainable params: \u001b[0m\u001b[38;5;34m0\u001b[0m (0.00 B)\n"
            ],
            "text/html": [
              "<pre style=\"white-space:pre;overflow-x:auto;line-height:normal;font-family:Menlo,'DejaVu Sans Mono',consolas,'Courier New',monospace\"><span style=\"font-weight: bold\"> Non-trainable params: </span><span style=\"color: #00af00; text-decoration-color: #00af00\">0</span> (0.00 B)\n",
              "</pre>\n"
            ]
          },
          "metadata": {}
        }
      ]
    },
    {
      "cell_type": "code",
      "source": [
        "'''\n",
        "SimpleRNN에 전달할 샘플의 크기는 (100, 500)이지만 이 순환층은 마지막 타임스텝의 은닉 상태만 출력한다.\n",
        "이 때문에 출력 크기가 순환층의 뉴런 개수와 동일한 8임을 확인할 수 있다.\n",
        "\n",
        "순환층에 사용된 모델 파라미터의 개수를 계산해 보자.\n",
        "입력 토큰은 500차원의 원-핫 인코딩 배열이다.\n",
        "이 배열이 순환층의 뉴런 8개와 완전히 연결되기 때문에 총 500 * 8 = 4,000개의 가중치가 있다.\n",
        "순환층의 은닉 상태는 다시 다음 타임스텝에 사용되기 위해 또 다른 가중치와 곱해진다.\n",
        "이 은닉 상태도 순환층의 뉴런과 완전히 연결되기 때문에 8(은닉 상태 크기) * 8(뉴런 개수) = 64개의 가중치가 필요하다.\n",
        "마지막으로 뉴런마다 하나의 절편이 있다.\n",
        "따라서 모두 4,000 + 64 + 8 = 4,072개의 모델 파라미터가 필요하다.\n",
        "\n",
        "케라스 API를 사용해 순환 신경망 모델을 손쉽게 만들었다.\n",
        "이전에 만들었던 완전 연결 신경망에 비해 크게 바뀐 것은 없다.\n",
        "Dense 층 대신에 SimpleRNN 층을 사용했고 입력 데이터의 차원을 원-핫 인코딩으로 바꿔 주었다.\n",
        "다음 섹션에서 이 순환 신경망 모델을 훈련해 보겠다.\n",
        "'''"
      ],
      "metadata": {
        "colab": {
          "base_uri": "https://localhost:8080/",
          "height": 167
        },
        "id": "dp0zDW6VYxs2",
        "outputId": "eec78349-512d-49cd-b040-cd862e66a607"
      },
      "execution_count": null,
      "outputs": [
        {
          "output_type": "execute_result",
          "data": {
            "text/plain": [
              "'\\nSimpleRNN에 전달할 샘플의 크기는 (100, 500)이지만 이 순환층은 마지막 타임스텝의 은닉 상태만 출력한다.\\n이 때문에 출력 크기가 순환층의 뉴런 개수와 동일한 8임을 확인할 수 있다.\\n\\n순환층에 사용된 모델 파라미터의 개수를 계산해 보자.\\n입력 토큰은 500차원의 원-핫 인코딩 배열이다.\\n이 배열이 순환층의 뉴런 8개와 완전히 연결되기 때문에 총 500 * 8 = 4,000개의 가중치가 있다.\\n순환층의 은닉 상태는 다시 다음 타임스텝에 사용되기 위해 또 다른 가중치와 곱해진다.\\n이 은닉 상태도 순환층의 뉴런과 완전히 연결되기 때문에 8(은닉 상태 크기) * 8(뉴런 개수) = 64개의 가중치가 필요하다.\\n마지막으로 뉴런마다 하나의 절편이 있다.\\n따라서 모두 4,000 + 64 + 8 = 4,072개의 모델 파라미터가 필요하다.\\n\\n케라스 API를 사용해 순환 신경망 모델을 손쉽게 만들었다.\\n이전에 만들었던 완전 연결 신경망에 비해 크게 바뀐 것은 없다.\\nDense 층 대신에 SimpleRNN 층을 사용했고 입력 데이터의 차원을 원-핫 인코딩으로 바꿔 주었다.\\n다음 섹션에서 이 순환 신경망 모델을 훈련해 보겠다.\\n'"
            ],
            "application/vnd.google.colaboratory.intrinsic+json": {
              "type": "string"
            }
          },
          "metadata": {},
          "execution_count": 39
        }
      ]
    },
    {
      "cell_type": "markdown",
      "source": [
        "# **순환 신경망 훈련하기**"
      ],
      "metadata": {
        "id": "88psy3d2bIvo"
      }
    },
    {
      "cell_type": "code",
      "source": [
        "'''\n",
        "순환 신경망의 훈련은 완전 연결 신경망이나 합성곱 신경망과 크게 다르지 않다.\n",
        "모데을 만드는 것은 달라도 훈련하는 방법은 모두 같다.\n",
        "이것이 케라스 API를 사용하는 장점이다.\n",
        "다음 코드처럼 모델을 컴파일하고 훈련하는 전체 구조가 동일하다.\n",
        "\n",
        "이 예에서는 기본 RMSprop 학습률 0.001을 사용하지 않기 위해\n",
        "별도의 RMSprop 객체를 만들어 학습률을 0.0001로 지정하였다.\n",
        "그다음 에포크 횟수를 100으로 늘리고 배치 크기는 64개로 설정했다.\n",
        "그 밖에 체크포인트와 조기 종료를 구성하는 코드는 거의 동일하다.\n",
        "'''"
      ],
      "metadata": {
        "colab": {
          "base_uri": "https://localhost:8080/",
          "height": 92
        },
        "id": "hV555oHtbK4b",
        "outputId": "78ee5cfd-22e7-4a02-e5fe-69e1e3e19ae7"
      },
      "execution_count": null,
      "outputs": [
        {
          "output_type": "execute_result",
          "data": {
            "text/plain": [
              "'\\n순환 신경망의 훈련은 완전 연결 신경망이나 합성곱 신경망과 크게 다르지 않다.\\n모데을 만드는 것은 달라도 훈련하는 방법은 모두 같다.\\n이것이 케라스 API를 사용하는 장점이다.\\n다음 코드처럼 모델을 컴파일하고 훈련하는 전체 구조가 동일하다.\\n\\n이 예에서는 기본 RMSprop 학습률 0.001을 사용하지 않기 위해 \\n별도의 RMSprop 객체를 만들어 학습률을 0.0001로 지정하였다.\\n그다음 에포크 횟수를 100으로 늘리고 배치 크기는 64개로 설정했다.\\n그 밖에 체크포인트와 조기 종료를 구성하는 코드는 거의 동일하다.\\n'"
            ],
            "application/vnd.google.colaboratory.intrinsic+json": {
              "type": "string"
            }
          },
          "metadata": {},
          "execution_count": 40
        }
      ]
    },
    {
      "cell_type": "code",
      "source": [
        "# 순환 신경망 모델 훈련\n",
        "rmsprop = keras.optimizers.RMSprop(learning_rate=1e-4)\n",
        "model.compile(optimizer=rmsprop, loss='binary_crossentropy',\n",
        "              metrics=['accuracy'])\n",
        "\n",
        "checkpoint_cb = keras.callbacks.ModelCheckpoint('best-simplernn-model.keras',\n",
        "                                                save_best_only=True)\n",
        "early_stopping_cb = keras.callbacks.EarlyStopping(patience=3,\n",
        "                                                  restore_best_weights=True)\n",
        "\n",
        "history = model.fit(train_oh, train_target, epochs=100, batch_size=64,\n",
        "                    validation_data=(val_oh, val_target),\n",
        "                    callbacks=[checkpoint_cb, early_stopping_cb])"
      ],
      "metadata": {
        "colab": {
          "base_uri": "https://localhost:8080/"
        },
        "id": "Vc2AJ5mAbl8y",
        "outputId": "2dc175e0-3ac3-44a9-80a1-f893eeafe7fd"
      },
      "execution_count": null,
      "outputs": [
        {
          "output_type": "stream",
          "name": "stdout",
          "text": [
            "Epoch 1/100\n",
            "\u001b[1m313/313\u001b[0m \u001b[32m━━━━━━━━━━━━━━━━━━━━\u001b[0m\u001b[37m\u001b[0m \u001b[1m13s\u001b[0m 34ms/step - accuracy: 0.4938 - loss: 0.7051 - val_accuracy: 0.5002 - val_loss: 0.7008\n",
            "Epoch 2/100\n",
            "\u001b[1m313/313\u001b[0m \u001b[32m━━━━━━━━━━━━━━━━━━━━\u001b[0m\u001b[37m\u001b[0m \u001b[1m9s\u001b[0m 29ms/step - accuracy: 0.5025 - loss: 0.6988 - val_accuracy: 0.5012 - val_loss: 0.6976\n",
            "Epoch 3/100\n",
            "\u001b[1m313/313\u001b[0m \u001b[32m━━━━━━━━━━━━━━━━━━━━\u001b[0m\u001b[37m\u001b[0m \u001b[1m8s\u001b[0m 27ms/step - accuracy: 0.5135 - loss: 0.6950 - val_accuracy: 0.5068 - val_loss: 0.6950\n",
            "Epoch 4/100\n",
            "\u001b[1m313/313\u001b[0m \u001b[32m━━━━━━━━━━━━━━━━━━━━\u001b[0m\u001b[37m\u001b[0m \u001b[1m9s\u001b[0m 27ms/step - accuracy: 0.5237 - loss: 0.6921 - val_accuracy: 0.5158 - val_loss: 0.6929\n",
            "Epoch 5/100\n",
            "\u001b[1m313/313\u001b[0m \u001b[32m━━━━━━━━━━━━━━━━━━━━\u001b[0m\u001b[37m\u001b[0m \u001b[1m9s\u001b[0m 27ms/step - accuracy: 0.5343 - loss: 0.6896 - val_accuracy: 0.5278 - val_loss: 0.6910\n",
            "Epoch 6/100\n",
            "\u001b[1m313/313\u001b[0m \u001b[32m━━━━━━━━━━━━━━━━━━━━\u001b[0m\u001b[37m\u001b[0m \u001b[1m9s\u001b[0m 27ms/step - accuracy: 0.5440 - loss: 0.6873 - val_accuracy: 0.5400 - val_loss: 0.6895\n",
            "Epoch 7/100\n",
            "\u001b[1m313/313\u001b[0m \u001b[32m━━━━━━━━━━━━━━━━━━━━\u001b[0m\u001b[37m\u001b[0m \u001b[1m9s\u001b[0m 27ms/step - accuracy: 0.5574 - loss: 0.6852 - val_accuracy: 0.5408 - val_loss: 0.6881\n",
            "Epoch 8/100\n",
            "\u001b[1m313/313\u001b[0m \u001b[32m━━━━━━━━━━━━━━━━━━━━\u001b[0m\u001b[37m\u001b[0m \u001b[1m9s\u001b[0m 27ms/step - accuracy: 0.5662 - loss: 0.6830 - val_accuracy: 0.5492 - val_loss: 0.6868\n",
            "Epoch 9/100\n",
            "\u001b[1m313/313\u001b[0m \u001b[32m━━━━━━━━━━━━━━━━━━━━\u001b[0m\u001b[37m\u001b[0m \u001b[1m9s\u001b[0m 27ms/step - accuracy: 0.5711 - loss: 0.6809 - val_accuracy: 0.5534 - val_loss: 0.6856\n",
            "Epoch 10/100\n",
            "\u001b[1m313/313\u001b[0m \u001b[32m━━━━━━━━━━━━━━━━━━━━\u001b[0m\u001b[37m\u001b[0m \u001b[1m9s\u001b[0m 27ms/step - accuracy: 0.5809 - loss: 0.6788 - val_accuracy: 0.5576 - val_loss: 0.6843\n",
            "Epoch 11/100\n",
            "\u001b[1m313/313\u001b[0m \u001b[32m━━━━━━━━━━━━━━━━━━━━\u001b[0m\u001b[37m\u001b[0m \u001b[1m8s\u001b[0m 27ms/step - accuracy: 0.5864 - loss: 0.6765 - val_accuracy: 0.5608 - val_loss: 0.6830\n",
            "Epoch 12/100\n",
            "\u001b[1m313/313\u001b[0m \u001b[32m━━━━━━━━━━━━━━━━━━━━\u001b[0m\u001b[37m\u001b[0m \u001b[1m9s\u001b[0m 27ms/step - accuracy: 0.5916 - loss: 0.6742 - val_accuracy: 0.5660 - val_loss: 0.6816\n",
            "Epoch 13/100\n",
            "\u001b[1m313/313\u001b[0m \u001b[32m━━━━━━━━━━━━━━━━━━━━\u001b[0m\u001b[37m\u001b[0m \u001b[1m9s\u001b[0m 27ms/step - accuracy: 0.5969 - loss: 0.6718 - val_accuracy: 0.5694 - val_loss: 0.6801\n",
            "Epoch 14/100\n",
            "\u001b[1m313/313\u001b[0m \u001b[32m━━━━━━━━━━━━━━━━━━━━\u001b[0m\u001b[37m\u001b[0m \u001b[1m9s\u001b[0m 27ms/step - accuracy: 0.6024 - loss: 0.6693 - val_accuracy: 0.5692 - val_loss: 0.6785\n",
            "Epoch 15/100\n",
            "\u001b[1m313/313\u001b[0m \u001b[32m━━━━━━━━━━━━━━━━━━━━\u001b[0m\u001b[37m\u001b[0m \u001b[1m8s\u001b[0m 26ms/step - accuracy: 0.6091 - loss: 0.6666 - val_accuracy: 0.5734 - val_loss: 0.6768\n",
            "Epoch 16/100\n",
            "\u001b[1m313/313\u001b[0m \u001b[32m━━━━━━━━━━━━━━━━━━━━\u001b[0m\u001b[37m\u001b[0m \u001b[1m9s\u001b[0m 27ms/step - accuracy: 0.6133 - loss: 0.6638 - val_accuracy: 0.5760 - val_loss: 0.6749\n",
            "Epoch 17/100\n",
            "\u001b[1m313/313\u001b[0m \u001b[32m━━━━━━━━━━━━━━━━━━━━\u001b[0m\u001b[37m\u001b[0m \u001b[1m8s\u001b[0m 27ms/step - accuracy: 0.6187 - loss: 0.6607 - val_accuracy: 0.5798 - val_loss: 0.6727\n",
            "Epoch 18/100\n",
            "\u001b[1m313/313\u001b[0m \u001b[32m━━━━━━━━━━━━━━━━━━━━\u001b[0m\u001b[37m\u001b[0m \u001b[1m9s\u001b[0m 27ms/step - accuracy: 0.6238 - loss: 0.6574 - val_accuracy: 0.5844 - val_loss: 0.6700\n",
            "Epoch 19/100\n",
            "\u001b[1m313/313\u001b[0m \u001b[32m━━━━━━━━━━━━━━━━━━━━\u001b[0m\u001b[37m\u001b[0m \u001b[1m9s\u001b[0m 27ms/step - accuracy: 0.6285 - loss: 0.6535 - val_accuracy: 0.5896 - val_loss: 0.6664\n",
            "Epoch 20/100\n",
            "\u001b[1m313/313\u001b[0m \u001b[32m━━━━━━━━━━━━━━━━━━━━\u001b[0m\u001b[37m\u001b[0m \u001b[1m9s\u001b[0m 26ms/step - accuracy: 0.6331 - loss: 0.6487 - val_accuracy: 0.5994 - val_loss: 0.6613\n",
            "Epoch 21/100\n",
            "\u001b[1m313/313\u001b[0m \u001b[32m━━━━━━━━━━━━━━━━━━━━\u001b[0m\u001b[37m\u001b[0m \u001b[1m9s\u001b[0m 26ms/step - accuracy: 0.6435 - loss: 0.6417 - val_accuracy: 0.6156 - val_loss: 0.6523\n",
            "Epoch 22/100\n",
            "\u001b[1m313/313\u001b[0m \u001b[32m━━━━━━━━━━━━━━━━━━━━\u001b[0m\u001b[37m\u001b[0m \u001b[1m9s\u001b[0m 28ms/step - accuracy: 0.6591 - loss: 0.6287 - val_accuracy: 0.6444 - val_loss: 0.6289\n",
            "Epoch 23/100\n",
            "\u001b[1m313/313\u001b[0m \u001b[32m━━━━━━━━━━━━━━━━━━━━\u001b[0m\u001b[37m\u001b[0m \u001b[1m9s\u001b[0m 27ms/step - accuracy: 0.6811 - loss: 0.5978 - val_accuracy: 0.7042 - val_loss: 0.5683\n",
            "Epoch 24/100\n",
            "\u001b[1m313/313\u001b[0m \u001b[32m━━━━━━━━━━━━━━━━━━━━\u001b[0m\u001b[37m\u001b[0m \u001b[1m8s\u001b[0m 26ms/step - accuracy: 0.7262 - loss: 0.5478 - val_accuracy: 0.7194 - val_loss: 0.5532\n",
            "Epoch 25/100\n",
            "\u001b[1m313/313\u001b[0m \u001b[32m━━━━━━━━━━━━━━━━━━━━\u001b[0m\u001b[37m\u001b[0m \u001b[1m8s\u001b[0m 26ms/step - accuracy: 0.7406 - loss: 0.5321 - val_accuracy: 0.7310 - val_loss: 0.5391\n",
            "Epoch 26/100\n",
            "\u001b[1m313/313\u001b[0m \u001b[32m━━━━━━━━━━━━━━━━━━━━\u001b[0m\u001b[37m\u001b[0m \u001b[1m9s\u001b[0m 28ms/step - accuracy: 0.7494 - loss: 0.5178 - val_accuracy: 0.7388 - val_loss: 0.5285\n",
            "Epoch 27/100\n",
            "\u001b[1m313/313\u001b[0m \u001b[32m━━━━━━━━━━━━━━━━━━━━\u001b[0m\u001b[37m\u001b[0m \u001b[1m8s\u001b[0m 27ms/step - accuracy: 0.7564 - loss: 0.5065 - val_accuracy: 0.7448 - val_loss: 0.5201\n",
            "Epoch 28/100\n",
            "\u001b[1m313/313\u001b[0m \u001b[32m━━━━━━━━━━━━━━━━━━━━\u001b[0m\u001b[37m\u001b[0m \u001b[1m8s\u001b[0m 26ms/step - accuracy: 0.7630 - loss: 0.4966 - val_accuracy: 0.7502 - val_loss: 0.5124\n",
            "Epoch 29/100\n",
            "\u001b[1m313/313\u001b[0m \u001b[32m━━━━━━━━━━━━━━━━━━━━\u001b[0m\u001b[37m\u001b[0m \u001b[1m8s\u001b[0m 26ms/step - accuracy: 0.7702 - loss: 0.4879 - val_accuracy: 0.7564 - val_loss: 0.5055\n",
            "Epoch 30/100\n",
            "\u001b[1m313/313\u001b[0m \u001b[32m━━━━━━━━━━━━━━━━━━━━\u001b[0m\u001b[37m\u001b[0m \u001b[1m9s\u001b[0m 27ms/step - accuracy: 0.7745 - loss: 0.4807 - val_accuracy: 0.7612 - val_loss: 0.5002\n",
            "Epoch 31/100\n",
            "\u001b[1m313/313\u001b[0m \u001b[32m━━━━━━━━━━━━━━━━━━━━\u001b[0m\u001b[37m\u001b[0m \u001b[1m8s\u001b[0m 25ms/step - accuracy: 0.7766 - loss: 0.4749 - val_accuracy: 0.7638 - val_loss: 0.4957\n",
            "Epoch 32/100\n",
            "\u001b[1m313/313\u001b[0m \u001b[32m━━━━━━━━━━━━━━━━━━━━\u001b[0m\u001b[37m\u001b[0m \u001b[1m8s\u001b[0m 25ms/step - accuracy: 0.7805 - loss: 0.4690 - val_accuracy: 0.7646 - val_loss: 0.4915\n",
            "Epoch 33/100\n",
            "\u001b[1m313/313\u001b[0m \u001b[32m━━━━━━━━━━━━━━━━━━━━\u001b[0m\u001b[37m\u001b[0m \u001b[1m8s\u001b[0m 26ms/step - accuracy: 0.7854 - loss: 0.4634 - val_accuracy: 0.7666 - val_loss: 0.4879\n",
            "Epoch 34/100\n",
            "\u001b[1m313/313\u001b[0m \u001b[32m━━━━━━━━━━━━━━━━━━━━\u001b[0m\u001b[37m\u001b[0m \u001b[1m9s\u001b[0m 26ms/step - accuracy: 0.7902 - loss: 0.4584 - val_accuracy: 0.7674 - val_loss: 0.4855\n",
            "Epoch 35/100\n",
            "\u001b[1m313/313\u001b[0m \u001b[32m━━━━━━━━━━━━━━━━━━━━\u001b[0m\u001b[37m\u001b[0m \u001b[1m8s\u001b[0m 27ms/step - accuracy: 0.7912 - loss: 0.4545 - val_accuracy: 0.7682 - val_loss: 0.4832\n",
            "Epoch 36/100\n",
            "\u001b[1m313/313\u001b[0m \u001b[32m━━━━━━━━━━━━━━━━━━━━\u001b[0m\u001b[37m\u001b[0m \u001b[1m9s\u001b[0m 28ms/step - accuracy: 0.7933 - loss: 0.4505 - val_accuracy: 0.7710 - val_loss: 0.4805\n",
            "Epoch 37/100\n",
            "\u001b[1m313/313\u001b[0m \u001b[32m━━━━━━━━━━━━━━━━━━━━\u001b[0m\u001b[37m\u001b[0m \u001b[1m9s\u001b[0m 27ms/step - accuracy: 0.7972 - loss: 0.4465 - val_accuracy: 0.7706 - val_loss: 0.4786\n",
            "Epoch 38/100\n",
            "\u001b[1m313/313\u001b[0m \u001b[32m━━━━━━━━━━━━━━━━━━━━\u001b[0m\u001b[37m\u001b[0m \u001b[1m9s\u001b[0m 27ms/step - accuracy: 0.7995 - loss: 0.4429 - val_accuracy: 0.7716 - val_loss: 0.4774\n",
            "Epoch 39/100\n",
            "\u001b[1m313/313\u001b[0m \u001b[32m━━━━━━━━━━━━━━━━━━━━\u001b[0m\u001b[37m\u001b[0m \u001b[1m9s\u001b[0m 27ms/step - accuracy: 0.7993 - loss: 0.4396 - val_accuracy: 0.7744 - val_loss: 0.4764\n",
            "Epoch 40/100\n",
            "\u001b[1m313/313\u001b[0m \u001b[32m━━━━━━━━━━━━━━━━━━━━\u001b[0m\u001b[37m\u001b[0m \u001b[1m8s\u001b[0m 26ms/step - accuracy: 0.8022 - loss: 0.4369 - val_accuracy: 0.7742 - val_loss: 0.4749\n",
            "Epoch 41/100\n",
            "\u001b[1m313/313\u001b[0m \u001b[32m━━━━━━━━━━━━━━━━━━━━\u001b[0m\u001b[37m\u001b[0m \u001b[1m9s\u001b[0m 26ms/step - accuracy: 0.8050 - loss: 0.4336 - val_accuracy: 0.7760 - val_loss: 0.4748\n",
            "Epoch 42/100\n",
            "\u001b[1m313/313\u001b[0m \u001b[32m━━━━━━━━━━━━━━━━━━━━\u001b[0m\u001b[37m\u001b[0m \u001b[1m8s\u001b[0m 25ms/step - accuracy: 0.8052 - loss: 0.4315 - val_accuracy: 0.7754 - val_loss: 0.4741\n",
            "Epoch 43/100\n",
            "\u001b[1m313/313\u001b[0m \u001b[32m━━━━━━━━━━━━━━━━━━━━\u001b[0m\u001b[37m\u001b[0m \u001b[1m9s\u001b[0m 26ms/step - accuracy: 0.8077 - loss: 0.4290 - val_accuracy: 0.7774 - val_loss: 0.4732\n",
            "Epoch 44/100\n",
            "\u001b[1m313/313\u001b[0m \u001b[32m━━━━━━━━━━━━━━━━━━━━\u001b[0m\u001b[37m\u001b[0m \u001b[1m9s\u001b[0m 28ms/step - accuracy: 0.8096 - loss: 0.4265 - val_accuracy: 0.7766 - val_loss: 0.4722\n",
            "Epoch 45/100\n",
            "\u001b[1m313/313\u001b[0m \u001b[32m━━━━━━━━━━━━━━━━━━━━\u001b[0m\u001b[37m\u001b[0m \u001b[1m9s\u001b[0m 26ms/step - accuracy: 0.8116 - loss: 0.4243 - val_accuracy: 0.7778 - val_loss: 0.4716\n",
            "Epoch 46/100\n",
            "\u001b[1m313/313\u001b[0m \u001b[32m━━━━━━━━━━━━━━━━━━━━\u001b[0m\u001b[37m\u001b[0m \u001b[1m8s\u001b[0m 26ms/step - accuracy: 0.8125 - loss: 0.4224 - val_accuracy: 0.7780 - val_loss: 0.4712\n",
            "Epoch 47/100\n",
            "\u001b[1m313/313\u001b[0m \u001b[32m━━━━━━━━━━━━━━━━━━━━\u001b[0m\u001b[37m\u001b[0m \u001b[1m8s\u001b[0m 27ms/step - accuracy: 0.8139 - loss: 0.4205 - val_accuracy: 0.7792 - val_loss: 0.4713\n",
            "Epoch 48/100\n",
            "\u001b[1m313/313\u001b[0m \u001b[32m━━━━━━━━━━━━━━━━━━━━\u001b[0m\u001b[37m\u001b[0m \u001b[1m9s\u001b[0m 26ms/step - accuracy: 0.8147 - loss: 0.4189 - val_accuracy: 0.7770 - val_loss: 0.4708\n",
            "Epoch 49/100\n",
            "\u001b[1m313/313\u001b[0m \u001b[32m━━━━━━━━━━━━━━━━━━━━\u001b[0m\u001b[37m\u001b[0m \u001b[1m8s\u001b[0m 26ms/step - accuracy: 0.8147 - loss: 0.4176 - val_accuracy: 0.7790 - val_loss: 0.4702\n",
            "Epoch 50/100\n",
            "\u001b[1m313/313\u001b[0m \u001b[32m━━━━━━━━━━━━━━━━━━━━\u001b[0m\u001b[37m\u001b[0m \u001b[1m9s\u001b[0m 27ms/step - accuracy: 0.8157 - loss: 0.4163 - val_accuracy: 0.7788 - val_loss: 0.4693\n",
            "Epoch 51/100\n",
            "\u001b[1m313/313\u001b[0m \u001b[32m━━━━━━━━━━━━━━━━━━━━\u001b[0m\u001b[37m\u001b[0m \u001b[1m9s\u001b[0m 27ms/step - accuracy: 0.8161 - loss: 0.4153 - val_accuracy: 0.7810 - val_loss: 0.4681\n",
            "Epoch 52/100\n",
            "\u001b[1m313/313\u001b[0m \u001b[32m━━━━━━━━━━━━━━━━━━━━\u001b[0m\u001b[37m\u001b[0m \u001b[1m9s\u001b[0m 27ms/step - accuracy: 0.8163 - loss: 0.4137 - val_accuracy: 0.7808 - val_loss: 0.4663\n",
            "Epoch 53/100\n",
            "\u001b[1m313/313\u001b[0m \u001b[32m━━━━━━━━━━━━━━━━━━━━\u001b[0m\u001b[37m\u001b[0m \u001b[1m8s\u001b[0m 27ms/step - accuracy: 0.8167 - loss: 0.4125 - val_accuracy: 0.7818 - val_loss: 0.4660\n",
            "Epoch 54/100\n",
            "\u001b[1m313/313\u001b[0m \u001b[32m━━━━━━━━━━━━━━━━━━━━\u001b[0m\u001b[37m\u001b[0m \u001b[1m9s\u001b[0m 28ms/step - accuracy: 0.8183 - loss: 0.4110 - val_accuracy: 0.7820 - val_loss: 0.4654\n",
            "Epoch 55/100\n",
            "\u001b[1m313/313\u001b[0m \u001b[32m━━━━━━━━━━━━━━━━━━━━\u001b[0m\u001b[37m\u001b[0m \u001b[1m8s\u001b[0m 27ms/step - accuracy: 0.8189 - loss: 0.4099 - val_accuracy: 0.7834 - val_loss: 0.4649\n",
            "Epoch 56/100\n",
            "\u001b[1m313/313\u001b[0m \u001b[32m━━━━━━━━━━━━━━━━━━━━\u001b[0m\u001b[37m\u001b[0m \u001b[1m9s\u001b[0m 26ms/step - accuracy: 0.8191 - loss: 0.4087 - val_accuracy: 0.7842 - val_loss: 0.4645\n",
            "Epoch 57/100\n",
            "\u001b[1m313/313\u001b[0m \u001b[32m━━━━━━━━━━━━━━━━━━━━\u001b[0m\u001b[37m\u001b[0m \u001b[1m9s\u001b[0m 27ms/step - accuracy: 0.8208 - loss: 0.4075 - val_accuracy: 0.7850 - val_loss: 0.4641\n",
            "Epoch 58/100\n",
            "\u001b[1m313/313\u001b[0m \u001b[32m━━━━━━━━━━━━━━━━━━━━\u001b[0m\u001b[37m\u001b[0m \u001b[1m9s\u001b[0m 28ms/step - accuracy: 0.8221 - loss: 0.4061 - val_accuracy: 0.7858 - val_loss: 0.4640\n",
            "Epoch 59/100\n",
            "\u001b[1m313/313\u001b[0m \u001b[32m━━━━━━━━━━━━━━━━━━━━\u001b[0m\u001b[37m\u001b[0m \u001b[1m9s\u001b[0m 27ms/step - accuracy: 0.8222 - loss: 0.4051 - val_accuracy: 0.7862 - val_loss: 0.4641\n",
            "Epoch 60/100\n",
            "\u001b[1m313/313\u001b[0m \u001b[32m━━━━━━━━━━━━━━━━━━━━\u001b[0m\u001b[37m\u001b[0m \u001b[1m9s\u001b[0m 26ms/step - accuracy: 0.8221 - loss: 0.4042 - val_accuracy: 0.7862 - val_loss: 0.4641\n",
            "Epoch 61/100\n",
            "\u001b[1m313/313\u001b[0m \u001b[32m━━━━━━━━━━━━━━━━━━━━\u001b[0m\u001b[37m\u001b[0m \u001b[1m8s\u001b[0m 27ms/step - accuracy: 0.8224 - loss: 0.4033 - val_accuracy: 0.7850 - val_loss: 0.4642\n"
          ]
        }
      ]
    },
    {
      "cell_type": "code",
      "source": [
        "'''\n",
        "이 훈련은 61 번째 에포크에서 조기 종료되었다.\n",
        "검증 세트에 대한 정확도는 약 79% 정도이다.\n",
        "매우 뛰어난 성능은 아니지만 감상평을 분류하는 데 어느 정도 성과를 내고 있다고 판단할 수 있다.\n",
        "\n",
        "그럼 이전 장에서처럼 훈련 손실과 검증 손실을 그래프로 그려 훈련 과정을 살펴 보자.\n",
        "'''"
      ],
      "metadata": {
        "colab": {
          "base_uri": "https://localhost:8080/",
          "height": 73
        },
        "id": "4n2YKJDab8_f",
        "outputId": "7bb8aff0-68f8-4c91-9d9e-9050097e05e9"
      },
      "execution_count": null,
      "outputs": [
        {
          "output_type": "execute_result",
          "data": {
            "text/plain": [
              "'\\n이 훈련은 61 번째 에포크에서 조기 종료되었다.\\n검증 세트에 대한 정확도는 약 79% 정도이다.\\n매우 뛰어난 성능은 아니지만 감상평을 분류하는 데 어느 정도 성과를 내고 있다고 판단할 수 있다.\\n\\n그럼 이전 장에서처럼 훈련 손실과 검증 손실을 그래프로 그려 훈련 과정을 살펴 보자.\\n'"
            ],
            "application/vnd.google.colaboratory.intrinsic+json": {
              "type": "string"
            }
          },
          "metadata": {},
          "execution_count": 42
        }
      ]
    },
    {
      "cell_type": "code",
      "source": [
        "# 훈련 손실과 검증 손실 시각화\n",
        "plt.plot(history.history['loss'])\n",
        "plt.plot(history.history['val_loss'])\n",
        "plt.xlabel('epoch')\n",
        "plt.ylabel('loss')\n",
        "plt.legend(['train', 'val'])\n",
        "plt.show()"
      ],
      "metadata": {
        "colab": {
          "base_uri": "https://localhost:8080/",
          "height": 449
        },
        "id": "wLBgPVYljQDj",
        "outputId": "417a62e2-ffbd-4dcf-e7a7-5f24e9b9b04b"
      },
      "execution_count": null,
      "outputs": [
        {
          "output_type": "display_data",
          "data": {
            "text/plain": [
              "<Figure size 640x480 with 1 Axes>"
            ],
            "image/png": "[encoded data removed]"
          },
          "metadata": {}
        }
      ]
    },
    {
      "cell_type": "code",
      "source": [
        "'''\n",
        "SimpleRNN에 전달할 샘플의 크기는 (100, 500)이지만 이 순환층은 마지막 타임스텝의 은닉 상태만 출력한다.\n",
        "이 때문에 출력 크기가 순환층의 뉴런 개수와 동일한 8임을 확인할 수 있다.\n",
        "\n",
        "순환층에 사용된 모델 파라미터의 개수를 계산해 보자.\n",
        "입력 토큰은 500차원의 원-핫 인코딩 배열이다.\n",
        "이 배열이 순환층의 뉴런 8개와 완전히 연결되기 때문에 총 500 * 8 = 4,000개의 가중치가 있다.\n",
        "순환층의 은닉 상태는 다시 다음 타임스텝에 사용되기 위해 또 다른 가중치와 곱해진다.\n",
        "이 은닉 상태도 순환층의 뉴런과 완전히 연결되기 때문에 8(은닉 상태 크기) * 8(뉴런 개수) = 64개의 가중치가 필요하다.\n",
        "마지막으로 뉴런마다 하나의 절편이 있다.\n",
        "따라서 모두 4,000 + 64 + 8 = 4,072개의 모델 파라미터가 필요하다.\n",
        "\n",
        "케라스 API를 사용해 순환 신경망 모델을 손쉽게 만들었다.\n",
        "이전에 만들었던 완전 연결 신경망에 비해 크게 바뀐 것은 없다.\n",
        "Dense 층 대신에 SimpleRNN 층을 사용했고 입력 데이터의 차원을 원-핫 인코딩으로 바꾸어 주었다.\n",
        "다음 섹션에서 이 순환 신경망 모델을 훈련해 보겠다.\n",
        "'''"
      ],
      "metadata": {
        "id": "6vo7dyu_jYJz"
      },
      "execution_count": null,
      "outputs": []
    },
    {
      "cell_type": "code",
      "source": [
        "'''\n",
        "훈련 손실은 꾸준히 감소하고 있지만 검증 손실은 대략 40 번째 에포크에서 감소가 둔해지고 있다.\n",
        "적절한 에포크에서 훈련을 멈춘 것 같다. 성공적이다.\n",
        "08-1장에서 배운 순환 신경망을 성공적으로 훈련시켜서 IMDB 리뷰 데이터를 긍정과 부정으로 분류하는 작업을 수행했다.\n",
        "\n",
        "여기서 한 가지 생각할 점이 있다.\n",
        "이 작업을 하기 위해서 입력 데이터를 원-핫 인코딩으로 변환했다.\n",
        "원-핫 인코딩의 단점은 입력 데이터가 엄청 커진다는 것이다.\n",
        "실제로 train_seq 배열과 train_oh 배열의 nbytes 속성을 출력하여 크기를 확인해 보자.\n",
        "'''"
      ],
      "metadata": {
        "colab": {
          "base_uri": "https://localhost:8080/",
          "height": 92
        },
        "id": "VhK1_QvDlELZ",
        "outputId": "a776c5c5-1e1f-428a-9083-d0c52532b882"
      },
      "execution_count": null,
      "outputs": [
        {
          "output_type": "execute_result",
          "data": {
            "text/plain": [
              "'\\n훈련 손실은 꾸준히 감소하고 있지만 검증 손실은 대략 40 번째 에포크에서 감소가 둔해지고 있다.\\n적절한 에포크에서 훈련을 멈춘 것 같다. 성공적이다.\\n08-1장에서 배운 순환 신경망을 성공적으로 훈련시켜서 IMDB 리뷰 데이터를 긍정과 부정으로 분류하는 작업을 수행했다.\\n\\n여기서 한 가지 생각할 점이 있다.\\n이 작업을 하기 위해서 입력 데이터를 원-핫 인코딩으로 변환했다.\\n원-핫 인코딩의 단점은 입력 데이터가 엄청 커진다는 것이다.\\n실제로 train_seq 배열과 train_oh 배열의 nbytes 속성을 출력하여 크기를 확인해 보자.\\n'"
            ],
            "application/vnd.google.colaboratory.intrinsic+json": {
              "type": "string"
            }
          },
          "metadata": {},
          "execution_count": 44
        }
      ]
    },
    {
      "cell_type": "code",
      "source": [
        "# nbytes 속성 출력을 통한 크기 확인\n",
        "print(train_seq.nbytes, train_oh.nbytes)"
      ],
      "metadata": {
        "colab": {
          "base_uri": "https://localhost:8080/"
        },
        "id": "MWBJO2YzsgBX",
        "outputId": "acdebf74-2a07-490b-9c7f-e0cf3be90244"
      },
      "execution_count": null,
      "outputs": [
        {
          "output_type": "stream",
          "name": "stdout",
          "text": [
            "8000000 8000000000\n"
          ]
        }
      ]
    },
    {
      "cell_type": "code",
      "source": [
        "'''\n",
        "토큰 1개를 500차원으로 늘렸기 때문에 대략 500배가 커진다.\n",
        "이는 썩 좋은 방법은 아닌 것 같다.\n",
        "훈련 데이터가 커질수록 더 문제가 될 것이다.\n",
        "다음 섹션에서 순환 신경망에 사용하는 더 좋은 단어 표현 방법을 알아보자.\n",
        "'''"
      ],
      "metadata": {
        "id": "CRacheDUsqQz"
      },
      "execution_count": null,
      "outputs": []
    },
    {
      "cell_type": "markdown",
      "source": [
        "# **단어 임베딩 사용하기**"
      ],
      "metadata": {
        "id": "fGHxt3gZtDHe"
      }
    },
    {
      "cell_type": "code",
      "source": [
        "'''\n",
        "순환 신경망에서 텍스트를 처리할 때 즐겨 사용하는 방법은 \"단어 임베딩(word embedding)\"이다.\n",
        "단어 임베딩은 각 단어를 고정된 크기의 실수 벡터로 바꿔 준다.\n",
        "예를 들면 다음과 같다.\n",
        "\"cat\"의 단어 임베딩 벡터 = [0.2 0.1 1.3 0.8 0.2 0.4 1.1 0.9 0.2 0.1]\n",
        "\n",
        "이런 단어 임베딩으로 만들어진 벡터는 원-핫 인코딩된 벡터보다 훨씬 의미 있는 값으로 채워져 있기에\n",
        "자연어 처리에서 더 좋은 성능을 내는 경우가 많다.\n",
        "물론 이런 단어 임베딩 벡터를 만드는 층은 이미 준비되어 있다.\n",
        "케라스에서는 keras.layers 패키지 아래 Embedding 클래스로 임베딩 기능을 제공한다.\n",
        "이 클래스를 다른 층처럼 모델에 추가하면 처음에는 모든 벡터가 랜덤하게 초기화되지만\n",
        "훈련을 통해 데이터에서 좋은 단어 임베딩을 학습한다.\n",
        "\n",
        "단어 임베딩의 장점은 입력으로 정수 데이터를 받는다는 것이다.\n",
        "즉 원-핫 인코딩으로 변경된 train_oh 배열이 아니라 train_seq를 사용할 수 있다.\n",
        "이 때문에 메모리를 훨씬 효율적으로 사용할 수 있다.\n",
        "\n",
        "앞서 원-핫 인코딩은 샘플 하나를 500차원으로 늘렸기 때문에\n",
        "(100, ) 크기의 샘플을 (100, 20)과 같이 2차원 배열로 늘린다.\n",
        "이와 비슷하게 임베딩도 (100, ) 크기의 샘플을 (100, 20)과 같이 2차원 배열로 늘린다.\n",
        "하지만 원-핫 인코딩과는 달리 훨씬 작은 크기로도 단어를 잘 표현할 수 있다.\n",
        "\n",
        "Embedding 클래스를 SimpleRNN 층 앞에 추가한 두 번째 순환 신경망을 만들어 보겠다.\n",
        "'''"
      ],
      "metadata": {
        "colab": {
          "base_uri": "https://localhost:8080/",
          "height": 204
        },
        "id": "OFv4iiMRtE27",
        "outputId": "44f6b5f4-1a53-474f-f023-476ddcbc44d7"
      },
      "execution_count": null,
      "outputs": [
        {
          "output_type": "execute_result",
          "data": {
            "text/plain": [
              "'\\n순환 신경망에서 텍스트를 처리할 때 즐겨 사용하는 방법은 \"단어 임베딩(word embedding)\"이다.\\n단어 임베딩은 각 단어를 고정된 크기의 실수 벡터로 바꿔 준다.\\n예를 들면 다음과 같다.\\n\"cat\"의 단어 임베딩 벡터 = [0.2 0.1 1.3 0.8 0.2 0.4 1.1 0.9 0.2 0.1]\\n\\n이런 단어 임베딩으로 만들어진 벡터는 원-핫 인코딩된 벡터보다 훨씬 의미 있는 값으로 채워져 있기에\\n자연어 처리에서 더 좋은 성능을 내는 경우가 많다.\\n물론 이런 단어 임베딩 벡터를 만드는 층은 이미 준비되어 있다.\\n케라스에서는 keras.layers 패키지 아래 Embedding 클래스로 임베딩 기능을 제공한다.\\n이 클래스를 다른 층처럼 모델에 추가하면 처음에는 모든 벡터가 랜덤하게 초기화되지만\\n훈련을 통해 데이터에서 좋은 단어 임베딩을 학습한다.\\n\\n단어 임베딩의 장점은 입력으로 정수 데이터를 받는다는 것이다.\\n즉 원-핫 인코딩으로 변경된 train_oh 배열이 아니라 train_seq를 사용할 수 있다.\\n이 때문에 메모리를 훨씬 효율적으로 사용할 수 있다.\\n\\n앞서 원-핫 인코딩은 샘플 하나를 500차원으로 늘렸기 때문에 \\n(100, ) 크기의 샘플을 (100, 20)과 같이 2차원 배열로 늘린다.\\n이와 비슷하게 임베딩도 (100, ) 크기의 샘플을 (100, 20)과 같이 2차원 배열로 늘린다.\\n하지만 원-핫 인코딩과는 달리 훨씬 작은 크기로도 단어를 잘 표현할 수 있다.\\n\\nEmbedding 클래스를 SimpleRNN 층 앞에 추가한 두 번째 순환 신경망을 만들어 보겠다.\\n'"
            ],
            "application/vnd.google.colaboratory.intrinsic+json": {
              "type": "string"
            }
          },
          "metadata": {},
          "execution_count": 47
        }
      ]
    },
    {
      "cell_type": "code",
      "source": [
        "# 단어 임베딩을 사용한 순환 신경망 생성\n",
        "model2 = keras.Sequential()\n",
        "\n",
        "model2.add(keras.layers.Embedding(500, 16, input_shape=(100,)))\n",
        "model2.add(keras.layers.SimpleRNN(8))\n",
        "model2.add(keras.layers.Dense(1, activation='sigmoid'))"
      ],
      "metadata": {
        "id": "krevynXbtP1n"
      },
      "execution_count": null,
      "outputs": []
    },
    {
      "cell_type": "code",
      "source": [
        "'''\n",
        "Embedding 클래스의 첫 번째 매개변수(500)는 어휘 사전의 크기이다.\n",
        "앞서 IMDB 리뷰 데이터셋에서 500개의 단어만 사용하도록\n",
        "imdb.load_data(num_words=500)과 같이 설정했기에 이 매개변수의 값을 500으로 지정한다.\n",
        "\n",
        "두 번째 매개변수(16)는 임베딩 벡터의 크기이다.\n",
        "여기에서는 원-핫 인코딩보다 훨씬 작은 크기(!6)의 벡터를 사용했다.\n",
        "\n",
        "세 번째 input_length 매개변수는 입력 시퀀스의 길이이다.\n",
        "앞서 샘플의 길이를 100으로 맞추어 train_seq를 만들었다.\n",
        "따라서 이 값을 100으로 설정한다.\n",
        "\n",
        "그다음 SimpleRNN 층과 Dense 층은 이전과 동일하다.\n",
        "이 모델의 구조를 출력해 보자.\n",
        "'''"
      ],
      "metadata": {
        "colab": {
          "base_uri": "https://localhost:8080/",
          "height": 110
        },
        "id": "6nb0cjgjuxdm",
        "outputId": "7b13625d-b645-46e9-803f-d9497ccb1143"
      },
      "execution_count": null,
      "outputs": [
        {
          "output_type": "execute_result",
          "data": {
            "text/plain": [
              "'\\nEmbedding 클래스의 첫 번째 매개변수(500)는 어휘 사전의 크기이다.\\n앞서 IMDB 리뷰 데이터셋에서 500개의 단어만 사용하도록 \\nimdb.load_data(num_words=500)과 같이 설정했기에 이 매개변수의 값을 500으로 지정한다.\\n\\n두 번째 매개변수(16)는 임베딩 벡터의 크기이다.\\n여기에서는 원-핫 인코딩보다 훨씬 작은 크기(!6)의 벡터를 사용했다.\\n\\n세 번째 input_length 매개변수는 입력 시퀀스의 길이이다.\\n앞서 샘플의 길이를 100으로 맞추어 train_seq를 만들었다.\\n따라서 이 값을 100으로 설정한다.\\n\\n그다음 SimpleRNN 층과 Dense 층은 이전과 동일하다.\\n이 모델의 구조를 출력해 보자.\\n'"
            ],
            "application/vnd.google.colaboratory.intrinsic+json": {
              "type": "string"
            }
          },
          "metadata": {},
          "execution_count": 52
        }
      ]
    },
    {
      "cell_type": "code",
      "source": [
        "# 생선한 모델2 구조  출력\n",
        "model2.summary()"
      ],
      "metadata": {
        "colab": {
          "base_uri": "https://localhost:8080/",
          "height": 225
        },
        "id": "UbCyzvrWv1Iu",
        "outputId": "cabb8bed-8239-451f-9a0b-2bec81c469a0"
      },
      "execution_count": null,
      "outputs": [
        {
          "output_type": "display_data",
          "data": {
            "text/plain": [
              "\u001b[1mModel: \"sequential_4\"\u001b[0m\n"
            ],
            "text/html": [
              "<pre style=\"white-space:pre;overflow-x:auto;line-height:normal;font-family:Menlo,'DejaVu Sans Mono',consolas,'Courier New',monospace\"><span style=\"font-weight: bold\">Model: \"sequential_4\"</span>\n",
              "</pre>\n"
            ]
          },
          "metadata": {}
        },
        {
          "output_type": "display_data",
          "data": {
            "text/plain": [
              "┏━━━━━━━━━━━━━━━━━━━━━━━━━━━━━━━━━━━━━━┳━━━━━━━━━━━━━━━━━━━━━━━━━━━━━┳━━━━━━━━━━━━━━━━━┓\n",
              "┃\u001b[1m \u001b[0m\u001b[1mLayer (type)                        \u001b[0m\u001b[1m \u001b[0m┃\u001b[1m \u001b[0m\u001b[1mOutput Shape               \u001b[0m\u001b[1m \u001b[0m┃\u001b[1m \u001b[0m\u001b[1m        Param #\u001b[0m\u001b[1m \u001b[0m┃\n",
              "┡━━━━━━━━━━━━━━━━━━━━━━━━━━━━━━━━━━━━━━╇━━━━━━━━━━━━━━━━━━━━━━━━━━━━━╇━━━━━━━━━━━━━━━━━┩\n",
              "│ embedding_3 (\u001b[38;5;33mEmbedding\u001b[0m)              │ (\u001b[38;5;45mNone\u001b[0m, \u001b[38;5;34m100\u001b[0m, \u001b[38;5;34m16\u001b[0m)             │           \u001b[38;5;34m8,000\u001b[0m │\n",
              "├──────────────────────────────────────┼─────────────────────────────┼─────────────────┤\n",
              "│ simple_rnn_4 (\u001b[38;5;33mSimpleRNN\u001b[0m)             │ (\u001b[38;5;45mNone\u001b[0m, \u001b[38;5;34m8\u001b[0m)                   │             \u001b[38;5;34m200\u001b[0m │\n",
              "├──────────────────────────────────────┼─────────────────────────────┼─────────────────┤\n",
              "│ dense_4 (\u001b[38;5;33mDense\u001b[0m)                      │ (\u001b[38;5;45mNone\u001b[0m, \u001b[38;5;34m1\u001b[0m)                   │               \u001b[38;5;34m9\u001b[0m │\n",
              "└──────────────────────────────────────┴─────────────────────────────┴─────────────────┘\n"
            ],
            "text/html": [
              "<pre style=\"white-space:pre;overflow-x:auto;line-height:normal;font-family:Menlo,'DejaVu Sans Mono',consolas,'Courier New',monospace\">┏━━━━━━━━━━━━━━━━━━━━━━━━━━━━━━━━━━━━━━┳━━━━━━━━━━━━━━━━━━━━━━━━━━━━━┳━━━━━━━━━━━━━━━━━┓\n",
              "┃<span style=\"font-weight: bold\"> Layer (type)                         </span>┃<span style=\"font-weight: bold\"> Output Shape                </span>┃<span style=\"font-weight: bold\">         Param # </span>┃\n",
              "┡━━━━━━━━━━━━━━━━━━━━━━━━━━━━━━━━━━━━━━╇━━━━━━━━━━━━━━━━━━━━━━━━━━━━━╇━━━━━━━━━━━━━━━━━┩\n",
              "│ embedding_3 (<span style=\"color: #0087ff; text-decoration-color: #0087ff\">Embedding</span>)              │ (<span style=\"color: #00d7ff; text-decoration-color: #00d7ff\">None</span>, <span style=\"color: #00af00; text-decoration-color: #00af00\">100</span>, <span style=\"color: #00af00; text-decoration-color: #00af00\">16</span>)             │           <span style=\"color: #00af00; text-decoration-color: #00af00\">8,000</span> │\n",
              "├──────────────────────────────────────┼─────────────────────────────┼─────────────────┤\n",
              "│ simple_rnn_4 (<span style=\"color: #0087ff; text-decoration-color: #0087ff\">SimpleRNN</span>)             │ (<span style=\"color: #00d7ff; text-decoration-color: #00d7ff\">None</span>, <span style=\"color: #00af00; text-decoration-color: #00af00\">8</span>)                   │             <span style=\"color: #00af00; text-decoration-color: #00af00\">200</span> │\n",
              "├──────────────────────────────────────┼─────────────────────────────┼─────────────────┤\n",
              "│ dense_4 (<span style=\"color: #0087ff; text-decoration-color: #0087ff\">Dense</span>)                      │ (<span style=\"color: #00d7ff; text-decoration-color: #00d7ff\">None</span>, <span style=\"color: #00af00; text-decoration-color: #00af00\">1</span>)                   │               <span style=\"color: #00af00; text-decoration-color: #00af00\">9</span> │\n",
              "└──────────────────────────────────────┴─────────────────────────────┴─────────────────┘\n",
              "</pre>\n"
            ]
          },
          "metadata": {}
        },
        {
          "output_type": "display_data",
          "data": {
            "text/plain": [
              "\u001b[1m Total params: \u001b[0m\u001b[38;5;34m8,209\u001b[0m (32.07 KB)\n"
            ],
            "text/html": [
              "<pre style=\"white-space:pre;overflow-x:auto;line-height:normal;font-family:Menlo,'DejaVu Sans Mono',consolas,'Courier New',monospace\"><span style=\"font-weight: bold\"> Total params: </span><span style=\"color: #00af00; text-decoration-color: #00af00\">8,209</span> (32.07 KB)\n",
              "</pre>\n"
            ]
          },
          "metadata": {}
        },
        {
          "output_type": "display_data",
          "data": {
            "text/plain": [
              "\u001b[1m Trainable params: \u001b[0m\u001b[38;5;34m8,209\u001b[0m (32.07 KB)\n"
            ],
            "text/html": [
              "<pre style=\"white-space:pre;overflow-x:auto;line-height:normal;font-family:Menlo,'DejaVu Sans Mono',consolas,'Courier New',monospace\"><span style=\"font-weight: bold\"> Trainable params: </span><span style=\"color: #00af00; text-decoration-color: #00af00\">8,209</span> (32.07 KB)\n",
              "</pre>\n"
            ]
          },
          "metadata": {}
        },
        {
          "output_type": "display_data",
          "data": {
            "text/plain": [
              "\u001b[1m Non-trainable params: \u001b[0m\u001b[38;5;34m0\u001b[0m (0.00 B)\n"
            ],
            "text/html": [
              "<pre style=\"white-space:pre;overflow-x:auto;line-height:normal;font-family:Menlo,'DejaVu Sans Mono',consolas,'Courier New',monospace\"><span style=\"font-weight: bold\"> Non-trainable params: </span><span style=\"color: #00af00; text-decoration-color: #00af00\">0</span> (0.00 B)\n",
              "</pre>\n"
            ]
          },
          "metadata": {}
        }
      ]
    },
    {
      "cell_type": "code",
      "source": [
        "'''\n",
        "summary() 메서드의 출력에서 알 수 잇듯이 이 모델은 (100, ) 크기의 입력을 받아 (100, 16) 크기의 출력을 만든다.\n",
        "이 모델에서 사용되는 모델 파라미터 개수를 계산해 보자.\n",
        "\n",
        "Embedding 클래스는 500개의 각 토큰을 크기가 16인 벡터로 변경하기 때문에\n",
        "총 500 * 16 = 8,000개의 모델 파라미터를 가진다.\n",
        "그다음 SimpleRNN 층은 임베딩 벡터의 크기가 16이므로 8개의 뉴런과 곱하기 위해 필요한 가중치 16 * 8 = 128개를 가진다.\n",
        "또한 은닉 상태에 곱해지는 가중치 8 * 8 = 64개가 있다.\n",
        "마지막으로 8개의 절편이 있으므로 이 순환층에 있는\n",
        "전체 모델 파라미터의 개수는 128 + 64 + 8 = 200개이다.\n",
        "\n",
        "마지막 Dense 층의 가중치 개수는 이전과 동일하게 9개이다.\n",
        "원-핫 인코딩보다 SimpleRNN에 주입되는 입력의 크기가 크게 줄었지만\n",
        "임베딩 벡터를 잘 표현하는 능력이 있기 때문에 훈련 결과는 이전과 못지않을 것이다.\n",
        "모델 훈련 과정은 이전과 동일하다.\n",
        "'''"
      ],
      "metadata": {
        "colab": {
          "base_uri": "https://localhost:8080/",
          "height": 148
        },
        "id": "-tGBWdHKv7rN",
        "outputId": "13bf96fd-f9f2-431e-86e7-576684f1ad50"
      },
      "execution_count": null,
      "outputs": [
        {
          "output_type": "execute_result",
          "data": {
            "text/plain": [
              "'\\nsummary() 메서드의 출력에서 알 수 잇듯이 이 모델은 (100, ) 크기의 입력을 받아 (100, 16) 크기의 출력을 만든다.\\n이 모델에서 사용되는 모델 파라미터 개수를 계산해 보자.\\n\\nEmbedding 클래스는 500개의 각 토큰을 크기가 16인 벡터로 변경하기 때문에 \\n총 500 * 16 = 8,000개의 모델 파라미터를 가진다.\\n그다음 SimpleRNN 층은 임베딩 벡터의 크기가 16이므로 8개의 뉴런과 곱하기 위해 필요한 가중치 16 * 8 = 128개를 가진다.\\n또한 은닉 상태에 곱해지는 가중치 8 * 8 = 64개가 있다.\\n마지막으로 8개의 절편이 있으므로 이 순환층에 있는 \\n전체 모델 파라미터의 개수는 128 + 64 + 8 = 200개이다.\\n\\n마지막 Dense 층의 가중치 개수는 이전과 동일하게 9개이다.\\n원-핫 인코딩보다 SimpleRNN에 주입되는 입력의 크기가 크게 줄었지만\\n임베딩 벡터를 잘 표현하는 능력이 있기 때문에 훈련 결과는 이전과 못지않을 것이다.\\n모델 훈련 과정은 이전과 동일하다.\\n'"
            ],
            "application/vnd.google.colaboratory.intrinsic+json": {
              "type": "string"
            }
          },
          "metadata": {},
          "execution_count": 58
        }
      ]
    },
    {
      "cell_type": "code",
      "source": [
        "# 모델2 훈련\n",
        "rmsprop = keras.optimizers.RMSprop(learning_rate=1e-4)\n",
        "model2.compile(optimizer=rmsprop, loss='binary_crossentropy',\n",
        "               metrics=['accuracy'])\n",
        "\n",
        "checkpoint_cb = keras.callbacks.ModelCheckpoint('best-embedding-model.keras',\n",
        "                                                save_best_only=True)\n",
        "early_stopping_cb = keras.callbacks.EarlyStopping(patience=3,\n",
        "                                                  restore_best_weights=True)\n",
        "\n",
        "history = model2.fit(train_seq, train_target, epochs=100, batch_size=64,\n",
        "                     validation_data=(val_seq, val_target),\n",
        "                     callbacks=[checkpoint_cb, early_stopping_cb])"
      ],
      "metadata": {
        "colab": {
          "base_uri": "https://localhost:8080/"
        },
        "id": "6aFHj2GYxisr",
        "outputId": "4016775c-71e7-4805-949f-4aca65c2a79f"
      },
      "execution_count": null,
      "outputs": [
        {
          "output_type": "stream",
          "name": "stdout",
          "text": [
            "Epoch 1/100\n",
            "\u001b[1m313/313\u001b[0m \u001b[32m━━━━━━━━━━━━━━━━━━━━\u001b[0m\u001b[37m\u001b[0m \u001b[1m9s\u001b[0m 20ms/step - accuracy: 0.5109 - loss: 0.6939 - val_accuracy: 0.5596 - val_loss: 0.6870\n",
            "Epoch 2/100\n",
            "\u001b[1m313/313\u001b[0m \u001b[32m━━━━━━━━━━━━━━━━━━━━\u001b[0m\u001b[37m\u001b[0m \u001b[1m6s\u001b[0m 20ms/step - accuracy: 0.5913 - loss: 0.6825 - val_accuracy: 0.6532 - val_loss: 0.6719\n",
            "Epoch 3/100\n",
            "\u001b[1m313/313\u001b[0m \u001b[32m━━━━━━━━━━━━━━━━━━━━\u001b[0m\u001b[37m\u001b[0m \u001b[1m6s\u001b[0m 20ms/step - accuracy: 0.6775 - loss: 0.6654 - val_accuracy: 0.7020 - val_loss: 0.6524\n",
            "Epoch 4/100\n",
            "\u001b[1m313/313\u001b[0m \u001b[32m━━━━━━━━━━━━━━━━━━━━\u001b[0m\u001b[37m\u001b[0m \u001b[1m6s\u001b[0m 19ms/step - accuracy: 0.7115 - loss: 0.6447 - val_accuracy: 0.7248 - val_loss: 0.6314\n",
            "Epoch 5/100\n",
            "\u001b[1m313/313\u001b[0m \u001b[32m━━━━━━━━━━━━━━━━━━━━\u001b[0m\u001b[37m\u001b[0m \u001b[1m6s\u001b[0m 19ms/step - accuracy: 0.7299 - loss: 0.6213 - val_accuracy: 0.7334 - val_loss: 0.6089\n",
            "Epoch 6/100\n",
            "\u001b[1m313/313\u001b[0m \u001b[32m━━━━━━━━━━━━━━━━━━━━\u001b[0m\u001b[37m\u001b[0m \u001b[1m6s\u001b[0m 19ms/step - accuracy: 0.7450 - loss: 0.5960 - val_accuracy: 0.7444 - val_loss: 0.5831\n",
            "Epoch 7/100\n",
            "\u001b[1m313/313\u001b[0m \u001b[32m━━━━━━━━━━━━━━━━━━━━\u001b[0m\u001b[37m\u001b[0m \u001b[1m6s\u001b[0m 19ms/step - accuracy: 0.7569 - loss: 0.5694 - val_accuracy: 0.7532 - val_loss: 0.5586\n",
            "Epoch 8/100\n",
            "\u001b[1m313/313\u001b[0m \u001b[32m━━━━━━━━━━━━━━━━━━━━\u001b[0m\u001b[37m\u001b[0m \u001b[1m6s\u001b[0m 20ms/step - accuracy: 0.7705 - loss: 0.5410 - val_accuracy: 0.7560 - val_loss: 0.5388\n",
            "Epoch 9/100\n",
            "\u001b[1m313/313\u001b[0m \u001b[32m━━━━━━━━━━━━━━━━━━━━\u001b[0m\u001b[37m\u001b[0m \u001b[1m6s\u001b[0m 20ms/step - accuracy: 0.7815 - loss: 0.5168 - val_accuracy: 0.7732 - val_loss: 0.5148\n",
            "Epoch 10/100\n",
            "\u001b[1m313/313\u001b[0m \u001b[32m━━━━━━━━━━━━━━━━━━━━\u001b[0m\u001b[37m\u001b[0m \u001b[1m6s\u001b[0m 19ms/step - accuracy: 0.7904 - loss: 0.4974 - val_accuracy: 0.7764 - val_loss: 0.5015\n",
            "Epoch 11/100\n",
            "\u001b[1m313/313\u001b[0m \u001b[32m━━━━━━━━━━━━━━━━━━━━\u001b[0m\u001b[37m\u001b[0m \u001b[1m6s\u001b[0m 20ms/step - accuracy: 0.7947 - loss: 0.4809 - val_accuracy: 0.7742 - val_loss: 0.4940\n",
            "Epoch 12/100\n",
            "\u001b[1m313/313\u001b[0m \u001b[32m━━━━━━━━━━━━━━━━━━━━\u001b[0m\u001b[37m\u001b[0m \u001b[1m6s\u001b[0m 20ms/step - accuracy: 0.7990 - loss: 0.4689 - val_accuracy: 0.7768 - val_loss: 0.4868\n",
            "Epoch 13/100\n",
            "\u001b[1m313/313\u001b[0m \u001b[32m━━━━━━━━━━━━━━━━━━━━\u001b[0m\u001b[37m\u001b[0m \u001b[1m6s\u001b[0m 19ms/step - accuracy: 0.8032 - loss: 0.4582 - val_accuracy: 0.7798 - val_loss: 0.4801\n",
            "Epoch 14/100\n",
            "\u001b[1m313/313\u001b[0m \u001b[32m━━━━━━━━━━━━━━━━━━━━\u001b[0m\u001b[37m\u001b[0m \u001b[1m6s\u001b[0m 19ms/step - accuracy: 0.8037 - loss: 0.4520 - val_accuracy: 0.7804 - val_loss: 0.4759\n",
            "Epoch 15/100\n",
            "\u001b[1m313/313\u001b[0m \u001b[32m━━━━━━━━━━━━━━━━━━━━\u001b[0m\u001b[37m\u001b[0m \u001b[1m6s\u001b[0m 20ms/step - accuracy: 0.8064 - loss: 0.4440 - val_accuracy: 0.7820 - val_loss: 0.4732\n",
            "Epoch 16/100\n",
            "\u001b[1m313/313\u001b[0m \u001b[32m━━━━━━━━━━━━━━━━━━━━\u001b[0m\u001b[37m\u001b[0m \u001b[1m6s\u001b[0m 19ms/step - accuracy: 0.8087 - loss: 0.4375 - val_accuracy: 0.7850 - val_loss: 0.4713\n",
            "Epoch 17/100\n",
            "\u001b[1m313/313\u001b[0m \u001b[32m━━━━━━━━━━━━━━━━━━━━\u001b[0m\u001b[37m\u001b[0m \u001b[1m6s\u001b[0m 20ms/step - accuracy: 0.8083 - loss: 0.4328 - val_accuracy: 0.7854 - val_loss: 0.4703\n",
            "Epoch 18/100\n",
            "\u001b[1m313/313\u001b[0m \u001b[32m━━━━━━━━━━━━━━━━━━━━\u001b[0m\u001b[37m\u001b[0m \u001b[1m6s\u001b[0m 19ms/step - accuracy: 0.8112 - loss: 0.4288 - val_accuracy: 0.7832 - val_loss: 0.4694\n",
            "Epoch 19/100\n",
            "\u001b[1m313/313\u001b[0m \u001b[32m━━━━━━━━━━━━━━━━━━━━\u001b[0m\u001b[37m\u001b[0m \u001b[1m6s\u001b[0m 19ms/step - accuracy: 0.8131 - loss: 0.4253 - val_accuracy: 0.7826 - val_loss: 0.4687\n",
            "Epoch 20/100\n",
            "\u001b[1m313/313\u001b[0m \u001b[32m━━━━━━━━━━━━━━━━━━━━\u001b[0m\u001b[37m\u001b[0m \u001b[1m6s\u001b[0m 19ms/step - accuracy: 0.8157 - loss: 0.4217 - val_accuracy: 0.7826 - val_loss: 0.4685\n",
            "Epoch 21/100\n",
            "\u001b[1m313/313\u001b[0m \u001b[32m━━━━━━━━━━━━━━━━━━━━\u001b[0m\u001b[37m\u001b[0m \u001b[1m6s\u001b[0m 20ms/step - accuracy: 0.8149 - loss: 0.4195 - val_accuracy: 0.7812 - val_loss: 0.4686\n",
            "Epoch 22/100\n",
            "\u001b[1m313/313\u001b[0m \u001b[32m━━━━━━━━━━━━━━━━━━━━\u001b[0m\u001b[37m\u001b[0m \u001b[1m6s\u001b[0m 20ms/step - accuracy: 0.8158 - loss: 0.4177 - val_accuracy: 0.7818 - val_loss: 0.4695\n",
            "Epoch 23/100\n",
            "\u001b[1m313/313\u001b[0m \u001b[32m━━━━━━━━━━━━━━━━━━━━\u001b[0m\u001b[37m\u001b[0m \u001b[1m6s\u001b[0m 19ms/step - accuracy: 0.8175 - loss: 0.4146 - val_accuracy: 0.7824 - val_loss: 0.4701\n"
          ]
        }
      ]
    },
    {
      "cell_type": "code",
      "source": [
        "'''\n",
        "출력 결과를 보면 원-핫 인코딩을 사용한 모델과 비슷한 성능을 냈다.\n",
        "반면에 순환층의 가중치 개수는 훨씬 작고 훈련 세트 크기도 훨씬 줄었다.\n",
        "마지막으로 훈련 손실과 검증 손실을 그래프로 출력해 보자.\n",
        "'''"
      ],
      "metadata": {
        "colab": {
          "base_uri": "https://localhost:8080/",
          "height": 54
        },
        "id": "SAznWQWgx-Rf",
        "outputId": "da703b68-df9a-477d-9285-3b413f613957"
      },
      "execution_count": null,
      "outputs": [
        {
          "output_type": "execute_result",
          "data": {
            "text/plain": [
              "'\\n출력 결과를 보면 원-핫 인코딩을 사용한 모델과 비슷한 성능을 냈다.\\n반면에 순환층의 가중치 개수는 훨씬 작고 훈련 세트 크기도 훨씬 줄었다.\\n마지막으로 훈련 손실과 검증 손실을 그래프로 출력해 보자.\\n'"
            ],
            "application/vnd.google.colaboratory.intrinsic+json": {
              "type": "string"
            }
          },
          "metadata": {},
          "execution_count": 60
        }
      ]
    },
    {
      "cell_type": "code",
      "source": [
        "# 훈련 손실과 검증 손실 시각화\n",
        "plt.plot(history.history['loss'])\n",
        "plt.plot(history.history['val_loss'])\n",
        "plt.xlabel('epoch')\n",
        "plt.ylabel('loss')\n",
        "plt.legend(['train', 'val'])\n",
        "plt.show()"
      ],
      "metadata": {
        "colab": {
          "base_uri": "https://localhost:8080/",
          "height": 449
        },
        "id": "0LI7zzm5zSyq",
        "outputId": "e4130c57-91fe-478d-f285-d5c051ef205a"
      },
      "execution_count": null,
      "outputs": [
        {
          "output_type": "display_data",
          "data": {
            "text/plain": [
              "<Figure size 640x480 with 1 Axes>"
            ],
            "image/png": "[encoded data removed]"
          },
          "metadata": {}
        }
      ]
    },
    {
      "cell_type": "code",
      "source": [
        "'''\n",
        "검증 손실이 더 이상 감소되지 않아 훈련이 적절히 조기 종료 되었다.\n",
        "이에 비해 훈련 손실은 계속 감소한다.\n",
        "이를 개선할 방법이 있는지 다음 장에서 알아보겠다.\n",
        "'''"
      ],
      "metadata": {
        "colab": {
          "base_uri": "https://localhost:8080/",
          "height": 54
        },
        "id": "biljci2Gzi5h",
        "outputId": "7223630e-b008-437c-b140-23d853ac9b99"
      },
      "execution_count": null,
      "outputs": [
        {
          "output_type": "execute_result",
          "data": {
            "text/plain": [
              "'\\n검증 손실이 더 이상 감소되지 않아 훈련이 적절히 조기 종료 되었다.\\n이에 비해 훈련 손실은 계속 감소한다.\\n이를 개선할 방법이 있는지 다음 장에서 알아보겠다.\\n'"
            ],
            "application/vnd.google.colaboratory.intrinsic+json": {
              "type": "string"
            }
          },
          "metadata": {},
          "execution_count": 63
        }
      ]
    }
  ]
}