{
  "nbformat": 4,
  "nbformat_minor": 0,
  "metadata": {
    "colab": {
      "provenance": [],
      "authorship_tag": "ABX9TyOZj2hVoF1a87SQvl5CKnea",
      "include_colab_link": true
    },
    "kernelspec": {
      "name": "python3",
      "display_name": "Python 3"
    },
    "language_info": {
      "name": "python"
    }
  },
  "cells": [
    {
      "cell_type": "markdown",
      "metadata": {
        "id": "view-in-github",
        "colab_type": "text"
      },
      "source": [
        "<a href=\"https://colab.research.google.com/github/NoahLee99/ML-DL-studylog/blob/main/Chapter%2009-3%20-%20LSTM%EA%B3%BC%20GRU%20%EC%85%80.ipynb\" target=\"_parent\"><img src=\"https://colab.research.google.com/assets/colab-badge.svg\" alt=\"Open In Colab\"/></a>"
      ]
    },
    {
      "cell_type": "markdown",
      "source": [
        "# **LSTM과 GRU 셀**"
      ],
      "metadata": {
        "id": "e7nYNgoOLZNf"
      }
    },
    {
      "cell_type": "markdown",
      "source": [
        "**키워드**"
      ],
      "metadata": {
        "id": "CvWI-cjjLdl9"
      }
    },
    {
      "cell_type": "markdown",
      "source": [
        "* LSTM: 셀은 타임스텝이 긴 데이터를 효과적으로 학습하기 위해 고안된 순환층이다.\n",
        "<br> 입력 게이트, 삭제 게이트, 출력 게이트 역할을 하는 작은 셀이 포함되어 있다.\n",
        "\n",
        "* 셀 상태: LSTM 셀은 은닉 상태 외에 셀 상태를 출력한다.\n",
        "<br> 셀 상태는 다음 층으로 전달되지 않으며 현재 셀에서만 순환된다.\n",
        "\n",
        "* GRU: 셀은 LSTM 셀의 간소화(경량화) 버전으로 생각할 수 있지만 LSTM 셀에 못지않는 성능을 낸다."
      ],
      "metadata": {
        "id": "4a3mXuqC8bal"
      }
    },
    {
      "cell_type": "markdown",
      "source": [
        "**핵심 패키지 및 함수**"
      ],
      "metadata": {
        "id": "LrXWR62RLfH_"
      }
    },
    {
      "cell_type": "markdown",
      "source": [
        "* LSTM: LSTM 셀을 사용한 순환층 클래스이다.\n",
        "<br> 첫 번째 매개변수에 뉴런의 개수를 지정한다.\n",
        "<br> dropout 매개변수에서 입력에 대한 드롭아웃 비율을 지정할 수 있다.\n",
        "<br> return_sequences 매개변수에서 모든 타임스텝의 은닉 상태를 출력할지 결정한다. 기본값은 False이다.\n",
        "\n",
        "* GRU: GRU 셀을 사용한 순환층 클래스이다.\n",
        "<br> 첫 번째 매개변수에 뉴런의 개수를 지정한다.\n",
        "<br> dropout 매개변수에서 입력에 대한 드롭아웃 비율을 지정할 수 있다.\n",
        "<br> return_sequences 매개변수에서 모든 타임스텝의 은닉 상태를 출력할지 결정한다. 기본값은 False이다.\n"
      ],
      "metadata": {
        "id": "4fl6cDkR86Qg"
      }
    },
    {
      "cell_type": "code",
      "source": [
        "'''\n",
        "이번 장에서는 고급 순환층인 LSTM과 GRU에 대해 알아볼 것이다.\n",
        "이런 층들은 09-2장에서 배웠던 SimpleRNN보다 계산이 훨씬 복잡하다.\n",
        "하지만 성능이 뛰어나기 때문에 순환 신경망에 많이 채택되고 있다.\n",
        "\n",
        "일반적으로 기본 순환층은 긴 시퀀스를 학습하기 어렵다.\n",
        "시퀀스가 갈수록 순환되는 은닉 상태에 담긴 정보가 점차 희석되기 때문이다.\n",
        "따라서 멀리 떨어져 있는 단어 정보를 인식하는 데 어려울 수 있다.\n",
        "이를 위해 LSTM과 GRU 셀이 발명되었다.\n",
        "\n",
        "이 장에서는 LSTM과 GRU 셀의 구조를 이해하고 텐서플로와 케라스를 사용해 다양한 순환 신경망 구조를 만들어 보겠다.\n",
        "'''"
      ],
      "metadata": {
        "id": "s0CH3tYuLioa",
        "colab": {
          "base_uri": "https://localhost:8080/",
          "height": 73
        },
        "outputId": "83588e6f-330e-4900-b5ab-d70c88d0e658"
      },
      "execution_count": null,
      "outputs": [
        {
          "output_type": "execute_result",
          "data": {
            "text/plain": [
              "'\\n이번 장에서는 고급 순환층인 LSTM과 GRU에 대해 알아볼 것이다.\\n이런 층들은 09-2장에서 배웠던 SimpleRNN보다 계산이 훨씬 복잡하다.\\n하지만 성능이 뛰어나기 때문에 순환 신경망에 많이 채택되고 있다.\\n\\n일반적으로 기본 순환층은 긴 시퀀스를 학습하기 어렵다.\\n시퀀스가 갈수록 순환되는 은닉 상태에 담긴 정보가 점차 희석되기 때문이다.\\n따라서 멀리 떨어져 있는 단어 정보를 인식하는 데 어려울 수 있다.\\n이를 위해 LSTM과 GRU 셀이 발명되었다.\\n\\n이 장에서는 LSTM과 GRU 셀의 구조를 이해하고 텐서플로와 케라스를 사용해 다양한 순환 신경망 구조를 만들어 보겠다.\\n'"
            ],
            "application/vnd.google.colaboratory.intrinsic+json": {
              "type": "string"
            }
          },
          "metadata": {},
          "execution_count": 2
        }
      ]
    },
    {
      "cell_type": "markdown",
      "source": [
        "# **LSTM 구조**"
      ],
      "metadata": {
        "id": "3i3bpkBrMA_a"
      }
    },
    {
      "cell_type": "code",
      "source": [
        "'''\n",
        "LSTM은 Long Short-Term Memory의 약자이다.\n",
        "말 그대로 단기 기억을 오래 기억하기 위해 고안되었다.\n",
        "LSTM은 구조가 복잡하므로 단계적으로 설명하겠다.\n",
        "하지만 기본 개념은 동일하다.\n",
        "LSTM에는 입력과 가중치를 곱하고 절편을 더해 활성화 함수를 통과시키는 구조를 여러 개 가지고 있다.\n",
        "이런 계산 결과는 다음 타임스텝에 재사용된다.\n",
        "이 과정을 하나씩 따라가 보자.\n",
        "\n",
        "먼저 은닉 상태를 만드는 방법을 알아보자.\n",
        "은닉 상태는 입력과 이전 타임스텝의 은닉 상태를 가중치에 곱한 후 활성화 함수를 통과시켜 다음 은닉 상태를 만든다.\n",
        "이때 기본 순환층과는 달리 시그모이드 활성화 함수를 사용한다.\n",
        "또 tanh 활성화 함수를 통과한 어떤 값과 곱해져서 은닉 상태를 만든다.\n",
        "이 값은 바로 다음 설명하겠다.\n",
        "\n",
        "LSTM에는 순환되는 상태가 2개이다.\n",
        "은닉 상태 말고 \"셀 상태(cell state)\"라고 부르는 값이 또 있죠.\n",
        "은닉 상태와 달리 셀 상태는 다음 층으로 전달되지 않고 LSTM 셀에서 순환만 되는 값이다.\n",
        "\n",
        "셀 상태를 계산하는 과정을 다음과 같다.\n",
        "먼저 입력과 은닉 상태를 또 다른 가중치 W에 곱한 다음 시그모이드 함수를 통과시킨다.\n",
        "그다음 이전 타임스텝의 셀 상태와 곱하여 새로운 셀 상태를 만든다.\n",
        "이 셀 상태가 오른쪽에서 tanh 함수를 통과하여 새로운 은닉 상태를 만드는 데 기여한다.\n",
        "\n",
        "매우 복잡하다.\n",
        "LSTM은 마치 작은 셀을 여러 개 포함하고 있는 큰 셀 같다.\n",
        "중요한 것은 입력과 은닉 상태에 곱해지는 가중치 W1과 W2가 다르다는 점이다.\n",
        "이 두 작은 셀은 각기 다른 기능을 위해 훈련된다.\n",
        "그런데 LSTM 셀은 이게 끝이 아니다.\n",
        "\n",
        "여기에 2개의 작은 셀이 더 추가되어 셀 상태를 만드는 데 기여한다.\n",
        "이전과 마찬가지로 입ㄺ과 은닉 상태를 각기 다른 가중치에 곱한 다음,\n",
        "하나는 시그모이드 함수를 통과시키고 다른 하나는 tanh 함수를 통과시킨다.\n",
        "그다음 두 결과를 곱한 후 이전 셀 상태와 더한다.\n",
        "이 결과가 최종적인 다음 셀 상태가 된다.\n",
        "이렇게 LSTM에는 총 4개의 셀이 있다.\n",
        "세 곳의 곱셈을 삭제 게이트, 입력 게이트, 출력 게이트라고 부른다.\n",
        "\n",
        "삭제 게이트(forget gate)는 셀 상태에 있는 정보를 제거하는 역할을 하고\n",
        "입력 게이트(input gate)는 새로운 정보를 셀 상태에 추가한다.\n",
        "출력 게이트(output gate)를 통해서 이 셀 상태가 다음 은닉 상태로 출력된다.\n",
        "\n",
        "물론 이 복잡한 셀 계산을 직접 할 필요는 없다.\n",
        "케라스에는 이미 LSTM 클래스가 준비되어 있다.\n",
        "다음 섹션에서 LSTM 클래스를 사용해 LSTM 순환 신경망을 만들어 보겠다.\n",
        "\n",
        "글로만 보아선 이해가 쉽지 않지만,\n",
        "중요한 것은 셀 상태는 LSTM의 출력으로 사용되는 것이 아니고, 셀 자체에서 순환되는 값이라는 것이다.\n",
        "또한 은닉 상태이건 셀 상태이건 3개의 게이트이건 모두 벡터(vector) 값이다! (벡터는 숫자들을 담은 1차원 집합)\n",
        "'''"
      ],
      "metadata": {
        "id": "H6ebiOuGMDJF",
        "colab": {
          "base_uri": "https://localhost:8080/",
          "height": 167
        },
        "outputId": "bf289031-cfa0-43fd-89a2-28efe80080be"
      },
      "execution_count": null,
      "outputs": [
        {
          "output_type": "execute_result",
          "data": {
            "text/plain": [
              "'\\nLSTM은 Long Short-Term Memory의 약자이다.\\n말 그대로 단기 기억을 오래 기억하기 위해 고안되었다.\\nLSTM은 구조가 복잡하므로 단계적으로 설명하겠다.\\n하지만 기본 개념은 동일하다.\\nLSTM에는 입력과 가중치를 곱하고 절편을 더해 활성화 함수를 통과시키는 구조를 여러 개 가지고 있다.\\n이런 계산 결과는 다음 타임스텝에 재사용된다.\\n이 과정을 하나씩 따라가 보자.\\n\\n먼저 은닉 상태를 만드는 방법을 알아보자.\\n은닉 상태는 입력과 이전 타임스텝의 은닉 상태를 가중치에 곱한 후 활성화 함수를 통과시켜 다음 은닉 상태를 만든다.\\n이때 기본 순환층과는 달리 시그모이드 활성화 함수를 사용한다.\\n또 tanh 활성화 함수를 통과한 어떤 값과 곱해져서 은닉 상태를 만든다.\\n이 값은 바로 다음 설명하겠다.\\n\\nLSTM에는 순환되는 상태가 2개이다.\\n은닉 상태 말고 \"셀 상태(cell state)\"라고 부르는 값이 또 있죠.\\n은닉 상태와 달리 셀 상태는 다음 층으로 전달되지 않고 LSTM 셀에서 순환만 되는 값이다.\\n\\n셀 상태를 계산하는 과정을 다음과 같다.\\n먼저 입력과 은닉 상태를 또 다른 가중치 W에 곱한 다음 시그모이드 함수를 통과시킨다.\\n그다음 이전 타임스텝의 셀 상태와 곱하여 새로운 셀 상태를 만든다.\\n이 셀 상태가 오른쪽에서 tanh 함수를 통과하여 새로운 은닉 상태를 만드는 데 기여한다.\\n\\n매우 복잡하다.\\nLSTM은 마치 작은 셀을 여러 개 포함하고 있는 큰 셀 같다.\\n중요한 것은 입력과 은닉 상태에 곱해지는 가중치 W1과 W2가 다르다는 점이다.\\n이 두 작은 셀은 각기 다른 기능을 위해 훈련된다.\\n그런데 LSTM 셀은 이게 끝이 아니다.\\n\\n여기에 2개의 작은 셀이 더 추가되어 셀 상태를 만드는 데 기여한다.\\n이전과 마찬가지로 입ㄺ과 은닉 상태를 각기 다른 가중치에 곱한 다음,\\n하나는 시그모이드 함수를 통과시키고 다른 하나는 tanh 함수를 통과시킨다.\\n그다음 두 결과를 곱한 후 이전 셀 상태와 더한다.\\n이 결과가 최종적인 다음 셀 상태가 된다.\\n이렇게 LSTM에는 총 4개의 셀이 있다.\\n세 곳의 곱셈을 삭제 게이트, 입력 게이트, 출력 게이트라고 부른다.\\n\\n삭제 게이트는 셀 상태에 있는 정보를 제거하는 역할을 하고\\n입력 게이트는 새로운 정보를 셀 상태에 추가한다.\\n출력 게이트를 통해서 이 셀 상태가 다음 은닉 상태로 출력된다.\\n\\n물론 이 복잡한 셀 계산을 직접 할 필요는 없다.\\n케라스에는 이미 LSTM 클래스가 준비되어 있다.\\n다음 섹션에서 LSTM 클래스를 사용해 LSTM 순환 신경망을 만들어 보겠다.\\n\\n글로만 보아선 이해가 쉽지 않지만,\\n중요한 것은 셀 상태는 LSTM의 출력으로 사용되는 것이 아니고, 셀 자체에서 순환되는 값이라는 것이다.\\n'"
            ],
            "application/vnd.google.colaboratory.intrinsic+json": {
              "type": "string"
            }
          },
          "metadata": {},
          "execution_count": 3
        }
      ]
    },
    {
      "cell_type": "markdown",
      "source": [
        "# **LSTM 구조**\n",
        "\n",
        "* 1. gate 계산하기: Forget, Input, Output\n",
        "* 2. cell state 업데이트 하기 (장기 정보)\n",
        "* 3. hidden state 업데이트 하기 (단기 정보)\n",
        "* 4. 최근 시점(hidden state)에서 예측하기 (y hat)"
      ],
      "metadata": {
        "id": "psWLBQj-mZ1M"
      }
    },
    {
      "cell_type": "markdown",
      "source": [
        "# **LSTM 신경망 훈련하기**"
      ],
      "metadata": {
        "id": "8s2ieijZQvBd"
      }
    },
    {
      "cell_type": "code",
      "source": [
        "# IMDB 리뷰 데이터 로드 및 세트 분할\n",
        "import tensorflow as tf\n",
        "tf.keras.utils.set_random_seed(42)\n",
        "from tensorflow.keras.datasets import imdb\n",
        "from sklearn.model_selection import train_test_split\n",
        "\n",
        "(train_input, train_target), (test_input, test_target) = imdb.load_data(\n",
        "    num_words=500)\n",
        "\n",
        "train_input, val_input, train_target, val_target = train_test_split(\n",
        "    train_input, train_target, test_size=0.2, random_state=42)"
      ],
      "metadata": {
        "id": "0gRD48xEQw5z"
      },
      "execution_count": null,
      "outputs": []
    },
    {
      "cell_type": "code",
      "source": [
        "# 샘플의 길이를 100으로 설정 후 패딩 지정\n",
        "from tensorflow.keras.preprocessing.sequence import pad_sequences\n",
        "\n",
        "train_seq = pad_sequences(train_input, maxlen=100)\n",
        "val_seq = pad_sequences(val_input, maxlen=100)"
      ],
      "metadata": {
        "id": "d_F-GV5-Q7oS"
      },
      "execution_count": null,
      "outputs": []
    },
    {
      "cell_type": "code",
      "source": [
        "# LSTM 셀을 사용한 순환층 생성\n",
        "from tensorflow import keras\n",
        "\n",
        "model = keras.Sequential()\n",
        "\n",
        "model.add(keras.layers.Embedding(500, 16, input_shape=(100,)))\n",
        "model.add(keras.layers.LSTM(8))\n",
        "model.add(keras.layers.Dense(1, activation='sigmoid'))\n",
        "\n",
        "# SimpleRNN 클래스를 LSTM 클래스로 바꾸기만 하면 됨"
      ],
      "metadata": {
        "id": "KUfJMQORRjgG",
        "colab": {
          "base_uri": "https://localhost:8080/"
        },
        "outputId": "c31ce504-9e54-459b-a9ff-214cbadf0cd8"
      },
      "execution_count": null,
      "outputs": [
        {
          "output_type": "stream",
          "name": "stderr",
          "text": [
            "/usr/local/lib/python3.11/dist-packages/keras/src/layers/core/embedding.py:93: UserWarning: Do not pass an `input_shape`/`input_dim` argument to a layer. When using Sequential models, prefer using an `Input(shape)` object as the first layer in the model instead.\n",
            "  super().__init__(**kwargs)\n"
          ]
        }
      ]
    },
    {
      "cell_type": "code",
      "source": [
        "# 모델 구조 출력\n",
        "model.summary()"
      ],
      "metadata": {
        "colab": {
          "base_uri": "https://localhost:8080/",
          "height": 225
        },
        "id": "r9dOfDKASABV",
        "outputId": "14f5d642-0db7-4319-85fb-a1142360b73d"
      },
      "execution_count": null,
      "outputs": [
        {
          "output_type": "display_data",
          "data": {
            "text/plain": [
              "\u001b[1mModel: \"sequential_1\"\u001b[0m\n"
            ],
            "text/html": [
              "<pre style=\"white-space:pre;overflow-x:auto;line-height:normal;font-family:Menlo,'DejaVu Sans Mono',consolas,'Courier New',monospace\"><span style=\"font-weight: bold\">Model: \"sequential_1\"</span>\n",
              "</pre>\n"
            ]
          },
          "metadata": {}
        },
        {
          "output_type": "display_data",
          "data": {
            "text/plain": [
              "┏━━━━━━━━━━━━━━━━━━━━━━━━━━━━━━━━━━━━━━┳━━━━━━━━━━━━━━━━━━━━━━━━━━━━━┳━━━━━━━━━━━━━━━━━┓\n",
              "┃\u001b[1m \u001b[0m\u001b[1mLayer (type)                        \u001b[0m\u001b[1m \u001b[0m┃\u001b[1m \u001b[0m\u001b[1mOutput Shape               \u001b[0m\u001b[1m \u001b[0m┃\u001b[1m \u001b[0m\u001b[1m        Param #\u001b[0m\u001b[1m \u001b[0m┃\n",
              "┡━━━━━━━━━━━━━━━━━━━━━━━━━━━━━━━━━━━━━━╇━━━━━━━━━━━━━━━━━━━━━━━━━━━━━╇━━━━━━━━━━━━━━━━━┩\n",
              "│ embedding_1 (\u001b[38;5;33mEmbedding\u001b[0m)              │ (\u001b[38;5;45mNone\u001b[0m, \u001b[38;5;34m100\u001b[0m, \u001b[38;5;34m16\u001b[0m)             │           \u001b[38;5;34m8,000\u001b[0m │\n",
              "├──────────────────────────────────────┼─────────────────────────────┼─────────────────┤\n",
              "│ lstm_1 (\u001b[38;5;33mLSTM\u001b[0m)                        │ (\u001b[38;5;45mNone\u001b[0m, \u001b[38;5;34m8\u001b[0m)                   │             \u001b[38;5;34m800\u001b[0m │\n",
              "├──────────────────────────────────────┼─────────────────────────────┼─────────────────┤\n",
              "│ dense_1 (\u001b[38;5;33mDense\u001b[0m)                      │ (\u001b[38;5;45mNone\u001b[0m, \u001b[38;5;34m1\u001b[0m)                   │               \u001b[38;5;34m9\u001b[0m │\n",
              "└──────────────────────────────────────┴─────────────────────────────┴─────────────────┘\n"
            ],
            "text/html": [
              "<pre style=\"white-space:pre;overflow-x:auto;line-height:normal;font-family:Menlo,'DejaVu Sans Mono',consolas,'Courier New',monospace\">┏━━━━━━━━━━━━━━━━━━━━━━━━━━━━━━━━━━━━━━┳━━━━━━━━━━━━━━━━━━━━━━━━━━━━━┳━━━━━━━━━━━━━━━━━┓\n",
              "┃<span style=\"font-weight: bold\"> Layer (type)                         </span>┃<span style=\"font-weight: bold\"> Output Shape                </span>┃<span style=\"font-weight: bold\">         Param # </span>┃\n",
              "┡━━━━━━━━━━━━━━━━━━━━━━━━━━━━━━━━━━━━━━╇━━━━━━━━━━━━━━━━━━━━━━━━━━━━━╇━━━━━━━━━━━━━━━━━┩\n",
              "│ embedding_1 (<span style=\"color: #0087ff; text-decoration-color: #0087ff\">Embedding</span>)              │ (<span style=\"color: #00d7ff; text-decoration-color: #00d7ff\">None</span>, <span style=\"color: #00af00; text-decoration-color: #00af00\">100</span>, <span style=\"color: #00af00; text-decoration-color: #00af00\">16</span>)             │           <span style=\"color: #00af00; text-decoration-color: #00af00\">8,000</span> │\n",
              "├──────────────────────────────────────┼─────────────────────────────┼─────────────────┤\n",
              "│ lstm_1 (<span style=\"color: #0087ff; text-decoration-color: #0087ff\">LSTM</span>)                        │ (<span style=\"color: #00d7ff; text-decoration-color: #00d7ff\">None</span>, <span style=\"color: #00af00; text-decoration-color: #00af00\">8</span>)                   │             <span style=\"color: #00af00; text-decoration-color: #00af00\">800</span> │\n",
              "├──────────────────────────────────────┼─────────────────────────────┼─────────────────┤\n",
              "│ dense_1 (<span style=\"color: #0087ff; text-decoration-color: #0087ff\">Dense</span>)                      │ (<span style=\"color: #00d7ff; text-decoration-color: #00d7ff\">None</span>, <span style=\"color: #00af00; text-decoration-color: #00af00\">1</span>)                   │               <span style=\"color: #00af00; text-decoration-color: #00af00\">9</span> │\n",
              "└──────────────────────────────────────┴─────────────────────────────┴─────────────────┘\n",
              "</pre>\n"
            ]
          },
          "metadata": {}
        },
        {
          "output_type": "display_data",
          "data": {
            "text/plain": [
              "\u001b[1m Total params: \u001b[0m\u001b[38;5;34m8,809\u001b[0m (34.41 KB)\n"
            ],
            "text/html": [
              "<pre style=\"white-space:pre;overflow-x:auto;line-height:normal;font-family:Menlo,'DejaVu Sans Mono',consolas,'Courier New',monospace\"><span style=\"font-weight: bold\"> Total params: </span><span style=\"color: #00af00; text-decoration-color: #00af00\">8,809</span> (34.41 KB)\n",
              "</pre>\n"
            ]
          },
          "metadata": {}
        },
        {
          "output_type": "display_data",
          "data": {
            "text/plain": [
              "\u001b[1m Trainable params: \u001b[0m\u001b[38;5;34m8,809\u001b[0m (34.41 KB)\n"
            ],
            "text/html": [
              "<pre style=\"white-space:pre;overflow-x:auto;line-height:normal;font-family:Menlo,'DejaVu Sans Mono',consolas,'Courier New',monospace\"><span style=\"font-weight: bold\"> Trainable params: </span><span style=\"color: #00af00; text-decoration-color: #00af00\">8,809</span> (34.41 KB)\n",
              "</pre>\n"
            ]
          },
          "metadata": {}
        },
        {
          "output_type": "display_data",
          "data": {
            "text/plain": [
              "\u001b[1m Non-trainable params: \u001b[0m\u001b[38;5;34m0\u001b[0m (0.00 B)\n"
            ],
            "text/html": [
              "<pre style=\"white-space:pre;overflow-x:auto;line-height:normal;font-family:Menlo,'DejaVu Sans Mono',consolas,'Courier New',monospace\"><span style=\"font-weight: bold\"> Non-trainable params: </span><span style=\"color: #00af00; text-decoration-color: #00af00\">0</span> (0.00 B)\n",
              "</pre>\n"
            ]
          },
          "metadata": {}
        }
      ]
    },
    {
      "cell_type": "code",
      "source": [
        "'''\n",
        "SimpleRNN 클래스의 모델 파라미터 개수는 200개였다.\n",
        "LSTM 셀에서는 작은 셀이 4개 있으므로 정확도가 4배가 늘어 모델 파라미터 개수는 800개가 되었다.\n",
        "\n",
        "모델을 컴파일하고 훈련해 보겠다.\n",
        "이전과 마찬가지로 배치 크기는 64개, 에포크 횟수는 100으로 지정한다.\n",
        "체크포인트와 조기 종료를 위한 코드도 동일하다.\n",
        "'''"
      ],
      "metadata": {
        "colab": {
          "base_uri": "https://localhost:8080/",
          "height": 54
        },
        "id": "6j8QigzcSGG2",
        "outputId": "6981f0ca-974c-41a5-976e-7796a7d7eb70"
      },
      "execution_count": null,
      "outputs": [
        {
          "output_type": "execute_result",
          "data": {
            "text/plain": [
              "'\\nSimpleRNN 클래스의 모델 파라미터 개수는 200개였다.\\nLSTM 셀에서는 작은 셀이 4개 있으므로 정확도가 4배가 늘어 모델 파라미터 개수는 800개가 되었다.\\n\\n모델을 컴파일하고 훈련해 보겠다.\\n이전과 마찬가지로 배치 크기는 64개, 에포크 횟수는 100으로 지정한다.\\n체크포인트와 조기 종료를 위한 코드도 동일하다.\\n'"
            ],
            "application/vnd.google.colaboratory.intrinsic+json": {
              "type": "string"
            }
          },
          "metadata": {},
          "execution_count": 10
        }
      ]
    },
    {
      "cell_type": "code",
      "source": [
        "# 모델 컴파일 및 훈련\n",
        "rmsprop = keras.optimizers.RMSprop(learning_rate=1e-4)\n",
        "model.compile(optimizer=rmsprop, loss='binary_crossentropy',\n",
        "              metrics=['accuracy'])\n",
        "\n",
        "checkpoint_cb = keras.callbacks.ModelCheckpoint('best-lstm-model.keras',\n",
        "                                                save_best_only=True)\n",
        "early_stopping_cb = keras.callbacks.EarlyStopping(patience=3,\n",
        "                                                  restore_best_weights=True)\n",
        "\n",
        "history = model.fit(train_seq, train_target, epochs=100, batch_size=64,\n",
        "                    validation_data=(val_seq, val_target),\n",
        "                    callbacks=[checkpoint_cb, early_stopping_cb])"
      ],
      "metadata": {
        "colab": {
          "base_uri": "https://localhost:8080/"
        },
        "id": "IPJeC9j5SibM",
        "outputId": "9e3de90f-985f-4eb4-f568-abc1c5a74895"
      },
      "execution_count": null,
      "outputs": [
        {
          "output_type": "stream",
          "name": "stdout",
          "text": [
            "Epoch 1/100\n",
            "\u001b[1m313/313\u001b[0m \u001b[32m━━━━━━━━━━━━━━━━━━━━\u001b[0m\u001b[37m\u001b[0m \u001b[1m15s\u001b[0m 38ms/step - accuracy: 0.5144 - loss: 0.6930 - val_accuracy: 0.5768 - val_loss: 0.6921\n",
            "Epoch 2/100\n",
            "\u001b[1m313/313\u001b[0m \u001b[32m━━━━━━━━━━━━━━━━━━━━\u001b[0m\u001b[37m\u001b[0m \u001b[1m11s\u001b[0m 34ms/step - accuracy: 0.5834 - loss: 0.6917 - val_accuracy: 0.6126 - val_loss: 0.6903\n",
            "Epoch 3/100\n",
            "\u001b[1m313/313\u001b[0m \u001b[32m━━━━━━━━━━━━━━━━━━━━\u001b[0m\u001b[37m\u001b[0m \u001b[1m22s\u001b[0m 38ms/step - accuracy: 0.6128 - loss: 0.6895 - val_accuracy: 0.6356 - val_loss: 0.6863\n",
            "Epoch 4/100\n",
            "\u001b[1m313/313\u001b[0m \u001b[32m━━━━━━━━━━━━━━━━━━━━\u001b[0m\u001b[37m\u001b[0m \u001b[1m20s\u001b[0m 38ms/step - accuracy: 0.6395 - loss: 0.6843 - val_accuracy: 0.6520 - val_loss: 0.6752\n",
            "Epoch 5/100\n",
            "\u001b[1m313/313\u001b[0m \u001b[32m━━━━━━━━━━━━━━━━━━━━\u001b[0m\u001b[37m\u001b[0m \u001b[1m21s\u001b[0m 38ms/step - accuracy: 0.6557 - loss: 0.6670 - val_accuracy: 0.7066 - val_loss: 0.6175\n",
            "Epoch 6/100\n",
            "\u001b[1m313/313\u001b[0m \u001b[32m━━━━━━━━━━━━━━━━━━━━\u001b[0m\u001b[37m\u001b[0m \u001b[1m21s\u001b[0m 40ms/step - accuracy: 0.7148 - loss: 0.6092 - val_accuracy: 0.7306 - val_loss: 0.5893\n",
            "Epoch 7/100\n",
            "\u001b[1m313/313\u001b[0m \u001b[32m━━━━━━━━━━━━━━━━━━━━\u001b[0m\u001b[37m\u001b[0m \u001b[1m18s\u001b[0m 33ms/step - accuracy: 0.7351 - loss: 0.5830 - val_accuracy: 0.7464 - val_loss: 0.5708\n",
            "Epoch 8/100\n",
            "\u001b[1m313/313\u001b[0m \u001b[32m━━━━━━━━━━━━━━━━━━━━\u001b[0m\u001b[37m\u001b[0m \u001b[1m22s\u001b[0m 37ms/step - accuracy: 0.7480 - loss: 0.5645 - val_accuracy: 0.7530 - val_loss: 0.5564\n",
            "Epoch 9/100\n",
            "\u001b[1m313/313\u001b[0m \u001b[32m━━━━━━━━━━━━━━━━━━━━\u001b[0m\u001b[37m\u001b[0m \u001b[1m21s\u001b[0m 37ms/step - accuracy: 0.7568 - loss: 0.5488 - val_accuracy: 0.7598 - val_loss: 0.5439\n",
            "Epoch 10/100\n",
            "\u001b[1m313/313\u001b[0m \u001b[32m━━━━━━━━━━━━━━━━━━━━\u001b[0m\u001b[37m\u001b[0m \u001b[1m11s\u001b[0m 36ms/step - accuracy: 0.7671 - loss: 0.5349 - val_accuracy: 0.7634 - val_loss: 0.5330\n",
            "Epoch 11/100\n",
            "\u001b[1m313/313\u001b[0m \u001b[32m━━━━━━━━━━━━━━━━━━━━\u001b[0m\u001b[37m\u001b[0m \u001b[1m21s\u001b[0m 37ms/step - accuracy: 0.7731 - loss: 0.5222 - val_accuracy: 0.7690 - val_loss: 0.5232\n",
            "Epoch 12/100\n",
            "\u001b[1m313/313\u001b[0m \u001b[32m━━━━━━━━━━━━━━━━━━━━\u001b[0m\u001b[37m\u001b[0m \u001b[1m12s\u001b[0m 37ms/step - accuracy: 0.7780 - loss: 0.5105 - val_accuracy: 0.7700 - val_loss: 0.5145\n",
            "Epoch 13/100\n",
            "\u001b[1m313/313\u001b[0m \u001b[32m━━━━━━━━━━━━━━━━━━━━\u001b[0m\u001b[37m\u001b[0m \u001b[1m21s\u001b[0m 39ms/step - accuracy: 0.7841 - loss: 0.5003 - val_accuracy: 0.7726 - val_loss: 0.5068\n",
            "Epoch 14/100\n",
            "\u001b[1m313/313\u001b[0m \u001b[32m━━━━━━━━━━━━━━━━━━━━\u001b[0m\u001b[37m\u001b[0m \u001b[1m20s\u001b[0m 38ms/step - accuracy: 0.7872 - loss: 0.4911 - val_accuracy: 0.7758 - val_loss: 0.5000\n",
            "Epoch 15/100\n",
            "\u001b[1m313/313\u001b[0m \u001b[32m━━━━━━━━━━━━━━━━━━━━\u001b[0m\u001b[37m\u001b[0m \u001b[1m20s\u001b[0m 36ms/step - accuracy: 0.7900 - loss: 0.4826 - val_accuracy: 0.7776 - val_loss: 0.4940\n",
            "Epoch 16/100\n",
            "\u001b[1m313/313\u001b[0m \u001b[32m━━━━━━━━━━━━━━━━━━━━\u001b[0m\u001b[37m\u001b[0m \u001b[1m20s\u001b[0m 35ms/step - accuracy: 0.7939 - loss: 0.4747 - val_accuracy: 0.7794 - val_loss: 0.4885\n",
            "Epoch 17/100\n",
            "\u001b[1m313/313\u001b[0m \u001b[32m━━━━━━━━━━━━━━━━━━━━\u001b[0m\u001b[37m\u001b[0m \u001b[1m21s\u001b[0m 37ms/step - accuracy: 0.7977 - loss: 0.4673 - val_accuracy: 0.7810 - val_loss: 0.4835\n",
            "Epoch 18/100\n",
            "\u001b[1m313/313\u001b[0m \u001b[32m━━━━━━━━━━━━━━━━━━━━\u001b[0m\u001b[37m\u001b[0m \u001b[1m11s\u001b[0m 37ms/step - accuracy: 0.7997 - loss: 0.4607 - val_accuracy: 0.7812 - val_loss: 0.4790\n",
            "Epoch 19/100\n",
            "\u001b[1m313/313\u001b[0m \u001b[32m━━━━━━━━━━━━━━━━━━━━\u001b[0m\u001b[37m\u001b[0m \u001b[1m19s\u001b[0m 33ms/step - accuracy: 0.8011 - loss: 0.4547 - val_accuracy: 0.7840 - val_loss: 0.4748\n",
            "Epoch 20/100\n",
            "\u001b[1m313/313\u001b[0m \u001b[32m━━━━━━━━━━━━━━━━━━━━\u001b[0m\u001b[37m\u001b[0m \u001b[1m12s\u001b[0m 37ms/step - accuracy: 0.8025 - loss: 0.4493 - val_accuracy: 0.7852 - val_loss: 0.4708\n",
            "Epoch 21/100\n",
            "\u001b[1m313/313\u001b[0m \u001b[32m━━━━━━━━━━━━━━━━━━━━\u001b[0m\u001b[37m\u001b[0m \u001b[1m12s\u001b[0m 37ms/step - accuracy: 0.8046 - loss: 0.4445 - val_accuracy: 0.7860 - val_loss: 0.4673\n",
            "Epoch 22/100\n",
            "\u001b[1m313/313\u001b[0m \u001b[32m━━━━━━━━━━━━━━━━━━━━\u001b[0m\u001b[37m\u001b[0m \u001b[1m12s\u001b[0m 37ms/step - accuracy: 0.8061 - loss: 0.4402 - val_accuracy: 0.7884 - val_loss: 0.4640\n",
            "Epoch 23/100\n",
            "\u001b[1m313/313\u001b[0m \u001b[32m━━━━━━━━━━━━━━━━━━━━\u001b[0m\u001b[37m\u001b[0m \u001b[1m19s\u001b[0m 34ms/step - accuracy: 0.8064 - loss: 0.4363 - val_accuracy: 0.7886 - val_loss: 0.4611\n",
            "Epoch 24/100\n",
            "\u001b[1m313/313\u001b[0m \u001b[32m━━━━━━━━━━━━━━━━━━━━\u001b[0m\u001b[37m\u001b[0m \u001b[1m11s\u001b[0m 35ms/step - accuracy: 0.8088 - loss: 0.4329 - val_accuracy: 0.7890 - val_loss: 0.4586\n",
            "Epoch 25/100\n",
            "\u001b[1m313/313\u001b[0m \u001b[32m━━━━━━━━━━━━━━━━━━━━\u001b[0m\u001b[37m\u001b[0m \u001b[1m21s\u001b[0m 37ms/step - accuracy: 0.8091 - loss: 0.4298 - val_accuracy: 0.7876 - val_loss: 0.4564\n",
            "Epoch 26/100\n",
            "\u001b[1m313/313\u001b[0m \u001b[32m━━━━━━━━━━━━━━━━━━━━\u001b[0m\u001b[37m\u001b[0m \u001b[1m20s\u001b[0m 37ms/step - accuracy: 0.8100 - loss: 0.4271 - val_accuracy: 0.7874 - val_loss: 0.4544\n",
            "Epoch 27/100\n",
            "\u001b[1m313/313\u001b[0m \u001b[32m━━━━━━━━━━━━━━━━━━━━\u001b[0m\u001b[37m\u001b[0m \u001b[1m10s\u001b[0m 33ms/step - accuracy: 0.8110 - loss: 0.4246 - val_accuracy: 0.7876 - val_loss: 0.4527\n",
            "Epoch 28/100\n",
            "\u001b[1m313/313\u001b[0m \u001b[32m━━━━━━━━━━━━━━━━━━━━\u001b[0m\u001b[37m\u001b[0m \u001b[1m22s\u001b[0m 37ms/step - accuracy: 0.8121 - loss: 0.4224 - val_accuracy: 0.7886 - val_loss: 0.4511\n",
            "Epoch 29/100\n",
            "\u001b[1m313/313\u001b[0m \u001b[32m━━━━━━━━━━━━━━━━━━━━\u001b[0m\u001b[37m\u001b[0m \u001b[1m20s\u001b[0m 37ms/step - accuracy: 0.8132 - loss: 0.4203 - val_accuracy: 0.7892 - val_loss: 0.4498\n",
            "Epoch 30/100\n",
            "\u001b[1m313/313\u001b[0m \u001b[32m━━━━━━━━━━━━━━━━━━━━\u001b[0m\u001b[37m\u001b[0m \u001b[1m20s\u001b[0m 36ms/step - accuracy: 0.8135 - loss: 0.4185 - val_accuracy: 0.7902 - val_loss: 0.4486\n",
            "Epoch 31/100\n",
            "\u001b[1m313/313\u001b[0m \u001b[32m━━━━━━━━━━━━━━━━━━━━\u001b[0m\u001b[37m\u001b[0m \u001b[1m12s\u001b[0m 38ms/step - accuracy: 0.8141 - loss: 0.4168 - val_accuracy: 0.7904 - val_loss: 0.4475\n",
            "Epoch 32/100\n",
            "\u001b[1m313/313\u001b[0m \u001b[32m━━━━━━━━━━━━━━━━━━━━\u001b[0m\u001b[37m\u001b[0m \u001b[1m20s\u001b[0m 38ms/step - accuracy: 0.8143 - loss: 0.4153 - val_accuracy: 0.7906 - val_loss: 0.4465\n",
            "Epoch 33/100\n",
            "\u001b[1m313/313\u001b[0m \u001b[32m━━━━━━━━━━━━━━━━━━━━\u001b[0m\u001b[37m\u001b[0m \u001b[1m12s\u001b[0m 38ms/step - accuracy: 0.8147 - loss: 0.4139 - val_accuracy: 0.7910 - val_loss: 0.4456\n",
            "Epoch 34/100\n",
            "\u001b[1m313/313\u001b[0m \u001b[32m━━━━━━━━━━━━━━━━━━━━\u001b[0m\u001b[37m\u001b[0m \u001b[1m20s\u001b[0m 38ms/step - accuracy: 0.8159 - loss: 0.4126 - val_accuracy: 0.7924 - val_loss: 0.4448\n",
            "Epoch 35/100\n",
            "\u001b[1m313/313\u001b[0m \u001b[32m━━━━━━━━━━━━━━━━━━━━\u001b[0m\u001b[37m\u001b[0m \u001b[1m21s\u001b[0m 39ms/step - accuracy: 0.8165 - loss: 0.4113 - val_accuracy: 0.7926 - val_loss: 0.4440\n",
            "Epoch 36/100\n",
            "\u001b[1m313/313\u001b[0m \u001b[32m━━━━━━━━━━━━━━━━━━━━\u001b[0m\u001b[37m\u001b[0m \u001b[1m12s\u001b[0m 39ms/step - accuracy: 0.8175 - loss: 0.4102 - val_accuracy: 0.7922 - val_loss: 0.4433\n",
            "Epoch 37/100\n",
            "\u001b[1m313/313\u001b[0m \u001b[32m━━━━━━━━━━━━━━━━━━━━\u001b[0m\u001b[37m\u001b[0m \u001b[1m20s\u001b[0m 38ms/step - accuracy: 0.8183 - loss: 0.4091 - val_accuracy: 0.7928 - val_loss: 0.4427\n",
            "Epoch 38/100\n",
            "\u001b[1m313/313\u001b[0m \u001b[32m━━━━━━━━━━━━━━━━━━━━\u001b[0m\u001b[37m\u001b[0m \u001b[1m21s\u001b[0m 38ms/step - accuracy: 0.8191 - loss: 0.4081 - val_accuracy: 0.7926 - val_loss: 0.4421\n",
            "Epoch 39/100\n",
            "\u001b[1m313/313\u001b[0m \u001b[32m━━━━━━━━━━━━━━━━━━━━\u001b[0m\u001b[37m\u001b[0m \u001b[1m20s\u001b[0m 35ms/step - accuracy: 0.8202 - loss: 0.4071 - val_accuracy: 0.7920 - val_loss: 0.4415\n",
            "Epoch 40/100\n",
            "\u001b[1m313/313\u001b[0m \u001b[32m━━━━━━━━━━━━━━━━━━━━\u001b[0m\u001b[37m\u001b[0m \u001b[1m12s\u001b[0m 38ms/step - accuracy: 0.8204 - loss: 0.4062 - val_accuracy: 0.7918 - val_loss: 0.4410\n",
            "Epoch 41/100\n",
            "\u001b[1m313/313\u001b[0m \u001b[32m━━━━━━━━━━━━━━━━━━━━\u001b[0m\u001b[37m\u001b[0m \u001b[1m20s\u001b[0m 37ms/step - accuracy: 0.8202 - loss: 0.4054 - val_accuracy: 0.7924 - val_loss: 0.4406\n",
            "Epoch 42/100\n",
            "\u001b[1m313/313\u001b[0m \u001b[32m━━━━━━━━━━━━━━━━━━━━\u001b[0m\u001b[37m\u001b[0m \u001b[1m12s\u001b[0m 37ms/step - accuracy: 0.8209 - loss: 0.4046 - val_accuracy: 0.7928 - val_loss: 0.4402\n",
            "Epoch 43/100\n",
            "\u001b[1m313/313\u001b[0m \u001b[32m━━━━━━━━━━━━━━━━━━━━\u001b[0m\u001b[37m\u001b[0m \u001b[1m11s\u001b[0m 35ms/step - accuracy: 0.8210 - loss: 0.4039 - val_accuracy: 0.7942 - val_loss: 0.4399\n",
            "Epoch 44/100\n",
            "\u001b[1m313/313\u001b[0m \u001b[32m━━━━━━━━━━━━━━━━━━━━\u001b[0m\u001b[37m\u001b[0m \u001b[1m21s\u001b[0m 38ms/step - accuracy: 0.8204 - loss: 0.4032 - val_accuracy: 0.7948 - val_loss: 0.4396\n",
            "Epoch 45/100\n",
            "\u001b[1m313/313\u001b[0m \u001b[32m━━━━━━━━━━━━━━━━━━━━\u001b[0m\u001b[37m\u001b[0m \u001b[1m20s\u001b[0m 37ms/step - accuracy: 0.8204 - loss: 0.4025 - val_accuracy: 0.7944 - val_loss: 0.4393\n",
            "Epoch 46/100\n",
            "\u001b[1m313/313\u001b[0m \u001b[32m━━━━━━━━━━━━━━━━━━━━\u001b[0m\u001b[37m\u001b[0m \u001b[1m21s\u001b[0m 38ms/step - accuracy: 0.8208 - loss: 0.4019 - val_accuracy: 0.7932 - val_loss: 0.4391\n",
            "Epoch 47/100\n",
            "\u001b[1m313/313\u001b[0m \u001b[32m━━━━━━━━━━━━━━━━━━━━\u001b[0m\u001b[37m\u001b[0m \u001b[1m20s\u001b[0m 38ms/step - accuracy: 0.8207 - loss: 0.4013 - val_accuracy: 0.7938 - val_loss: 0.4389\n",
            "Epoch 48/100\n",
            "\u001b[1m313/313\u001b[0m \u001b[32m━━━━━━━━━━━━━━━━━━━━\u001b[0m\u001b[37m\u001b[0m \u001b[1m20s\u001b[0m 35ms/step - accuracy: 0.8211 - loss: 0.4008 - val_accuracy: 0.7940 - val_loss: 0.4388\n",
            "Epoch 49/100\n",
            "\u001b[1m313/313\u001b[0m \u001b[32m━━━━━━━━━━━━━━━━━━━━\u001b[0m\u001b[37m\u001b[0m \u001b[1m21s\u001b[0m 37ms/step - accuracy: 0.8217 - loss: 0.4002 - val_accuracy: 0.7938 - val_loss: 0.4387\n",
            "Epoch 50/100\n",
            "\u001b[1m313/313\u001b[0m \u001b[32m━━━━━━━━━━━━━━━━━━━━\u001b[0m\u001b[37m\u001b[0m \u001b[1m23s\u001b[0m 45ms/step - accuracy: 0.8225 - loss: 0.3998 - val_accuracy: 0.7940 - val_loss: 0.4386\n",
            "Epoch 51/100\n",
            "\u001b[1m313/313\u001b[0m \u001b[32m━━━━━━━━━━━━━━━━━━━━\u001b[0m\u001b[37m\u001b[0m \u001b[1m15s\u001b[0m 49ms/step - accuracy: 0.8227 - loss: 0.3993 - val_accuracy: 0.7930 - val_loss: 0.4385\n",
            "Epoch 52/100\n",
            "\u001b[1m313/313\u001b[0m \u001b[32m━━━━━━━━━━━━━━━━━━━━\u001b[0m\u001b[37m\u001b[0m \u001b[1m14s\u001b[0m 43ms/step - accuracy: 0.8226 - loss: 0.3989 - val_accuracy: 0.7934 - val_loss: 0.4384\n",
            "Epoch 53/100\n",
            "\u001b[1m313/313\u001b[0m \u001b[32m━━━━━━━━━━━━━━━━━━━━\u001b[0m\u001b[37m\u001b[0m \u001b[1m21s\u001b[0m 43ms/step - accuracy: 0.8225 - loss: 0.3985 - val_accuracy: 0.7932 - val_loss: 0.4384\n",
            "Epoch 54/100\n",
            "\u001b[1m313/313\u001b[0m \u001b[32m━━━━━━━━━━━━━━━━━━━━\u001b[0m\u001b[37m\u001b[0m \u001b[1m12s\u001b[0m 38ms/step - accuracy: 0.8223 - loss: 0.3981 - val_accuracy: 0.7934 - val_loss: 0.4384\n",
            "Epoch 55/100\n",
            "\u001b[1m313/313\u001b[0m \u001b[32m━━━━━━━━━━━━━━━━━━━━\u001b[0m\u001b[37m\u001b[0m \u001b[1m12s\u001b[0m 38ms/step - accuracy: 0.8224 - loss: 0.3977 - val_accuracy: 0.7942 - val_loss: 0.4384\n",
            "Epoch 56/100\n",
            "\u001b[1m313/313\u001b[0m \u001b[32m━━━━━━━━━━━━━━━━━━━━\u001b[0m\u001b[37m\u001b[0m \u001b[1m21s\u001b[0m 38ms/step - accuracy: 0.8221 - loss: 0.3974 - val_accuracy: 0.7948 - val_loss: 0.4384\n",
            "Epoch 57/100\n",
            "\u001b[1m313/313\u001b[0m \u001b[32m━━━━━━━━━━━━━━━━━━━━\u001b[0m\u001b[37m\u001b[0m \u001b[1m12s\u001b[0m 39ms/step - accuracy: 0.8225 - loss: 0.3970 - val_accuracy: 0.7958 - val_loss: 0.4384\n",
            "Epoch 58/100\n",
            "\u001b[1m313/313\u001b[0m \u001b[32m━━━━━━━━━━━━━━━━━━━━\u001b[0m\u001b[37m\u001b[0m \u001b[1m20s\u001b[0m 39ms/step - accuracy: 0.8225 - loss: 0.3967 - val_accuracy: 0.7956 - val_loss: 0.4385\n"
          ]
        }
      ]
    },
    {
      "cell_type": "code",
      "source": [
        "# 훈련 손실과 검증 손실 시각화\n",
        "import matplotlib.pyplot as plt\n",
        "\n",
        "plt.plot(history.history['loss'])\n",
        "plt.plot(history.history['val_loss'])\n",
        "plt.xlabel('epoch')\n",
        "plt.ylabel('loss')\n",
        "plt.legend(['train', 'val'])\n",
        "plt.show()"
      ],
      "metadata": {
        "colab": {
          "base_uri": "https://localhost:8080/",
          "height": 449
        },
        "id": "450U3hE-SoW9",
        "outputId": "77537955-5f67-4a8f-b394-fd60692838a5"
      },
      "execution_count": null,
      "outputs": [
        {
          "output_type": "display_data",
          "data": {
            "text/plain": [
              "<Figure size 640x480 with 1 Axes>"
            ],
            "image/png": "[encoded data removed]"
          },
          "metadata": {}
        }
      ]
    },
    {
      "cell_type": "code",
      "source": [
        "'''\n",
        "LSTM 층에 적용한 드롭아웃이 효과를 발휘한 것 같다.\n",
        "훈련 손실과 검증 손실 간의 차이가 좁혀진 것을 확인할 수 있다.\n",
        "\n",
        "밀집층이나 합성곱 층처럼 순환층도 여러 개를 쌓지 않을 이유가 없다.\n",
        "다음 섹션에서 2개의 손환층을 연결한 모델을 훈련해 보자.\n",
        "'''"
      ],
      "metadata": {
        "colab": {
          "base_uri": "https://localhost:8080/",
          "height": 54
        },
        "id": "yREy86v_WmW2",
        "outputId": "8068f049-8f73-4129-c5b8-19b13ae36123"
      },
      "execution_count": null,
      "outputs": [
        {
          "output_type": "execute_result",
          "data": {
            "text/plain": [
              "'\\nLSTM 층에 적용한 드롭아웃이 효과를 발휘한 것 같다.\\n훈련 손실과 검증 손실 간의 차이가 좁혀진 것을 확인할 수 있다.\\n\\n밀집층이나 합성곱 층처럼 순환층도 여러 개를 쌓지 않을 이유가 없다.\\n다음 섹션에서 2개의 손환층을 연결한 모델을 훈련해 보자.\\n'"
            ],
            "application/vnd.google.colaboratory.intrinsic+json": {
              "type": "string"
            }
          },
          "metadata": {},
          "execution_count": 14
        }
      ]
    },
    {
      "cell_type": "markdown",
      "source": [
        "# **2개의 층을 연결하기**"
      ],
      "metadata": {
        "id": "eslGfeliXOTY"
      }
    },
    {
      "cell_type": "code",
      "source": [
        "'''\n",
        "순환층을 연결할 때는 한 가지 주의 사항이 있다.\n",
        "앞서 언급했지만 순환층의 은닉 상태는\n",
        "샘플의 마지막 타임스텝에 대한 은닉 상태만 다음 층으로 전달한다.\n",
        "하지만 순환층을 쌓게 되면 모든 순환층에 순차 데이터가 필요하다.\n",
        "따라서 앞쪽의 순환층이 모든 타임스텝에 대한 은닉상태를 출력해야 한다.\n",
        "오직 마지막 순환층만 마지막 타임스텝의 은닉 상태를 출력해야 한다.\n",
        "09-1절에서 떠올렸던 순환층 그림을 기억하자.\n",
        "\n",
        "케라스의 순환층에서 모든 타임스텝의 은닉 상태를 출력하려면\n",
        "마지막을 제외한 다른 모든 순환층에서\n",
        "return_sequences 매개변수를 True로 지정하면 된다.\n",
        "'''"
      ],
      "metadata": {
        "colab": {
          "base_uri": "https://localhost:8080/",
          "height": 73
        },
        "id": "ggVX6LBpXRNV",
        "outputId": "f08485ca-5d6d-467d-ac53-23fa32efab41"
      },
      "execution_count": null,
      "outputs": [
        {
          "output_type": "execute_result",
          "data": {
            "text/plain": [
              "'\\n순환층을 연결할 때는 한 가지 주의 사항이 있다.\\n앞서 언급했지만 순환층의 은닉 상태는 \\n샘플의 마지막 타임스텝에 대한 은닉 상태만 다음 층으로 전달한다.\\n하지만 순환층을 쌓게 되면 모든 순환층에 순차 데이터가 필요하다.\\n따라서 앞쪽의 순환층이 모든 타임스텝에 대한 은닉상태를 출력해야 한다.\\n오직 마지막 순환층만 마지막 타임스텝의 은닉 상태를 출력해야 한다.\\n09-1절에서 떠올렸던 순환층 그림을 기억하자.\\n\\n케라스의 순환층에서 모든 타임스텝의 은닉 상태를 출력하려면\\n마지막을 제외한 다른 모든 순환층에서\\nreturn_sequences 매개변수를 True로 지정하면 된다.\\n'"
            ],
            "application/vnd.google.colaboratory.intrinsic+json": {
              "type": "string"
            }
          },
          "metadata": {},
          "execution_count": 15
        }
      ]
    },
    {
      "cell_type": "code",
      "source": [
        "# LSTM 층 연결하기\n",
        "model3 = keras.Sequential()\n",
        "\n",
        "model3.add(keras.layers.Embedding(500, 16, input_shape=(100,)))\n",
        "model3.add(keras.layers.LSTM(8, dropout=0.3, return_sequences=True))\n",
        "model3.add(keras.layers.LSTM(8, dropout=0.3))\n",
        "model3.add(keras.layers.Dense(1, activation='sigmoid'))"
      ],
      "metadata": {
        "id": "rwtGpYAkX4fA"
      },
      "execution_count": null,
      "outputs": []
    },
    {
      "cell_type": "code",
      "source": [
        "'''\n",
        "2개의 LSTM 층을 쌓았고 모두 드롭아웃을 0.3으로 지정했다.\n",
        "그리고 첫 번째 LSTM 클래스에서는 return_sequences 매개변수를 True로 지정했다.\n",
        "summary() 메서드의 결과를 확인해 보자.\n",
        "'''"
      ],
      "metadata": {
        "colab": {
          "base_uri": "https://localhost:8080/",
          "height": 36
        },
        "id": "2-85EU9QYOfc",
        "outputId": "2e7f0772-62a1-42ff-b92c-5121caafedfc"
      },
      "execution_count": null,
      "outputs": [
        {
          "output_type": "execute_result",
          "data": {
            "text/plain": [
              "'\\n2개의 LSTM 층을 쌓았고 모두 드롭아웃을 0.3으로 지정했다.\\n그리고 첫 번째 LSTM 클래스에서는 return_sequences 매개변수를 True로 지정했다.\\nsummary() 메서드의 결과를 확인해 보자.\\n'"
            ],
            "application/vnd.google.colaboratory.intrinsic+json": {
              "type": "string"
            }
          },
          "metadata": {},
          "execution_count": 24
        }
      ]
    },
    {
      "cell_type": "code",
      "source": [
        "# 모델 구조 출력\n",
        "model3.summary()"
      ],
      "metadata": {
        "colab": {
          "base_uri": "https://localhost:8080/",
          "height": 257
        },
        "id": "Ii49J_OWYbpW",
        "outputId": "03956fe2-60b5-43bd-bc3f-97da6cba5901"
      },
      "execution_count": null,
      "outputs": [
        {
          "output_type": "display_data",
          "data": {
            "text/plain": [
              "\u001b[1mModel: \"sequential_5\"\u001b[0m\n"
            ],
            "text/html": [
              "<pre style=\"white-space:pre;overflow-x:auto;line-height:normal;font-family:Menlo,'DejaVu Sans Mono',consolas,'Courier New',monospace\"><span style=\"font-weight: bold\">Model: \"sequential_5\"</span>\n",
              "</pre>\n"
            ]
          },
          "metadata": {}
        },
        {
          "output_type": "display_data",
          "data": {
            "text/plain": [
              "┏━━━━━━━━━━━━━━━━━━━━━━━━━━━━━━━━━━━━━━┳━━━━━━━━━━━━━━━━━━━━━━━━━━━━━┳━━━━━━━━━━━━━━━━━┓\n",
              "┃\u001b[1m \u001b[0m\u001b[1mLayer (type)                        \u001b[0m\u001b[1m \u001b[0m┃\u001b[1m \u001b[0m\u001b[1mOutput Shape               \u001b[0m\u001b[1m \u001b[0m┃\u001b[1m \u001b[0m\u001b[1m        Param #\u001b[0m\u001b[1m \u001b[0m┃\n",
              "┡━━━━━━━━━━━━━━━━━━━━━━━━━━━━━━━━━━━━━━╇━━━━━━━━━━━━━━━━━━━━━━━━━━━━━╇━━━━━━━━━━━━━━━━━┩\n",
              "│ embedding_5 (\u001b[38;5;33mEmbedding\u001b[0m)              │ (\u001b[38;5;45mNone\u001b[0m, \u001b[38;5;34m100\u001b[0m, \u001b[38;5;34m16\u001b[0m)             │           \u001b[38;5;34m8,000\u001b[0m │\n",
              "├──────────────────────────────────────┼─────────────────────────────┼─────────────────┤\n",
              "│ lstm_6 (\u001b[38;5;33mLSTM\u001b[0m)                        │ (\u001b[38;5;45mNone\u001b[0m, \u001b[38;5;34m100\u001b[0m, \u001b[38;5;34m8\u001b[0m)              │             \u001b[38;5;34m800\u001b[0m │\n",
              "├──────────────────────────────────────┼─────────────────────────────┼─────────────────┤\n",
              "│ lstm_7 (\u001b[38;5;33mLSTM\u001b[0m)                        │ (\u001b[38;5;45mNone\u001b[0m, \u001b[38;5;34m8\u001b[0m)                   │             \u001b[38;5;34m544\u001b[0m │\n",
              "├──────────────────────────────────────┼─────────────────────────────┼─────────────────┤\n",
              "│ dense_4 (\u001b[38;5;33mDense\u001b[0m)                      │ (\u001b[38;5;45mNone\u001b[0m, \u001b[38;5;34m1\u001b[0m)                   │               \u001b[38;5;34m9\u001b[0m │\n",
              "└──────────────────────────────────────┴─────────────────────────────┴─────────────────┘\n"
            ],
            "text/html": [
              "<pre style=\"white-space:pre;overflow-x:auto;line-height:normal;font-family:Menlo,'DejaVu Sans Mono',consolas,'Courier New',monospace\">┏━━━━━━━━━━━━━━━━━━━━━━━━━━━━━━━━━━━━━━┳━━━━━━━━━━━━━━━━━━━━━━━━━━━━━┳━━━━━━━━━━━━━━━━━┓\n",
              "┃<span style=\"font-weight: bold\"> Layer (type)                         </span>┃<span style=\"font-weight: bold\"> Output Shape                </span>┃<span style=\"font-weight: bold\">         Param # </span>┃\n",
              "┡━━━━━━━━━━━━━━━━━━━━━━━━━━━━━━━━━━━━━━╇━━━━━━━━━━━━━━━━━━━━━━━━━━━━━╇━━━━━━━━━━━━━━━━━┩\n",
              "│ embedding_5 (<span style=\"color: #0087ff; text-decoration-color: #0087ff\">Embedding</span>)              │ (<span style=\"color: #00d7ff; text-decoration-color: #00d7ff\">None</span>, <span style=\"color: #00af00; text-decoration-color: #00af00\">100</span>, <span style=\"color: #00af00; text-decoration-color: #00af00\">16</span>)             │           <span style=\"color: #00af00; text-decoration-color: #00af00\">8,000</span> │\n",
              "├──────────────────────────────────────┼─────────────────────────────┼─────────────────┤\n",
              "│ lstm_6 (<span style=\"color: #0087ff; text-decoration-color: #0087ff\">LSTM</span>)                        │ (<span style=\"color: #00d7ff; text-decoration-color: #00d7ff\">None</span>, <span style=\"color: #00af00; text-decoration-color: #00af00\">100</span>, <span style=\"color: #00af00; text-decoration-color: #00af00\">8</span>)              │             <span style=\"color: #00af00; text-decoration-color: #00af00\">800</span> │\n",
              "├──────────────────────────────────────┼─────────────────────────────┼─────────────────┤\n",
              "│ lstm_7 (<span style=\"color: #0087ff; text-decoration-color: #0087ff\">LSTM</span>)                        │ (<span style=\"color: #00d7ff; text-decoration-color: #00d7ff\">None</span>, <span style=\"color: #00af00; text-decoration-color: #00af00\">8</span>)                   │             <span style=\"color: #00af00; text-decoration-color: #00af00\">544</span> │\n",
              "├──────────────────────────────────────┼─────────────────────────────┼─────────────────┤\n",
              "│ dense_4 (<span style=\"color: #0087ff; text-decoration-color: #0087ff\">Dense</span>)                      │ (<span style=\"color: #00d7ff; text-decoration-color: #00d7ff\">None</span>, <span style=\"color: #00af00; text-decoration-color: #00af00\">1</span>)                   │               <span style=\"color: #00af00; text-decoration-color: #00af00\">9</span> │\n",
              "└──────────────────────────────────────┴─────────────────────────────┴─────────────────┘\n",
              "</pre>\n"
            ]
          },
          "metadata": {}
        },
        {
          "output_type": "display_data",
          "data": {
            "text/plain": [
              "\u001b[1m Total params: \u001b[0m\u001b[38;5;34m9,353\u001b[0m (36.54 KB)\n"
            ],
            "text/html": [
              "<pre style=\"white-space:pre;overflow-x:auto;line-height:normal;font-family:Menlo,'DejaVu Sans Mono',consolas,'Courier New',monospace\"><span style=\"font-weight: bold\"> Total params: </span><span style=\"color: #00af00; text-decoration-color: #00af00\">9,353</span> (36.54 KB)\n",
              "</pre>\n"
            ]
          },
          "metadata": {}
        },
        {
          "output_type": "display_data",
          "data": {
            "text/plain": [
              "\u001b[1m Trainable params: \u001b[0m\u001b[38;5;34m9,353\u001b[0m (36.54 KB)\n"
            ],
            "text/html": [
              "<pre style=\"white-space:pre;overflow-x:auto;line-height:normal;font-family:Menlo,'DejaVu Sans Mono',consolas,'Courier New',monospace\"><span style=\"font-weight: bold\"> Trainable params: </span><span style=\"color: #00af00; text-decoration-color: #00af00\">9,353</span> (36.54 KB)\n",
              "</pre>\n"
            ]
          },
          "metadata": {}
        },
        {
          "output_type": "display_data",
          "data": {
            "text/plain": [
              "\u001b[1m Non-trainable params: \u001b[0m\u001b[38;5;34m0\u001b[0m (0.00 B)\n"
            ],
            "text/html": [
              "<pre style=\"white-space:pre;overflow-x:auto;line-height:normal;font-family:Menlo,'DejaVu Sans Mono',consolas,'Courier New',monospace\"><span style=\"font-weight: bold\"> Non-trainable params: </span><span style=\"color: #00af00; text-decoration-color: #00af00\">0</span> (0.00 B)\n",
              "</pre>\n"
            ]
          },
          "metadata": {}
        }
      ]
    },
    {
      "cell_type": "code",
      "source": [
        "'''\n",
        "첫 번째 LSTM 층이 모든 타임스텝(100개)의 은닉 상태를 출력하기 때문에\n",
        "출력 크기가 (None, 100, 8)로 표시되었다.\n",
        "이에 반해 두 번째 LSTM 층의 출력 크기는\n",
        "마지막 타임스텝의 은닉 상태만 출력하기에 (None, 8)이다.\n",
        "\n",
        "이 모델을 훈련해 보겠다.\n",
        "'''"
      ],
      "metadata": {
        "colab": {
          "base_uri": "https://localhost:8080/",
          "height": 54
        },
        "id": "__XRmsz4Yehn",
        "outputId": "0ce75d9a-cfd2-4074-da60-2d16f9f52545"
      },
      "execution_count": null,
      "outputs": [
        {
          "output_type": "execute_result",
          "data": {
            "text/plain": [
              "'\\n첫 번째 LSTM 층이 모든 타임스텝(100개)의 은닉 상태를 출력하기 때문에\\n출력 크기가 (None, 100, 8)로 표시되었다.\\n이에 반해 두 번째 LSTM 층의 출력 크기는 \\n마지막 타임스텝의 은닉 상태만 출력하기에 (None, 8)이다.\\n\\n이 모델을 훈련해 보겠다.\\n'"
            ],
            "application/vnd.google.colaboratory.intrinsic+json": {
              "type": "string"
            }
          },
          "metadata": {},
          "execution_count": 26
        }
      ]
    },
    {
      "cell_type": "code",
      "source": [
        "# 새로운 모델 훈련\n",
        "rmsprop = keras.optimizers.RMSprop(learning_rate=1e-4)\n",
        "model3.compile(optimizer=rmsprop, loss='binary_crossentropy',\n",
        "               metrics=['accuracy'])\n",
        "\n",
        "checkpoint_cb = keras.callbacks.ModelCheckpoint('best-2rnn-model.keras',\n",
        "                                                save_best_only=True)\n",
        "early_stopping_cb = keras.callbacks.EarlyStopping(patience=3,\n",
        "                                                  restore_best_weights=True)\n",
        "\n",
        "history = model3.fit(train_seq, train_target, epochs=100, batch_size=64,\n",
        "                     validation_data=(val_seq, val_target),\n",
        "                     callbacks=[checkpoint_cb, early_stopping_cb])"
      ],
      "metadata": {
        "colab": {
          "base_uri": "https://localhost:8080/"
        },
        "id": "gWBg-UTTZzUW",
        "outputId": "fee5a204-1184-4d5d-81fc-f8fb0dd09bfa"
      },
      "execution_count": null,
      "outputs": [
        {
          "output_type": "stream",
          "name": "stdout",
          "text": [
            "Epoch 1/100\n",
            "\u001b[1m313/313\u001b[0m \u001b[32m━━━━━━━━━━━━━━━━━━━━\u001b[0m\u001b[37m\u001b[0m \u001b[1m28s\u001b[0m 76ms/step - accuracy: 0.5030 - loss: 0.6931 - val_accuracy: 0.5038 - val_loss: 0.6930\n",
            "Epoch 2/100\n",
            "\u001b[1m313/313\u001b[0m \u001b[32m━━━━━━━━━━━━━━━━━━━━\u001b[0m\u001b[37m\u001b[0m \u001b[1m23s\u001b[0m 75ms/step - accuracy: 0.5327 - loss: 0.6928 - val_accuracy: 0.5356 - val_loss: 0.6925\n",
            "Epoch 3/100\n",
            "\u001b[1m313/313\u001b[0m \u001b[32m━━━━━━━━━━━━━━━━━━━━\u001b[0m\u001b[37m\u001b[0m \u001b[1m41s\u001b[0m 76ms/step - accuracy: 0.5551 - loss: 0.6920 - val_accuracy: 0.6112 - val_loss: 0.6910\n",
            "Epoch 4/100\n",
            "\u001b[1m313/313\u001b[0m \u001b[32m━━━━━━━━━━━━━━━━━━━━\u001b[0m\u001b[37m\u001b[0m \u001b[1m41s\u001b[0m 75ms/step - accuracy: 0.5831 - loss: 0.6902 - val_accuracy: 0.6440 - val_loss: 0.6857\n",
            "Epoch 5/100\n",
            "\u001b[1m313/313\u001b[0m \u001b[32m━━━━━━━━━━━━━━━━━━━━\u001b[0m\u001b[37m\u001b[0m \u001b[1m41s\u001b[0m 75ms/step - accuracy: 0.6289 - loss: 0.6817 - val_accuracy: 0.6716 - val_loss: 0.6567\n",
            "Epoch 6/100\n",
            "\u001b[1m313/313\u001b[0m \u001b[32m━━━━━━━━━━━━━━━━━━━━\u001b[0m\u001b[37m\u001b[0m \u001b[1m40s\u001b[0m 72ms/step - accuracy: 0.6645 - loss: 0.6394 - val_accuracy: 0.7052 - val_loss: 0.5768\n",
            "Epoch 7/100\n",
            "\u001b[1m313/313\u001b[0m \u001b[32m━━━━━━━━━━━━━━━━━━━━\u001b[0m\u001b[37m\u001b[0m \u001b[1m41s\u001b[0m 74ms/step - accuracy: 0.7028 - loss: 0.5786 - val_accuracy: 0.7292 - val_loss: 0.5459\n",
            "Epoch 8/100\n",
            "\u001b[1m313/313\u001b[0m \u001b[32m━━━━━━━━━━━━━━━━━━━━\u001b[0m\u001b[37m\u001b[0m \u001b[1m23s\u001b[0m 74ms/step - accuracy: 0.7279 - loss: 0.5480 - val_accuracy: 0.7444 - val_loss: 0.5261\n",
            "Epoch 9/100\n",
            "\u001b[1m313/313\u001b[0m \u001b[32m━━━━━━━━━━━━━━━━━━━━\u001b[0m\u001b[37m\u001b[0m \u001b[1m40s\u001b[0m 71ms/step - accuracy: 0.7491 - loss: 0.5259 - val_accuracy: 0.7496 - val_loss: 0.5127\n",
            "Epoch 10/100\n",
            "\u001b[1m313/313\u001b[0m \u001b[32m━━━━━━━━━━━━━━━━━━━━\u001b[0m\u001b[37m\u001b[0m \u001b[1m43s\u001b[0m 77ms/step - accuracy: 0.7541 - loss: 0.5097 - val_accuracy: 0.7588 - val_loss: 0.4982\n",
            "Epoch 11/100\n",
            "\u001b[1m313/313\u001b[0m \u001b[32m━━━━━━━━━━━━━━━━━━━━\u001b[0m\u001b[37m\u001b[0m \u001b[1m41s\u001b[0m 75ms/step - accuracy: 0.7683 - loss: 0.4977 - val_accuracy: 0.7700 - val_loss: 0.4874\n",
            "Epoch 12/100\n",
            "\u001b[1m313/313\u001b[0m \u001b[32m━━━━━━━━━━━━━━━━━━━━\u001b[0m\u001b[37m\u001b[0m \u001b[1m24s\u001b[0m 76ms/step - accuracy: 0.7719 - loss: 0.4888 - val_accuracy: 0.7716 - val_loss: 0.4808\n",
            "Epoch 13/100\n",
            "\u001b[1m313/313\u001b[0m \u001b[32m━━━━━━━━━━━━━━━━━━━━\u001b[0m\u001b[37m\u001b[0m \u001b[1m41s\u001b[0m 76ms/step - accuracy: 0.7809 - loss: 0.4771 - val_accuracy: 0.7744 - val_loss: 0.4734\n",
            "Epoch 14/100\n",
            "\u001b[1m313/313\u001b[0m \u001b[32m━━━━━━━━━━━━━━━━━━━━\u001b[0m\u001b[37m\u001b[0m \u001b[1m41s\u001b[0m 77ms/step - accuracy: 0.7828 - loss: 0.4738 - val_accuracy: 0.7846 - val_loss: 0.4663\n",
            "Epoch 15/100\n",
            "\u001b[1m313/313\u001b[0m \u001b[32m━━━━━━━━━━━━━━━━━━━━\u001b[0m\u001b[37m\u001b[0m \u001b[1m41s\u001b[0m 77ms/step - accuracy: 0.7872 - loss: 0.4679 - val_accuracy: 0.7826 - val_loss: 0.4688\n",
            "Epoch 16/100\n",
            "\u001b[1m313/313\u001b[0m \u001b[32m━━━━━━━━━━━━━━━━━━━━\u001b[0m\u001b[37m\u001b[0m \u001b[1m40s\u001b[0m 74ms/step - accuracy: 0.7899 - loss: 0.4635 - val_accuracy: 0.7824 - val_loss: 0.4669\n",
            "Epoch 17/100\n",
            "\u001b[1m313/313\u001b[0m \u001b[32m━━━━━━━━━━━━━━━━━━━━\u001b[0m\u001b[37m\u001b[0m \u001b[1m24s\u001b[0m 76ms/step - accuracy: 0.7923 - loss: 0.4593 - val_accuracy: 0.7834 - val_loss: 0.4633\n",
            "Epoch 18/100\n",
            "\u001b[1m313/313\u001b[0m \u001b[32m━━━━━━━━━━━━━━━━━━━━\u001b[0m\u001b[37m\u001b[0m \u001b[1m41s\u001b[0m 76ms/step - accuracy: 0.7938 - loss: 0.4546 - val_accuracy: 0.7864 - val_loss: 0.4599\n",
            "Epoch 19/100\n",
            "\u001b[1m313/313\u001b[0m \u001b[32m━━━━━━━━━━━━━━━━━━━━\u001b[0m\u001b[37m\u001b[0m \u001b[1m40s\u001b[0m 74ms/step - accuracy: 0.7941 - loss: 0.4526 - val_accuracy: 0.7872 - val_loss: 0.4567\n",
            "Epoch 20/100\n",
            "\u001b[1m313/313\u001b[0m \u001b[32m━━━━━━━━━━━━━━━━━━━━\u001b[0m\u001b[37m\u001b[0m \u001b[1m24s\u001b[0m 76ms/step - accuracy: 0.7965 - loss: 0.4515 - val_accuracy: 0.7892 - val_loss: 0.4524\n",
            "Epoch 21/100\n",
            "\u001b[1m313/313\u001b[0m \u001b[32m━━━━━━━━━━━━━━━━━━━━\u001b[0m\u001b[37m\u001b[0m \u001b[1m24s\u001b[0m 75ms/step - accuracy: 0.7996 - loss: 0.4484 - val_accuracy: 0.7874 - val_loss: 0.4539\n",
            "Epoch 22/100\n",
            "\u001b[1m313/313\u001b[0m \u001b[32m━━━━━━━━━━━━━━━━━━━━\u001b[0m\u001b[37m\u001b[0m \u001b[1m41s\u001b[0m 77ms/step - accuracy: 0.8003 - loss: 0.4434 - val_accuracy: 0.7862 - val_loss: 0.4537\n",
            "Epoch 23/100\n",
            "\u001b[1m313/313\u001b[0m \u001b[32m━━━━━━━━━━━━━━━━━━━━\u001b[0m\u001b[37m\u001b[0m \u001b[1m23s\u001b[0m 72ms/step - accuracy: 0.8016 - loss: 0.4440 - val_accuracy: 0.7864 - val_loss: 0.4533\n"
          ]
        }
      ]
    },
    {
      "cell_type": "code",
      "source": [
        "# 훈련 손실 및 검증 손실 시각화\n",
        "plt.plot(history.history['loss'])\n",
        "plt.plot(history.history['val_loss'])\n",
        "plt.xlabel('epoch')\n",
        "plt.ylabel('loss')\n",
        "plt.legend(['train', 'val'])\n",
        "plt.show()"
      ],
      "metadata": {
        "colab": {
          "base_uri": "https://localhost:8080/",
          "height": 449
        },
        "id": "p_dEQp9cZ3Rq",
        "outputId": "783a72cd-a68b-47f4-fae2-9610e0c23220"
      },
      "execution_count": null,
      "outputs": [
        {
          "output_type": "display_data",
          "data": {
            "text/plain": [
              "<Figure size 640x480 with 1 Axes>"
            ],
            "image/png": "[encoded data removed]"
          },
          "metadata": {}
        }
      ]
    },
    {
      "cell_type": "code",
      "source": [
        "'''\n",
        "그래프를 보면 과대적합을 제어하면서 손실을 최대한 낮춘 것 같다.\n",
        "지금까지 LSTM 셀을 사용한 훈련과 드롭아웃을 적용해 보았고\n",
        "2개의 층을 쌓은 순환 신경망을 만들어 보았다.\n",
        "다음 섹션에서는 유명한 또 다른 셀인 GRU 셀에 대해 알아보겠다.\n",
        "'''"
      ],
      "metadata": {
        "colab": {
          "base_uri": "https://localhost:8080/",
          "height": 54
        },
        "id": "toRsAwWWeihy",
        "outputId": "cd6e6c7b-2e83-4f25-9d14-5e26827992e4"
      },
      "execution_count": null,
      "outputs": [
        {
          "output_type": "execute_result",
          "data": {
            "text/plain": [
              "'\\n그래프를 보면 과대적합을 제어하면서 손실을 최대한 낮춘 것 같다.\\n지금까지 LSTM 셀을 사용한 훈련과 드롭아웃을 적용해 보았고\\n2개의 층을 쌓은 순환 신경망을 만들어 보았다.\\n다음 섹션에서는 유명한 또 다른 셀인 GRU 셀에 대해 알아보겠다.\\n'"
            ],
            "application/vnd.google.colaboratory.intrinsic+json": {
              "type": "string"
            }
          },
          "metadata": {},
          "execution_count": 29
        }
      ]
    },
    {
      "cell_type": "markdown",
      "source": [
        "# **GRU 구조**"
      ],
      "metadata": {
        "id": "18r7Z2Uyevyq"
      }
    },
    {
      "cell_type": "code",
      "source": [
        "'''\n",
        "GRU는 Gated Recurrent Unit의 약자이다.\n",
        "이 셀은 LSTM을 간소화(경량화)한 버전으로 생각할 수 있다.\n",
        "이 셀은 LSTM처럼 셀 상태를 계산하지 않고 은닉 상태만 포함하고 있다.\n",
        "\n",
        "GRU 셀에는 은닉 상태와 입력에 가중치를 곱하고 절편을 더하는 작은 셀이 3개 들어 있다.\n",
        "2개는 시그모이드 활성화 함수를 사용하고 하나는 tanh 활성화 함수를 사용한다.\n",
        "\n",
        "맨 왼쪽에서 Wz를 사용하는 셀의 출력이 은닉 상태에 바로 곱해져 삭제 게이트 역할을 수행한다.\n",
        "이와 똑같은 출력을 1에서 뺀 다음에 가장 오른쪽 Wg를 사용하는 셀의 출력에 곱한다.\n",
        "이는 입력되는 정보(과거 정보)를 제어하는 역할을 수행한다.\n",
        "가운데 Wr을 사용하는 셀에서 출력된 값은 Wg 셀이 사용할 은닉 상태의 정보를 제어한다.\n",
        "\n",
        "쉽게 말해 LSTM의 삭제 게이트, 입력 게이트를 \"update gate\"로 통합하고,\n",
        "출력 게이트를 없애고 \"reset gate\"로 정의했다.\n",
        "또한, 셀 상태, 은닉 상태를 은닉 상태(hidden state) 하나로 통합했다.\n",
        "\n",
        "GRU 셀은 LSTM보다 가중치가 적기 때문에 계산량이 적지만 LSTM 못지 않은 좋은 성능을 낸다.\n",
        "다음 섹션에서 GRU 셀을 사용한 순환 신경망을 만들어 보겠다.\n",
        "'''"
      ],
      "metadata": {
        "colab": {
          "base_uri": "https://localhost:8080/",
          "height": 92
        },
        "id": "cbauKURrew2T",
        "outputId": "d8edd3fe-0c0a-46b1-ca61-43689c7a951a"
      },
      "execution_count": null,
      "outputs": [
        {
          "output_type": "execute_result",
          "data": {
            "text/plain": [
              "'\\nGRU는 Gated Recurrent Unit의 약자이다.\\n이 셀은 LSTM을 간소화한 버전으로 생각할 수 있다.\\n이 셀은 LSTM처럼 셀 상태를 계산하지 않고 은닉 상태만 포함하고 있다.\\n\\nGRU 셀에는 은닉 상태와 입력에 가중치를 곱하고 절편을 더하는 작은 셀이 3개 들어 있다.\\n2개는 시그모이드 활성화 함수를 사용하고 하나는 tanh 활성화 함수를 사용한다.\\n\\n맨 왼쪽에서 Wz를 사용하는 셀의 출력이 은닉 상태에 바로 곱해져 삭제 게이트 역할을 수행한다.\\n이와 똑같은 출력을 1에서 뺀 다음에 가장 오른쪽 Wg를 사용하는 셀의 출력에 곱한다.\\n이는 입력되는 정보를 제어하는 역할을 수행한다.\\n가운데 Wr을 사용하는 셀에서 출력된 값은 Wg 셀이 사용할 은닉 상태의 정보를 제어한다.\\n\\nGRU 셀은 LSTM보다 가중치가 적기 때문에 계산량이 적지만 LSTM 못지 않은 좋은 성능을 낸다.\\n다음 섹션에서 GRU 셀을 사용한 순환 신경망을 만들어 보겠다.\\n'"
            ],
            "application/vnd.google.colaboratory.intrinsic+json": {
              "type": "string"
            }
          },
          "metadata": {},
          "execution_count": 30
        }
      ]
    },
    {
      "cell_type": "markdown",
      "source": [
        "# **GRU 신경망 훈련하기**"
      ],
      "metadata": {
        "id": "XwXphbV8iySP"
      }
    },
    {
      "cell_type": "code",
      "source": [
        "# GRU 모델 생성 및 구조 출력\n",
        "model4 = keras.Sequential()\n",
        "\n",
        "model4.add(keras.layers.Embedding(500, 16, input_shape=(100,)))\n",
        "model4.add(keras.layers.GRU(8))\n",
        "model4.add(keras.layers.Dense(1, activation='sigmoid'))\n",
        "\n",
        "model4.summary()\n",
        "\n",
        "# LSTM 클래스를 GRU 클래스로 바뀐 것 외에는 동일함"
      ],
      "metadata": {
        "colab": {
          "base_uri": "https://localhost:8080/",
          "height": 225
        },
        "id": "crcbqIJfi05j",
        "outputId": "b7f9d1ec-2094-4e31-e1c8-7a84f809c2f0"
      },
      "execution_count": null,
      "outputs": [
        {
          "output_type": "display_data",
          "data": {
            "text/plain": [
              "\u001b[1mModel: \"sequential_6\"\u001b[0m\n"
            ],
            "text/html": [
              "<pre style=\"white-space:pre;overflow-x:auto;line-height:normal;font-family:Menlo,'DejaVu Sans Mono',consolas,'Courier New',monospace\"><span style=\"font-weight: bold\">Model: \"sequential_6\"</span>\n",
              "</pre>\n"
            ]
          },
          "metadata": {}
        },
        {
          "output_type": "display_data",
          "data": {
            "text/plain": [
              "┏━━━━━━━━━━━━━━━━━━━━━━━━━━━━━━━━━━━━━━┳━━━━━━━━━━━━━━━━━━━━━━━━━━━━━┳━━━━━━━━━━━━━━━━━┓\n",
              "┃\u001b[1m \u001b[0m\u001b[1mLayer (type)                        \u001b[0m\u001b[1m \u001b[0m┃\u001b[1m \u001b[0m\u001b[1mOutput Shape               \u001b[0m\u001b[1m \u001b[0m┃\u001b[1m \u001b[0m\u001b[1m        Param #\u001b[0m\u001b[1m \u001b[0m┃\n",
              "┡━━━━━━━━━━━━━━━━━━━━━━━━━━━━━━━━━━━━━━╇━━━━━━━━━━━━━━━━━━━━━━━━━━━━━╇━━━━━━━━━━━━━━━━━┩\n",
              "│ embedding_6 (\u001b[38;5;33mEmbedding\u001b[0m)              │ (\u001b[38;5;45mNone\u001b[0m, \u001b[38;5;34m100\u001b[0m, \u001b[38;5;34m16\u001b[0m)             │           \u001b[38;5;34m8,000\u001b[0m │\n",
              "├──────────────────────────────────────┼─────────────────────────────┼─────────────────┤\n",
              "│ gru (\u001b[38;5;33mGRU\u001b[0m)                            │ (\u001b[38;5;45mNone\u001b[0m, \u001b[38;5;34m8\u001b[0m)                   │             \u001b[38;5;34m624\u001b[0m │\n",
              "├──────────────────────────────────────┼─────────────────────────────┼─────────────────┤\n",
              "│ dense_5 (\u001b[38;5;33mDense\u001b[0m)                      │ (\u001b[38;5;45mNone\u001b[0m, \u001b[38;5;34m1\u001b[0m)                   │               \u001b[38;5;34m9\u001b[0m │\n",
              "└──────────────────────────────────────┴─────────────────────────────┴─────────────────┘\n"
            ],
            "text/html": [
              "<pre style=\"white-space:pre;overflow-x:auto;line-height:normal;font-family:Menlo,'DejaVu Sans Mono',consolas,'Courier New',monospace\">┏━━━━━━━━━━━━━━━━━━━━━━━━━━━━━━━━━━━━━━┳━━━━━━━━━━━━━━━━━━━━━━━━━━━━━┳━━━━━━━━━━━━━━━━━┓\n",
              "┃<span style=\"font-weight: bold\"> Layer (type)                         </span>┃<span style=\"font-weight: bold\"> Output Shape                </span>┃<span style=\"font-weight: bold\">         Param # </span>┃\n",
              "┡━━━━━━━━━━━━━━━━━━━━━━━━━━━━━━━━━━━━━━╇━━━━━━━━━━━━━━━━━━━━━━━━━━━━━╇━━━━━━━━━━━━━━━━━┩\n",
              "│ embedding_6 (<span style=\"color: #0087ff; text-decoration-color: #0087ff\">Embedding</span>)              │ (<span style=\"color: #00d7ff; text-decoration-color: #00d7ff\">None</span>, <span style=\"color: #00af00; text-decoration-color: #00af00\">100</span>, <span style=\"color: #00af00; text-decoration-color: #00af00\">16</span>)             │           <span style=\"color: #00af00; text-decoration-color: #00af00\">8,000</span> │\n",
              "├──────────────────────────────────────┼─────────────────────────────┼─────────────────┤\n",
              "│ gru (<span style=\"color: #0087ff; text-decoration-color: #0087ff\">GRU</span>)                            │ (<span style=\"color: #00d7ff; text-decoration-color: #00d7ff\">None</span>, <span style=\"color: #00af00; text-decoration-color: #00af00\">8</span>)                   │             <span style=\"color: #00af00; text-decoration-color: #00af00\">624</span> │\n",
              "├──────────────────────────────────────┼─────────────────────────────┼─────────────────┤\n",
              "│ dense_5 (<span style=\"color: #0087ff; text-decoration-color: #0087ff\">Dense</span>)                      │ (<span style=\"color: #00d7ff; text-decoration-color: #00d7ff\">None</span>, <span style=\"color: #00af00; text-decoration-color: #00af00\">1</span>)                   │               <span style=\"color: #00af00; text-decoration-color: #00af00\">9</span> │\n",
              "└──────────────────────────────────────┴─────────────────────────────┴─────────────────┘\n",
              "</pre>\n"
            ]
          },
          "metadata": {}
        },
        {
          "output_type": "display_data",
          "data": {
            "text/plain": [
              "\u001b[1m Total params: \u001b[0m\u001b[38;5;34m8,633\u001b[0m (33.72 KB)\n"
            ],
            "text/html": [
              "<pre style=\"white-space:pre;overflow-x:auto;line-height:normal;font-family:Menlo,'DejaVu Sans Mono',consolas,'Courier New',monospace\"><span style=\"font-weight: bold\"> Total params: </span><span style=\"color: #00af00; text-decoration-color: #00af00\">8,633</span> (33.72 KB)\n",
              "</pre>\n"
            ]
          },
          "metadata": {}
        },
        {
          "output_type": "display_data",
          "data": {
            "text/plain": [
              "\u001b[1m Trainable params: \u001b[0m\u001b[38;5;34m8,633\u001b[0m (33.72 KB)\n"
            ],
            "text/html": [
              "<pre style=\"white-space:pre;overflow-x:auto;line-height:normal;font-family:Menlo,'DejaVu Sans Mono',consolas,'Courier New',monospace\"><span style=\"font-weight: bold\"> Trainable params: </span><span style=\"color: #00af00; text-decoration-color: #00af00\">8,633</span> (33.72 KB)\n",
              "</pre>\n"
            ]
          },
          "metadata": {}
        },
        {
          "output_type": "display_data",
          "data": {
            "text/plain": [
              "\u001b[1m Non-trainable params: \u001b[0m\u001b[38;5;34m0\u001b[0m (0.00 B)\n"
            ],
            "text/html": [
              "<pre style=\"white-space:pre;overflow-x:auto;line-height:normal;font-family:Menlo,'DejaVu Sans Mono',consolas,'Courier New',monospace\"><span style=\"font-weight: bold\"> Non-trainable params: </span><span style=\"color: #00af00; text-decoration-color: #00af00\">0</span> (0.00 B)\n",
              "</pre>\n"
            ]
          },
          "metadata": {}
        }
      ]
    },
    {
      "cell_type": "code",
      "source": [
        "'''\n",
        "GRU 층의 모델 파라미터 개수를 계산해 보겠다.\n",
        "GRU 셀에는 3개의 작은 셀이 있다.\n",
        "작은 셀에는 입력과 은닉 상태에 곱하는 가중치와 절편이 있다.\n",
        "입력에 곱하는 가중치는 16 * 8 = 128개이고\n",
        "은닉 상태에 곱하는 가중치는 8 * * = 64개이다.\n",
        "그리고 절편은 뉴런마다 하나씩이므로 8개이다.\n",
        "모두 더하면 128 + 64 * 8 = 200개이다.\n",
        "이런 작은 셀이 3개이므로 모두 600개(*3)의 모델 파라미터가 필요하다.\n",
        "그런데 summary() 메서드를 통해 확인한 파라미터 개수는 624개이다.\n",
        "무엇이 잘못되었을까?\n",
        "\n",
        "은닉 상태가 먼저 가중치과 곱해진 다음 가운데 셀의 출력과 곱해진다.\n",
        "그래서 이전에는 입력과 은닉 상태에 곱해지는 가중치를 하나로 표기했는데, 이번에는 둘로 나눴다.\n",
        "\n",
        "이렇게 계산하면 은닉 상태에 곱해지는 가중치 외에 절편이 별도로 필요하다.\n",
        "따라서 작은 셀마다 하나씩 절편이 추가되고 8개의 뉴런이 있으므로 총 24개의 모델 파라미터가 더해진다.\n",
        "따라서 GRU 층의 총 모델 파라미터 개수는 624개가 된다.\n",
        "\n",
        "그럼 GRU 셀을 사용한 순환 신경망을 훈련해 보자.\n",
        "역시 방법은 이전과 동일하다.\n",
        "'''"
      ],
      "metadata": {
        "colab": {
          "base_uri": "https://localhost:8080/",
          "height": 110
        },
        "id": "V65AwKfpi71B",
        "outputId": "a7687bb8-8581-4d20-9614-71b2d0a52c96"
      },
      "execution_count": null,
      "outputs": [
        {
          "output_type": "execute_result",
          "data": {
            "text/plain": [
              "'\\nGRU 층의 모델 파라미터 개수를 계산해 보겠다.\\nGRU 셀에는 3개의 작은 셀이 있다.\\n작은 셀에는 입력과 은닉 상태에 곱하는 가중치와 절편이 있다.\\n입력에 곱하는 가중치는 16 * 8 = 128개이고\\n은닉 상태에 곱하는 가중치는 8 * * = 64개이다.\\n그리고 절편은 뉴런마다 하나씩이므로 8개이다.\\n모두 더하면 128 + 64 * 8 = 200개이다.\\n이런 작은 셀이 3개이므로 모두 600개(*3)의 모델 파라미터가 필요하다.\\n그런데 summary() 메서드를 통해 확인한 파라미터 개수는 624개이다.\\n무엇이 잘못되었을까?\\n\\n은닉 상태가 먼저 가중치과 곱해진 다음 가운데 셀의 출력과 곱해진다.\\n그래서 이전에는 입력과 은닉 상태에 곱해지는 가중치를 하나로 표기했는데, 이번에는 둘로 나눴다.\\n\\n이렇게 계산하면 은닉 상태에 곱해지는 가중치 외에 절편이 별도로 필요하다.\\n따라서 작은 셀마다 하나씩 절편이 추가되고 8개의 뉴런이 있으므로 총 24개의 모델 파라미터가 더해진다.\\n따라서 GRU 층의 총 모델 파라미터 개수는 624개가 된다.\\n\\n그럼 GRU 셀을 사용한 순환 신경망을 훈련해 보자.\\n역시 방법은 이전과 동일하다.\\n'"
            ],
            "application/vnd.google.colaboratory.intrinsic+json": {
              "type": "string"
            }
          },
          "metadata": {},
          "execution_count": 32
        }
      ]
    },
    {
      "cell_type": "code",
      "source": [
        "# GRU 모델 훈련\n",
        "rmsprop = keras.optimizers.RMSprop(learning_rate=1e-4)\n",
        "model4.compile(optimizer=rmsprop, loss='binary_crossentropy',\n",
        "               metrics=['accuracy'])\n",
        "\n",
        "checkpoint_cb = keras.callbacks.ModelCheckpoint('best-gru-model.keras',\n",
        "                                                save_best_only=True)\n",
        "early_stopping_cb = keras.callbacks.EarlyStopping(patience=3,\n",
        "                                                  restore_best_weights=True)\n",
        "\n",
        "history = model4.fit(train_seq, train_target, epochs=100, batch_size=64,\n",
        "                     validation_data=(val_seq, val_target),\n",
        "                     callbacks=[checkpoint_cb, early_stopping_cb])"
      ],
      "metadata": {
        "colab": {
          "base_uri": "https://localhost:8080/"
        },
        "id": "Ut6CMTp-qdRj",
        "outputId": "5641d383-c1b1-4c44-84a8-eaf89322760a"
      },
      "execution_count": null,
      "outputs": [
        {
          "output_type": "stream",
          "name": "stdout",
          "text": [
            "Epoch 1/100\n",
            "\u001b[1m313/313\u001b[0m \u001b[32m━━━━━━━━━━━━━━━━━━━━\u001b[0m\u001b[37m\u001b[0m \u001b[1m20s\u001b[0m 57ms/step - accuracy: 0.5090 - loss: 0.6930 - val_accuracy: 0.5592 - val_loss: 0.6918\n",
            "Epoch 2/100\n",
            "\u001b[1m313/313\u001b[0m \u001b[32m━━━━━━━━━━━━━━━━━━━━\u001b[0m\u001b[37m\u001b[0m \u001b[1m20s\u001b[0m 56ms/step - accuracy: 0.5693 - loss: 0.6911 - val_accuracy: 0.5684 - val_loss: 0.6895\n",
            "Epoch 3/100\n",
            "\u001b[1m313/313\u001b[0m \u001b[32m━━━━━━━━━━━━━━━━━━━━\u001b[0m\u001b[37m\u001b[0m \u001b[1m21s\u001b[0m 58ms/step - accuracy: 0.5912 - loss: 0.6883 - val_accuracy: 0.5854 - val_loss: 0.6858\n",
            "Epoch 4/100\n",
            "\u001b[1m313/313\u001b[0m \u001b[32m━━━━━━━━━━━━━━━━━━━━\u001b[0m\u001b[37m\u001b[0m \u001b[1m15s\u001b[0m 47ms/step - accuracy: 0.6078 - loss: 0.6836 - val_accuracy: 0.6046 - val_loss: 0.6792\n",
            "Epoch 5/100\n",
            "\u001b[1m313/313\u001b[0m \u001b[32m━━━━━━━━━━━━━━━━━━━━\u001b[0m\u001b[37m\u001b[0m \u001b[1m21s\u001b[0m 48ms/step - accuracy: 0.6258 - loss: 0.6753 - val_accuracy: 0.6282 - val_loss: 0.6672\n",
            "Epoch 6/100\n",
            "\u001b[1m313/313\u001b[0m \u001b[32m━━━━━━━━━━━━━━━━━━━━\u001b[0m\u001b[37m\u001b[0m \u001b[1m15s\u001b[0m 48ms/step - accuracy: 0.6451 - loss: 0.6599 - val_accuracy: 0.6552 - val_loss: 0.6424\n",
            "Epoch 7/100\n",
            "\u001b[1m313/313\u001b[0m \u001b[32m━━━━━━━━━━━━━━━━━━━━\u001b[0m\u001b[37m\u001b[0m \u001b[1m15s\u001b[0m 49ms/step - accuracy: 0.6807 - loss: 0.6253 - val_accuracy: 0.7124 - val_loss: 0.5752\n",
            "Epoch 8/100\n",
            "\u001b[1m313/313\u001b[0m \u001b[32m━━━━━━━━━━━━━━━━━━━━\u001b[0m\u001b[37m\u001b[0m \u001b[1m20s\u001b[0m 48ms/step - accuracy: 0.7268 - loss: 0.5521 - val_accuracy: 0.7442 - val_loss: 0.5316\n",
            "Epoch 9/100\n",
            "\u001b[1m313/313\u001b[0m \u001b[32m━━━━━━━━━━━━━━━━━━━━\u001b[0m\u001b[37m\u001b[0m \u001b[1m21s\u001b[0m 49ms/step - accuracy: 0.7511 - loss: 0.5194 - val_accuracy: 0.7592 - val_loss: 0.5099\n",
            "Epoch 10/100\n",
            "\u001b[1m313/313\u001b[0m \u001b[32m━━━━━━━━━━━━━━━━━━━━\u001b[0m\u001b[37m\u001b[0m \u001b[1m19s\u001b[0m 46ms/step - accuracy: 0.7650 - loss: 0.4995 - val_accuracy: 0.7694 - val_loss: 0.4937\n",
            "Epoch 11/100\n",
            "\u001b[1m313/313\u001b[0m \u001b[32m━━━━━━━━━━━━━━━━━━━━\u001b[0m\u001b[37m\u001b[0m \u001b[1m21s\u001b[0m 48ms/step - accuracy: 0.7756 - loss: 0.4838 - val_accuracy: 0.7754 - val_loss: 0.4810\n",
            "Epoch 12/100\n",
            "\u001b[1m313/313\u001b[0m \u001b[32m━━━━━━━━━━━━━━━━━━━━\u001b[0m\u001b[37m\u001b[0m \u001b[1m20s\u001b[0m 47ms/step - accuracy: 0.7827 - loss: 0.4714 - val_accuracy: 0.7772 - val_loss: 0.4715\n",
            "Epoch 13/100\n",
            "\u001b[1m313/313\u001b[0m \u001b[32m━━━━━━━━━━━━━━━━━━━━\u001b[0m\u001b[37m\u001b[0m \u001b[1m15s\u001b[0m 48ms/step - accuracy: 0.7904 - loss: 0.4615 - val_accuracy: 0.7832 - val_loss: 0.4644\n",
            "Epoch 14/100\n",
            "\u001b[1m313/313\u001b[0m \u001b[32m━━━━━━━━━━━━━━━━━━━━\u001b[0m\u001b[37m\u001b[0m \u001b[1m20s\u001b[0m 47ms/step - accuracy: 0.7952 - loss: 0.4534 - val_accuracy: 0.7866 - val_loss: 0.4591\n",
            "Epoch 15/100\n",
            "\u001b[1m313/313\u001b[0m \u001b[32m━━━━━━━━━━━━━━━━━━━━\u001b[0m\u001b[37m\u001b[0m \u001b[1m20s\u001b[0m 47ms/step - accuracy: 0.7999 - loss: 0.4469 - val_accuracy: 0.7926 - val_loss: 0.4552\n",
            "Epoch 16/100\n",
            "\u001b[1m313/313\u001b[0m \u001b[32m━━━━━━━━━━━━━━━━━━━━\u001b[0m\u001b[37m\u001b[0m \u001b[1m16s\u001b[0m 50ms/step - accuracy: 0.8024 - loss: 0.4418 - val_accuracy: 0.7902 - val_loss: 0.4526\n",
            "Epoch 17/100\n",
            "\u001b[1m313/313\u001b[0m \u001b[32m━━━━━━━━━━━━━━━━━━━━\u001b[0m\u001b[37m\u001b[0m \u001b[1m20s\u001b[0m 48ms/step - accuracy: 0.8049 - loss: 0.4377 - val_accuracy: 0.7912 - val_loss: 0.4508\n",
            "Epoch 18/100\n",
            "\u001b[1m313/313\u001b[0m \u001b[32m━━━━━━━━━━━━━━━━━━━━\u001b[0m\u001b[37m\u001b[0m \u001b[1m15s\u001b[0m 47ms/step - accuracy: 0.8061 - loss: 0.4345 - val_accuracy: 0.7920 - val_loss: 0.4495\n",
            "Epoch 19/100\n",
            "\u001b[1m313/313\u001b[0m \u001b[32m━━━━━━━━━━━━━━━━━━━━\u001b[0m\u001b[37m\u001b[0m \u001b[1m20s\u001b[0m 46ms/step - accuracy: 0.8075 - loss: 0.4320 - val_accuracy: 0.7904 - val_loss: 0.4487\n",
            "Epoch 20/100\n",
            "\u001b[1m313/313\u001b[0m \u001b[32m━━━━━━━━━━━━━━━━━━━━\u001b[0m\u001b[37m\u001b[0m \u001b[1m21s\u001b[0m 47ms/step - accuracy: 0.8081 - loss: 0.4299 - val_accuracy: 0.7900 - val_loss: 0.4481\n",
            "Epoch 21/100\n",
            "\u001b[1m313/313\u001b[0m \u001b[32m━━━━━━━━━━━━━━━━━━━━\u001b[0m\u001b[37m\u001b[0m \u001b[1m21s\u001b[0m 48ms/step - accuracy: 0.8086 - loss: 0.4281 - val_accuracy: 0.7892 - val_loss: 0.4477\n",
            "Epoch 22/100\n",
            "\u001b[1m313/313\u001b[0m \u001b[32m━━━━━━━━━━━━━━━━━━━━\u001b[0m\u001b[37m\u001b[0m \u001b[1m15s\u001b[0m 48ms/step - accuracy: 0.8092 - loss: 0.4265 - val_accuracy: 0.7894 - val_loss: 0.4473\n",
            "Epoch 23/100\n",
            "\u001b[1m313/313\u001b[0m \u001b[32m━━━━━━━━━━━━━━━━━━━━\u001b[0m\u001b[37m\u001b[0m \u001b[1m15s\u001b[0m 47ms/step - accuracy: 0.8109 - loss: 0.4251 - val_accuracy: 0.7898 - val_loss: 0.4470\n",
            "Epoch 24/100\n",
            "\u001b[1m313/313\u001b[0m \u001b[32m━━━━━━━━━━━━━━━━━━━━\u001b[0m\u001b[37m\u001b[0m \u001b[1m21s\u001b[0m 49ms/step - accuracy: 0.8111 - loss: 0.4239 - val_accuracy: 0.7898 - val_loss: 0.4467\n",
            "Epoch 25/100\n",
            "\u001b[1m313/313\u001b[0m \u001b[32m━━━━━━━━━━━━━━━━━━━━\u001b[0m\u001b[37m\u001b[0m \u001b[1m20s\u001b[0m 47ms/step - accuracy: 0.8113 - loss: 0.4228 - val_accuracy: 0.7904 - val_loss: 0.4465\n",
            "Epoch 26/100\n",
            "\u001b[1m313/313\u001b[0m \u001b[32m━━━━━━━━━━━━━━━━━━━━\u001b[0m\u001b[37m\u001b[0m \u001b[1m15s\u001b[0m 48ms/step - accuracy: 0.8126 - loss: 0.4219 - val_accuracy: 0.7898 - val_loss: 0.4463\n",
            "Epoch 27/100\n",
            "\u001b[1m313/313\u001b[0m \u001b[32m━━━━━━━━━━━━━━━━━━━━\u001b[0m\u001b[37m\u001b[0m \u001b[1m20s\u001b[0m 47ms/step - accuracy: 0.8126 - loss: 0.4210 - val_accuracy: 0.7900 - val_loss: 0.4461\n",
            "Epoch 28/100\n",
            "\u001b[1m313/313\u001b[0m \u001b[32m━━━━━━━━━━━━━━━━━━━━\u001b[0m\u001b[37m\u001b[0m \u001b[1m20s\u001b[0m 46ms/step - accuracy: 0.8123 - loss: 0.4202 - val_accuracy: 0.7912 - val_loss: 0.4459\n",
            "Epoch 29/100\n",
            "\u001b[1m313/313\u001b[0m \u001b[32m━━━━━━━━━━━━━━━━━━━━\u001b[0m\u001b[37m\u001b[0m \u001b[1m21s\u001b[0m 48ms/step - accuracy: 0.8122 - loss: 0.4195 - val_accuracy: 0.7912 - val_loss: 0.4457\n",
            "Epoch 30/100\n",
            "\u001b[1m313/313\u001b[0m \u001b[32m━━━━━━━━━━━━━━━━━━━━\u001b[0m\u001b[37m\u001b[0m \u001b[1m21s\u001b[0m 50ms/step - accuracy: 0.8124 - loss: 0.4189 - val_accuracy: 0.7908 - val_loss: 0.4455\n",
            "Epoch 31/100\n",
            "\u001b[1m313/313\u001b[0m \u001b[32m━━━━━━━━━━━━━━━━━━━━\u001b[0m\u001b[37m\u001b[0m \u001b[1m20s\u001b[0m 47ms/step - accuracy: 0.8130 - loss: 0.4182 - val_accuracy: 0.7898 - val_loss: 0.4453\n",
            "Epoch 32/100\n",
            "\u001b[1m313/313\u001b[0m \u001b[32m━━━━━━━━━━━━━━━━━━━━\u001b[0m\u001b[37m\u001b[0m \u001b[1m21s\u001b[0m 50ms/step - accuracy: 0.8126 - loss: 0.4177 - val_accuracy: 0.7904 - val_loss: 0.4451\n",
            "Epoch 33/100\n",
            "\u001b[1m313/313\u001b[0m \u001b[32m━━━━━━━━━━━━━━━━━━━━\u001b[0m\u001b[37m\u001b[0m \u001b[1m15s\u001b[0m 48ms/step - accuracy: 0.8130 - loss: 0.4172 - val_accuracy: 0.7908 - val_loss: 0.4449\n",
            "Epoch 34/100\n",
            "\u001b[1m313/313\u001b[0m \u001b[32m━━━━━━━━━━━━━━━━━━━━\u001b[0m\u001b[37m\u001b[0m \u001b[1m20s\u001b[0m 47ms/step - accuracy: 0.8130 - loss: 0.4167 - val_accuracy: 0.7902 - val_loss: 0.4447\n",
            "Epoch 35/100\n",
            "\u001b[1m313/313\u001b[0m \u001b[32m━━━━━━━━━━━━━━━━━━━━\u001b[0m\u001b[37m\u001b[0m \u001b[1m21s\u001b[0m 48ms/step - accuracy: 0.8137 - loss: 0.4162 - val_accuracy: 0.7900 - val_loss: 0.4444\n",
            "Epoch 36/100\n",
            "\u001b[1m313/313\u001b[0m \u001b[32m━━━━━━━━━━━━━━━━━━━━\u001b[0m\u001b[37m\u001b[0m \u001b[1m14s\u001b[0m 46ms/step - accuracy: 0.8144 - loss: 0.4157 - val_accuracy: 0.7900 - val_loss: 0.4442\n",
            "Epoch 37/100\n",
            "\u001b[1m313/313\u001b[0m \u001b[32m━━━━━━━━━━━━━━━━━━━━\u001b[0m\u001b[37m\u001b[0m \u001b[1m21s\u001b[0m 49ms/step - accuracy: 0.8149 - loss: 0.4153 - val_accuracy: 0.7908 - val_loss: 0.4440\n",
            "Epoch 38/100\n",
            "\u001b[1m313/313\u001b[0m \u001b[32m━━━━━━━━━━━━━━━━━━━━\u001b[0m\u001b[37m\u001b[0m \u001b[1m16s\u001b[0m 51ms/step - accuracy: 0.8159 - loss: 0.4149 - val_accuracy: 0.7918 - val_loss: 0.4437\n",
            "Epoch 39/100\n",
            "\u001b[1m313/313\u001b[0m \u001b[32m━━━━━━━━━━━━━━━━━━━━\u001b[0m\u001b[37m\u001b[0m \u001b[1m15s\u001b[0m 48ms/step - accuracy: 0.8156 - loss: 0.4144 - val_accuracy: 0.7916 - val_loss: 0.4435\n",
            "Epoch 40/100\n",
            "\u001b[1m313/313\u001b[0m \u001b[32m━━━━━━━━━━━━━━━━━━━━\u001b[0m\u001b[37m\u001b[0m \u001b[1m15s\u001b[0m 49ms/step - accuracy: 0.8155 - loss: 0.4140 - val_accuracy: 0.7914 - val_loss: 0.4432\n",
            "Epoch 41/100\n",
            "\u001b[1m313/313\u001b[0m \u001b[32m━━━━━━━━━━━━━━━━━━━━\u001b[0m\u001b[37m\u001b[0m \u001b[1m21s\u001b[0m 49ms/step - accuracy: 0.8155 - loss: 0.4136 - val_accuracy: 0.7910 - val_loss: 0.4430\n",
            "Epoch 42/100\n",
            "\u001b[1m313/313\u001b[0m \u001b[32m━━━━━━━━━━━━━━━━━━━━\u001b[0m\u001b[37m\u001b[0m \u001b[1m20s\u001b[0m 48ms/step - accuracy: 0.8149 - loss: 0.4133 - val_accuracy: 0.7904 - val_loss: 0.4427\n",
            "Epoch 43/100\n",
            "\u001b[1m313/313\u001b[0m \u001b[32m━━━━━━━━━━━━━━━━━━━━\u001b[0m\u001b[37m\u001b[0m \u001b[1m21s\u001b[0m 49ms/step - accuracy: 0.8148 - loss: 0.4129 - val_accuracy: 0.7898 - val_loss: 0.4425\n",
            "Epoch 44/100\n",
            "\u001b[1m313/313\u001b[0m \u001b[32m━━━━━━━━━━━━━━━━━━━━\u001b[0m\u001b[37m\u001b[0m \u001b[1m20s\u001b[0m 47ms/step - accuracy: 0.8150 - loss: 0.4125 - val_accuracy: 0.7906 - val_loss: 0.4422\n",
            "Epoch 45/100\n",
            "\u001b[1m313/313\u001b[0m \u001b[32m━━━━━━━━━━━━━━━━━━━━\u001b[0m\u001b[37m\u001b[0m \u001b[1m15s\u001b[0m 48ms/step - accuracy: 0.8152 - loss: 0.4121 - val_accuracy: 0.7908 - val_loss: 0.4420\n",
            "Epoch 46/100\n",
            "\u001b[1m313/313\u001b[0m \u001b[32m━━━━━━━━━━━━━━━━━━━━\u001b[0m\u001b[37m\u001b[0m \u001b[1m15s\u001b[0m 48ms/step - accuracy: 0.8156 - loss: 0.4118 - val_accuracy: 0.7914 - val_loss: 0.4417\n",
            "Epoch 47/100\n",
            "\u001b[1m313/313\u001b[0m \u001b[32m━━━━━━━━━━━━━━━━━━━━\u001b[0m\u001b[37m\u001b[0m \u001b[1m15s\u001b[0m 48ms/step - accuracy: 0.8160 - loss: 0.4114 - val_accuracy: 0.7920 - val_loss: 0.4415\n",
            "Epoch 48/100\n",
            "\u001b[1m313/313\u001b[0m \u001b[32m━━━━━━━━━━━━━━━━━━━━\u001b[0m\u001b[37m\u001b[0m \u001b[1m20s\u001b[0m 47ms/step - accuracy: 0.8158 - loss: 0.4111 - val_accuracy: 0.7922 - val_loss: 0.4412\n",
            "Epoch 49/100\n",
            "\u001b[1m313/313\u001b[0m \u001b[32m━━━━━━━━━━━━━━━━━━━━\u001b[0m\u001b[37m\u001b[0m \u001b[1m21s\u001b[0m 47ms/step - accuracy: 0.8159 - loss: 0.4107 - val_accuracy: 0.7930 - val_loss: 0.4410\n",
            "Epoch 50/100\n",
            "\u001b[1m313/313\u001b[0m \u001b[32m━━━━━━━━━━━━━━━━━━━━\u001b[0m\u001b[37m\u001b[0m \u001b[1m21s\u001b[0m 49ms/step - accuracy: 0.8163 - loss: 0.4104 - val_accuracy: 0.7934 - val_loss: 0.4407\n",
            "Epoch 51/100\n",
            "\u001b[1m313/313\u001b[0m \u001b[32m━━━━━━━━━━━━━━━━━━━━\u001b[0m\u001b[37m\u001b[0m \u001b[1m15s\u001b[0m 48ms/step - accuracy: 0.8165 - loss: 0.4100 - val_accuracy: 0.7938 - val_loss: 0.4405\n",
            "Epoch 52/100\n",
            "\u001b[1m313/313\u001b[0m \u001b[32m━━━━━━━━━━━━━━━━━━━━\u001b[0m\u001b[37m\u001b[0m \u001b[1m21s\u001b[0m 48ms/step - accuracy: 0.8167 - loss: 0.4097 - val_accuracy: 0.7932 - val_loss: 0.4402\n",
            "Epoch 53/100\n",
            "\u001b[1m313/313\u001b[0m \u001b[32m━━━━━━━━━━━━━━━━━━━━\u001b[0m\u001b[37m\u001b[0m \u001b[1m15s\u001b[0m 47ms/step - accuracy: 0.8170 - loss: 0.4093 - val_accuracy: 0.7932 - val_loss: 0.4400\n",
            "Epoch 54/100\n",
            "\u001b[1m313/313\u001b[0m \u001b[32m━━━━━━━━━━━━━━━━━━━━\u001b[0m\u001b[37m\u001b[0m \u001b[1m21s\u001b[0m 48ms/step - accuracy: 0.8170 - loss: 0.4090 - val_accuracy: 0.7928 - val_loss: 0.4397\n",
            "Epoch 55/100\n",
            "\u001b[1m313/313\u001b[0m \u001b[32m━━━━━━━━━━━━━━━━━━━━\u001b[0m\u001b[37m\u001b[0m \u001b[1m21s\u001b[0m 49ms/step - accuracy: 0.8176 - loss: 0.4087 - val_accuracy: 0.7926 - val_loss: 0.4395\n",
            "Epoch 56/100\n",
            "\u001b[1m313/313\u001b[0m \u001b[32m━━━━━━━━━━━━━━━━━━━━\u001b[0m\u001b[37m\u001b[0m \u001b[1m15s\u001b[0m 48ms/step - accuracy: 0.8176 - loss: 0.4083 - val_accuracy: 0.7926 - val_loss: 0.4392\n",
            "Epoch 57/100\n",
            "\u001b[1m313/313\u001b[0m \u001b[32m━━━━━━━━━━━━━━━━━━━━\u001b[0m\u001b[37m\u001b[0m \u001b[1m21s\u001b[0m 51ms/step - accuracy: 0.8177 - loss: 0.4080 - val_accuracy: 0.7924 - val_loss: 0.4390\n",
            "Epoch 58/100\n",
            "\u001b[1m313/313\u001b[0m \u001b[32m━━━━━━━━━━━━━━━━━━━━\u001b[0m\u001b[37m\u001b[0m \u001b[1m19s\u001b[0m 48ms/step - accuracy: 0.8177 - loss: 0.4076 - val_accuracy: 0.7926 - val_loss: 0.4387\n",
            "Epoch 59/100\n",
            "\u001b[1m313/313\u001b[0m \u001b[32m━━━━━━━━━━━━━━━━━━━━\u001b[0m\u001b[37m\u001b[0m \u001b[1m21s\u001b[0m 49ms/step - accuracy: 0.8182 - loss: 0.4073 - val_accuracy: 0.7930 - val_loss: 0.4385\n",
            "Epoch 60/100\n",
            "\u001b[1m313/313\u001b[0m \u001b[32m━━━━━━━━━━━━━━━━━━━━\u001b[0m\u001b[37m\u001b[0m \u001b[1m20s\u001b[0m 48ms/step - accuracy: 0.8184 - loss: 0.4069 - val_accuracy: 0.7936 - val_loss: 0.4383\n",
            "Epoch 61/100\n",
            "\u001b[1m313/313\u001b[0m \u001b[32m━━━━━━━━━━━━━━━━━━━━\u001b[0m\u001b[37m\u001b[0m \u001b[1m15s\u001b[0m 48ms/step - accuracy: 0.8184 - loss: 0.4066 - val_accuracy: 0.7938 - val_loss: 0.4380\n",
            "Epoch 62/100\n",
            "\u001b[1m313/313\u001b[0m \u001b[32m━━━━━━━━━━━━━━━━━━━━\u001b[0m\u001b[37m\u001b[0m \u001b[1m20s\u001b[0m 48ms/step - accuracy: 0.8183 - loss: 0.4063 - val_accuracy: 0.7930 - val_loss: 0.4378\n",
            "Epoch 63/100\n",
            "\u001b[1m313/313\u001b[0m \u001b[32m━━━━━━━━━━━━━━━━━━━━\u001b[0m\u001b[37m\u001b[0m \u001b[1m15s\u001b[0m 46ms/step - accuracy: 0.8186 - loss: 0.4059 - val_accuracy: 0.7938 - val_loss: 0.4375\n",
            "Epoch 64/100\n",
            "\u001b[1m313/313\u001b[0m \u001b[32m━━━━━━━━━━━━━━━━━━━━\u001b[0m\u001b[37m\u001b[0m \u001b[1m21s\u001b[0m 49ms/step - accuracy: 0.8182 - loss: 0.4056 - val_accuracy: 0.7936 - val_loss: 0.4373\n",
            "Epoch 65/100\n",
            "\u001b[1m313/313\u001b[0m \u001b[32m━━━━━━━━━━━━━━━━━━━━\u001b[0m\u001b[37m\u001b[0m \u001b[1m16s\u001b[0m 51ms/step - accuracy: 0.8182 - loss: 0.4052 - val_accuracy: 0.7944 - val_loss: 0.4371\n",
            "Epoch 66/100\n",
            "\u001b[1m313/313\u001b[0m \u001b[32m━━━━━━━━━━━━━━━━━━━━\u001b[0m\u001b[37m\u001b[0m \u001b[1m15s\u001b[0m 49ms/step - accuracy: 0.8182 - loss: 0.4049 - val_accuracy: 0.7940 - val_loss: 0.4368\n",
            "Epoch 67/100\n",
            "\u001b[1m313/313\u001b[0m \u001b[32m━━━━━━━━━━━━━━━━━━━━\u001b[0m\u001b[37m\u001b[0m \u001b[1m15s\u001b[0m 49ms/step - accuracy: 0.8183 - loss: 0.4045 - val_accuracy: 0.7946 - val_loss: 0.4366\n",
            "Epoch 68/100\n",
            "\u001b[1m313/313\u001b[0m \u001b[32m━━━━━━━━━━━━━━━━━━━━\u001b[0m\u001b[37m\u001b[0m \u001b[1m21s\u001b[0m 49ms/step - accuracy: 0.8185 - loss: 0.4042 - val_accuracy: 0.7942 - val_loss: 0.4364\n",
            "Epoch 69/100\n",
            "\u001b[1m313/313\u001b[0m \u001b[32m━━━━━━━━━━━━━━━━━━━━\u001b[0m\u001b[37m\u001b[0m \u001b[1m16s\u001b[0m 52ms/step - accuracy: 0.8189 - loss: 0.4038 - val_accuracy: 0.7940 - val_loss: 0.4361\n",
            "Epoch 70/100\n",
            "\u001b[1m313/313\u001b[0m \u001b[32m━━━━━━━━━━━━━━━━━━━━\u001b[0m\u001b[37m\u001b[0m \u001b[1m20s\u001b[0m 49ms/step - accuracy: 0.8194 - loss: 0.4035 - val_accuracy: 0.7938 - val_loss: 0.4359\n",
            "Epoch 71/100\n",
            "\u001b[1m313/313\u001b[0m \u001b[32m━━━━━━━━━━━━━━━━━━━━\u001b[0m\u001b[37m\u001b[0m \u001b[1m15s\u001b[0m 49ms/step - accuracy: 0.8193 - loss: 0.4031 - val_accuracy: 0.7936 - val_loss: 0.4357\n",
            "Epoch 72/100\n",
            "\u001b[1m313/313\u001b[0m \u001b[32m━━━━━━━━━━━━━━━━━━━━\u001b[0m\u001b[37m\u001b[0m \u001b[1m15s\u001b[0m 49ms/step - accuracy: 0.8198 - loss: 0.4028 - val_accuracy: 0.7936 - val_loss: 0.4355\n",
            "Epoch 73/100\n",
            "\u001b[1m313/313\u001b[0m \u001b[32m━━━━━━━━━━━━━━━━━━━━\u001b[0m\u001b[37m\u001b[0m \u001b[1m16s\u001b[0m 50ms/step - accuracy: 0.8198 - loss: 0.4024 - val_accuracy: 0.7938 - val_loss: 0.4352\n",
            "Epoch 74/100\n",
            "\u001b[1m313/313\u001b[0m \u001b[32m━━━━━━━━━━━━━━━━━━━━\u001b[0m\u001b[37m\u001b[0m \u001b[1m20s\u001b[0m 49ms/step - accuracy: 0.8200 - loss: 0.4021 - val_accuracy: 0.7944 - val_loss: 0.4350\n",
            "Epoch 75/100\n",
            "\u001b[1m313/313\u001b[0m \u001b[32m━━━━━━━━━━━━━━━━━━━━\u001b[0m\u001b[37m\u001b[0m \u001b[1m15s\u001b[0m 48ms/step - accuracy: 0.8207 - loss: 0.4017 - val_accuracy: 0.7948 - val_loss: 0.4348\n",
            "Epoch 76/100\n",
            "\u001b[1m313/313\u001b[0m \u001b[32m━━━━━━━━━━━━━━━━━━━━\u001b[0m\u001b[37m\u001b[0m \u001b[1m20s\u001b[0m 48ms/step - accuracy: 0.8209 - loss: 0.4013 - val_accuracy: 0.7954 - val_loss: 0.4346\n",
            "Epoch 77/100\n",
            "\u001b[1m313/313\u001b[0m \u001b[32m━━━━━━━━━━━━━━━━━━━━\u001b[0m\u001b[37m\u001b[0m \u001b[1m21s\u001b[0m 48ms/step - accuracy: 0.8213 - loss: 0.4010 - val_accuracy: 0.7960 - val_loss: 0.4344\n",
            "Epoch 78/100\n",
            "\u001b[1m313/313\u001b[0m \u001b[32m━━━━━━━━━━━━━━━━━━━━\u001b[0m\u001b[37m\u001b[0m \u001b[1m20s\u001b[0m 48ms/step - accuracy: 0.8211 - loss: 0.4006 - val_accuracy: 0.7960 - val_loss: 0.4341\n",
            "Epoch 79/100\n",
            "\u001b[1m313/313\u001b[0m \u001b[32m━━━━━━━━━━━━━━━━━━━━\u001b[0m\u001b[37m\u001b[0m \u001b[1m20s\u001b[0m 48ms/step - accuracy: 0.8215 - loss: 0.4003 - val_accuracy: 0.7978 - val_loss: 0.4339\n",
            "Epoch 80/100\n",
            "\u001b[1m313/313\u001b[0m \u001b[32m━━━━━━━━━━━━━━━━━━━━\u001b[0m\u001b[37m\u001b[0m \u001b[1m20s\u001b[0m 47ms/step - accuracy: 0.8215 - loss: 0.3999 - val_accuracy: 0.7976 - val_loss: 0.4337\n",
            "Epoch 81/100\n",
            "\u001b[1m313/313\u001b[0m \u001b[32m━━━━━━━━━━━━━━━━━━━━\u001b[0m\u001b[37m\u001b[0m \u001b[1m21s\u001b[0m 47ms/step - accuracy: 0.8213 - loss: 0.3995 - val_accuracy: 0.7978 - val_loss: 0.4335\n",
            "Epoch 82/100\n",
            "\u001b[1m313/313\u001b[0m \u001b[32m━━━━━━━━━━━━━━━━━━━━\u001b[0m\u001b[37m\u001b[0m \u001b[1m16s\u001b[0m 51ms/step - accuracy: 0.8215 - loss: 0.3992 - val_accuracy: 0.7986 - val_loss: 0.4333\n",
            "Epoch 83/100\n",
            "\u001b[1m313/313\u001b[0m \u001b[32m━━━━━━━━━━━━━━━━━━━━\u001b[0m\u001b[37m\u001b[0m \u001b[1m19s\u001b[0m 47ms/step - accuracy: 0.8215 - loss: 0.3988 - val_accuracy: 0.7988 - val_loss: 0.4331\n",
            "Epoch 84/100\n",
            "\u001b[1m313/313\u001b[0m \u001b[32m━━━━━━━━━━━━━━━━━━━━\u001b[0m\u001b[37m\u001b[0m \u001b[1m21s\u001b[0m 50ms/step - accuracy: 0.8216 - loss: 0.3984 - val_accuracy: 0.7988 - val_loss: 0.4329\n",
            "Epoch 85/100\n",
            "\u001b[1m313/313\u001b[0m \u001b[32m━━━━━━━━━━━━━━━━━━━━\u001b[0m\u001b[37m\u001b[0m \u001b[1m20s\u001b[0m 47ms/step - accuracy: 0.8216 - loss: 0.3981 - val_accuracy: 0.7990 - val_loss: 0.4327\n",
            "Epoch 86/100\n",
            "\u001b[1m313/313\u001b[0m \u001b[32m━━━━━━━━━━━━━━━━━━━━\u001b[0m\u001b[37m\u001b[0m \u001b[1m15s\u001b[0m 48ms/step - accuracy: 0.8219 - loss: 0.3977 - val_accuracy: 0.7994 - val_loss: 0.4325\n",
            "Epoch 87/100\n",
            "\u001b[1m313/313\u001b[0m \u001b[32m━━━━━━━━━━━━━━━━━━━━\u001b[0m\u001b[37m\u001b[0m \u001b[1m15s\u001b[0m 48ms/step - accuracy: 0.8220 - loss: 0.3973 - val_accuracy: 0.8002 - val_loss: 0.4323\n",
            "Epoch 88/100\n",
            "\u001b[1m313/313\u001b[0m \u001b[32m━━━━━━━━━━━━━━━━━━━━\u001b[0m\u001b[37m\u001b[0m \u001b[1m20s\u001b[0m 48ms/step - accuracy: 0.8223 - loss: 0.3970 - val_accuracy: 0.8002 - val_loss: 0.4321\n",
            "Epoch 89/100\n",
            "\u001b[1m313/313\u001b[0m \u001b[32m━━━━━━━━━━━━━━━━━━━━\u001b[0m\u001b[37m\u001b[0m \u001b[1m20s\u001b[0m 48ms/step - accuracy: 0.8226 - loss: 0.3966 - val_accuracy: 0.7998 - val_loss: 0.4319\n",
            "Epoch 90/100\n",
            "\u001b[1m313/313\u001b[0m \u001b[32m━━━━━━━━━━━━━━━━━━━━\u001b[0m\u001b[37m\u001b[0m \u001b[1m20s\u001b[0m 47ms/step - accuracy: 0.8226 - loss: 0.3962 - val_accuracy: 0.8006 - val_loss: 0.4317\n",
            "Epoch 91/100\n",
            "\u001b[1m313/313\u001b[0m \u001b[32m━━━━━━━━━━━━━━━━━━━━\u001b[0m\u001b[37m\u001b[0m \u001b[1m15s\u001b[0m 48ms/step - accuracy: 0.8232 - loss: 0.3958 - val_accuracy: 0.8008 - val_loss: 0.4315\n",
            "Epoch 92/100\n",
            "\u001b[1m313/313\u001b[0m \u001b[32m━━━━━━━━━━━━━━━━━━━━\u001b[0m\u001b[37m\u001b[0m \u001b[1m21s\u001b[0m 50ms/step - accuracy: 0.8232 - loss: 0.3955 - val_accuracy: 0.8004 - val_loss: 0.4314\n",
            "Epoch 93/100\n",
            "\u001b[1m313/313\u001b[0m \u001b[32m━━━━━━━━━━━━━━━━━━━━\u001b[0m\u001b[37m\u001b[0m \u001b[1m20s\u001b[0m 48ms/step - accuracy: 0.8231 - loss: 0.3951 - val_accuracy: 0.8006 - val_loss: 0.4312\n",
            "Epoch 94/100\n",
            "\u001b[1m313/313\u001b[0m \u001b[32m━━━━━━━━━━━━━━━━━━━━\u001b[0m\u001b[37m\u001b[0m \u001b[1m21s\u001b[0m 48ms/step - accuracy: 0.8232 - loss: 0.3947 - val_accuracy: 0.8010 - val_loss: 0.4310\n",
            "Epoch 95/100\n",
            "\u001b[1m313/313\u001b[0m \u001b[32m━━━━━━━━━━━━━━━━━━━━\u001b[0m\u001b[37m\u001b[0m \u001b[1m15s\u001b[0m 47ms/step - accuracy: 0.8229 - loss: 0.3943 - val_accuracy: 0.8018 - val_loss: 0.4308\n",
            "Epoch 96/100\n",
            "\u001b[1m313/313\u001b[0m \u001b[32m━━━━━━━━━━━━━━━━━━━━\u001b[0m\u001b[37m\u001b[0m \u001b[1m15s\u001b[0m 47ms/step - accuracy: 0.8231 - loss: 0.3939 - val_accuracy: 0.8018 - val_loss: 0.4307\n",
            "Epoch 97/100\n",
            "\u001b[1m313/313\u001b[0m \u001b[32m━━━━━━━━━━━━━━━━━━━━\u001b[0m\u001b[37m\u001b[0m \u001b[1m21s\u001b[0m 49ms/step - accuracy: 0.8232 - loss: 0.3936 - val_accuracy: 0.8014 - val_loss: 0.4305\n",
            "Epoch 98/100\n",
            "\u001b[1m313/313\u001b[0m \u001b[32m━━━━━━━━━━━━━━━━━━━━\u001b[0m\u001b[37m\u001b[0m \u001b[1m20s\u001b[0m 48ms/step - accuracy: 0.8234 - loss: 0.3932 - val_accuracy: 0.8014 - val_loss: 0.4303\n",
            "Epoch 99/100\n",
            "\u001b[1m313/313\u001b[0m \u001b[32m━━━━━━━━━━━━━━━━━━━━\u001b[0m\u001b[37m\u001b[0m \u001b[1m21s\u001b[0m 50ms/step - accuracy: 0.8235 - loss: 0.3928 - val_accuracy: 0.8020 - val_loss: 0.4302\n",
            "Epoch 100/100\n",
            "\u001b[1m313/313\u001b[0m \u001b[32m━━━━━━━━━━━━━━━━━━━━\u001b[0m\u001b[37m\u001b[0m \u001b[1m20s\u001b[0m 48ms/step - accuracy: 0.8236 - loss: 0.3924 - val_accuracy: 0.8020 - val_loss: 0.4300\n"
          ]
        }
      ]
    },
    {
      "cell_type": "code",
      "source": [
        "# 훈련 손실 및 검증 손실 시각화\n",
        "plt.plot(history.history['loss'])\n",
        "plt.plot(history.history['val_loss'])\n",
        "plt.xlabel('epoch')\n",
        "plt.ylabel('loss')\n",
        "plt.legend(['train', 'val'])\n",
        "plt.show()"
      ],
      "metadata": {
        "colab": {
          "base_uri": "https://localhost:8080/",
          "height": 449
        },
        "id": "TEEGR7P7qgmg",
        "outputId": "e32bdcfa-a44c-40a4-f91a-04a4abd83e3c"
      },
      "execution_count": null,
      "outputs": [
        {
          "output_type": "display_data",
          "data": {
            "text/plain": [
              "<Figure size 640x480 with 1 Axes>"
            ],
            "image/png": "[encoded data removed]"
          },
          "metadata": {}
        }
      ]
    },
    {
      "cell_type": "code",
      "source": [
        "'''\n",
        "드롭아웃을 사용하지 않았기 때문에 이전보다 훈련 손실과 검증 손실 사이에 차이가 있지만\n",
        "훈련 과정이 잘 수렴되고 있는 것을 확인할 수 있다.\n",
        "순환 신경망에서 가장 인기 있는 LSTM과 GRU 셀을 사용해 성공적으로 훈련시켰다.\n",
        "'''"
      ],
      "metadata": {
        "colab": {
          "base_uri": "https://localhost:8080/",
          "height": 54
        },
        "id": "WSeRXRe9yvGI",
        "outputId": "b2e91a0a-76c4-4608-adbf-8c90622d5a42"
      },
      "execution_count": null,
      "outputs": [
        {
          "output_type": "execute_result",
          "data": {
            "text/plain": [
              "'\\n드롭아웃을 사용하지 않았기 때문에 이전보다 훈련 손실과 검증 손실 사이에 차이가 있지만\\n훈련 과정이 잘 수렴되고 있는 것을 확인할 수 있다.\\n순환 신경망에서 가장 인기 있는 LSTM과 GRU 셀을 사용해 성공적으로 훈련시켰다.\\n'"
            ],
            "application/vnd.google.colaboratory.intrinsic+json": {
              "type": "string"
            }
          },
          "metadata": {},
          "execution_count": 37
        }
      ]
    },
    {
      "cell_type": "code",
      "source": [
        "# 2개의 순환층을 쌓은 모델 테스트 성능 확인\n",
        "test_seq = pad_sequences(test_input, maxlen=100)\n",
        "\n",
        "rnn_model = keras.models.load_model('best-2rnn-model.keras')\n",
        "\n",
        "rnn_model.evaluate(test_seq, test_target)"
      ],
      "metadata": {
        "colab": {
          "base_uri": "https://localhost:8080/"
        },
        "id": "l9CqZofSzAR8",
        "outputId": "3c26f720-45ae-41ac-e7ef-f555eb992666"
      },
      "execution_count": null,
      "outputs": [
        {
          "output_type": "stream",
          "name": "stdout",
          "text": [
            "\u001b[1m782/782\u001b[0m \u001b[32m━━━━━━━━━━━━━━━━━━━━\u001b[0m\u001b[37m\u001b[0m \u001b[1m13s\u001b[0m 16ms/step - accuracy: 0.7910 - loss: 0.4510\n"
          ]
        },
        {
          "output_type": "execute_result",
          "data": {
            "text/plain": [
              "[0.4513796865940094, 0.7897199988365173]"
            ]
          },
          "metadata": {},
          "execution_count": 38
        }
      ]
    },
    {
      "cell_type": "code",
      "source": [
        "'''\n",
        "이 모델은 드롭아웃을 적용하여 과대 적합을 잘 억제 했기에\n",
        "테스트 세트의 성능이 검증 세트와 크게 차이 나지 않는다.\n",
        "성공적이다.\n",
        "이제 댓글을 긍정과 부정으로 분류할 수 있다.\n",
        "'''"
      ],
      "metadata": {
        "colab": {
          "base_uri": "https://localhost:8080/",
          "height": 36
        },
        "id": "aEwcb-TTzLov",
        "outputId": "08047ee4-d9b0-44b2-8c2c-602162d1bfcd"
      },
      "execution_count": null,
      "outputs": [
        {
          "output_type": "execute_result",
          "data": {
            "text/plain": [
              "'\\n이 모델은 드롭아웃을 적용하여 과대 적합을 잘 억제 했기에\\n테스트 세트의 성능이 검증 세트와 크게 차이 나지 않는다.\\n성공적이다.\\n이제 댓글을 긍정과 부정으로 분류할 수 있다.\\n'"
            ],
            "application/vnd.google.colaboratory.intrinsic+json": {
              "type": "string"
            }
          },
          "metadata": {},
          "execution_count": 40
        }
      ]
    },
    {
      "cell_type": "code",
      "source": [
        "import tensorflow as tf\n",
        "from tensorflow import keras\n",
        "from tensorflow.keras.preprocessing.sequence import pad_sequences\n",
        "from tensorflow.keras.datasets import imdb\n",
        "\n",
        "# IMDB 데이터셋 로드\n",
        "(train_input, train_target), (test_input, test_target) = imdb.load_data(num_words=500)\n",
        "\n",
        "# 훈련 데이터와 검증 데이터 분리\n",
        "train_input, val_input, train_target, val_target = train_test_split(\n",
        "    train_input, train_target, test_size=0.2, random_state=42)\n",
        "\n",
        "# 훈련 데이터 전처리\n",
        "train_seq = pad_sequences(train_input, maxlen=100)\n",
        "\n",
        "# 모델 생성\n",
        "model = keras.Sequential()\n",
        "model.add(keras.layers.Embedding(500, 16, input_shape=(100,)))\n",
        "model.add(keras.layers.LSTM(8, dropout=0.3))  # LSTM 층 추가\n",
        "model.add(keras.layers.Dense(1, activation='sigmoid'))\n",
        "\n",
        "# 모델 컴파일\n",
        "model.compile(optimizer='adam', loss='binary_crossentropy', metrics=['accuracy'])\n",
        "\n",
        "# 모델 훈련\n",
        "model.fit(train_seq, train_target, epochs=10, batch_size=64, validation_data=(val_seq, val_target))  # 에포크 수 조정\n",
        "\n",
        "# 리뷰 입력 받기\n",
        "review = input(\"리뷰를 입력하세요: \")\n",
        "\n",
        "# 리뷰 전처리\n",
        "# 이전 훈련 데이터와 동일한 전처리 과정 (토큰화, 정수 인코딩, 패딩) 적용\n",
        "word_index = imdb.get_word_index()  # IMDB 단어 사전 로드\n",
        "review_seq = [word_index.get(word, 0) + 3 for word in review.split()]  # 단어를 숫자로 변환\n",
        "review_seq = pad_sequences([review_seq], maxlen=100)  # 패딩 추가\n",
        "\n",
        "# 예측\n",
        "prediction = model.predict(review_seq)\n",
        "\n",
        "# 결과 출력\n",
        "if prediction[0][0] > 0.5:\n",
        "    print(\"긍정적인 리뷰입니다.\")\n",
        "else:\n",
        "    print(\"부정적인 리뷰입니다.\")"
      ],
      "metadata": {
        "colab": {
          "base_uri": "https://localhost:8080/"
        },
        "id": "py2hf9HHz1v9",
        "outputId": "8bec6c76-ced8-4364-d4d7-dc004ef4422e"
      },
      "execution_count": null,
      "outputs": [
        {
          "output_type": "stream",
          "name": "stdout",
          "text": [
            "Epoch 1/10\n",
            "\u001b[1m313/313\u001b[0m \u001b[32m━━━━━━━━━━━━━━━━━━━━\u001b[0m\u001b[37m\u001b[0m \u001b[1m15s\u001b[0m 37ms/step - accuracy: 0.5968 - loss: 0.6481 - val_accuracy: 0.7820 - val_loss: 0.4637\n",
            "Epoch 2/10\n",
            "\u001b[1m313/313\u001b[0m \u001b[32m━━━━━━━━━━━━━━━━━━━━\u001b[0m\u001b[37m\u001b[0m \u001b[1m21s\u001b[0m 39ms/step - accuracy: 0.7760 - loss: 0.4789 - val_accuracy: 0.7882 - val_loss: 0.4512\n",
            "Epoch 3/10\n",
            "\u001b[1m313/313\u001b[0m \u001b[32m━━━━━━━━━━━━━━━━━━━━\u001b[0m\u001b[37m\u001b[0m \u001b[1m12s\u001b[0m 39ms/step - accuracy: 0.7886 - loss: 0.4515 - val_accuracy: 0.7968 - val_loss: 0.4385\n",
            "Epoch 4/10\n",
            "\u001b[1m313/313\u001b[0m \u001b[32m━━━━━━━━━━━━━━━━━━━━\u001b[0m\u001b[37m\u001b[0m \u001b[1m20s\u001b[0m 38ms/step - accuracy: 0.7951 - loss: 0.4356 - val_accuracy: 0.7942 - val_loss: 0.4366\n",
            "Epoch 5/10\n",
            "\u001b[1m313/313\u001b[0m \u001b[32m━━━━━━━━━━━━━━━━━━━━\u001b[0m\u001b[37m\u001b[0m \u001b[1m11s\u001b[0m 36ms/step - accuracy: 0.8027 - loss: 0.4247 - val_accuracy: 0.7936 - val_loss: 0.4430\n",
            "Epoch 6/10\n",
            "\u001b[1m313/313\u001b[0m \u001b[32m━━━━━━━━━━━━━━━━━━━━\u001b[0m\u001b[37m\u001b[0m \u001b[1m21s\u001b[0m 39ms/step - accuracy: 0.8049 - loss: 0.4200 - val_accuracy: 0.7914 - val_loss: 0.4444\n",
            "Epoch 7/10\n",
            "\u001b[1m313/313\u001b[0m \u001b[32m━━━━━━━━━━━━━━━━━━━━\u001b[0m\u001b[37m\u001b[0m \u001b[1m20s\u001b[0m 38ms/step - accuracy: 0.8062 - loss: 0.4164 - val_accuracy: 0.7974 - val_loss: 0.4348\n",
            "Epoch 8/10\n",
            "\u001b[1m313/313\u001b[0m \u001b[32m━━━━━━━━━━━━━━━━━━━━\u001b[0m\u001b[37m\u001b[0m \u001b[1m21s\u001b[0m 39ms/step - accuracy: 0.8052 - loss: 0.4119 - val_accuracy: 0.8002 - val_loss: 0.4389\n",
            "Epoch 9/10\n",
            "\u001b[1m313/313\u001b[0m \u001b[32m━━━━━━━━━━━━━━━━━━━━\u001b[0m\u001b[37m\u001b[0m \u001b[1m12s\u001b[0m 40ms/step - accuracy: 0.8089 - loss: 0.4102 - val_accuracy: 0.8058 - val_loss: 0.4275\n",
            "Epoch 10/10\n",
            "\u001b[1m313/313\u001b[0m \u001b[32m━━━━━━━━━━━━━━━━━━━━\u001b[0m\u001b[37m\u001b[0m \u001b[1m12s\u001b[0m 39ms/step - accuracy: 0.8083 - loss: 0.4072 - val_accuracy: 0.8082 - val_loss: 0.4247\n",
            "리뷰를 입력하세요: It is bad\n",
            "\u001b[1m1/1\u001b[0m \u001b[32m━━━━━━━━━━━━━━━━━━━━\u001b[0m\u001b[37m\u001b[0m \u001b[1m0s\u001b[0m 220ms/step\n",
            "부정적인 리뷰입니다.\n"
          ]
        }
      ]
    }
  ]
}